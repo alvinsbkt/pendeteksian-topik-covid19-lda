{
  "nbformat": 4,
  "nbformat_minor": 0,
  "metadata": {
    "colab": {
      "name": "Pendeteksian Topik Publikasi Ilmiah COVID-19 dengan LDA.ipynb",
      "provenance": [],
      "collapsed_sections": [
        "X4erjgVvlQKh",
        "oVEg80cKwytH",
        "X37pOTtoMUt6",
        "JQlFI-M5MHX3"
      ],
      "toc_visible": true,
      "mount_file_id": "1YLqU_8orF9aXEZysboxPiPlMhsaXKMtT",
      "authorship_tag": "ABX9TyMMmvwQa4kItE/hG7xdUCf2",
      "include_colab_link": true
    },
    "kernelspec": {
      "name": "python3",
      "display_name": "Python 3"
    }
  },
  "cells": [
    {
      "cell_type": "markdown",
      "metadata": {
        "id": "view-in-github",
        "colab_type": "text"
      },
      "source": [
        "<a href=\"https://colab.research.google.com/github/alvinsbkt/pendeteksian-topik-covid19-lda/blob/main/Pendeteksian_Topik_Publikasi_Ilmiah_COVID19_LDA.ipynb\" target=\"_parent\"><img src=\"https://colab.research.google.com/assets/colab-badge.svg\" alt=\"Open In Colab\"/></a>"
      ]
    },
    {
      "cell_type": "markdown",
      "metadata": {
        "id": "X4erjgVvlQKh"
      },
      "source": [
        "#Connect to Kaggle and Download Data"
      ]
    },
    {
      "cell_type": "markdown",
      "metadata": {
        "id": "PU6h9betHJwT"
      },
      "source": [
        "Dilakukan supaya tidak perlu mendownload data yang memiliki ukuran besar. Notebook (Google Colab) dihubungkan dengan Kaggle menggunakan Kaggle API"
      ]
    },
    {
      "cell_type": "code",
      "metadata": {
        "id": "aT9kxX5ycSno"
      },
      "source": [
        "#dilakukan apabila belum mempunya package kaggle atau fusezip\n",
        "!pip install kaggle #instalasi modul package kaggle\n",
        "!apt-get install -y fuse-zip #instalasi fusezip untuk unzip dataset"
      ],
      "execution_count": null,
      "outputs": []
    },
    {
      "cell_type": "code",
      "metadata": {
        "id": "MotP_E0LhVbJ"
      },
      "source": [
        "#memasukkan API ke dalam environment\n",
        "import os\n",
        "os.environ['KAGGLE_USERNAME'] = \"***insuba***\"\n",
        "os.environ['KAGGLE_KEY'] = \"*****7c53e741cf09f64480daee*****\" #gunakan API Sendiri"
      ],
      "execution_count": null,
      "outputs": []
    },
    {
      "cell_type": "code",
      "metadata": {
        "id": "JnR1Bbhtgek7"
      },
      "source": [
        "!kaggle datasets download -d allen-institute-for-ai/CORD-19-research-challenge #mengambil dataset dari kaggle"
      ],
      "execution_count": null,
      "outputs": []
    },
    {
      "cell_type": "code",
      "metadata": {
        "id": "JMTMIFrrlqK6"
      },
      "source": [
        "input_dir = \"/tmp/kaggle-data\"\n",
        "!mkdir {input_dir}\n",
        "!fuse-zip /content/CORD-19-research-challenge.zip {input_dir} #unzipping file dataset yang sudah diambil dari kaggle"
      ],
      "execution_count": null,
      "outputs": []
    },
    {
      "cell_type": "code",
      "metadata": {
        "id": "EGd3nwJ4mU-_"
      },
      "source": [
        "!ls {input_dir} #memeriksa isi folder hasil unzip"
      ],
      "execution_count": null,
      "outputs": []
    },
    {
      "cell_type": "markdown",
      "metadata": {
        "id": "oVEg80cKwytH"
      },
      "source": [
        "#Data Preprocessing"
      ]
    },
    {
      "cell_type": "markdown",
      "metadata": {
        "id": "RUrk3hctIdB5"
      },
      "source": [
        "Pada metode pendeteksian topik, secara garis besar yang akan dilakukan adalah melakukan pra pengolahan terhadap data, membuat dictionary untuk data, pembobotan dengan TF-IDF, dan pemodelan dengan LDA. LDA yang digunakan adalah dengan memanfaatkan module gensim (bukan sklearn)"
      ]
    },
    {
      "cell_type": "code",
      "metadata": {
        "id": "TIcY4vDLkEyw"
      },
      "source": [
        "#dilakukan apabila belum mempunyai package gensim\n",
        "!pip install gensim #install gensim"
      ],
      "execution_count": null,
      "outputs": []
    },
    {
      "cell_type": "code",
      "metadata": {
        "id": "z50lJNk3w1j-"
      },
      "source": [
        "#import package yang diperlukan untuk keberlansungan pendeteksian topik\n",
        "import pandas as pd\n",
        "import multiprocessing\n",
        "import gensim\n",
        "from gensim import corpora, models\n",
        "from gensim.models import CoherenceModel\n",
        "import numpy as np\n",
        "import tqdm\n",
        "\n",
        "# Plotting tools\n",
        "!pip install pyLDAvis #diinstall apabila belum memiliki pyLDavis\n",
        "import pyLDAvis.gensim\n",
        "import pickle \n",
        "import pyLDAvis\n",
        "%matplotlib inline"
      ],
      "execution_count": null,
      "outputs": []
    },
    {
      "cell_type": "markdown",
      "metadata": {
        "id": "oqgdRBA5KC45"
      },
      "source": [
        "Di bawah ini adalah tahapan dalam melakukan prapengolahan data, detail lebih lengkap tersedia dalam sidenote pada setiap cell"
      ]
    },
    {
      "cell_type": "code",
      "metadata": {
        "id": "NhfaZWfCw3uM",
        "outputId": "aae96409-57b3-406c-d34b-c4a982193599",
        "colab": {
          "base_uri": "https://localhost:8080/",
          "height": 632
        }
      },
      "source": [
        "df = pd.read_csv('/tmp/kaggle-data/metadata.csv') #ambil data\n",
        "df.head()"
      ],
      "execution_count": null,
      "outputs": [
        {
          "output_type": "stream",
          "text": [
            "/usr/local/lib/python3.6/dist-packages/IPython/core/interactiveshell.py:2718: DtypeWarning: Columns (14) have mixed types.Specify dtype option on import or set low_memory=False.\n",
            "  interactivity=interactivity, compiler=compiler, result=result)\n"
          ],
          "name": "stderr"
        },
        {
          "output_type": "execute_result",
          "data": {
            "text/html": [
              "<div>\n",
              "<style scoped>\n",
              "    .dataframe tbody tr th:only-of-type {\n",
              "        vertical-align: middle;\n",
              "    }\n",
              "\n",
              "    .dataframe tbody tr th {\n",
              "        vertical-align: top;\n",
              "    }\n",
              "\n",
              "    .dataframe thead th {\n",
              "        text-align: right;\n",
              "    }\n",
              "</style>\n",
              "<table border=\"1\" class=\"dataframe\">\n",
              "  <thead>\n",
              "    <tr style=\"text-align: right;\">\n",
              "      <th></th>\n",
              "      <th>cord_uid</th>\n",
              "      <th>sha</th>\n",
              "      <th>source_x</th>\n",
              "      <th>title</th>\n",
              "      <th>doi</th>\n",
              "      <th>pmcid</th>\n",
              "      <th>pubmed_id</th>\n",
              "      <th>license</th>\n",
              "      <th>abstract</th>\n",
              "      <th>publish_time</th>\n",
              "      <th>authors</th>\n",
              "      <th>journal</th>\n",
              "      <th>Microsoft Academic Paper ID</th>\n",
              "      <th>WHO #Covidence</th>\n",
              "      <th>arxiv_id</th>\n",
              "      <th>has_pdf_parse</th>\n",
              "      <th>has_pmc_xml_parse</th>\n",
              "      <th>full_text_file</th>\n",
              "      <th>url</th>\n",
              "    </tr>\n",
              "  </thead>\n",
              "  <tbody>\n",
              "    <tr>\n",
              "      <th>0</th>\n",
              "      <td>zjufx4fo</td>\n",
              "      <td>b2897e1277f56641193a6db73825f707eed3e4c9</td>\n",
              "      <td>PMC</td>\n",
              "      <td>Sequence requirements for RNA strand transfer ...</td>\n",
              "      <td>10.1093/emboj/20.24.7220</td>\n",
              "      <td>PMC125340</td>\n",
              "      <td>11742998.0</td>\n",
              "      <td>unk</td>\n",
              "      <td>Nidovirus subgenomic mRNAs contain a leader se...</td>\n",
              "      <td>2001-12-17</td>\n",
              "      <td>Pasternak, Alexander O.; van den Born, Erwin; ...</td>\n",
              "      <td>The EMBO Journal</td>\n",
              "      <td>NaN</td>\n",
              "      <td>NaN</td>\n",
              "      <td>NaN</td>\n",
              "      <td>True</td>\n",
              "      <td>True</td>\n",
              "      <td>custom_license</td>\n",
              "      <td>http://europepmc.org/articles/pmc125340?pdf=re...</td>\n",
              "    </tr>\n",
              "    <tr>\n",
              "      <th>1</th>\n",
              "      <td>ymceytj3</td>\n",
              "      <td>e3d0d482ebd9a8ba81c254cc433f314142e72174</td>\n",
              "      <td>PMC</td>\n",
              "      <td>Crystal structure of murine sCEACAM1a[1,4]: a ...</td>\n",
              "      <td>10.1093/emboj/21.9.2076</td>\n",
              "      <td>PMC125375</td>\n",
              "      <td>11980704.0</td>\n",
              "      <td>unk</td>\n",
              "      <td>CEACAM1 is a member of the carcinoembryonic an...</td>\n",
              "      <td>2002-05-01</td>\n",
              "      <td>Tan, Kemin; Zelus, Bruce D.; Meijers, Rob; Liu...</td>\n",
              "      <td>The EMBO Journal</td>\n",
              "      <td>NaN</td>\n",
              "      <td>NaN</td>\n",
              "      <td>NaN</td>\n",
              "      <td>True</td>\n",
              "      <td>True</td>\n",
              "      <td>custom_license</td>\n",
              "      <td>http://europepmc.org/articles/pmc125375?pdf=re...</td>\n",
              "    </tr>\n",
              "    <tr>\n",
              "      <th>2</th>\n",
              "      <td>wzj2glte</td>\n",
              "      <td>00b1d99e70f779eb4ede50059db469c65e8c1469</td>\n",
              "      <td>PMC</td>\n",
              "      <td>Synthesis of a novel hepatitis C virus protein...</td>\n",
              "      <td>10.1093/emboj/20.14.3840</td>\n",
              "      <td>PMC125543</td>\n",
              "      <td>11447125.0</td>\n",
              "      <td>no-cc</td>\n",
              "      <td>Hepatitis C virus (HCV) is an important human ...</td>\n",
              "      <td>2001-07-16</td>\n",
              "      <td>Xu, Zhenming; Choi, Jinah; Yen, T.S.Benedict; ...</td>\n",
              "      <td>EMBO J</td>\n",
              "      <td>NaN</td>\n",
              "      <td>NaN</td>\n",
              "      <td>NaN</td>\n",
              "      <td>True</td>\n",
              "      <td>True</td>\n",
              "      <td>custom_license</td>\n",
              "      <td>https://www.ncbi.nlm.nih.gov/pmc/articles/PMC1...</td>\n",
              "    </tr>\n",
              "    <tr>\n",
              "      <th>3</th>\n",
              "      <td>2sfqsfm1</td>\n",
              "      <td>cf584e00f637cbd8f1bb35f3f09f5ed07b71aeb0</td>\n",
              "      <td>PMC</td>\n",
              "      <td>Structure of coronavirus main proteinase revea...</td>\n",
              "      <td>10.1093/emboj/cdf327</td>\n",
              "      <td>PMC126080</td>\n",
              "      <td>12093723.0</td>\n",
              "      <td>unk</td>\n",
              "      <td>The key enzyme in coronavirus polyprotein proc...</td>\n",
              "      <td>2002-07-01</td>\n",
              "      <td>Anand, Kanchan; Palm, Gottfried J.; Mesters, J...</td>\n",
              "      <td>The EMBO Journal</td>\n",
              "      <td>NaN</td>\n",
              "      <td>NaN</td>\n",
              "      <td>NaN</td>\n",
              "      <td>True</td>\n",
              "      <td>True</td>\n",
              "      <td>custom_license</td>\n",
              "      <td>http://europepmc.org/articles/pmc126080?pdf=re...</td>\n",
              "    </tr>\n",
              "    <tr>\n",
              "      <th>4</th>\n",
              "      <td>i0zym7iq</td>\n",
              "      <td>dde02f11923815e6a16a31dd6298c46b109c5dfa</td>\n",
              "      <td>PMC</td>\n",
              "      <td>Discontinuous and non-discontinuous subgenomic...</td>\n",
              "      <td>10.1093/emboj/cdf635</td>\n",
              "      <td>PMC136939</td>\n",
              "      <td>12456663.0</td>\n",
              "      <td>unk</td>\n",
              "      <td>Arteri-, corona-, toro- and roniviruses are ev...</td>\n",
              "      <td>2002-12-01</td>\n",
              "      <td>van Vliet, A.L.W.; Smits, S.L.; Rottier, P.J.M...</td>\n",
              "      <td>The EMBO Journal</td>\n",
              "      <td>NaN</td>\n",
              "      <td>NaN</td>\n",
              "      <td>NaN</td>\n",
              "      <td>True</td>\n",
              "      <td>True</td>\n",
              "      <td>custom_license</td>\n",
              "      <td>http://europepmc.org/articles/pmc136939?pdf=re...</td>\n",
              "    </tr>\n",
              "  </tbody>\n",
              "</table>\n",
              "</div>"
            ],
            "text/plain": [
              "   cord_uid  ...                                                url\n",
              "0  zjufx4fo  ...  http://europepmc.org/articles/pmc125340?pdf=re...\n",
              "1  ymceytj3  ...  http://europepmc.org/articles/pmc125375?pdf=re...\n",
              "2  wzj2glte  ...  https://www.ncbi.nlm.nih.gov/pmc/articles/PMC1...\n",
              "3  2sfqsfm1  ...  http://europepmc.org/articles/pmc126080?pdf=re...\n",
              "4  i0zym7iq  ...  http://europepmc.org/articles/pmc136939?pdf=re...\n",
              "\n",
              "[5 rows x 19 columns]"
            ]
          },
          "metadata": {
            "tags": []
          },
          "execution_count": 10
        }
      ]
    },
    {
      "cell_type": "code",
      "metadata": {
        "id": "1qc18BfVxAB8",
        "outputId": "bc0aaaf6-865b-4933-d771-6b36b4c29476",
        "colab": {
          "base_uri": "https://localhost:8080/",
          "height": 139
        }
      },
      "source": [
        "#membuat dataset baru berisikan hanya data yang ingin diolah (abstrak)\n",
        "data_text = df[['abstract']]\n",
        "data_text['id'] = df['sha']\n",
        "df = data_text"
      ],
      "execution_count": null,
      "outputs": [
        {
          "output_type": "stream",
          "text": [
            "/usr/local/lib/python3.6/dist-packages/ipykernel_launcher.py:2: SettingWithCopyWarning: \n",
            "A value is trying to be set on a copy of a slice from a DataFrame.\n",
            "Try using .loc[row_indexer,col_indexer] = value instead\n",
            "\n",
            "See the caveats in the documentation: https://pandas.pydata.org/pandas-docs/stable/user_guide/indexing.html#returning-a-view-versus-a-copy\n",
            "  \n"
          ],
          "name": "stderr"
        }
      ]
    },
    {
      "cell_type": "code",
      "metadata": {
        "id": "M18X90wXxnw9",
        "outputId": "94f6e087-94a4-4896-aa8a-c83de27a9edb",
        "colab": {
          "base_uri": "https://localhost:8080/",
          "height": 204
        }
      },
      "source": [
        "#prapengolahan dengan menghilangkan stop words dan melakukan tokenisasi\n",
        "def preprocess(text):\n",
        "    result=[]\n",
        "    for token in gensim.utils.simple_preprocess(text):\n",
        "        if token not in gensim.parsing.preprocessing.STOPWORDS and len(token)>3:\n",
        "            result.append(token)\n",
        "    return(result)\n",
        "            \n",
        "processed_docs=df['abstract'].astype(str).map(preprocess)\n",
        "processed_docs[:10]"
      ],
      "execution_count": null,
      "outputs": [
        {
          "output_type": "execute_result",
          "data": {
            "text/plain": [
              "0    [nidovirus, subgenomic, mrnas, contain, leader...\n",
              "1    [ceacam, member, antigen, family, isoforms, mu...\n",
              "2    [hepatitis, virus, important, human, pathogen,...\n",
              "3    [enzyme, coronavirus, polyprotein, processing,...\n",
              "4    [arteri, corona, toro, roniviruses, evolutiona...\n",
              "5    [background, rhinovirus, common, cause, upper,...\n",
              "6    [recent, analyses, human, pathogens, revealed,...\n",
              "7    [ribosomal, frameshifting, signals, mobile, ge...\n",
              "8    [army, death, john, bunyan, memorable, phrase,...\n",
              "9    [intracellular, replication, bacterial, pathog...\n",
              "Name: abstract, dtype: object"
            ]
          },
          "metadata": {
            "tags": []
          },
          "execution_count": 12
        }
      ]
    },
    {
      "cell_type": "code",
      "metadata": {
        "id": "wF_AqG92xs1H"
      },
      "source": [
        "#membuat dictionary/korpus untuk fitur pada data teks\n",
        "dictionary=gensim.corpora.Dictionary(processed_docs)\n",
        "dictionary.filter_extremes(no_below=100,no_above=0.7,keep_n=50000)"
      ],
      "execution_count": null,
      "outputs": []
    },
    {
      "cell_type": "code",
      "metadata": {
        "id": "rrpt-wcbuCIk"
      },
      "source": [
        "#melakukan pembobotan TF-IDF pada korpus yang sudah dibuat\n",
        "bow_corpus=[dictionary.doc2bow(doc) for doc in processed_docs]\n",
        "\n",
        "tfidf = models.TfidfModel(bow_corpus)\n",
        "corpus_tfidf=tfidf[bow_corpus]"
      ],
      "execution_count": null,
      "outputs": []
    },
    {
      "cell_type": "code",
      "metadata": {
        "id": "Zhs6ul8cuCIo",
        "outputId": "c75705a9-7e69-4640-dbef-9de7f7f804ef",
        "colab": {
          "base_uri": "https://localhost:8080/",
          "height": 34
        }
      },
      "source": [
        "#memeriksa banyak CPU sehingga LDA dapat ditrain secara parallel\n",
        "multiprocessing.cpu_count()"
      ],
      "execution_count": null,
      "outputs": [
        {
          "output_type": "execute_result",
          "data": {
            "text/plain": [
              "2"
            ]
          },
          "metadata": {
            "tags": []
          },
          "execution_count": 15
        }
      ]
    },
    {
      "cell_type": "markdown",
      "metadata": {
        "id": "X37pOTtoMUt6"
      },
      "source": [
        "#LDA Hyperparameter Tuning"
      ]
    },
    {
      "cell_type": "markdown",
      "metadata": {
        "id": "ZMEkRJu3LWaa"
      },
      "source": [
        "Setelah data sudah siap untuk di train, berikutnya akan dilakukan training model yang sekaligus juga merupakan hyperparameter tuning, karena melakukan hyperparameter tuning untuk semua kombinasi akan memakan waktu yang sangat lama. Maka akan dipilih kandidat untuk setiap hyperparameter. Caranya adalah dengan melakukan tuning satu per satu dan hyperparameter yang lain dibuat konstan. Urutan tuning yang dilakukan adalah banyak topik, kemudian alpha, dan terakhir beta"
      ]
    },
    {
      "cell_type": "code",
      "metadata": {
        "id": "p1PdtsHAuCIr",
        "outputId": "9ec901fe-ff52-4e49-b3d1-f6720c8dc68b",
        "colab": {
          "base_uri": "https://localhost:8080/",
          "height": 51
        }
      },
      "source": [
        "#dilakukan hyperparameter tuning untuk jumlah topik, dimulai dari kelipatan besar\n",
        "lda_model_10=gensim.models.LdaMulticore(corpus_tfidf,num_topics=10,id2word=dictionary,passes=2,workers=10)\n",
        "lda_model_25=gensim.models.LdaMulticore(corpus_tfidf,num_topics=25,id2word=dictionary,passes=2,workers=10)\n",
        "lda_model_50=gensim.models.LdaMulticore(corpus_tfidf,num_topics=50,id2word=dictionary,passes=2,workers=10)\n",
        "lda_model_75=gensim.models.LdaMulticore(corpus_tfidf,num_topics=75,id2word=dictionary,passes=2,workers=10)\n",
        "lda_model_100=gensim.models.LdaMulticore(corpus_tfidf,num_topics=100,id2word=dictionary,passes=2,workers=10)"
      ],
      "execution_count": null,
      "outputs": [
        {
          "output_type": "stream",
          "text": [
            "/usr/local/lib/python3.6/dist-packages/gensim/models/ldamodel.py:1023: RuntimeWarning: divide by zero encountered in log\n",
            "  diff = np.log(self.expElogbeta)\n"
          ],
          "name": "stderr"
        }
      ]
    },
    {
      "cell_type": "code",
      "metadata": {
        "id": "iR0Cx-zSwXSJ",
        "outputId": "bf5e36ee-51b4-464d-a100-6447d7e403db",
        "colab": {
          "base_uri": "https://localhost:8080/",
          "height": 1000
        }
      },
      "source": [
        "#mengeluarkan hasil topik yang didapatkan untuk setiap model\n",
        "lda_model_array=[lda_model_10,lda_model_25,lda_model_50,lda_model_75,lda_model_100]\n",
        "num=[10,25,50,75,100]\n",
        "for i in range(len(num)):\n",
        "  print(\"-------------------------------------------------------------------------------\")\n",
        "  print(\"-------------------------------------------------------------------------------\")\n",
        "  print('Hasil LDA Model dengan {} topik'.format(num[i]))\n",
        "  print(\"__________________________\")\n",
        "  for idx,topic in lda_model_array[i].print_topics(-1):\n",
        "    print('Topic{} - Word: {}'.format(idx,topic))"
      ],
      "execution_count": null,
      "outputs": [
        {
          "output_type": "stream",
          "text": [
            "-------------------------------------------------------------------------------\n",
            "-------------------------------------------------------------------------------\n",
            "Hasil LDA Model dengan 10 topik\n",
            "__________________________\n",
            "Topic0 - Word: 0.004*\"health\" + 0.003*\"public\" + 0.002*\"virus\" + 0.002*\"cells\" + 0.002*\"sars\" + 0.002*\"covid\" + 0.002*\"infection\" + 0.002*\"disease\" + 0.002*\"viral\" + 0.002*\"protein\"\n",
            "Topic1 - Word: 0.007*\"unknown\" + 0.005*\"protein\" + 0.005*\"cells\" + 0.004*\"viral\" + 0.004*\"host\" + 0.004*\"proteins\" + 0.004*\"virus\" + 0.004*\"cell\" + 0.003*\"viruses\" + 0.003*\"expression\"\n",
            "Topic2 - Word: 0.004*\"sars\" + 0.004*\"cells\" + 0.003*\"patients\" + 0.003*\"virus\" + 0.003*\"infection\" + 0.003*\"calves\" + 0.003*\"respiratory\" + 0.003*\"viral\" + 0.002*\"protein\" + 0.002*\"disease\"\n",
            "Topic3 - Word: 0.004*\"viruses\" + 0.004*\"virus\" + 0.003*\"viral\" + 0.003*\"sequence\" + 0.003*\"sequences\" + 0.003*\"genome\" + 0.003*\"gene\" + 0.003*\"species\" + 0.003*\"human\" + 0.002*\"sars\"\n",
            "Topic4 - Word: 0.005*\"virus\" + 0.004*\"protein\" + 0.004*\"cells\" + 0.004*\"sars\" + 0.004*\"activity\" + 0.003*\"vaccine\" + 0.003*\"cell\" + 0.003*\"viral\" + 0.003*\"antiviral\" + 0.003*\"vaccines\"\n",
            "Topic5 - Word: 0.005*\"patients\" + 0.005*\"respiratory\" + 0.004*\"influenza\" + 0.004*\"children\" + 0.004*\"infections\" + 0.003*\"viruses\" + 0.003*\"virus\" + 0.003*\"clinical\" + 0.003*\"disease\" + 0.003*\"health\"\n",
            "Topic6 - Word: 0.004*\"protein\" + 0.003*\"model\" + 0.003*\"virus\" + 0.003*\"proteins\" + 0.003*\"sars\" + 0.003*\"cells\" + 0.002*\"viral\" + 0.002*\"data\" + 0.002*\"membrane\" + 0.002*\"epidemic\"\n",
            "Topic7 - Word: 0.007*\"covid\" + 0.006*\"patients\" + 0.004*\"sars\" + 0.004*\"cases\" + 0.003*\"china\" + 0.003*\"respiratory\" + 0.003*\"health\" + 0.003*\"infection\" + 0.003*\"influenza\" + 0.003*\"care\"\n",
            "Topic8 - Word: 0.007*\"cells\" + 0.006*\"mice\" + 0.005*\"cell\" + 0.004*\"infection\" + 0.004*\"virus\" + 0.003*\"expression\" + 0.003*\"induced\" + 0.003*\"immune\" + 0.003*\"viral\" + 0.003*\"prrsv\"\n",
            "Topic9 - Word: 0.009*\"mers\" + 0.004*\"sars\" + 0.004*\"respiratory\" + 0.003*\"virus\" + 0.003*\"human\" + 0.003*\"patients\" + 0.003*\"infection\" + 0.003*\"unknown\" + 0.003*\"coronavirus\" + 0.003*\"viruses\"\n",
            "-------------------------------------------------------------------------------\n",
            "-------------------------------------------------------------------------------\n",
            "Hasil LDA Model dengan 25 topik\n",
            "__________________________\n",
            "Topic0 - Word: 0.007*\"protein\" + 0.005*\"sars\" + 0.005*\"proteins\" + 0.005*\"cells\" + 0.004*\"viral\" + 0.004*\"virus\" + 0.004*\"binding\" + 0.004*\"fusion\" + 0.004*\"cell\" + 0.004*\"host\"\n",
            "Topic1 - Word: 0.006*\"dans\" + 0.005*\"cats\" + 0.005*\"unknown\" + 0.005*\"virus\" + 0.004*\"infection\" + 0.003*\"ebov\" + 0.003*\"viral\" + 0.003*\"pour\" + 0.003*\"infección\" + 0.003*\"como\"\n",
            "Topic2 - Word: 0.009*\"cells\" + 0.009*\"mice\" + 0.005*\"infection\" + 0.005*\"cell\" + 0.005*\"expression\" + 0.004*\"virus\" + 0.004*\"induced\" + 0.004*\"immune\" + 0.004*\"viral\" + 0.004*\"infected\"\n",
            "Topic3 - Word: 0.007*\"calves\" + 0.006*\"pedv\" + 0.005*\"strains\" + 0.005*\"diarrhea\" + 0.004*\"pdcov\" + 0.004*\"piglets\" + 0.004*\"virus\" + 0.004*\"strain\" + 0.004*\"pigs\" + 0.004*\"porcine\"\n",
            "Topic4 - Word: 0.004*\"ncov\" + 0.004*\"cells\" + 0.004*\"respiratory\" + 0.003*\"virus\" + 0.003*\"infection\" + 0.003*\"viral\" + 0.003*\"viruses\" + 0.003*\"patients\" + 0.003*\"infections\" + 0.003*\"influenza\"\n",
            "Topic5 - Word: 0.003*\"viral\" + 0.003*\"virus\" + 0.003*\"viruses\" + 0.003*\"influenza\" + 0.002*\"respiratory\" + 0.002*\"patients\" + 0.002*\"sars\" + 0.002*\"health\" + 0.002*\"human\" + 0.002*\"infection\"\n",
            "Topic6 - Word: 0.006*\"health\" + 0.005*\"covid\" + 0.004*\"public\" + 0.003*\"disease\" + 0.003*\"epidemic\" + 0.003*\"cases\" + 0.003*\"model\" + 0.003*\"outbreak\" + 0.003*\"diseases\" + 0.003*\"pandemic\"\n",
            "Topic7 - Word: 0.010*\"mers\" + 0.005*\"sars\" + 0.004*\"respiratory\" + 0.004*\"coronavirus\" + 0.004*\"viruses\" + 0.004*\"bats\" + 0.003*\"virus\" + 0.003*\"patients\" + 0.003*\"human\" + 0.003*\"east\"\n",
            "Topic8 - Word: 0.005*\"detection\" + 0.005*\"assay\" + 0.004*\"samples\" + 0.003*\"virus\" + 0.003*\"sars\" + 0.003*\"viruses\" + 0.003*\"method\" + 0.003*\"protein\" + 0.003*\"viral\" + 0.003*\"assays\"\n",
            "Topic9 - Word: 0.007*\"vaccine\" + 0.005*\"vaccines\" + 0.005*\"antibodies\" + 0.005*\"antibody\" + 0.004*\"protein\" + 0.004*\"virus\" + 0.004*\"recombinant\" + 0.004*\"immune\" + 0.003*\"mice\" + 0.003*\"cells\"\n",
            "Topic10 - Word: 0.006*\"feline\" + 0.006*\"cats\" + 0.005*\"zikv\" + 0.004*\"fipv\" + 0.004*\"virus\" + 0.003*\"viruses\" + 0.003*\"infection\" + 0.003*\"viral\" + 0.003*\"sars\" + 0.002*\"cells\"\n",
            "Topic11 - Word: 0.004*\"sars\" + 0.004*\"covid\" + 0.003*\"transmission\" + 0.003*\"virus\" + 0.003*\"patients\" + 0.003*\"china\" + 0.002*\"health\" + 0.002*\"model\" + 0.002*\"respiratory\" + 0.002*\"disease\"\n",
            "Topic12 - Word: 0.007*\"dogs\" + 0.005*\"canine\" + 0.005*\"publisher\" + 0.004*\"influenza\" + 0.003*\"virus\" + 0.003*\"infection\" + 0.003*\"respiratory\" + 0.002*\"viral\" + 0.002*\"viruses\" + 0.002*\"disease\"\n",
            "Topic13 - Word: 0.036*\"unknown\" + 0.003*\"viral\" + 0.003*\"virus\" + 0.003*\"viruses\" + 0.003*\"protein\" + 0.003*\"cells\" + 0.003*\"cell\" + 0.003*\"infection\" + 0.003*\"proteins\" + 0.002*\"host\"\n",
            "Topic14 - Word: 0.004*\"sont\" + 0.003*\"patients\" + 0.003*\"virus\" + 0.003*\"pedv\" + 0.003*\"sars\" + 0.003*\"infection\" + 0.003*\"disease\" + 0.003*\"cells\" + 0.002*\"lung\" + 0.002*\"viral\"\n",
            "Topic15 - Word: 0.003*\"patients\" + 0.003*\"infection\" + 0.003*\"respiratory\" + 0.003*\"virus\" + 0.003*\"sars\" + 0.003*\"viral\" + 0.003*\"protein\" + 0.002*\"cells\" + 0.002*\"influenza\" + 0.002*\"mers\"\n",
            "Topic16 - Word: 0.007*\"cells\" + 0.007*\"protein\" + 0.006*\"virus\" + 0.006*\"replication\" + 0.005*\"cell\" + 0.005*\"proteins\" + 0.005*\"viral\" + 0.004*\"membrane\" + 0.004*\"viruses\" + 0.004*\"activity\"\n",
            "Topic17 - Word: 0.011*\"patients\" + 0.007*\"respiratory\" + 0.007*\"children\" + 0.005*\"influenza\" + 0.004*\"cases\" + 0.004*\"infections\" + 0.004*\"clinical\" + 0.004*\"pneumonia\" + 0.004*\"infection\" + 0.004*\"covid\"\n",
            "Topic18 - Word: 0.005*\"lockdown\" + 0.004*\"antiviral\" + 0.004*\"compounds\" + 0.004*\"virus\" + 0.003*\"viral\" + 0.003*\"viruses\" + 0.003*\"cells\" + 0.003*\"pacientes\" + 0.003*\"influenza\" + 0.003*\"activity\"\n",
            "Topic19 - Word: 0.006*\"prrsv\" + 0.005*\"patients\" + 0.004*\"respiratory\" + 0.004*\"pigs\" + 0.003*\"infection\" + 0.003*\"virus\" + 0.003*\"viral\" + 0.003*\"viruses\" + 0.003*\"disease\" + 0.003*\"sars\"\n",
            "Topic20 - Word: 0.005*\"cells\" + 0.004*\"virus\" + 0.004*\"infection\" + 0.003*\"protein\" + 0.003*\"expression\" + 0.003*\"cell\" + 0.003*\"immune\" + 0.003*\"denv\" + 0.003*\"viral\" + 0.003*\"mice\"\n",
            "Topic21 - Word: 0.007*\"sars\" + 0.004*\"virus\" + 0.004*\"influenza\" + 0.004*\"respiratory\" + 0.003*\"patients\" + 0.003*\"viruses\" + 0.003*\"infection\" + 0.003*\"viral\" + 0.003*\"unknown\" + 0.003*\"cells\"\n",
            "Topic22 - Word: 0.005*\"patients\" + 0.004*\"covid\" + 0.004*\"health\" + 0.003*\"influenza\" + 0.003*\"respiratory\" + 0.003*\"disease\" + 0.003*\"infections\" + 0.003*\"care\" + 0.003*\"risk\" + 0.003*\"infection\"\n",
            "Topic23 - Word: 0.004*\"calves\" + 0.003*\"virus\" + 0.003*\"health\" + 0.003*\"viruses\" + 0.003*\"disease\" + 0.003*\"respiratory\" + 0.003*\"bovine\" + 0.002*\"viral\" + 0.002*\"diseases\" + 0.002*\"samples\"\n",
            "Topic24 - Word: 0.004*\"virus\" + 0.004*\"viruses\" + 0.004*\"viral\" + 0.004*\"cells\" + 0.004*\"host\" + 0.003*\"infection\" + 0.003*\"cell\" + 0.003*\"human\" + 0.003*\"unknown\" + 0.003*\"pedv\"\n",
            "-------------------------------------------------------------------------------\n",
            "-------------------------------------------------------------------------------\n",
            "Hasil LDA Model dengan 50 topik\n",
            "__________________________\n",
            "Topic0 - Word: 0.003*\"patients\" + 0.003*\"covid\" + 0.003*\"sars\" + 0.003*\"virus\" + 0.003*\"viral\" + 0.003*\"viruses\" + 0.003*\"health\" + 0.003*\"infection\" + 0.003*\"influenza\" + 0.003*\"disease\"\n",
            "Topic1 - Word: 0.008*\"detection\" + 0.008*\"assay\" + 0.005*\"lamp\" + 0.005*\"samples\" + 0.004*\"assays\" + 0.004*\"influenza\" + 0.004*\"virus\" + 0.004*\"sensitivity\" + 0.004*\"amplification\" + 0.004*\"lockdown\"\n",
            "Topic2 - Word: 0.004*\"sars\" + 0.004*\"patients\" + 0.003*\"mers\" + 0.003*\"protein\" + 0.003*\"influenza\" + 0.003*\"virus\" + 0.003*\"respiratory\" + 0.003*\"health\" + 0.002*\"infection\" + 0.002*\"human\"\n",
            "Topic3 - Word: 0.006*\"fusion\" + 0.005*\"protein\" + 0.005*\"sars\" + 0.004*\"virus\" + 0.004*\"cells\" + 0.004*\"entry\" + 0.004*\"cell\" + 0.004*\"proteins\" + 0.003*\"viral\" + 0.003*\"binding\"\n",
            "Topic4 - Word: 0.009*\"publisher\" + 0.004*\"virus\" + 0.004*\"copd\" + 0.004*\"pdcov\" + 0.004*\"patients\" + 0.003*\"respiratory\" + 0.003*\"influenza\" + 0.003*\"infections\" + 0.003*\"viral\" + 0.003*\"viruses\"\n",
            "Topic5 - Word: 0.006*\"health\" + 0.003*\"covid\" + 0.003*\"disease\" + 0.003*\"public\" + 0.003*\"data\" + 0.003*\"diseases\" + 0.003*\"epidemic\" + 0.003*\"infectious\" + 0.003*\"outbreak\" + 0.003*\"cases\"\n",
            "Topic6 - Word: 0.007*\"covid\" + 0.005*\"sars\" + 0.004*\"model\" + 0.004*\"tourism\" + 0.004*\"china\" + 0.004*\"epidemic\" + 0.004*\"outbreak\" + 0.004*\"spread\" + 0.003*\"cases\" + 0.003*\"health\"\n",
            "Topic7 - Word: 0.006*\"cells\" + 0.005*\"immune\" + 0.004*\"host\" + 0.004*\"signaling\" + 0.004*\"cell\" + 0.004*\"protein\" + 0.004*\"viral\" + 0.004*\"infection\" + 0.004*\"response\" + 0.004*\"expression\"\n",
            "Topic8 - Word: 0.007*\"health\" + 0.004*\"public\" + 0.004*\"care\" + 0.003*\"diseases\" + 0.003*\"disease\" + 0.003*\"patients\" + 0.003*\"control\" + 0.003*\"infectious\" + 0.003*\"risk\" + 0.003*\"medical\"\n",
            "Topic9 - Word: 0.003*\"influenza\" + 0.003*\"health\" + 0.003*\"virus\" + 0.003*\"respiratory\" + 0.002*\"infection\" + 0.002*\"patients\" + 0.002*\"cells\" + 0.002*\"children\" + 0.002*\"disease\" + 0.002*\"sars\"\n",
            "Topic10 - Word: 0.004*\"viruses\" + 0.004*\"host\" + 0.004*\"virus\" + 0.004*\"influenza\" + 0.003*\"viral\" + 0.003*\"infection\" + 0.003*\"human\" + 0.003*\"respiratory\" + 0.003*\"unknown\" + 0.003*\"cells\"\n",
            "Topic11 - Word: 0.007*\"sequence\" + 0.006*\"genome\" + 0.006*\"recombination\" + 0.005*\"gene\" + 0.005*\"virus\" + 0.004*\"strain\" + 0.004*\"protein\" + 0.004*\"strains\" + 0.004*\"sequences\" + 0.004*\"pacientes\"\n",
            "Topic12 - Word: 0.003*\"cells\" + 0.003*\"infection\" + 0.003*\"cholesterol\" + 0.003*\"virus\" + 0.003*\"viral\" + 0.003*\"patients\" + 0.003*\"influenza\" + 0.003*\"viruses\" + 0.003*\"respiratory\" + 0.003*\"cell\"\n",
            "Topic13 - Word: 0.005*\"zikv\" + 0.005*\"sars\" + 0.004*\"viruses\" + 0.004*\"virus\" + 0.004*\"strains\" + 0.004*\"viral\" + 0.003*\"host\" + 0.003*\"codon\" + 0.003*\"cells\" + 0.003*\"genes\"\n",
            "Topic14 - Word: 0.007*\"transfusion\" + 0.004*\"patients\" + 0.004*\"infection\" + 0.003*\"viral\" + 0.003*\"virus\" + 0.003*\"blood\" + 0.003*\"human\" + 0.003*\"cells\" + 0.003*\"respiratory\" + 0.003*\"influenza\"\n",
            "Topic15 - Word: 0.014*\"cats\" + 0.010*\"feline\" + 0.006*\"dogs\" + 0.005*\"fcov\" + 0.004*\"virus\" + 0.004*\"antibodies\" + 0.004*\"fipv\" + 0.004*\"canine\" + 0.004*\"antibody\" + 0.004*\"infection\"\n",
            "Topic16 - Word: 0.003*\"virus\" + 0.003*\"viruses\" + 0.003*\"respiratory\" + 0.003*\"marine\" + 0.003*\"viral\" + 0.003*\"patients\" + 0.003*\"mers\" + 0.003*\"infection\" + 0.002*\"human\" + 0.002*\"cells\"\n",
            "Topic17 - Word: 0.005*\"protease\" + 0.005*\"sars\" + 0.004*\"activity\" + 0.004*\"inhibitors\" + 0.004*\"compounds\" + 0.004*\"angiotensin\" + 0.003*\"viral\" + 0.003*\"proteases\" + 0.003*\"virus\" + 0.003*\"antiviral\"\n",
            "Topic18 - Word: 0.005*\"unknown\" + 0.005*\"virus\" + 0.004*\"infection\" + 0.004*\"cells\" + 0.004*\"viral\" + 0.004*\"tmprss\" + 0.003*\"patients\" + 0.003*\"influenza\" + 0.003*\"mice\" + 0.003*\"sars\"\n",
            "Topic19 - Word: 0.004*\"patients\" + 0.004*\"influenza\" + 0.004*\"virus\" + 0.003*\"respiratory\" + 0.003*\"viral\" + 0.003*\"viruses\" + 0.003*\"cell\" + 0.003*\"delta\" + 0.003*\"infection\" + 0.003*\"cells\"\n",
            "Topic20 - Word: 0.003*\"virus\" + 0.003*\"protein\" + 0.003*\"viruses\" + 0.003*\"sars\" + 0.003*\"influenza\" + 0.003*\"viral\" + 0.002*\"gene\" + 0.002*\"infection\" + 0.002*\"patients\" + 0.002*\"respiratory\"\n",
            "Topic21 - Word: 0.009*\"patients\" + 0.008*\"respiratory\" + 0.007*\"children\" + 0.005*\"influenza\" + 0.005*\"infections\" + 0.004*\"viruses\" + 0.004*\"viral\" + 0.004*\"virus\" + 0.003*\"infection\" + 0.003*\"cases\"\n",
            "Topic22 - Word: 0.007*\"frameshifting\" + 0.005*\"pdcov\" + 0.004*\"ribosomal\" + 0.004*\"pseudoknot\" + 0.004*\"viral\" + 0.004*\"virus\" + 0.004*\"frameshift\" + 0.003*\"sequence\" + 0.003*\"structure\" + 0.003*\"stem\"\n",
            "Topic23 - Word: 0.008*\"ncov\" + 0.004*\"astrovirus\" + 0.004*\"patients\" + 0.004*\"rotavirus\" + 0.004*\"gastroenteritis\" + 0.003*\"infection\" + 0.003*\"virus\" + 0.003*\"cases\" + 0.003*\"viruses\" + 0.003*\"children\"\n",
            "Topic24 - Word: 0.004*\"proteinase\" + 0.004*\"cells\" + 0.003*\"virus\" + 0.003*\"influenza\" + 0.003*\"viruses\" + 0.003*\"infection\" + 0.003*\"respiratory\" + 0.003*\"viral\" + 0.003*\"cell\" + 0.002*\"health\"\n",
            "Topic25 - Word: 0.005*\"protein\" + 0.004*\"virus\" + 0.004*\"viruses\" + 0.003*\"binding\" + 0.003*\"mabs\" + 0.003*\"viral\" + 0.003*\"cells\" + 0.003*\"human\" + 0.003*\"sars\" + 0.003*\"influenza\"\n",
            "Topic26 - Word: 0.005*\"sirna\" + 0.005*\"rnai\" + 0.004*\"delivery\" + 0.004*\"cells\" + 0.003*\"virus\" + 0.003*\"tumor\" + 0.003*\"mice\" + 0.003*\"gene\" + 0.003*\"viral\" + 0.003*\"immune\"\n",
            "Topic27 - Word: 0.007*\"pedv\" + 0.004*\"cells\" + 0.004*\"virus\" + 0.004*\"protein\" + 0.003*\"viruses\" + 0.003*\"infection\" + 0.003*\"viral\" + 0.003*\"cell\" + 0.003*\"sars\" + 0.003*\"proteins\"\n",
            "Topic28 - Word: 0.016*\"unknown\" + 0.004*\"vaccines\" + 0.004*\"vlps\" + 0.004*\"vaccine\" + 0.003*\"virus\" + 0.003*\"patients\" + 0.003*\"sars\" + 0.003*\"viral\" + 0.003*\"viruses\" + 0.003*\"nanoparticles\"\n",
            "Topic29 - Word: 0.004*\"respiratory\" + 0.004*\"sars\" + 0.004*\"hcovs\" + 0.003*\"virus\" + 0.003*\"hcov\" + 0.003*\"influenza\" + 0.003*\"patients\" + 0.003*\"disease\" + 0.003*\"infection\" + 0.003*\"viral\"\n",
            "Topic30 - Word: 0.009*\"patients\" + 0.006*\"covid\" + 0.004*\"sars\" + 0.004*\"pneumonia\" + 0.004*\"clinical\" + 0.004*\"cases\" + 0.004*\"disease\" + 0.004*\"chest\" + 0.004*\"lung\" + 0.003*\"respiratory\"\n",
            "Topic31 - Word: 0.040*\"unknown\" + 0.007*\"ebov\" + 0.006*\"cows\" + 0.004*\"ferret\" + 0.003*\"virus\" + 0.003*\"calves\" + 0.003*\"sars\" + 0.003*\"infection\" + 0.003*\"ferrets\" + 0.003*\"viral\"\n",
            "Topic32 - Word: 0.007*\"bvdv\" + 0.004*\"influenza\" + 0.003*\"virus\" + 0.003*\"health\" + 0.003*\"china\" + 0.003*\"respiratory\" + 0.003*\"bovine\" + 0.003*\"covid\" + 0.002*\"disease\" + 0.002*\"waste\"\n",
            "Topic33 - Word: 0.005*\"rats\" + 0.005*\"virus\" + 0.004*\"cells\" + 0.003*\"bcov\" + 0.003*\"protein\" + 0.003*\"mice\" + 0.003*\"viral\" + 0.003*\"infection\" + 0.003*\"cell\" + 0.003*\"viruses\"\n",
            "Topic34 - Word: 0.004*\"protein\" + 0.004*\"sars\" + 0.004*\"virus\" + 0.003*\"proteins\" + 0.003*\"viruses\" + 0.003*\"viral\" + 0.003*\"cells\" + 0.003*\"human\" + 0.003*\"cell\" + 0.003*\"infection\"\n",
            "Topic35 - Word: 0.004*\"mers\" + 0.004*\"virus\" + 0.004*\"influenza\" + 0.003*\"viruses\" + 0.003*\"protein\" + 0.003*\"viral\" + 0.003*\"respiratory\" + 0.003*\"cells\" + 0.003*\"patients\" + 0.002*\"human\"\n",
            "Topic36 - Word: 0.010*\"patients\" + 0.007*\"respiratory\" + 0.006*\"covid\" + 0.005*\"influenza\" + 0.005*\"children\" + 0.004*\"sars\" + 0.004*\"cases\" + 0.004*\"hospital\" + 0.004*\"care\" + 0.004*\"infections\"\n",
            "Topic37 - Word: 0.003*\"virus\" + 0.003*\"cells\" + 0.003*\"viral\" + 0.003*\"protein\" + 0.003*\"infection\" + 0.003*\"sars\" + 0.003*\"viruses\" + 0.003*\"health\" + 0.002*\"cell\" + 0.002*\"patients\"\n",
            "Topic38 - Word: 0.016*\"ncov\" + 0.005*\"sars\" + 0.004*\"respiratory\" + 0.004*\"virus\" + 0.004*\"viruses\" + 0.004*\"viral\" + 0.003*\"coronavirus\" + 0.003*\"mers\" + 0.003*\"infection\" + 0.003*\"human\"\n",
            "Topic39 - Word: 0.003*\"sars\" + 0.003*\"virus\" + 0.003*\"cells\" + 0.003*\"viral\" + 0.003*\"covid\" + 0.003*\"protein\" + 0.003*\"infection\" + 0.003*\"cell\" + 0.003*\"rubella\" + 0.002*\"entry\"\n",
            "Topic40 - Word: 0.005*\"patients\" + 0.005*\"mers\" + 0.005*\"covid\" + 0.004*\"sars\" + 0.003*\"influenza\" + 0.003*\"infection\" + 0.003*\"disease\" + 0.003*\"health\" + 0.003*\"respiratory\" + 0.003*\"virus\"\n",
            "Topic41 - Word: 0.008*\"cells\" + 0.007*\"protein\" + 0.006*\"cell\" + 0.005*\"proteins\" + 0.004*\"virus\" + 0.004*\"viral\" + 0.004*\"replication\" + 0.004*\"expression\" + 0.004*\"activity\" + 0.003*\"infection\"\n",
            "Topic42 - Word: 0.008*\"ncov\" + 0.006*\"covid\" + 0.005*\"cases\" + 0.005*\"sars\" + 0.004*\"patients\" + 0.004*\"pregnant\" + 0.004*\"wuhan\" + 0.004*\"number\" + 0.003*\"women\" + 0.003*\"coronavirus\"\n",
            "Topic43 - Word: 0.007*\"mice\" + 0.005*\"cells\" + 0.004*\"mers\" + 0.004*\"vaccine\" + 0.004*\"virus\" + 0.004*\"golgi\" + 0.004*\"responses\" + 0.003*\"immune\" + 0.003*\"protein\" + 0.003*\"cell\"\n",
            "Topic44 - Word: 0.007*\"prrsv\" + 0.007*\"cells\" + 0.006*\"virus\" + 0.005*\"demyelination\" + 0.005*\"mice\" + 0.005*\"viral\" + 0.004*\"jhmv\" + 0.004*\"protein\" + 0.004*\"cell\" + 0.004*\"infection\"\n",
            "Topic45 - Word: 0.003*\"mers\" + 0.003*\"health\" + 0.003*\"virus\" + 0.003*\"influenza\" + 0.003*\"vaccine\" + 0.003*\"viruses\" + 0.003*\"pilgrims\" + 0.003*\"respiratory\" + 0.003*\"human\" + 0.003*\"infection\"\n",
            "Topic46 - Word: 0.007*\"asthma\" + 0.006*\"sont\" + 0.006*\"para\" + 0.005*\"dans\" + 0.005*\"mers\" + 0.005*\"respiratory\" + 0.005*\"exacerbations\" + 0.005*\"como\" + 0.005*\"infections\" + 0.005*\"virus\"\n",
            "Topic47 - Word: 0.013*\"calves\" + 0.008*\"pedv\" + 0.007*\"pigs\" + 0.006*\"diarrhea\" + 0.005*\"rotavirus\" + 0.005*\"piglets\" + 0.004*\"porcine\" + 0.004*\"virus\" + 0.004*\"samples\" + 0.004*\"bovine\"\n",
            "Topic48 - Word: 0.003*\"virus\" + 0.003*\"sars\" + 0.003*\"viral\" + 0.003*\"viruses\" + 0.003*\"respiratory\" + 0.003*\"text\" + 0.002*\"protein\" + 0.002*\"cells\" + 0.002*\"infection\" + 0.002*\"patients\"\n",
            "Topic49 - Word: 0.004*\"mucosal\" + 0.003*\"virus\" + 0.003*\"vaccines\" + 0.003*\"viruses\" + 0.003*\"viral\" + 0.003*\"cells\" + 0.003*\"immune\" + 0.003*\"infection\" + 0.003*\"cell\" + 0.003*\"respiratory\"\n",
            "-------------------------------------------------------------------------------\n",
            "-------------------------------------------------------------------------------\n",
            "Hasil LDA Model dengan 75 topik\n",
            "__________________________\n",
            "Topic0 - Word: 0.005*\"gene\" + 0.005*\"sequence\" + 0.005*\"protein\" + 0.005*\"frameshifting\" + 0.004*\"virus\" + 0.004*\"viral\" + 0.004*\"genome\" + 0.004*\"mrna\" + 0.004*\"expression\" + 0.004*\"genes\"\n",
            "Topic1 - Word: 0.007*\"dogs\" + 0.005*\"canine\" + 0.005*\"virus\" + 0.005*\"cells\" + 0.005*\"mice\" + 0.004*\"calves\" + 0.004*\"infection\" + 0.004*\"samples\" + 0.004*\"infected\" + 0.003*\"antibody\"\n",
            "Topic2 - Word: 0.006*\"chickens\" + 0.004*\"virus\" + 0.004*\"viruses\" + 0.004*\"poultry\" + 0.004*\"flocks\" + 0.003*\"influenza\" + 0.003*\"bronchitis\" + 0.003*\"respiratory\" + 0.003*\"viral\" + 0.003*\"strains\"\n",
            "Topic3 - Word: 0.008*\"protein\" + 0.006*\"sars\" + 0.006*\"antibodies\" + 0.005*\"epitopes\" + 0.005*\"peptides\" + 0.005*\"peptide\" + 0.005*\"proteins\" + 0.004*\"binding\" + 0.004*\"mabs\" + 0.004*\"epitope\"\n",
            "Topic4 - Word: 0.010*\"covid\" + 0.006*\"wuhan\" + 0.006*\"social\" + 0.005*\"distancing\" + 0.005*\"model\" + 0.005*\"china\" + 0.005*\"epidemic\" + 0.004*\"cases\" + 0.004*\"sars\" + 0.004*\"transmission\"\n",
            "Topic5 - Word: 0.005*\"baculovirus\" + 0.003*\"viral\" + 0.003*\"proteins\" + 0.003*\"virus\" + 0.003*\"influenza\" + 0.003*\"viruses\" + 0.003*\"cells\" + 0.003*\"infection\" + 0.003*\"unknown\" + 0.002*\"respiratory\"\n",
            "Topic6 - Word: 0.004*\"cases\" + 0.004*\"disease\" + 0.004*\"model\" + 0.004*\"epidemic\" + 0.003*\"transmission\" + 0.003*\"covid\" + 0.003*\"patients\" + 0.003*\"number\" + 0.003*\"sars\" + 0.003*\"infection\"\n",
            "Topic7 - Word: 0.006*\"calves\" + 0.005*\"rats\" + 0.005*\"parvum\" + 0.005*\"sars\" + 0.004*\"cattle\" + 0.004*\"dairy\" + 0.003*\"patients\" + 0.003*\"respiratory\" + 0.003*\"pneumonia\" + 0.003*\"cryptosporidium\"\n",
            "Topic8 - Word: 0.014*\"pacientes\" + 0.008*\"sign\" + 0.006*\"para\" + 0.003*\"cells\" + 0.003*\"virus\" + 0.003*\"influenza\" + 0.003*\"infection\" + 0.003*\"angiotensin\" + 0.003*\"patients\" + 0.002*\"compounds\"\n",
            "Topic9 - Word: 0.004*\"chloroquine\" + 0.004*\"sars\" + 0.004*\"virus\" + 0.004*\"viral\" + 0.003*\"influenza\" + 0.003*\"antiviral\" + 0.003*\"viruses\" + 0.003*\"covid\" + 0.003*\"drug\" + 0.003*\"infection\"\n",
            "Topic10 - Word: 0.006*\"unknown\" + 0.005*\"sars\" + 0.004*\"patients\" + 0.004*\"health\" + 0.004*\"covid\" + 0.003*\"disease\" + 0.003*\"influenza\" + 0.003*\"diseases\" + 0.003*\"abstract\" + 0.003*\"global\"\n",
            "Topic11 - Word: 0.009*\"influenza\" + 0.005*\"hajj\" + 0.004*\"pilgrims\" + 0.004*\"viruses\" + 0.004*\"health\" + 0.004*\"respiratory\" + 0.003*\"virus\" + 0.003*\"surveillance\" + 0.003*\"disease\" + 0.003*\"public\"\n",
            "Topic12 - Word: 0.006*\"cats\" + 0.005*\"feline\" + 0.005*\"text\" + 0.004*\"housing\" + 0.004*\"sars\" + 0.004*\"fcov\" + 0.004*\"virus\" + 0.004*\"image\" + 0.003*\"viral\" + 0.003*\"infection\"\n",
            "Topic13 - Word: 0.004*\"virus\" + 0.003*\"fusion\" + 0.003*\"tmprss\" + 0.003*\"influenza\" + 0.003*\"membrane\" + 0.003*\"cell\" + 0.003*\"proteins\" + 0.003*\"protein\" + 0.003*\"viral\" + 0.003*\"cells\"\n",
            "Topic14 - Word: 0.023*\"lockdown\" + 0.008*\"covid\" + 0.005*\"distancing\" + 0.004*\"social\" + 0.004*\"school\" + 0.004*\"lopinavir\" + 0.003*\"india\" + 0.003*\"epidemic\" + 0.003*\"cases\" + 0.003*\"quarantine\"\n",
            "Topic15 - Word: 0.011*\"colostrum\" + 0.009*\"rotavirus\" + 0.009*\"milk\" + 0.009*\"calves\" + 0.007*\"herds\" + 0.007*\"rotaviruses\" + 0.005*\"herd\" + 0.004*\"feeding\" + 0.003*\"bovine\" + 0.003*\"antibodies\"\n",
            "Topic16 - Word: 0.006*\"cells\" + 0.005*\"protease\" + 0.005*\"tmprss\" + 0.005*\"epithelial\" + 0.005*\"cell\" + 0.004*\"serine\" + 0.004*\"proteases\" + 0.004*\"protein\" + 0.004*\"sars\" + 0.004*\"virus\"\n",
            "Topic17 - Word: 0.008*\"host\" + 0.006*\"immune\" + 0.005*\"viruses\" + 0.005*\"viral\" + 0.005*\"innate\" + 0.004*\"sars\" + 0.004*\"virus\" + 0.004*\"signaling\" + 0.004*\"cells\" + 0.004*\"response\"\n",
            "Topic18 - Word: 0.008*\"placebo\" + 0.005*\"patients\" + 0.004*\"recipients\" + 0.004*\"transplant\" + 0.004*\"respiratory\" + 0.004*\"viral\" + 0.003*\"images\" + 0.003*\"clinical\" + 0.003*\"infection\" + 0.003*\"group\"\n",
            "Topic19 - Word: 0.004*\"virus\" + 0.004*\"virome\" + 0.004*\"viruses\" + 0.004*\"influenza\" + 0.003*\"samples\" + 0.003*\"detection\" + 0.003*\"viral\" + 0.003*\"respiratory\" + 0.003*\"human\" + 0.003*\"abstract\"\n",
            "Topic20 - Word: 0.004*\"vaccine\" + 0.004*\"vaccines\" + 0.003*\"sars\" + 0.003*\"virus\" + 0.003*\"viral\" + 0.003*\"immune\" + 0.003*\"mice\" + 0.003*\"human\" + 0.002*\"viruses\" + 0.002*\"infection\"\n",
            "Topic21 - Word: 0.027*\"ncov\" + 0.005*\"sars\" + 0.005*\"china\" + 0.005*\"coronavirus\" + 0.004*\"respiratory\" + 0.003*\"wuhan\" + 0.003*\"novel\" + 0.003*\"virus\" + 0.003*\"outbreak\" + 0.003*\"health\"\n",
            "Topic22 - Word: 0.013*\"asthma\" + 0.011*\"exacerbations\" + 0.008*\"copd\" + 0.005*\"exacerbation\" + 0.004*\"influenza\" + 0.004*\"viral\" + 0.003*\"virus\" + 0.003*\"respiratory\" + 0.003*\"disease\" + 0.003*\"airway\"\n",
            "Topic23 - Word: 0.006*\"cathepsin\" + 0.005*\"proteinase\" + 0.004*\"virus\" + 0.003*\"viral\" + 0.003*\"influenza\" + 0.003*\"prime\" + 0.003*\"sars\" + 0.003*\"viruses\" + 0.003*\"patients\" + 0.003*\"aureus\"\n",
            "Topic24 - Word: 0.004*\"infection\" + 0.003*\"virus\" + 0.003*\"cells\" + 0.003*\"patients\" + 0.003*\"protein\" + 0.003*\"cell\" + 0.003*\"viral\" + 0.003*\"viruses\" + 0.003*\"sars\" + 0.002*\"respiratory\"\n",
            "Topic25 - Word: 0.004*\"viruses\" + 0.003*\"allergic\" + 0.003*\"respiratory\" + 0.003*\"virus\" + 0.003*\"viral\" + 0.003*\"patients\" + 0.003*\"influenza\" + 0.003*\"infection\" + 0.003*\"human\" + 0.002*\"pilgrims\"\n",
            "Topic26 - Word: 0.006*\"vlps\" + 0.006*\"sars\" + 0.004*\"protein\" + 0.004*\"virus\" + 0.003*\"cells\" + 0.003*\"vaccine\" + 0.003*\"viruses\" + 0.003*\"coronavirus\" + 0.003*\"infection\" + 0.003*\"viral\"\n",
            "Topic27 - Word: 0.003*\"virus\" + 0.003*\"ncov\" + 0.003*\"intubation\" + 0.003*\"infection\" + 0.003*\"cells\" + 0.003*\"viral\" + 0.003*\"patients\" + 0.003*\"pedv\" + 0.003*\"viruses\" + 0.002*\"cases\"\n",
            "Topic28 - Word: 0.013*\"patients\" + 0.007*\"respiratory\" + 0.006*\"cases\" + 0.005*\"children\" + 0.005*\"pneumonia\" + 0.005*\"covid\" + 0.005*\"clinical\" + 0.005*\"influenza\" + 0.005*\"sars\" + 0.004*\"symptoms\"\n",
            "Topic29 - Word: 0.007*\"pregnancy\" + 0.006*\"pregnant\" + 0.005*\"women\" + 0.005*\"covid\" + 0.005*\"patients\" + 0.004*\"sars\" + 0.003*\"maternal\" + 0.003*\"virus\" + 0.003*\"infection\" + 0.003*\"influenza\"\n",
            "Topic30 - Word: 0.005*\"cells\" + 0.005*\"copd\" + 0.004*\"patients\" + 0.003*\"cell\" + 0.003*\"infection\" + 0.003*\"viral\" + 0.003*\"respiratory\" + 0.003*\"virus\" + 0.003*\"sars\" + 0.003*\"viruses\"\n",
            "Topic31 - Word: 0.004*\"pedv\" + 0.003*\"model\" + 0.003*\"exponential\" + 0.003*\"epidemic\" + 0.003*\"virus\" + 0.003*\"farms\" + 0.003*\"viral\" + 0.003*\"cells\" + 0.003*\"data\" + 0.003*\"italy\"\n",
            "Topic32 - Word: 0.017*\"mers\" + 0.007*\"respiratory\" + 0.006*\"bats\" + 0.005*\"east\" + 0.005*\"camels\" + 0.005*\"middle\" + 0.005*\"viruses\" + 0.004*\"human\" + 0.004*\"coronavirus\" + 0.004*\"virus\"\n",
            "Topic33 - Word: 0.005*\"bcov\" + 0.005*\"protease\" + 0.005*\"protein\" + 0.004*\"substrate\" + 0.004*\"binding\" + 0.003*\"structure\" + 0.003*\"catalytic\" + 0.003*\"proteins\" + 0.003*\"sars\" + 0.003*\"ubiquitin\"\n",
            "Topic34 - Word: 0.010*\"tourism\" + 0.004*\"virus\" + 0.004*\"autophagy\" + 0.004*\"viral\" + 0.003*\"sars\" + 0.003*\"human\" + 0.003*\"nipah\" + 0.003*\"infection\" + 0.003*\"viruses\" + 0.002*\"respiratory\"\n",
            "Topic35 - Word: 0.013*\"publisher\" + 0.005*\"chapter\" + 0.004*\"cows\" + 0.003*\"health\" + 0.003*\"discusses\" + 0.003*\"virus\" + 0.003*\"attacks\" + 0.003*\"viral\" + 0.003*\"malaria\" + 0.003*\"zoonoses\"\n",
            "Topic36 - Word: 0.006*\"prrsv\" + 0.003*\"model\" + 0.003*\"virus\" + 0.003*\"cells\" + 0.003*\"infection\" + 0.003*\"protein\" + 0.003*\"data\" + 0.003*\"respiratory\" + 0.002*\"sars\" + 0.002*\"viral\"\n",
            "Topic37 - Word: 0.004*\"rdrp\" + 0.004*\"protein\" + 0.004*\"sars\" + 0.004*\"virus\" + 0.004*\"antibodies\" + 0.004*\"binding\" + 0.003*\"astrovirus\" + 0.003*\"mers\" + 0.003*\"viral\" + 0.003*\"mabs\"\n",
            "Topic38 - Word: 0.005*\"viruses\" + 0.005*\"virus\" + 0.004*\"cells\" + 0.004*\"respiratory\" + 0.004*\"analogs\" + 0.003*\"human\" + 0.003*\"viral\" + 0.003*\"filovirus\" + 0.003*\"infection\" + 0.003*\"influenza\"\n",
            "Topic39 - Word: 0.005*\"spinal\" + 0.005*\"cord\" + 0.005*\"patients\" + 0.004*\"virus\" + 0.004*\"cells\" + 0.004*\"mice\" + 0.004*\"rabies\" + 0.004*\"transplantation\" + 0.004*\"infection\" + 0.003*\"transplant\"\n",
            "Topic40 - Word: 0.012*\"recombination\" + 0.009*\"strains\" + 0.006*\"fcov\" + 0.005*\"sequences\" + 0.005*\"isolates\" + 0.005*\"strain\" + 0.005*\"pedv\" + 0.005*\"phylogenetic\" + 0.004*\"gene\" + 0.004*\"sequence\"\n",
            "Topic41 - Word: 0.098*\"unknown\" + 0.005*\"filter\" + 0.004*\"activity\" + 0.004*\"cells\" + 0.004*\"compounds\" + 0.003*\"cell\" + 0.003*\"compound\" + 0.003*\"virus\" + 0.003*\"expression\" + 0.003*\"viral\"\n",
            "Topic42 - Word: 0.006*\"sont\" + 0.006*\"dans\" + 0.005*\"como\" + 0.005*\"pour\" + 0.004*\"para\" + 0.004*\"nanoparticles\" + 0.004*\"virus\" + 0.004*\"infección\" + 0.003*\"résumé\" + 0.003*\"chez\"\n",
            "Topic43 - Word: 0.023*\"calves\" + 0.006*\"diarrhea\" + 0.006*\"cryptosporidium\" + 0.005*\"calf\" + 0.005*\"diarrheic\" + 0.004*\"coli\" + 0.004*\"neonatal\" + 0.003*\"infection\" + 0.003*\"cows\" + 0.003*\"virus\"\n",
            "Topic44 - Word: 0.007*\"ncov\" + 0.005*\"covid\" + 0.003*\"patients\" + 0.003*\"influenza\" + 0.003*\"virus\" + 0.003*\"disease\" + 0.003*\"infection\" + 0.003*\"rhinitis\" + 0.003*\"health\" + 0.003*\"alcohol\"\n",
            "Topic45 - Word: 0.005*\"diabetes\" + 0.003*\"carbon\" + 0.003*\"viral\" + 0.003*\"sars\" + 0.003*\"infection\" + 0.003*\"infections\" + 0.003*\"virus\" + 0.003*\"disease\" + 0.003*\"patients\" + 0.002*\"protein\"\n",
            "Topic46 - Word: 0.004*\"influenza\" + 0.003*\"viruses\" + 0.003*\"virus\" + 0.003*\"health\" + 0.003*\"horses\" + 0.003*\"asthmatic\" + 0.003*\"markets\" + 0.003*\"financial\" + 0.003*\"respiratory\" + 0.002*\"sars\"\n",
            "Topic47 - Word: 0.003*\"virus\" + 0.003*\"infection\" + 0.003*\"patients\" + 0.003*\"sars\" + 0.003*\"model\" + 0.003*\"mers\" + 0.003*\"covid\" + 0.003*\"cells\" + 0.003*\"cases\" + 0.002*\"viral\"\n",
            "Topic48 - Word: 0.009*\"health\" + 0.007*\"care\" + 0.005*\"pandemic\" + 0.005*\"public\" + 0.005*\"sars\" + 0.005*\"healthcare\" + 0.004*\"covid\" + 0.004*\"control\" + 0.004*\"emergency\" + 0.004*\"workers\"\n",
            "Topic49 - Word: 0.007*\"health\" + 0.005*\"covid\" + 0.004*\"public\" + 0.004*\"social\" + 0.004*\"disease\" + 0.003*\"data\" + 0.003*\"research\" + 0.003*\"diseases\" + 0.003*\"global\" + 0.003*\"surveillance\"\n",
            "Topic50 - Word: 0.009*\"cells\" + 0.005*\"cell\" + 0.005*\"macrophages\" + 0.004*\"expression\" + 0.004*\"infection\" + 0.004*\"virus\" + 0.004*\"activity\" + 0.004*\"mice\" + 0.004*\"inflammatory\" + 0.004*\"induced\"\n",
            "Topic51 - Word: 0.004*\"covid\" + 0.004*\"vitamin\" + 0.004*\"lamp\" + 0.004*\"virus\" + 0.003*\"sars\" + 0.003*\"cells\" + 0.003*\"influenza\" + 0.003*\"infection\" + 0.003*\"viral\" + 0.003*\"protein\"\n",
            "Topic52 - Word: 0.005*\"golgi\" + 0.004*\"cells\" + 0.004*\"cell\" + 0.004*\"protein\" + 0.003*\"sars\" + 0.003*\"virus\" + 0.003*\"substances\" + 0.003*\"membrane\" + 0.003*\"viral\" + 0.003*\"proteins\"\n",
            "Topic53 - Word: 0.009*\"cells\" + 0.008*\"mice\" + 0.006*\"immune\" + 0.005*\"zikv\" + 0.005*\"cell\" + 0.005*\"infection\" + 0.005*\"virus\" + 0.004*\"demyelination\" + 0.004*\"viral\" + 0.004*\"nervous\"\n",
            "Topic54 - Word: 0.009*\"cats\" + 0.004*\"land\" + 0.004*\"influenza\" + 0.003*\"projections\" + 0.003*\"cities\" + 0.003*\"virus\" + 0.003*\"feline\" + 0.003*\"indications\" + 0.003*\"infection\" + 0.003*\"viruses\"\n",
            "Topic55 - Word: 0.006*\"sars\" + 0.005*\"clpro\" + 0.004*\"respiratory\" + 0.004*\"influenza\" + 0.004*\"patients\" + 0.004*\"virus\" + 0.003*\"viruses\" + 0.003*\"cases\" + 0.003*\"business\" + 0.003*\"covid\"\n",
            "Topic56 - Word: 0.007*\"feline\" + 0.007*\"cats\" + 0.006*\"fipv\" + 0.004*\"virus\" + 0.004*\"peritonitis\" + 0.003*\"cells\" + 0.003*\"infection\" + 0.003*\"viral\" + 0.003*\"sars\" + 0.003*\"fcov\"\n",
            "Topic57 - Word: 0.007*\"prrsv\" + 0.006*\"cells\" + 0.006*\"protein\" + 0.005*\"virus\" + 0.004*\"cell\" + 0.003*\"proteins\" + 0.003*\"replication\" + 0.003*\"membrane\" + 0.003*\"viral\" + 0.003*\"golgi\"\n",
            "Topic58 - Word: 0.007*\"codon\" + 0.006*\"usage\" + 0.005*\"sars\" + 0.004*\"patients\" + 0.004*\"waste\" + 0.004*\"respiratory\" + 0.003*\"samples\" + 0.003*\"synonymous\" + 0.003*\"elisa\" + 0.003*\"virus\"\n",
            "Topic59 - Word: 0.007*\"detection\" + 0.005*\"assay\" + 0.004*\"time\" + 0.004*\"method\" + 0.003*\"samples\" + 0.003*\"real\" + 0.003*\"sensitivity\" + 0.003*\"assays\" + 0.003*\"amplification\" + 0.003*\"viruses\"\n",
            "Topic60 - Word: 0.007*\"tgev\" + 0.007*\"vaccine\" + 0.006*\"pedv\" + 0.004*\"vaccines\" + 0.004*\"virus\" + 0.004*\"sars\" + 0.004*\"mice\" + 0.003*\"angiotensin\" + 0.003*\"recombinant\" + 0.003*\"protein\"\n",
            "Topic61 - Word: 0.005*\"virus\" + 0.004*\"pdcov\" + 0.003*\"sars\" + 0.003*\"porcine\" + 0.003*\"elisa\" + 0.003*\"rotavirus\" + 0.003*\"samples\" + 0.003*\"strains\" + 0.003*\"viral\" + 0.003*\"infection\"\n",
            "Topic62 - Word: 0.020*\"hbov\" + 0.015*\"hmpv\" + 0.009*\"respiratory\" + 0.008*\"children\" + 0.006*\"hcov\" + 0.005*\"patients\" + 0.005*\"human\" + 0.004*\"viruses\" + 0.004*\"tract\" + 0.004*\"sars\"\n",
            "Topic63 - Word: 0.007*\"protein\" + 0.007*\"membrane\" + 0.006*\"proteins\" + 0.005*\"fusion\" + 0.004*\"granules\" + 0.004*\"replication\" + 0.004*\"viral\" + 0.004*\"tail\" + 0.004*\"virus\" + 0.004*\"cell\"\n",
            "Topic64 - Word: 0.010*\"hubei\" + 0.009*\"bvdv\" + 0.006*\"wuhan\" + 0.006*\"china\" + 0.006*\"glass\" + 0.005*\"ground\" + 0.005*\"province\" + 0.005*\"patients\" + 0.005*\"covid\" + 0.004*\"opacities\"\n",
            "Topic65 - Word: 0.008*\"cells\" + 0.008*\"fusion\" + 0.007*\"entry\" + 0.007*\"cell\" + 0.007*\"membrane\" + 0.006*\"protein\" + 0.006*\"virus\" + 0.006*\"proteins\" + 0.006*\"viral\" + 0.005*\"receptor\"\n",
            "Topic66 - Word: 0.004*\"patients\" + 0.003*\"virus\" + 0.003*\"respiratory\" + 0.003*\"cells\" + 0.003*\"viruses\" + 0.003*\"lung\" + 0.003*\"infection\" + 0.003*\"viral\" + 0.003*\"gradient\" + 0.003*\"disease\"\n",
            "Topic67 - Word: 0.013*\"patients\" + 0.007*\"children\" + 0.006*\"respiratory\" + 0.006*\"pneumonia\" + 0.005*\"influenza\" + 0.005*\"cases\" + 0.005*\"covid\" + 0.005*\"hospital\" + 0.004*\"days\" + 0.004*\"care\"\n",
            "Topic68 - Word: 0.007*\"hcov\" + 0.004*\"viruses\" + 0.004*\"virus\" + 0.003*\"cells\" + 0.003*\"respiratory\" + 0.003*\"human\" + 0.003*\"cell\" + 0.003*\"viral\" + 0.002*\"coronavirus\" + 0.002*\"influenza\"\n",
            "Topic69 - Word: 0.004*\"cells\" + 0.003*\"passengers\" + 0.003*\"virus\" + 0.003*\"infection\" + 0.003*\"influenza\" + 0.003*\"viral\" + 0.002*\"cell\" + 0.002*\"risk\" + 0.002*\"cats\" + 0.002*\"protein\"\n",
            "Topic70 - Word: 0.004*\"ifitm\" + 0.004*\"virus\" + 0.003*\"cells\" + 0.003*\"mirnas\" + 0.003*\"cell\" + 0.003*\"viruses\" + 0.003*\"clpro\" + 0.003*\"demyelination\" + 0.003*\"viral\" + 0.002*\"infection\"\n",
            "Topic71 - Word: 0.006*\"sows\" + 0.005*\"unknown\" + 0.004*\"sars\" + 0.004*\"herbal\" + 0.003*\"virus\" + 0.003*\"viral\" + 0.003*\"respiratory\" + 0.003*\"infection\" + 0.003*\"cells\" + 0.002*\"protein\"\n",
            "Topic72 - Word: 0.006*\"protein\" + 0.006*\"activity\" + 0.005*\"cells\" + 0.005*\"virus\" + 0.005*\"antiviral\" + 0.004*\"viral\" + 0.004*\"compounds\" + 0.004*\"replication\" + 0.004*\"sars\" + 0.004*\"binding\"\n",
            "Topic73 - Word: 0.007*\"protein\" + 0.007*\"cells\" + 0.005*\"replication\" + 0.005*\"virus\" + 0.004*\"cell\" + 0.004*\"proteins\" + 0.004*\"viral\" + 0.004*\"stress\" + 0.004*\"expression\" + 0.004*\"kinase\"\n",
            "Topic74 - Word: 0.005*\"dans\" + 0.004*\"health\" + 0.003*\"patients\" + 0.003*\"sars\" + 0.003*\"cells\" + 0.003*\"virus\" + 0.003*\"cell\" + 0.003*\"infection\" + 0.003*\"influenza\" + 0.003*\"assistance\"\n",
            "-------------------------------------------------------------------------------\n",
            "-------------------------------------------------------------------------------\n",
            "Hasil LDA Model dengan 100 topik\n",
            "__________________________\n",
            "Topic0 - Word: 0.014*\"pacientes\" + 0.005*\"detection\" + 0.004*\"respiratory\" + 0.004*\"assay\" + 0.004*\"sensitivities\" + 0.004*\"influenza\" + 0.004*\"samples\" + 0.004*\"assays\" + 0.004*\"viruses\" + 0.004*\"para\"\n",
            "Topic1 - Word: 0.014*\"cats\" + 0.007*\"feline\" + 0.005*\"fipv\" + 0.004*\"virus\" + 0.004*\"placebo\" + 0.004*\"group\" + 0.004*\"respiratory\" + 0.004*\"influenza\" + 0.004*\"days\" + 0.004*\"children\"\n",
            "Topic2 - Word: 0.004*\"sows\" + 0.003*\"virus\" + 0.003*\"news\" + 0.003*\"influenza\" + 0.003*\"sars\" + 0.003*\"infection\" + 0.003*\"viral\" + 0.003*\"human\" + 0.003*\"genetic\" + 0.003*\"vaccine\"\n",
            "Topic3 - Word: 0.008*\"pedv\" + 0.008*\"vaccines\" + 0.008*\"vaccine\" + 0.005*\"virus\" + 0.004*\"influenza\" + 0.004*\"immunization\" + 0.004*\"doctors\" + 0.004*\"strain\" + 0.004*\"viral\" + 0.004*\"viruses\"\n",
            "Topic4 - Word: 0.004*\"sars\" + 0.004*\"influenza\" + 0.004*\"covs\" + 0.003*\"virus\" + 0.003*\"ring\" + 0.003*\"respiratory\" + 0.003*\"viral\" + 0.003*\"patients\" + 0.003*\"human\" + 0.003*\"angiotensin\"\n",
            "Topic5 - Word: 0.011*\"mers\" + 0.010*\"camels\" + 0.006*\"mask\" + 0.005*\"dromedary\" + 0.005*\"camel\" + 0.005*\"masks\" + 0.004*\"respirators\" + 0.004*\"patients\" + 0.004*\"covid\" + 0.003*\"health\"\n",
            "Topic6 - Word: 0.006*\"adsorption\" + 0.005*\"influenza\" + 0.004*\"bvdv\" + 0.004*\"virus\" + 0.004*\"oseltamivir\" + 0.003*\"infection\" + 0.003*\"refractory\" + 0.003*\"viruses\" + 0.003*\"cells\" + 0.003*\"viral\"\n",
            "Topic7 - Word: 0.005*\"drug\" + 0.004*\"antiviral\" + 0.004*\"drugs\" + 0.004*\"compounds\" + 0.004*\"viral\" + 0.004*\"virus\" + 0.003*\"viruses\" + 0.003*\"anti\" + 0.003*\"human\" + 0.003*\"therapeutic\"\n",
            "Topic8 - Word: 0.010*\"mabs\" + 0.007*\"protein\" + 0.007*\"sars\" + 0.006*\"codon\" + 0.006*\"epitopes\" + 0.005*\"antibodies\" + 0.005*\"virus\" + 0.004*\"amino\" + 0.004*\"usage\" + 0.004*\"abstract\"\n",
            "Topic9 - Word: 0.013*\"fcov\" + 0.006*\"dsrna\" + 0.005*\"cells\" + 0.005*\"cats\" + 0.005*\"feline\" + 0.005*\"dans\" + 0.004*\"virus\" + 0.003*\"viral\" + 0.003*\"cell\" + 0.003*\"protein\"\n",
            "Topic10 - Word: 0.194*\"unknown\" + 0.005*\"commission\" + 0.004*\"comes\" + 0.003*\"influenza\" + 0.003*\"virus\" + 0.003*\"viruses\" + 0.003*\"mers\" + 0.003*\"patients\" + 0.002*\"viral\" + 0.002*\"pulse\"\n",
            "Topic11 - Word: 0.015*\"covid\" + 0.011*\"china\" + 0.010*\"cases\" + 0.010*\"wuhan\" + 0.008*\"hubei\" + 0.006*\"province\" + 0.006*\"sars\" + 0.006*\"epidemic\" + 0.005*\"outbreak\" + 0.005*\"number\"\n",
            "Topic12 - Word: 0.008*\"ferrets\" + 0.007*\"ifitm\" + 0.007*\"ferret\" + 0.005*\"housing\" + 0.004*\"influenza\" + 0.004*\"sars\" + 0.004*\"cells\" + 0.003*\"virus\" + 0.003*\"viruses\" + 0.003*\"infection\"\n",
            "Topic13 - Word: 0.004*\"virus\" + 0.003*\"infection\" + 0.003*\"rats\" + 0.003*\"cells\" + 0.003*\"ocular\" + 0.003*\"mice\" + 0.003*\"cell\" + 0.003*\"filtration\" + 0.003*\"protein\" + 0.002*\"expression\"\n",
            "Topic14 - Word: 0.004*\"cells\" + 0.004*\"virus\" + 0.004*\"infection\" + 0.004*\"viral\" + 0.003*\"polarized\" + 0.003*\"read\" + 0.003*\"cell\" + 0.003*\"sars\" + 0.003*\"human\" + 0.003*\"protein\"\n",
            "Topic15 - Word: 0.005*\"methylation\" + 0.004*\"protein\" + 0.004*\"influenza\" + 0.004*\"proteins\" + 0.004*\"virus\" + 0.004*\"sars\" + 0.004*\"agriculture\" + 0.004*\"viral\" + 0.003*\"autophagy\" + 0.003*\"viruses\"\n",
            "Topic16 - Word: 0.021*\"frameshifting\" + 0.012*\"frameshift\" + 0.009*\"ribosomal\" + 0.008*\"pseudoknot\" + 0.007*\"psychiatric\" + 0.006*\"trna\" + 0.005*\"ribosome\" + 0.005*\"loop\" + 0.005*\"programmed\" + 0.004*\"codon\"\n",
            "Topic17 - Word: 0.006*\"covid\" + 0.005*\"distancing\" + 0.005*\"anxiety\" + 0.004*\"patients\" + 0.004*\"storm\" + 0.004*\"sars\" + 0.003*\"mental\" + 0.003*\"italy\" + 0.003*\"social\" + 0.003*\"cytokine\"\n",
            "Topic18 - Word: 0.005*\"mobile\" + 0.005*\"extraction\" + 0.004*\"influenza\" + 0.003*\"virus\" + 0.003*\"indices\" + 0.003*\"cells\" + 0.003*\"data\" + 0.003*\"viral\" + 0.003*\"patients\" + 0.003*\"projections\"\n",
            "Topic19 - Word: 0.005*\"health\" + 0.004*\"patients\" + 0.004*\"graft\" + 0.004*\"transplant\" + 0.003*\"care\" + 0.003*\"transplantation\" + 0.003*\"preparedness\" + 0.003*\"cell\" + 0.003*\"virus\" + 0.003*\"infection\"\n",
            "Topic20 - Word: 0.004*\"anxiety\" + 0.004*\"fcov\" + 0.003*\"attacks\" + 0.003*\"colonies\" + 0.003*\"health\" + 0.003*\"pigs\" + 0.003*\"cells\" + 0.003*\"virus\" + 0.003*\"infection\" + 0.003*\"viral\"\n",
            "Topic21 - Word: 0.014*\"exacerbations\" + 0.014*\"copd\" + 0.011*\"asthma\" + 0.005*\"exacerbation\" + 0.005*\"chronic\" + 0.004*\"obstructive\" + 0.004*\"patients\" + 0.004*\"disease\" + 0.003*\"respiratory\" + 0.003*\"viral\"\n",
            "Topic22 - Word: 0.012*\"vlps\" + 0.007*\"sars\" + 0.006*\"tourism\" + 0.004*\"virus\" + 0.003*\"mice\" + 0.003*\"cells\" + 0.003*\"triage\" + 0.003*\"viral\" + 0.003*\"vaccines\" + 0.003*\"protein\"\n",
            "Topic23 - Word: 0.011*\"cells\" + 0.007*\"cell\" + 0.007*\"mice\" + 0.007*\"immune\" + 0.006*\"infection\" + 0.006*\"expression\" + 0.005*\"virus\" + 0.005*\"viral\" + 0.004*\"response\" + 0.004*\"innate\"\n",
            "Topic24 - Word: 0.007*\"bats\" + 0.004*\"sars\" + 0.004*\"viruses\" + 0.004*\"virus\" + 0.004*\"incident\" + 0.003*\"cells\" + 0.003*\"viral\" + 0.003*\"infection\" + 0.003*\"restrictions\" + 0.003*\"host\"\n",
            "Topic25 - Word: 0.007*\"cells\" + 0.005*\"infection\" + 0.005*\"virus\" + 0.004*\"replication\" + 0.004*\"cell\" + 0.004*\"liver\" + 0.004*\"viral\" + 0.004*\"rnase\" + 0.004*\"antiviral\" + 0.003*\"stress\"\n",
            "Topic26 - Word: 0.008*\"difficile\" + 0.005*\"cxcl\" + 0.004*\"clostridium\" + 0.004*\"virus\" + 0.004*\"considers\" + 0.003*\"cells\" + 0.003*\"cardiac\" + 0.003*\"cell\" + 0.003*\"viruses\" + 0.002*\"health\"\n",
            "Topic27 - Word: 0.009*\"pedv\" + 0.006*\"porcine\" + 0.006*\"pigs\" + 0.005*\"angiotensin\" + 0.005*\"strains\" + 0.005*\"virus\" + 0.005*\"elisa\" + 0.004*\"diarrhea\" + 0.004*\"piglets\" + 0.004*\"rabbits\"\n",
            "Topic28 - Word: 0.007*\"health\" + 0.004*\"public\" + 0.004*\"covid\" + 0.004*\"disease\" + 0.003*\"care\" + 0.003*\"diseases\" + 0.003*\"research\" + 0.003*\"pandemic\" + 0.003*\"risk\" + 0.003*\"infectious\"\n",
            "Topic29 - Word: 0.004*\"cells\" + 0.003*\"viruses\" + 0.003*\"virus\" + 0.003*\"virome\" + 0.003*\"viral\" + 0.003*\"cell\" + 0.003*\"disease\" + 0.003*\"infection\" + 0.002*\"proteins\" + 0.002*\"sars\"\n",
            "Topic30 - Word: 0.009*\"lamp\" + 0.007*\"detection\" + 0.007*\"assay\" + 0.005*\"amplification\" + 0.005*\"samples\" + 0.004*\"method\" + 0.004*\"virus\" + 0.003*\"assays\" + 0.003*\"rapid\" + 0.003*\"sensitivity\"\n",
            "Topic31 - Word: 0.004*\"cells\" + 0.004*\"learn\" + 0.003*\"virus\" + 0.003*\"expression\" + 0.003*\"sars\" + 0.003*\"mice\" + 0.003*\"infection\" + 0.003*\"viral\" + 0.003*\"immunopathology\" + 0.003*\"come\"\n",
            "Topic32 - Word: 0.011*\"patients\" + 0.009*\"ards\" + 0.004*\"ventilation\" + 0.004*\"sars\" + 0.003*\"disease\" + 0.003*\"distress\" + 0.003*\"acute\" + 0.003*\"covid\" + 0.003*\"respiratory\" + 0.003*\"clinical\"\n",
            "Topic33 - Word: 0.004*\"cells\" + 0.004*\"protein\" + 0.003*\"cell\" + 0.003*\"virus\" + 0.003*\"assay\" + 0.003*\"infection\" + 0.003*\"viral\" + 0.002*\"pedv\" + 0.002*\"microarrays\" + 0.002*\"sars\"\n",
            "Topic34 - Word: 0.008*\"disaster\" + 0.004*\"articles\" + 0.004*\"keywords\" + 0.004*\"disasters\" + 0.004*\"covid\" + 0.004*\"health\" + 0.004*\"publication\" + 0.003*\"sars\" + 0.003*\"publications\" + 0.003*\"studies\"\n",
            "Topic35 - Word: 0.007*\"bcov\" + 0.007*\"rats\" + 0.004*\"patients\" + 0.004*\"respiratory\" + 0.004*\"sars\" + 0.003*\"infection\" + 0.003*\"covid\" + 0.003*\"disease\" + 0.003*\"esterase\" + 0.003*\"mers\"\n",
            "Topic36 - Word: 0.006*\"zinc\" + 0.005*\"sign\" + 0.004*\"cells\" + 0.004*\"virtual\" + 0.004*\"compounds\" + 0.004*\"viral\" + 0.003*\"infection\" + 0.003*\"virus\" + 0.003*\"protein\" + 0.003*\"cell\"\n",
            "Topic37 - Word: 0.015*\"ncov\" + 0.008*\"mers\" + 0.007*\"travelers\" + 0.006*\"wuhan\" + 0.006*\"travel\" + 0.005*\"coronavirus\" + 0.005*\"patients\" + 0.005*\"cases\" + 0.004*\"china\" + 0.004*\"respiratory\"\n",
            "Topic38 - Word: 0.004*\"patients\" + 0.003*\"influenza\" + 0.003*\"virus\" + 0.003*\"viruses\" + 0.003*\"respiratory\" + 0.003*\"official\" + 0.003*\"sars\" + 0.003*\"hospitalised\" + 0.003*\"data\" + 0.002*\"salmonella\"\n",
            "Topic39 - Word: 0.004*\"samples\" + 0.004*\"sars\" + 0.004*\"virus\" + 0.004*\"snps\" + 0.004*\"probe\" + 0.003*\"dogs\" + 0.003*\"canine\" + 0.003*\"gene\" + 0.003*\"influenza\" + 0.003*\"assay\"\n",
            "Topic40 - Word: 0.005*\"fifth\" + 0.003*\"invasive\" + 0.003*\"vitamin\" + 0.003*\"digestive\" + 0.003*\"influenza\" + 0.003*\"patients\" + 0.003*\"virus\" + 0.003*\"cells\" + 0.003*\"viruses\" + 0.002*\"human\"\n",
            "Topic41 - Word: 0.004*\"insurance\" + 0.004*\"viruses\" + 0.003*\"patients\" + 0.003*\"wildlife\" + 0.003*\"virus\" + 0.003*\"infection\" + 0.003*\"exponentially\" + 0.003*\"influenza\" + 0.003*\"viral\" + 0.002*\"transmission\"\n",
            "Topic42 - Word: 0.005*\"carbon\" + 0.004*\"inhalation\" + 0.004*\"ventilation\" + 0.004*\"injury\" + 0.004*\"lung\" + 0.004*\"oxide\" + 0.004*\"conference\" + 0.003*\"patients\" + 0.003*\"breathing\" + 0.003*\"nitric\"\n",
            "Topic43 - Word: 0.010*\"waste\" + 0.004*\"virus\" + 0.004*\"communications\" + 0.003*\"viruses\" + 0.003*\"influenza\" + 0.003*\"species\" + 0.003*\"infection\" + 0.003*\"human\" + 0.003*\"health\" + 0.003*\"respiratory\"\n",
            "Topic44 - Word: 0.007*\"covid\" + 0.006*\"patients\" + 0.006*\"proteinase\" + 0.005*\"sirna\" + 0.004*\"sars\" + 0.004*\"expression\" + 0.003*\"hcov\" + 0.003*\"dans\" + 0.003*\"hypertension\" + 0.003*\"viral\"\n",
            "Topic45 - Word: 0.012*\"hajj\" + 0.011*\"pilgrims\" + 0.008*\"filter\" + 0.006*\"legal\" + 0.005*\"health\" + 0.005*\"issued\" + 0.004*\"emergencies\" + 0.004*\"york\" + 0.004*\"labor\" + 0.003*\"care\"\n",
            "Topic46 - Word: 0.007*\"astroviruses\" + 0.004*\"viruses\" + 0.004*\"strains\" + 0.004*\"frameshifting\" + 0.004*\"astrovirus\" + 0.004*\"virus\" + 0.003*\"species\" + 0.003*\"bats\" + 0.003*\"sequence\" + 0.003*\"ribosomal\"\n",
            "Topic47 - Word: 0.008*\"protease\" + 0.006*\"cleavage\" + 0.006*\"ubiquitin\" + 0.006*\"protein\" + 0.006*\"proteases\" + 0.005*\"cells\" + 0.005*\"viral\" + 0.004*\"activity\" + 0.004*\"enzymes\" + 0.004*\"proteins\"\n",
            "Topic48 - Word: 0.009*\"parvum\" + 0.007*\"calves\" + 0.007*\"cryptosporidium\" + 0.006*\"ward\" + 0.006*\"airborne\" + 0.004*\"diarrhea\" + 0.004*\"patients\" + 0.004*\"infection\" + 0.004*\"economies\" + 0.003*\"wards\"\n",
            "Topic49 - Word: 0.004*\"corona\" + 0.004*\"virus\" + 0.003*\"infection\" + 0.003*\"viral\" + 0.003*\"respiratory\" + 0.003*\"sars\" + 0.003*\"viruses\" + 0.003*\"asthma\" + 0.003*\"microarray\" + 0.003*\"clinical\"\n",
            "Topic50 - Word: 0.006*\"unknown\" + 0.004*\"immunology\" + 0.004*\"mers\" + 0.003*\"virus\" + 0.003*\"human\" + 0.003*\"respiratory\" + 0.003*\"stock\" + 0.003*\"infection\" + 0.003*\"cells\" + 0.003*\"sars\"\n",
            "Topic51 - Word: 0.004*\"forecast\" + 0.004*\"influenza\" + 0.004*\"sars\" + 0.004*\"section\" + 0.003*\"protein\" + 0.003*\"cells\" + 0.003*\"cell\" + 0.003*\"virus\" + 0.003*\"calves\" + 0.003*\"respiratory\"\n",
            "Topic52 - Word: 0.018*\"lockdown\" + 0.005*\"virus\" + 0.005*\"cells\" + 0.004*\"cell\" + 0.004*\"cows\" + 0.004*\"mers\" + 0.004*\"protein\" + 0.003*\"chimeric\" + 0.003*\"viral\" + 0.003*\"receptor\"\n",
            "Topic53 - Word: 0.006*\"adjuvant\" + 0.004*\"antibody\" + 0.004*\"vaccine\" + 0.004*\"influenza\" + 0.004*\"cells\" + 0.004*\"virus\" + 0.003*\"protein\" + 0.003*\"antibodies\" + 0.003*\"assay\" + 0.003*\"organic\"\n",
            "Topic54 - Word: 0.008*\"rabies\" + 0.006*\"india\" + 0.004*\"intelligence\" + 0.003*\"security\" + 0.003*\"virus\" + 0.003*\"human\" + 0.003*\"health\" + 0.003*\"explores\" + 0.003*\"automatically\" + 0.003*\"tuberculosis\"\n",
            "Topic55 - Word: 0.004*\"vaccines\" + 0.004*\"viral\" + 0.004*\"transplantation\" + 0.003*\"infections\" + 0.003*\"virus\" + 0.003*\"vaccine\" + 0.003*\"infection\" + 0.003*\"cells\" + 0.003*\"immune\" + 0.003*\"viruses\"\n",
            "Topic56 - Word: 0.024*\"unknown\" + 0.011*\"ebov\" + 0.005*\"helicase\" + 0.005*\"cells\" + 0.004*\"virus\" + 0.004*\"sars\" + 0.003*\"viral\" + 0.003*\"cell\" + 0.003*\"viruses\" + 0.003*\"infection\"\n",
            "Topic57 - Word: 0.005*\"exon\" + 0.004*\"virus\" + 0.003*\"cells\" + 0.003*\"infection\" + 0.003*\"expression\" + 0.003*\"words\" + 0.003*\"immune\" + 0.003*\"viruses\" + 0.003*\"viral\" + 0.003*\"protein\"\n",
            "Topic58 - Word: 0.009*\"pollution\" + 0.006*\"indoor\" + 0.005*\"pollutants\" + 0.004*\"virus\" + 0.003*\"human\" + 0.003*\"viral\" + 0.003*\"particulate\" + 0.003*\"proteins\" + 0.003*\"abstract\" + 0.003*\"protein\"\n",
            "Topic59 - Word: 0.003*\"sars\" + 0.003*\"virus\" + 0.003*\"viruses\" + 0.003*\"protein\" + 0.003*\"genome\" + 0.003*\"strains\" + 0.003*\"mers\" + 0.003*\"viral\" + 0.003*\"rotavirus\" + 0.002*\"health\"\n",
            "Topic60 - Word: 0.007*\"sirna\" + 0.006*\"rnai\" + 0.005*\"cells\" + 0.005*\"clpro\" + 0.005*\"prrsv\" + 0.005*\"sirnas\" + 0.004*\"cell\" + 0.004*\"replication\" + 0.004*\"protein\" + 0.004*\"virus\"\n",
            "Topic61 - Word: 0.004*\"pertussis\" + 0.004*\"droplet\" + 0.004*\"infection\" + 0.004*\"droplets\" + 0.003*\"influenza\" + 0.003*\"virus\" + 0.003*\"viruses\" + 0.003*\"disease\" + 0.003*\"transfusion\" + 0.003*\"transmission\"\n",
            "Topic62 - Word: 0.004*\"apical\" + 0.003*\"patients\" + 0.003*\"sars\" + 0.003*\"cells\" + 0.003*\"horses\" + 0.003*\"virus\" + 0.003*\"cases\" + 0.003*\"https\" + 0.003*\"covid\" + 0.003*\"detergent\"\n",
            "Topic63 - Word: 0.004*\"influenza\" + 0.004*\"virus\" + 0.003*\"mitigation\" + 0.003*\"infection\" + 0.003*\"stochastic\" + 0.003*\"pandemic\" + 0.003*\"viruses\" + 0.003*\"cells\" + 0.003*\"ebola\" + 0.003*\"health\"\n",
            "Topic64 - Word: 0.007*\"prrsv\" + 0.005*\"sars\" + 0.005*\"virus\" + 0.005*\"mers\" + 0.005*\"protein\" + 0.004*\"epitopes\" + 0.004*\"cell\" + 0.004*\"binding\" + 0.004*\"vaccine\" + 0.004*\"peptide\"\n",
            "Topic65 - Word: 0.005*\"accuracy\" + 0.004*\"covid\" + 0.004*\"images\" + 0.004*\"viral\" + 0.004*\"deep\" + 0.003*\"learning\" + 0.003*\"algorithm\" + 0.003*\"viruses\" + 0.003*\"patients\" + 0.003*\"sequences\"\n",
            "Topic66 - Word: 0.006*\"mers\" + 0.004*\"patients\" + 0.004*\"distancing\" + 0.004*\"respiratory\" + 0.004*\"infection\" + 0.003*\"coronavirus\" + 0.003*\"paramyxoviruses\" + 0.003*\"virus\" + 0.003*\"article\" + 0.003*\"health\"\n",
            "Topic67 - Word: 0.006*\"pdcov\" + 0.004*\"pedv\" + 0.004*\"respiratory\" + 0.004*\"hmpv\" + 0.004*\"viruses\" + 0.004*\"influenza\" + 0.003*\"virus\" + 0.003*\"viral\" + 0.003*\"infections\" + 0.003*\"samples\"\n",
            "Topic68 - Word: 0.012*\"sont\" + 0.010*\"para\" + 0.010*\"dans\" + 0.010*\"como\" + 0.008*\"infección\" + 0.006*\"resumen\" + 0.006*\"résumé\" + 0.006*\"mers\" + 0.006*\"chez\" + 0.005*\"bioterrorism\"\n",
            "Topic69 - Word: 0.004*\"influenza\" + 0.003*\"virus\" + 0.003*\"health\" + 0.003*\"viruses\" + 0.003*\"public\" + 0.003*\"disease\" + 0.002*\"disinfection\" + 0.002*\"patients\" + 0.002*\"viral\" + 0.002*\"respiratory\"\n",
            "Topic70 - Word: 0.007*\"analogues\" + 0.003*\"citizens\" + 0.003*\"governance\" + 0.003*\"latest\" + 0.003*\"nutrition\" + 0.003*\"abstract\" + 0.003*\"antiviral\" + 0.003*\"metal\" + 0.003*\"respirators\" + 0.002*\"virus\"\n",
            "Topic71 - Word: 0.007*\"protein\" + 0.005*\"sars\" + 0.005*\"binding\" + 0.004*\"proteins\" + 0.004*\"virus\" + 0.004*\"viral\" + 0.004*\"domain\" + 0.003*\"replication\" + 0.003*\"structure\" + 0.003*\"viruses\"\n",
            "Topic72 - Word: 0.008*\"denv\" + 0.004*\"trade\" + 0.003*\"infection\" + 0.003*\"virus\" + 0.003*\"replication\" + 0.003*\"viral\" + 0.003*\"dengue\" + 0.003*\"cells\" + 0.003*\"proteins\" + 0.003*\"protein\"\n",
            "Topic73 - Word: 0.006*\"sars\" + 0.004*\"reovirus\" + 0.004*\"bats\" + 0.004*\"respiratory\" + 0.004*\"virus\" + 0.004*\"viruses\" + 0.003*\"patients\" + 0.003*\"flocks\" + 0.003*\"samples\" + 0.003*\"infection\"\n",
            "Topic74 - Word: 0.019*\"calves\" + 0.009*\"rotavirus\" + 0.007*\"diarrhea\" + 0.007*\"zikv\" + 0.006*\"colostrum\" + 0.005*\"calf\" + 0.004*\"coli\" + 0.004*\"virus\" + 0.004*\"intestinal\" + 0.004*\"bovine\"\n",
            "Topic75 - Word: 0.009*\"fusion\" + 0.006*\"membrane\" + 0.006*\"autophagy\" + 0.006*\"cells\" + 0.005*\"activity\" + 0.004*\"cell\" + 0.004*\"protein\" + 0.004*\"anti\" + 0.004*\"helix\" + 0.004*\"proteins\"\n",
            "Topic76 - Word: 0.005*\"listed\" + 0.005*\"fish\" + 0.004*\"packaging\" + 0.004*\"cells\" + 0.004*\"lectin\" + 0.004*\"clinician\" + 0.003*\"virus\" + 0.003*\"viral\" + 0.003*\"mandatory\" + 0.003*\"protein\"\n",
            "Topic77 - Word: 0.009*\"publisher\" + 0.005*\"sars\" + 0.005*\"abstract\" + 0.004*\"dispersion\" + 0.004*\"patients\" + 0.004*\"chapter\" + 0.004*\"respiratory\" + 0.003*\"passengers\" + 0.003*\"viruses\" + 0.003*\"influenza\"\n",
            "Topic78 - Word: 0.005*\"cells\" + 0.004*\"australian\" + 0.003*\"cell\" + 0.003*\"samples\" + 0.003*\"virus\" + 0.003*\"protein\" + 0.003*\"infection\" + 0.003*\"viral\" + 0.003*\"pneumoniae\" + 0.003*\"viruses\"\n",
            "Topic79 - Word: 0.005*\"nanoparticles\" + 0.004*\"membrane\" + 0.004*\"viruses\" + 0.004*\"denv\" + 0.003*\"proteins\" + 0.003*\"virus\" + 0.003*\"psychological\" + 0.003*\"lipid\" + 0.003*\"viral\" + 0.003*\"protein\"\n",
            "Topic80 - Word: 0.005*\"compounds\" + 0.005*\"activity\" + 0.005*\"analogs\" + 0.005*\"patients\" + 0.004*\"antiviral\" + 0.004*\"viruses\" + 0.004*\"methyl\" + 0.004*\"nucleoside\" + 0.003*\"antibacterial\" + 0.003*\"treatment\"\n",
            "Topic81 - Word: 0.015*\"hbov\" + 0.010*\"patients\" + 0.010*\"children\" + 0.007*\"respiratory\" + 0.006*\"lrti\" + 0.004*\"bronchiolitis\" + 0.004*\"infection\" + 0.004*\"wheezing\" + 0.004*\"severity\" + 0.004*\"pneumonia\"\n",
            "Topic82 - Word: 0.005*\"pregnancy\" + 0.004*\"pregnant\" + 0.004*\"surgery\" + 0.004*\"women\" + 0.003*\"infection\" + 0.003*\"maternal\" + 0.003*\"virus\" + 0.003*\"cells\" + 0.003*\"patients\" + 0.003*\"respiratory\"\n",
            "Topic83 - Word: 0.004*\"protein\" + 0.003*\"viral\" + 0.003*\"sars\" + 0.003*\"proteins\" + 0.003*\"virus\" + 0.003*\"cells\" + 0.003*\"viruses\" + 0.002*\"patients\" + 0.002*\"disease\" + 0.002*\"infection\"\n",
            "Topic84 - Word: 0.004*\"cleaning\" + 0.003*\"cells\" + 0.003*\"handle\" + 0.003*\"protein\" + 0.003*\"dairy\" + 0.003*\"influenza\" + 0.003*\"dedicated\" + 0.003*\"calves\" + 0.003*\"surfaces\" + 0.003*\"away\"\n",
            "Topic85 - Word: 0.015*\"patients\" + 0.007*\"pneumonia\" + 0.007*\"clinical\" + 0.006*\"covid\" + 0.006*\"diagnosis\" + 0.005*\"respiratory\" + 0.005*\"cases\" + 0.004*\"symptoms\" + 0.004*\"treatment\" + 0.004*\"patient\"\n",
            "Topic86 - Word: 0.005*\"patients\" + 0.004*\"influenza\" + 0.004*\"viruses\" + 0.003*\"virus\" + 0.003*\"respiratory\" + 0.003*\"infection\" + 0.003*\"viral\" + 0.003*\"cultural\" + 0.003*\"cells\" + 0.003*\"sars\"\n",
            "Topic87 - Word: 0.009*\"patients\" + 0.006*\"respiratory\" + 0.004*\"sars\" + 0.004*\"influenza\" + 0.004*\"samples\" + 0.004*\"bvdv\" + 0.004*\"infection\" + 0.004*\"mers\" + 0.004*\"viral\" + 0.004*\"infections\"\n",
            "Topic88 - Word: 0.004*\"peritoneal\" + 0.004*\"fungal\" + 0.003*\"breast\" + 0.003*\"respiratory\" + 0.003*\"virus\" + 0.003*\"cells\" + 0.003*\"viral\" + 0.003*\"viruses\" + 0.003*\"human\" + 0.003*\"infection\"\n",
            "Topic89 - Word: 0.007*\"seir\" + 0.006*\"covid\" + 0.004*\"dogs\" + 0.004*\"cells\" + 0.004*\"author\" + 0.003*\"influenza\" + 0.003*\"health\" + 0.003*\"virus\" + 0.003*\"infection\" + 0.003*\"sars\"\n",
            "Topic90 - Word: 0.007*\"mirnas\" + 0.006*\"microglia\" + 0.004*\"cells\" + 0.004*\"cord\" + 0.004*\"spinal\" + 0.004*\"virus\" + 0.003*\"infection\" + 0.003*\"protein\" + 0.003*\"viral\" + 0.003*\"mice\"\n",
            "Topic91 - Word: 0.005*\"layer\" + 0.003*\"virus\" + 0.003*\"health\" + 0.003*\"societies\" + 0.003*\"initiatives\" + 0.003*\"human\" + 0.003*\"disease\" + 0.003*\"protein\" + 0.002*\"patients\" + 0.002*\"myelin\"\n",
            "Topic92 - Word: 0.005*\"ribavirin\" + 0.005*\"activity\" + 0.005*\"virus\" + 0.004*\"antiviral\" + 0.004*\"sars\" + 0.003*\"protein\" + 0.003*\"cells\" + 0.003*\"influenza\" + 0.003*\"compounds\" + 0.003*\"abstract\"\n",
            "Topic93 - Word: 0.017*\"ncov\" + 0.011*\"unknown\" + 0.010*\"sars\" + 0.009*\"quarantine\" + 0.006*\"cases\" + 0.006*\"covid\" + 0.006*\"coronavirus\" + 0.006*\"epidemic\" + 0.005*\"model\" + 0.005*\"spreading\"\n",
            "Topic94 - Word: 0.009*\"tmprss\" + 0.005*\"virus\" + 0.004*\"cells\" + 0.004*\"viral\" + 0.004*\"mice\" + 0.004*\"cell\" + 0.004*\"eggs\" + 0.004*\"influenza\" + 0.004*\"protein\" + 0.003*\"viruses\"\n",
            "Topic95 - Word: 0.009*\"protein\" + 0.006*\"tgev\" + 0.006*\"proteins\" + 0.005*\"virus\" + 0.005*\"golgi\" + 0.005*\"cells\" + 0.005*\"sequence\" + 0.005*\"genome\" + 0.004*\"gene\" + 0.004*\"membrane\"\n",
            "Topic96 - Word: 0.010*\"respiratory\" + 0.010*\"children\" + 0.007*\"patients\" + 0.006*\"infections\" + 0.006*\"viruses\" + 0.005*\"influenza\" + 0.004*\"viral\" + 0.004*\"samples\" + 0.004*\"tract\" + 0.004*\"virus\"\n",
            "Topic97 - Word: 0.005*\"legionella\" + 0.005*\"patients\" + 0.004*\"covid\" + 0.004*\"respiratory\" + 0.004*\"coronary\" + 0.003*\"virus\" + 0.003*\"sars\" + 0.003*\"italy\" + 0.003*\"viruses\" + 0.003*\"pneumoniae\"\n",
            "Topic98 - Word: 0.009*\"ifitm\" + 0.004*\"virus\" + 0.004*\"infection\" + 0.004*\"viral\" + 0.004*\"formula\" + 0.003*\"protein\" + 0.003*\"equilibrium\" + 0.003*\"sars\" + 0.003*\"viruses\" + 0.003*\"proteins\"\n",
            "Topic99 - Word: 0.019*\"hcws\" + 0.004*\"infection\" + 0.004*\"patients\" + 0.003*\"mers\" + 0.003*\"health\" + 0.003*\"sars\" + 0.003*\"respiratory\" + 0.003*\"virus\" + 0.003*\"cells\" + 0.002*\"endpoint\"\n"
          ],
          "name": "stdout"
        }
      ]
    },
    {
      "cell_type": "code",
      "metadata": {
        "id": "UUjxyrFvuCI0",
        "outputId": "288fa694-5d43-46f3-84fa-20a64ed90e3e",
        "colab": {
          "base_uri": "https://localhost:8080/",
          "height": 527
        }
      },
      "source": [
        "#mengeluarkan nilai koherens dan perpleksitas untuk setiap lda model yang dibuat\n",
        "for i in range(len(num)):\n",
        "  print(\"-------------------------------------------------------------------------------\")\n",
        "  print(\"-------------------------------------------------------------------------------\")\n",
        "  print('Performa LDA Model dengan {} topik'.format(num[i]))\n",
        "  print(\"__________________________\")\n",
        "  print('Perpelexity {0} topik: {1}'.format(num[i], lda_model_array[i].log_perplexity(bow_corpus)))\n",
        "  coherence_model_lda=CoherenceModel(model=lda_model_array[i],texts=processed_docs,dictionary=dictionary,coherence='c_v')\n",
        "  coherence_lda=coherence_model_lda.get_coherence()\n",
        "  print('Coherence Score {0} topik {1}: '.format(num[i],coherence_lda))"
      ],
      "execution_count": null,
      "outputs": [
        {
          "output_type": "stream",
          "text": [
            "-------------------------------------------------------------------------------\n",
            "-------------------------------------------------------------------------------\n",
            "Performa LDA Model dengan 10 topik\n",
            "__________________________\n",
            "Perpelexity 10 topik: -7.541608975275597\n",
            "Coherence Score 10 topik 0.49343689514169375: \n",
            "-------------------------------------------------------------------------------\n",
            "-------------------------------------------------------------------------------\n",
            "Performa LDA Model dengan 25 topik\n",
            "__________________________\n",
            "Perpelexity 25 topik: -7.5068978404139255\n",
            "Coherence Score 25 topik 0.48412213590700076: \n",
            "-------------------------------------------------------------------------------\n",
            "-------------------------------------------------------------------------------\n",
            "Performa LDA Model dengan 50 topik\n",
            "__________________________\n",
            "Perpelexity 50 topik: -7.618957566977694\n",
            "Coherence Score 50 topik 0.48854182528563095: \n",
            "-------------------------------------------------------------------------------\n",
            "-------------------------------------------------------------------------------\n",
            "Performa LDA Model dengan 75 topik\n",
            "__________________________\n",
            "Perpelexity 75 topik: -7.701369006492974\n",
            "Coherence Score 75 topik 0.4685806250078343: \n",
            "-------------------------------------------------------------------------------\n",
            "-------------------------------------------------------------------------------\n",
            "Performa LDA Model dengan 100 topik\n",
            "__________________________\n",
            "Perpelexity 100 topik: -7.791299898043749\n",
            "Coherence Score 100 topik 0.42692430278224797: \n"
          ],
          "name": "stdout"
        }
      ]
    },
    {
      "cell_type": "markdown",
      "metadata": {
        "id": "FHluFzWXNef6"
      },
      "source": [
        "Pengambilan keputusan akan dilakukan berdasarkan nilai koherens dan perpleksitas yang diperoleh, proses training model, kemudian print topik, kemudian print coherence dan perpleksitas akan terus direpitisi selama proses tuning"
      ]
    },
    {
      "cell_type": "code",
      "metadata": {
        "id": "kdqm-CR40Au7"
      },
      "source": [
        "#Pendefinisian untuk melakukan iterasi pada parameter alpha dan beta nantinya\n",
        "# Alpha parameter\n",
        "alpha = list(np.arange(0.01, 1, 0.3))\n",
        "alpha.append('symmetric')\n",
        "alpha.append('asymmetric')\n",
        "# Beta parameter\n",
        "beta = list(np.arange(0.01, 1, 0.3))\n",
        "beta.append('symmetric')"
      ],
      "execution_count": null,
      "outputs": []
    },
    {
      "cell_type": "code",
      "metadata": {
        "id": "7YY3lDKkYRUu"
      },
      "source": [
        "#training untuk tuning banyak topik, tapi dengan jumlah yang lebih kecil\n",
        "lda_model_2=gensim.models.LdaMulticore(corpus_tfidf,num_topics=2,id2word=dictionary,passes=2,workers=10)\n",
        "lda_model_4=gensim.models.LdaMulticore(corpus_tfidf,num_topics=4,id2word=dictionary,passes=2,workers=10)\n",
        "lda_model_6=gensim.models.LdaMulticore(corpus_tfidf,num_topics=6,id2word=dictionary,passes=2,workers=10)\n",
        "lda_model_8=gensim.models.LdaMulticore(corpus_tfidf,num_topics=8,id2word=dictionary,passes=2,workers=10)\n",
        "lda_model_16=gensim.models.LdaMulticore(corpus_tfidf,num_topics=16,id2word=dictionary,passes=2,workers=10)"
      ],
      "execution_count": null,
      "outputs": []
    },
    {
      "cell_type": "code",
      "metadata": {
        "id": "Uwv-5ZefYrCu",
        "outputId": "f8ab5601-f5aa-4895-ecc6-b830b95b8f00",
        "colab": {
          "base_uri": "https://localhost:8080/",
          "height": 527
        }
      },
      "source": [
        "#print nilai perpleksitas dan koherens untuk banyak topik 2,4,6,8,16 yang sudah ditrain sebelumnya\n",
        "num_1=[2,4,6,8,16]\n",
        "lda_model_array_1=[lda_model_2,lda_model_4,lda_model_6,lda_model_8,lda_model_16]\n",
        "from gensim.models import CoherenceModel\n",
        "for i in range(len(num_1)):\n",
        "  print(\"-------------------------------------------------------------------------------\")\n",
        "  print(\"-------------------------------------------------------------------------------\")\n",
        "  print('Performa LDA Model dengan {} topik'.format(num_1[i]))\n",
        "  print(\"__________________________\")\n",
        "  print('Perpelexity {0} topik: {1}'.format(num_1[i], lda_model_array_1[i].log_perplexity(bow_corpus)))\n",
        "  coherence_model_lda=CoherenceModel(model=lda_model_array_1[i],texts=processed_docs,dictionary=dictionary,coherence='c_v')\n",
        "  coherence_lda=coherence_model_lda.get_coherence()\n",
        "  print('Coherence Score {0} topik {1}: '.format(num_1[i],coherence_lda))"
      ],
      "execution_count": null,
      "outputs": [
        {
          "output_type": "stream",
          "text": [
            "-------------------------------------------------------------------------------\n",
            "-------------------------------------------------------------------------------\n",
            "Performa LDA Model dengan 2 topik\n",
            "__________________________\n",
            "Perpelexity 2 topik: -7.651705376344558\n",
            "Coherence Score 2 topik 0.4263114001951781: \n",
            "-------------------------------------------------------------------------------\n",
            "-------------------------------------------------------------------------------\n",
            "Performa LDA Model dengan 4 topik\n",
            "__________________________\n",
            "Perpelexity 4 topik: -7.531503002620636\n",
            "Coherence Score 4 topik 0.5162192880978432: \n",
            "-------------------------------------------------------------------------------\n",
            "-------------------------------------------------------------------------------\n",
            "Performa LDA Model dengan 6 topik\n",
            "__________________________\n",
            "Perpelexity 6 topik: -7.529272915908492\n",
            "Coherence Score 6 topik 0.5056502565369726: \n",
            "-------------------------------------------------------------------------------\n",
            "-------------------------------------------------------------------------------\n",
            "Performa LDA Model dengan 8 topik\n",
            "__________________________\n",
            "Perpelexity 8 topik: -7.506941677232181\n",
            "Coherence Score 8 topik 0.5364043638874563: \n",
            "-------------------------------------------------------------------------------\n",
            "-------------------------------------------------------------------------------\n",
            "Performa LDA Model dengan 16 topik\n",
            "__________________________\n",
            "Perpelexity 16 topik: -7.513214749394769\n",
            "Coherence Score 16 topik 0.47201276706357587: \n"
          ],
          "name": "stdout"
        }
      ]
    },
    {
      "cell_type": "code",
      "metadata": {
        "id": "MJFOopgJbsfi"
      },
      "source": [
        "#sekarang dilakukan hyperparameter tuning untuk nilai alpha, digunakan beberapa kandidat nilai alpha yang sudah didefinisikan sebelumnya\n",
        "lda_alpha_1=gensim.models.LdaMulticore(corpus_tfidf,num_topics=8,id2word=dictionary,passes=2,workers=10,alpha=alpha[0])\n",
        "lda_alpha_2=gensim.models.LdaMulticore(corpus_tfidf,num_topics=8,id2word=dictionary,passes=2,workers=10,alpha=alpha[1])\n",
        "lda_alpha_3=gensim.models.LdaMulticore(corpus_tfidf,num_topics=8,id2word=dictionary,passes=2,workers=10,alpha=alpha[2])\n",
        "lda_alpha_4=gensim.models.LdaMulticore(corpus_tfidf,num_topics=8,id2word=dictionary,passes=2,workers=10,alpha=alpha[3])\n",
        "lda_alpha_5=gensim.models.LdaMulticore(corpus_tfidf,num_topics=8,id2word=dictionary,passes=2,workers=10,alpha=alpha[4])\n",
        "lda_alpha_6=gensim.models.LdaMulticore(corpus_tfidf,num_topics=8,id2word=dictionary,passes=2,workers=10,alpha=alpha[5])"
      ],
      "execution_count": null,
      "outputs": []
    },
    {
      "cell_type": "code",
      "metadata": {
        "id": "p3RusNgs_Skp",
        "outputId": "b76c824b-5542-40ad-b102-f68c26710286",
        "colab": {
          "base_uri": "https://localhost:8080/",
          "height": 1000
        }
      },
      "source": [
        "#print hasil ekstraksi topik dengan beragam nilai alpha\n",
        "lda_model_array_2=[lda_alpha_1,lda_alpha_2,lda_alpha_3,lda_alpha_4,lda_alpha_5,lda_alpha_6]\n",
        "for i in range(len(alpha)):\n",
        "  print(\"-------------------------------------------------------------------------------\")\n",
        "  print(\"-------------------------------------------------------------------------------\")\n",
        "  print('Hasil LDA Model dengan nilai alpha {}'.format(str(alpha[i])))\n",
        "  print(\"__________________________\")\n",
        "  for idx,topic in lda_model_array_2[i].print_topics(-1):\n",
        "    print('Topic{} - Word: {}'.format(idx,topic))"
      ],
      "execution_count": null,
      "outputs": [
        {
          "output_type": "stream",
          "text": [
            "-------------------------------------------------------------------------------\n",
            "-------------------------------------------------------------------------------\n",
            "Hasil LDA Model dengan nilai alpha 0.01\n",
            "__________________________\n",
            "Topic0 - Word: 0.005*\"mers\" + 0.004*\"virus\" + 0.003*\"sars\" + 0.003*\"infection\" + 0.003*\"vaccine\" + 0.003*\"influenza\" + 0.003*\"respiratory\" + 0.003*\"human\" + 0.003*\"viral\" + 0.003*\"health\"\n",
            "Topic1 - Word: 0.007*\"cells\" + 0.005*\"cell\" + 0.005*\"protein\" + 0.004*\"expression\" + 0.004*\"virus\" + 0.004*\"infection\" + 0.004*\"viral\" + 0.004*\"mice\" + 0.003*\"proteins\" + 0.003*\"immune\"\n",
            "Topic2 - Word: 0.007*\"unknown\" + 0.005*\"samples\" + 0.004*\"detection\" + 0.004*\"virus\" + 0.004*\"assay\" + 0.004*\"viruses\" + 0.004*\"respiratory\" + 0.004*\"influenza\" + 0.003*\"sars\" + 0.003*\"viral\"\n",
            "Topic3 - Word: 0.005*\"covid\" + 0.005*\"health\" + 0.005*\"patients\" + 0.004*\"sars\" + 0.003*\"disease\" + 0.003*\"cases\" + 0.003*\"care\" + 0.003*\"public\" + 0.003*\"risk\" + 0.003*\"china\"\n",
            "Topic4 - Word: 0.003*\"virus\" + 0.003*\"viruses\" + 0.003*\"viral\" + 0.003*\"host\" + 0.003*\"cells\" + 0.002*\"protein\" + 0.002*\"cell\" + 0.002*\"infection\" + 0.002*\"human\" + 0.002*\"proteins\"\n",
            "Topic5 - Word: 0.006*\"patients\" + 0.005*\"respiratory\" + 0.004*\"children\" + 0.004*\"virus\" + 0.004*\"infection\" + 0.003*\"influenza\" + 0.003*\"viruses\" + 0.003*\"viral\" + 0.003*\"cases\" + 0.003*\"sars\"\n",
            "Topic6 - Word: 0.004*\"protein\" + 0.004*\"virus\" + 0.004*\"viral\" + 0.003*\"viruses\" + 0.003*\"proteins\" + 0.003*\"sars\" + 0.003*\"replication\" + 0.003*\"activity\" + 0.003*\"cells\" + 0.003*\"sequence\"\n",
            "Topic7 - Word: 0.003*\"virus\" + 0.003*\"calves\" + 0.003*\"respiratory\" + 0.003*\"infection\" + 0.003*\"patients\" + 0.003*\"viral\" + 0.003*\"cells\" + 0.003*\"sars\" + 0.002*\"viruses\" + 0.002*\"disease\"\n",
            "-------------------------------------------------------------------------------\n",
            "-------------------------------------------------------------------------------\n",
            "Hasil LDA Model dengan nilai alpha 0.31\n",
            "__________________________\n",
            "Topic0 - Word: 0.006*\"respiratory\" + 0.005*\"viruses\" + 0.005*\"virus\" + 0.005*\"children\" + 0.004*\"viral\" + 0.004*\"influenza\" + 0.004*\"hcov\" + 0.004*\"infections\" + 0.004*\"human\" + 0.004*\"infection\"\n",
            "Topic1 - Word: 0.008*\"patients\" + 0.007*\"covid\" + 0.004*\"cases\" + 0.004*\"sars\" + 0.003*\"disease\" + 0.003*\"china\" + 0.003*\"influenza\" + 0.003*\"respiratory\" + 0.003*\"outbreak\" + 0.003*\"epidemic\"\n",
            "Topic2 - Word: 0.004*\"protein\" + 0.004*\"binding\" + 0.004*\"proteins\" + 0.003*\"virus\" + 0.003*\"influenza\" + 0.003*\"structure\" + 0.003*\"cells\" + 0.002*\"cell\" + 0.002*\"viruses\" + 0.002*\"viral\"\n",
            "Topic3 - Word: 0.006*\"health\" + 0.003*\"sars\" + 0.003*\"disease\" + 0.003*\"public\" + 0.003*\"covid\" + 0.003*\"diseases\" + 0.002*\"global\" + 0.002*\"research\" + 0.002*\"data\" + 0.002*\"care\"\n",
            "Topic4 - Word: 0.006*\"mers\" + 0.006*\"unknown\" + 0.004*\"human\" + 0.004*\"respiratory\" + 0.003*\"diseases\" + 0.003*\"viral\" + 0.003*\"disease\" + 0.003*\"infections\" + 0.003*\"virus\" + 0.003*\"viruses\"\n",
            "Topic5 - Word: 0.005*\"detection\" + 0.005*\"virus\" + 0.004*\"assay\" + 0.004*\"influenza\" + 0.004*\"viruses\" + 0.004*\"samples\" + 0.003*\"respiratory\" + 0.003*\"viral\" + 0.003*\"clinical\" + 0.003*\"strains\"\n",
            "Topic6 - Word: 0.006*\"protein\" + 0.004*\"virus\" + 0.004*\"pedv\" + 0.004*\"proteins\" + 0.004*\"viral\" + 0.003*\"gene\" + 0.003*\"cells\" + 0.003*\"sequence\" + 0.003*\"replication\" + 0.003*\"expression\"\n",
            "Topic7 - Word: 0.008*\"cells\" + 0.005*\"cell\" + 0.005*\"infection\" + 0.005*\"immune\" + 0.004*\"mice\" + 0.004*\"virus\" + 0.004*\"viral\" + 0.003*\"expression\" + 0.003*\"responses\" + 0.003*\"induced\"\n",
            "-------------------------------------------------------------------------------\n",
            "-------------------------------------------------------------------------------\n",
            "Hasil LDA Model dengan nilai alpha 0.61\n",
            "__________________________\n",
            "Topic0 - Word: 0.004*\"sars\" + 0.004*\"cells\" + 0.003*\"influenza\" + 0.003*\"virus\" + 0.003*\"viral\" + 0.003*\"patients\" + 0.003*\"infection\" + 0.003*\"samples\" + 0.003*\"disease\" + 0.002*\"health\"\n",
            "Topic1 - Word: 0.005*\"viruses\" + 0.004*\"patients\" + 0.003*\"virus\" + 0.003*\"respiratory\" + 0.003*\"cells\" + 0.003*\"viral\" + 0.003*\"sars\" + 0.003*\"disease\" + 0.003*\"protein\" + 0.002*\"infection\"\n",
            "Topic2 - Word: 0.004*\"sars\" + 0.004*\"virus\" + 0.004*\"patients\" + 0.003*\"cells\" + 0.003*\"respiratory\" + 0.003*\"viral\" + 0.003*\"infection\" + 0.002*\"influenza\" + 0.002*\"viruses\" + 0.002*\"human\"\n",
            "Topic3 - Word: 0.003*\"patients\" + 0.003*\"cells\" + 0.003*\"sars\" + 0.003*\"protein\" + 0.003*\"virus\" + 0.002*\"infection\" + 0.002*\"viruses\" + 0.002*\"cases\" + 0.002*\"covid\" + 0.002*\"disease\"\n",
            "Topic4 - Word: 0.004*\"infection\" + 0.003*\"respiratory\" + 0.003*\"viral\" + 0.003*\"cell\" + 0.003*\"viruses\" + 0.003*\"virus\" + 0.003*\"cells\" + 0.003*\"human\" + 0.002*\"protein\" + 0.002*\"patients\"\n",
            "Topic5 - Word: 0.005*\"virus\" + 0.004*\"viral\" + 0.003*\"protein\" + 0.003*\"sars\" + 0.003*\"influenza\" + 0.003*\"viruses\" + 0.003*\"cells\" + 0.003*\"proteins\" + 0.002*\"infection\" + 0.002*\"patients\"\n",
            "Topic6 - Word: 0.003*\"virus\" + 0.003*\"infection\" + 0.003*\"patients\" + 0.003*\"sars\" + 0.003*\"protein\" + 0.002*\"cell\" + 0.002*\"disease\" + 0.002*\"respiratory\" + 0.002*\"diseases\" + 0.002*\"influenza\"\n",
            "Topic7 - Word: 0.004*\"virus\" + 0.003*\"respiratory\" + 0.003*\"infection\" + 0.003*\"influenza\" + 0.003*\"human\" + 0.003*\"viral\" + 0.003*\"protein\" + 0.003*\"health\" + 0.002*\"viruses\" + 0.002*\"disease\"\n",
            "-------------------------------------------------------------------------------\n",
            "-------------------------------------------------------------------------------\n",
            "Hasil LDA Model dengan nilai alpha 0.9099999999999999\n",
            "__________________________\n",
            "Topic0 - Word: 0.004*\"sars\" + 0.003*\"virus\" + 0.003*\"viral\" + 0.003*\"infection\" + 0.003*\"cells\" + 0.003*\"respiratory\" + 0.003*\"patients\" + 0.002*\"influenza\" + 0.002*\"proteins\" + 0.002*\"mers\"\n",
            "Topic1 - Word: 0.003*\"viral\" + 0.003*\"virus\" + 0.003*\"patients\" + 0.003*\"viruses\" + 0.003*\"respiratory\" + 0.003*\"infection\" + 0.003*\"health\" + 0.003*\"sars\" + 0.003*\"cells\" + 0.003*\"disease\"\n",
            "Topic2 - Word: 0.004*\"patients\" + 0.004*\"virus\" + 0.003*\"respiratory\" + 0.003*\"cells\" + 0.003*\"influenza\" + 0.003*\"disease\" + 0.003*\"infection\" + 0.003*\"sars\" + 0.002*\"cell\" + 0.002*\"viruses\"\n",
            "Topic3 - Word: 0.003*\"viral\" + 0.003*\"infection\" + 0.003*\"virus\" + 0.003*\"cells\" + 0.003*\"sars\" + 0.002*\"human\" + 0.002*\"cell\" + 0.002*\"viruses\" + 0.002*\"protein\" + 0.002*\"patients\"\n",
            "Topic4 - Word: 0.004*\"protein\" + 0.003*\"infection\" + 0.003*\"sars\" + 0.003*\"infections\" + 0.003*\"viral\" + 0.003*\"cells\" + 0.003*\"virus\" + 0.002*\"health\" + 0.002*\"patients\" + 0.002*\"viruses\"\n",
            "Topic5 - Word: 0.004*\"virus\" + 0.004*\"sars\" + 0.003*\"viruses\" + 0.003*\"patients\" + 0.003*\"cell\" + 0.002*\"influenza\" + 0.002*\"infection\" + 0.002*\"respiratory\" + 0.002*\"proteins\" + 0.002*\"health\"\n",
            "Topic6 - Word: 0.004*\"cells\" + 0.004*\"virus\" + 0.003*\"viruses\" + 0.003*\"sars\" + 0.003*\"viral\" + 0.003*\"respiratory\" + 0.003*\"patients\" + 0.003*\"infection\" + 0.003*\"influenza\" + 0.003*\"protein\"\n",
            "Topic7 - Word: 0.003*\"virus\" + 0.003*\"protein\" + 0.003*\"patients\" + 0.003*\"viral\" + 0.002*\"sars\" + 0.002*\"respiratory\" + 0.002*\"cells\" + 0.002*\"infection\" + 0.002*\"covid\" + 0.002*\"human\"\n",
            "-------------------------------------------------------------------------------\n",
            "-------------------------------------------------------------------------------\n",
            "Hasil LDA Model dengan nilai alpha symmetric\n",
            "__________________________\n",
            "Topic0 - Word: 0.007*\"unknown\" + 0.007*\"covid\" + 0.005*\"sars\" + 0.004*\"cases\" + 0.004*\"china\" + 0.004*\"health\" + 0.004*\"epidemic\" + 0.003*\"outbreak\" + 0.003*\"data\" + 0.003*\"patients\"\n",
            "Topic1 - Word: 0.007*\"cells\" + 0.005*\"protein\" + 0.005*\"cell\" + 0.005*\"virus\" + 0.004*\"viral\" + 0.004*\"proteins\" + 0.004*\"sars\" + 0.003*\"infection\" + 0.003*\"activity\" + 0.003*\"replication\"\n",
            "Topic2 - Word: 0.009*\"patients\" + 0.007*\"respiratory\" + 0.005*\"children\" + 0.004*\"influenza\" + 0.004*\"infections\" + 0.004*\"infection\" + 0.004*\"clinical\" + 0.003*\"viruses\" + 0.003*\"pneumonia\" + 0.003*\"virus\"\n",
            "Topic3 - Word: 0.005*\"health\" + 0.003*\"diseases\" + 0.003*\"disease\" + 0.003*\"public\" + 0.003*\"infectious\" + 0.003*\"care\" + 0.003*\"influenza\" + 0.002*\"patients\" + 0.002*\"covid\" + 0.002*\"research\"\n",
            "Topic4 - Word: 0.004*\"dogs\" + 0.003*\"cats\" + 0.003*\"virus\" + 0.003*\"influenza\" + 0.003*\"infection\" + 0.003*\"samples\" + 0.003*\"calves\" + 0.003*\"patients\" + 0.003*\"viruses\" + 0.002*\"disease\"\n",
            "Topic5 - Word: 0.005*\"virus\" + 0.004*\"viruses\" + 0.004*\"strains\" + 0.003*\"sequence\" + 0.003*\"genome\" + 0.003*\"gene\" + 0.003*\"viral\" + 0.003*\"protein\" + 0.003*\"species\" + 0.003*\"sequences\"\n",
            "Topic6 - Word: 0.005*\"pedv\" + 0.005*\"tgev\" + 0.004*\"virus\" + 0.004*\"pigs\" + 0.004*\"mers\" + 0.003*\"mice\" + 0.003*\"antibodies\" + 0.003*\"cells\" + 0.003*\"infection\" + 0.003*\"vaccine\"\n",
            "Topic7 - Word: 0.003*\"viral\" + 0.003*\"virus\" + 0.003*\"viruses\" + 0.003*\"detection\" + 0.003*\"protein\" + 0.003*\"cells\" + 0.003*\"cell\" + 0.002*\"based\" + 0.002*\"gene\" + 0.002*\"human\"\n",
            "-------------------------------------------------------------------------------\n",
            "-------------------------------------------------------------------------------\n",
            "Hasil LDA Model dengan nilai alpha asymmetric\n",
            "__________________________\n",
            "Topic0 - Word: 0.004*\"virus\" + 0.004*\"cells\" + 0.003*\"protein\" + 0.003*\"viral\" + 0.003*\"sars\" + 0.003*\"infection\" + 0.003*\"viruses\" + 0.003*\"cell\" + 0.002*\"human\" + 0.002*\"proteins\"\n",
            "Topic1 - Word: 0.006*\"patients\" + 0.005*\"covid\" + 0.004*\"health\" + 0.004*\"respiratory\" + 0.003*\"cases\" + 0.003*\"children\" + 0.003*\"influenza\" + 0.003*\"sars\" + 0.003*\"disease\" + 0.003*\"clinical\"\n",
            "Topic2 - Word: 0.005*\"influenza\" + 0.004*\"zikv\" + 0.004*\"virus\" + 0.004*\"infection\" + 0.003*\"viral\" + 0.003*\"respiratory\" + 0.003*\"viruses\" + 0.003*\"cells\" + 0.003*\"human\" + 0.002*\"disease\"\n",
            "Topic3 - Word: 0.004*\"patients\" + 0.003*\"group\" + 0.003*\"virus\" + 0.003*\"influenza\" + 0.002*\"protein\" + 0.002*\"mice\" + 0.002*\"infection\" + 0.002*\"sars\" + 0.002*\"viral\" + 0.002*\"disease\"\n",
            "Topic4 - Word: 0.003*\"respiratory\" + 0.003*\"patients\" + 0.003*\"children\" + 0.002*\"virus\" + 0.002*\"cases\" + 0.002*\"infection\" + 0.002*\"difficile\" + 0.002*\"influenza\" + 0.002*\"sars\" + 0.002*\"viral\"\n",
            "Topic5 - Word: 0.005*\"pour\" + 0.003*\"bats\" + 0.003*\"viruses\" + 0.003*\"être\" + 0.002*\"viral\" + 0.002*\"virus\" + 0.002*\"influenza\" + 0.002*\"sont\" + 0.002*\"infection\" + 0.002*\"human\"\n",
            "Topic6 - Word: 0.005*\"ifitm\" + 0.004*\"ncov\" + 0.003*\"sars\" + 0.002*\"cells\" + 0.002*\"influenza\" + 0.002*\"patients\" + 0.002*\"virus\" + 0.002*\"viruses\" + 0.002*\"samples\" + 0.001*\"expression\"\n",
            "Topic7 - Word: 0.002*\"health\" + 0.002*\"protein\" + 0.002*\"cells\" + 0.002*\"expression\" + 0.002*\"infection\" + 0.001*\"virus\" + 0.001*\"risk\" + 0.001*\"human\" + 0.001*\"influenza\" + 0.001*\"strains\"\n"
          ],
          "name": "stdout"
        }
      ]
    },
    {
      "cell_type": "code",
      "metadata": {
        "id": "sTwAdy3veoi2",
        "outputId": "75f8ade5-db34-4918-b68e-d44c3522e60d",
        "colab": {
          "base_uri": "https://localhost:8080/",
          "height": 629
        }
      },
      "source": [
        "#print perpleksitas dan nilai koherens dari lda model dengan berbagai nilai alpha\n",
        "for i in range(len(alpha)):\n",
        "  print(\"-------------------------------------------------------------------------------\")\n",
        "  print(\"-------------------------------------------------------------------------------\")\n",
        "  print('Performa LDA Model dengan nilai alpha: {}'.format(str(alpha[i])))\n",
        "  print(\"__________________________\")\n",
        "  print('Perpelexity denngan alpha {0}: {1}'.format(str(alpha[i]), lda_model_array_2[i].log_perplexity(bow_corpus)))\n",
        "  coherence_model_lda=CoherenceModel(model=lda_model_array_2[i],texts=processed_docs,dictionary=dictionary,coherence='c_v')\n",
        "  coherence_lda=coherence_model_lda.get_coherence()\n",
        "  print('Coherence Score dengan alpha {0}: {1} '.format(str(alpha[i]),coherence_lda))"
      ],
      "execution_count": null,
      "outputs": [
        {
          "output_type": "stream",
          "text": [
            "-------------------------------------------------------------------------------\n",
            "-------------------------------------------------------------------------------\n",
            "Performa LDA Model dengan nilai alpha: 0.01\n",
            "__________________________\n",
            "Perpelexity denngan alpha 0.01: -7.491861861042008\n",
            "Coherence Score dengan alpha 0.01: 0.5087731109428992 \n",
            "-------------------------------------------------------------------------------\n",
            "-------------------------------------------------------------------------------\n",
            "Performa LDA Model dengan nilai alpha: 0.31\n",
            "__________________________\n",
            "Perpelexity denngan alpha 0.31: -7.527092076292739\n",
            "Coherence Score dengan alpha 0.31: 0.5365736266430465 \n",
            "-------------------------------------------------------------------------------\n",
            "-------------------------------------------------------------------------------\n",
            "Performa LDA Model dengan nilai alpha: 0.61\n",
            "__________________________\n",
            "Perpelexity denngan alpha 0.61: -7.814474159645957\n",
            "Coherence Score dengan alpha 0.61: 0.3769438381105667 \n",
            "-------------------------------------------------------------------------------\n",
            "-------------------------------------------------------------------------------\n",
            "Performa LDA Model dengan nilai alpha: 0.9099999999999999\n",
            "__________________________\n",
            "Perpelexity denngan alpha 0.9099999999999999: -7.825616877905558\n",
            "Coherence Score dengan alpha 0.9099999999999999: 0.3864731424062995 \n",
            "-------------------------------------------------------------------------------\n",
            "-------------------------------------------------------------------------------\n",
            "Performa LDA Model dengan nilai alpha: symmetric\n",
            "__________________________\n",
            "Perpelexity denngan alpha symmetric: -7.478325780105119\n",
            "Coherence Score dengan alpha symmetric: 0.5126477602589191 \n",
            "-------------------------------------------------------------------------------\n",
            "-------------------------------------------------------------------------------\n",
            "Performa LDA Model dengan nilai alpha: asymmetric\n",
            "__________________________\n",
            "Perpelexity denngan alpha asymmetric: -7.608658375491506\n",
            "Coherence Score dengan alpha asymmetric: 0.37788546044464083 \n"
          ],
          "name": "stdout"
        }
      ]
    },
    {
      "cell_type": "code",
      "metadata": {
        "id": "FUdJgtv8vT8k"
      },
      "source": [
        "#terakhir dilakukan hyperparameter tuning dari model lda untuk beta yang sudah didefinisikan sebelumnya\n",
        "lda_eta_1=gensim.models.LdaMulticore(corpus_tfidf,num_topics=8,id2word=dictionary,passes=2,workers=10,eta=beta[0])\n",
        "lda_eta_2=gensim.models.LdaMulticore(corpus_tfidf,num_topics=8,id2word=dictionary,passes=2,workers=10,eta=beta[1])\n",
        "lda_eta_3=gensim.models.LdaMulticore(corpus_tfidf,num_topics=8,id2word=dictionary,passes=2,workers=10,eta=beta[2])\n",
        "lda_eta_4=gensim.models.LdaMulticore(corpus_tfidf,num_topics=8,id2word=dictionary,passes=2,workers=10,eta=beta[3])\n",
        "lda_eta_5=gensim.models.LdaMulticore(corpus_tfidf,num_topics=8,id2word=dictionary,passes=2,workers=10,eta=beta[4])"
      ],
      "execution_count": null,
      "outputs": []
    },
    {
      "cell_type": "code",
      "metadata": {
        "id": "Ssw503bw4Auf",
        "outputId": "f1f3d49b-fc9f-43a1-ed52-45b06187e8a2",
        "colab": {
          "base_uri": "https://localhost:8080/",
          "height": 1000
        }
      },
      "source": [
        "#print topik yang dihasilkan\n",
        "lda_model_array_3=[lda_eta_1,lda_eta_2,lda_eta_3,lda_eta_4,lda_eta_5]\n",
        "for i in range(len(beta)):\n",
        "  print(\"-------------------------------------------------------------------------------\")\n",
        "  print(\"-------------------------------------------------------------------------------\")\n",
        "  print('Hasil LDA Model dengan nilai beta {}'.format(str(beta[i])))\n",
        "  print(\"__________________________\")\n",
        "  for idx,topic in lda_model_array_3[i].print_topics(-1):\n",
        "    print('Topic{} - Word: {}'.format(idx,topic))"
      ],
      "execution_count": null,
      "outputs": [
        {
          "output_type": "stream",
          "text": [
            "-------------------------------------------------------------------------------\n",
            "-------------------------------------------------------------------------------\n",
            "Hasil LDA Model dengan nilai beta 0.01\n",
            "__________________________\n",
            "Topic0 - Word: 0.007*\"cells\" + 0.005*\"unknown\" + 0.005*\"cell\" + 0.005*\"virus\" + 0.004*\"protein\" + 0.004*\"viral\" + 0.004*\"infection\" + 0.004*\"host\" + 0.004*\"proteins\" + 0.003*\"expression\"\n",
            "Topic1 - Word: 0.005*\"virus\" + 0.004*\"mers\" + 0.004*\"vaccine\" + 0.004*\"cells\" + 0.004*\"protein\" + 0.004*\"antibodies\" + 0.003*\"cell\" + 0.003*\"sars\" + 0.003*\"antibody\" + 0.003*\"viral\"\n",
            "Topic2 - Word: 0.007*\"patients\" + 0.006*\"sars\" + 0.005*\"covid\" + 0.004*\"respiratory\" + 0.003*\"infection\" + 0.003*\"clinical\" + 0.003*\"cases\" + 0.003*\"disease\" + 0.003*\"severe\" + 0.003*\"coronavirus\"\n",
            "Topic3 - Word: 0.004*\"influenza\" + 0.004*\"sars\" + 0.003*\"respiratory\" + 0.003*\"virus\" + 0.003*\"patients\" + 0.003*\"viruses\" + 0.003*\"viral\" + 0.003*\"compounds\" + 0.002*\"health\" + 0.002*\"activity\"\n",
            "Topic4 - Word: 0.005*\"health\" + 0.003*\"covid\" + 0.003*\"disease\" + 0.003*\"diseases\" + 0.003*\"public\" + 0.003*\"infectious\" + 0.003*\"cases\" + 0.003*\"data\" + 0.002*\"epidemic\" + 0.002*\"influenza\"\n",
            "Topic5 - Word: 0.007*\"respiratory\" + 0.006*\"children\" + 0.006*\"patients\" + 0.005*\"influenza\" + 0.004*\"infections\" + 0.004*\"virus\" + 0.004*\"viruses\" + 0.004*\"samples\" + 0.004*\"calves\" + 0.004*\"viral\"\n",
            "Topic6 - Word: 0.005*\"protein\" + 0.004*\"sequence\" + 0.004*\"virus\" + 0.003*\"sars\" + 0.003*\"proteins\" + 0.003*\"genome\" + 0.003*\"viral\" + 0.003*\"gene\" + 0.003*\"sequences\" + 0.003*\"activity\"\n",
            "Topic7 - Word: 0.005*\"viruses\" + 0.004*\"virus\" + 0.004*\"viral\" + 0.003*\"influenza\" + 0.003*\"cells\" + 0.003*\"human\" + 0.003*\"cell\" + 0.003*\"infection\" + 0.002*\"bats\" + 0.002*\"respiratory\"\n",
            "-------------------------------------------------------------------------------\n",
            "-------------------------------------------------------------------------------\n",
            "Hasil LDA Model dengan nilai beta 0.31\n",
            "__________________________\n",
            "Topic0 - Word: 0.006*\"health\" + 0.003*\"public\" + 0.003*\"calves\" + 0.003*\"care\" + 0.003*\"diseases\" + 0.002*\"patients\" + 0.002*\"disease\" + 0.002*\"mers\" + 0.002*\"infection\" + 0.002*\"risk\"\n",
            "Topic1 - Word: 0.006*\"unknown\" + 0.006*\"patients\" + 0.005*\"respiratory\" + 0.003*\"children\" + 0.003*\"clinical\" + 0.003*\"influenza\" + 0.003*\"infections\" + 0.003*\"viruses\" + 0.003*\"infection\" + 0.003*\"viral\"\n",
            "Topic2 - Word: 0.006*\"covid\" + 0.005*\"patients\" + 0.004*\"cases\" + 0.004*\"sars\" + 0.003*\"epidemic\" + 0.003*\"disease\" + 0.003*\"health\" + 0.003*\"outbreak\" + 0.003*\"transmission\" + 0.003*\"china\"\n",
            "Topic3 - Word: 0.006*\"sars\" + 0.004*\"virus\" + 0.004*\"viruses\" + 0.003*\"respiratory\" + 0.003*\"mers\" + 0.003*\"species\" + 0.003*\"coronavirus\" + 0.003*\"strains\" + 0.003*\"samples\" + 0.003*\"human\"\n",
            "Topic4 - Word: 0.004*\"virus\" + 0.004*\"mice\" + 0.004*\"vaccine\" + 0.004*\"cells\" + 0.003*\"immune\" + 0.003*\"infection\" + 0.003*\"vaccines\" + 0.003*\"cell\" + 0.003*\"viral\" + 0.002*\"strain\"\n",
            "Topic5 - Word: 0.006*\"protein\" + 0.005*\"cells\" + 0.005*\"proteins\" + 0.005*\"virus\" + 0.004*\"viral\" + 0.004*\"cell\" + 0.004*\"replication\" + 0.003*\"sars\" + 0.003*\"activity\" + 0.003*\"viruses\"\n",
            "Topic6 - Word: 0.006*\"cells\" + 0.004*\"infection\" + 0.004*\"mice\" + 0.004*\"immune\" + 0.003*\"expression\" + 0.003*\"cell\" + 0.003*\"lung\" + 0.003*\"virus\" + 0.003*\"viral\" + 0.003*\"respiratory\"\n",
            "Topic7 - Word: 0.004*\"virus\" + 0.003*\"influenza\" + 0.003*\"viruses\" + 0.003*\"viral\" + 0.003*\"cells\" + 0.003*\"cell\" + 0.003*\"infection\" + 0.002*\"host\" + 0.002*\"human\" + 0.002*\"infectious\"\n",
            "-------------------------------------------------------------------------------\n",
            "-------------------------------------------------------------------------------\n",
            "Hasil LDA Model dengan nilai beta 0.61\n",
            "__________________________\n",
            "Topic0 - Word: 0.004*\"calves\" + 0.003*\"cats\" + 0.003*\"infection\" + 0.003*\"disease\" + 0.003*\"patients\" + 0.003*\"respiratory\" + 0.003*\"virus\" + 0.003*\"clinical\" + 0.002*\"viral\" + 0.002*\"feline\"\n",
            "Topic1 - Word: 0.005*\"sars\" + 0.004*\"cells\" + 0.003*\"virus\" + 0.003*\"viral\" + 0.003*\"antiviral\" + 0.003*\"activity\" + 0.003*\"cell\" + 0.003*\"viruses\" + 0.003*\"pedv\" + 0.003*\"protein\"\n",
            "Topic2 - Word: 0.005*\"health\" + 0.004*\"covid\" + 0.004*\"influenza\" + 0.003*\"cases\" + 0.003*\"sars\" + 0.003*\"public\" + 0.003*\"disease\" + 0.003*\"epidemic\" + 0.003*\"outbreak\" + 0.003*\"china\"\n",
            "Topic3 - Word: 0.010*\"unknown\" + 0.004*\"virus\" + 0.003*\"cells\" + 0.003*\"viruses\" + 0.002*\"viral\" + 0.002*\"cell\" + 0.002*\"influenza\" + 0.002*\"human\" + 0.002*\"infection\" + 0.002*\"dogs\"\n",
            "Topic4 - Word: 0.004*\"virus\" + 0.003*\"viruses\" + 0.003*\"infection\" + 0.003*\"viral\" + 0.003*\"respiratory\" + 0.003*\"influenza\" + 0.003*\"cells\" + 0.003*\"mice\" + 0.002*\"sars\" + 0.002*\"human\"\n",
            "Topic5 - Word: 0.004*\"protein\" + 0.004*\"mers\" + 0.003*\"virus\" + 0.003*\"antibodies\" + 0.003*\"sars\" + 0.003*\"vaccine\" + 0.003*\"detection\" + 0.002*\"assay\" + 0.002*\"viral\" + 0.002*\"sequence\"\n",
            "Topic6 - Word: 0.006*\"cells\" + 0.005*\"protein\" + 0.004*\"viral\" + 0.004*\"virus\" + 0.004*\"cell\" + 0.004*\"proteins\" + 0.003*\"replication\" + 0.003*\"expression\" + 0.003*\"infection\" + 0.003*\"host\"\n",
            "Topic7 - Word: 0.008*\"patients\" + 0.005*\"respiratory\" + 0.004*\"covid\" + 0.003*\"children\" + 0.003*\"sars\" + 0.003*\"clinical\" + 0.003*\"virus\" + 0.003*\"infection\" + 0.003*\"influenza\" + 0.003*\"pneumonia\"\n",
            "-------------------------------------------------------------------------------\n",
            "-------------------------------------------------------------------------------\n",
            "Hasil LDA Model dengan nilai beta 0.9099999999999999\n",
            "__________________________\n",
            "Topic0 - Word: 0.009*\"patients\" + 0.004*\"respiratory\" + 0.003*\"influenza\" + 0.003*\"children\" + 0.003*\"covid\" + 0.003*\"clinical\" + 0.003*\"pneumonia\" + 0.003*\"infection\" + 0.003*\"cases\" + 0.003*\"infections\"\n",
            "Topic1 - Word: 0.007*\"cells\" + 0.005*\"mice\" + 0.004*\"infection\" + 0.004*\"cell\" + 0.004*\"virus\" + 0.003*\"expression\" + 0.003*\"viral\" + 0.003*\"immune\" + 0.003*\"induced\" + 0.003*\"protein\"\n",
            "Topic2 - Word: 0.003*\"vaccine\" + 0.003*\"virus\" + 0.003*\"sars\" + 0.003*\"vaccines\" + 0.002*\"influenza\" + 0.002*\"viruses\" + 0.002*\"viral\" + 0.002*\"protein\" + 0.002*\"health\" + 0.002*\"infection\"\n",
            "Topic3 - Word: 0.004*\"viruses\" + 0.004*\"influenza\" + 0.004*\"virus\" + 0.004*\"respiratory\" + 0.003*\"samples\" + 0.003*\"detection\" + 0.003*\"viral\" + 0.003*\"human\" + 0.003*\"assay\" + 0.003*\"infections\"\n",
            "Topic4 - Word: 0.005*\"health\" + 0.004*\"covid\" + 0.004*\"sars\" + 0.003*\"disease\" + 0.003*\"public\" + 0.003*\"cases\" + 0.003*\"outbreak\" + 0.003*\"mers\" + 0.003*\"transmission\" + 0.003*\"china\"\n",
            "Topic5 - Word: 0.004*\"protein\" + 0.004*\"virus\" + 0.004*\"activity\" + 0.004*\"cells\" + 0.003*\"fusion\" + 0.003*\"cell\" + 0.003*\"binding\" + 0.003*\"membrane\" + 0.003*\"pedv\" + 0.003*\"proteins\"\n",
            "Topic6 - Word: 0.007*\"unknown\" + 0.004*\"virus\" + 0.003*\"immune\" + 0.003*\"cells\" + 0.003*\"viral\" + 0.003*\"infection\" + 0.003*\"cell\" + 0.003*\"vaccine\" + 0.003*\"antibodies\" + 0.003*\"protein\"\n",
            "Topic7 - Word: 0.004*\"protein\" + 0.004*\"virus\" + 0.004*\"sars\" + 0.003*\"gene\" + 0.003*\"viral\" + 0.003*\"proteins\" + 0.003*\"sequence\" + 0.003*\"genome\" + 0.003*\"cells\" + 0.003*\"viruses\"\n",
            "-------------------------------------------------------------------------------\n",
            "-------------------------------------------------------------------------------\n",
            "Hasil LDA Model dengan nilai beta symmetric\n",
            "__________________________\n",
            "Topic0 - Word: 0.006*\"protein\" + 0.005*\"cells\" + 0.004*\"virus\" + 0.004*\"proteins\" + 0.004*\"viral\" + 0.004*\"unknown\" + 0.004*\"cell\" + 0.004*\"replication\" + 0.003*\"expression\" + 0.003*\"host\"\n",
            "Topic1 - Word: 0.004*\"sars\" + 0.003*\"protein\" + 0.003*\"cells\" + 0.003*\"virus\" + 0.003*\"binding\" + 0.003*\"antibodies\" + 0.003*\"human\" + 0.003*\"cell\" + 0.003*\"viral\" + 0.003*\"mers\"\n",
            "Topic2 - Word: 0.004*\"virus\" + 0.004*\"pedv\" + 0.004*\"viruses\" + 0.003*\"vaccine\" + 0.003*\"influenza\" + 0.003*\"strains\" + 0.003*\"viral\" + 0.003*\"infection\" + 0.003*\"respiratory\" + 0.003*\"pigs\"\n",
            "Topic3 - Word: 0.006*\"cells\" + 0.005*\"virus\" + 0.004*\"mice\" + 0.004*\"infection\" + 0.003*\"cell\" + 0.003*\"cats\" + 0.003*\"viral\" + 0.003*\"infected\" + 0.003*\"disease\" + 0.003*\"immune\"\n",
            "Topic4 - Word: 0.005*\"health\" + 0.004*\"sars\" + 0.004*\"covid\" + 0.003*\"disease\" + 0.003*\"cases\" + 0.003*\"public\" + 0.003*\"mers\" + 0.003*\"outbreak\" + 0.003*\"epidemic\" + 0.003*\"diseases\"\n",
            "Topic5 - Word: 0.003*\"influenza\" + 0.003*\"virus\" + 0.003*\"viral\" + 0.003*\"cells\" + 0.003*\"viruses\" + 0.003*\"detection\" + 0.003*\"respiratory\" + 0.002*\"infection\" + 0.002*\"cell\" + 0.002*\"disease\"\n",
            "Topic6 - Word: 0.004*\"calves\" + 0.003*\"virus\" + 0.003*\"compounds\" + 0.003*\"respiratory\" + 0.003*\"viral\" + 0.003*\"infection\" + 0.003*\"patients\" + 0.003*\"health\" + 0.003*\"samples\" + 0.003*\"sars\"\n",
            "Topic7 - Word: 0.010*\"patients\" + 0.006*\"respiratory\" + 0.005*\"influenza\" + 0.004*\"children\" + 0.004*\"covid\" + 0.003*\"pneumonia\" + 0.003*\"infections\" + 0.003*\"cases\" + 0.003*\"infection\" + 0.003*\"clinical\"\n"
          ],
          "name": "stdout"
        }
      ]
    },
    {
      "cell_type": "code",
      "metadata": {
        "id": "Rmhm8sv74xcN",
        "outputId": "ab74e3ff-1850-41cd-9507-e3c610f82cad",
        "colab": {
          "base_uri": "https://localhost:8080/",
          "height": 527
        }
      },
      "source": [
        "#print nilai koherens dan perpleksitas yang dimiliki lda model dengan beragam hyperparameter beta\n",
        "for i in range(len(beta)):\n",
        "  print(\"-------------------------------------------------------------------------------\")\n",
        "  print(\"-------------------------------------------------------------------------------\")\n",
        "  print('Performa LDA Model dengan nilai beta: {}'.format(str(beta[i])))\n",
        "  print(\"__________________________\")\n",
        "  print('Perpelexity dengan beta {0}: {1}'.format(str(beta[i]), lda_model_array_3[i].log_perplexity(bow_corpus)))\n",
        "  coherence_model_lda=CoherenceModel(model=lda_model_array_3[i],texts=processed_docs,dictionary=dictionary,coherence='c_v')\n",
        "  coherence_lda=coherence_model_lda.get_coherence()\n",
        "  print('Coherence Score dengan beta {0}: {1} '.format(str(beta[i]),coherence_lda))"
      ],
      "execution_count": null,
      "outputs": [
        {
          "output_type": "stream",
          "text": [
            "-------------------------------------------------------------------------------\n",
            "-------------------------------------------------------------------------------\n",
            "Performa LDA Model dengan nilai beta: 0.01\n",
            "__________________________\n",
            "Perpelexity dengan beta 0.01: -7.519747862984498\n",
            "Coherence Score dengan beta 0.01: 0.5342067453917485 \n",
            "-------------------------------------------------------------------------------\n",
            "-------------------------------------------------------------------------------\n",
            "Performa LDA Model dengan nilai beta: 0.31\n",
            "__________________________\n",
            "Perpelexity dengan beta 0.31: -7.503286625510146\n",
            "Coherence Score dengan beta 0.31: 0.5213652951602838 \n",
            "-------------------------------------------------------------------------------\n",
            "-------------------------------------------------------------------------------\n",
            "Performa LDA Model dengan nilai beta: 0.61\n",
            "__________________________\n",
            "Perpelexity dengan beta 0.61: -7.515945102923734\n",
            "Coherence Score dengan beta 0.61: 0.49298416773063375 \n",
            "-------------------------------------------------------------------------------\n",
            "-------------------------------------------------------------------------------\n",
            "Performa LDA Model dengan nilai beta: 0.9099999999999999\n",
            "__________________________\n",
            "Perpelexity dengan beta 0.9099999999999999: -7.515958100047058\n",
            "Coherence Score dengan beta 0.9099999999999999: 0.5466902929084628 \n",
            "-------------------------------------------------------------------------------\n",
            "-------------------------------------------------------------------------------\n",
            "Performa LDA Model dengan nilai beta: symmetric\n",
            "__________________________\n",
            "Perpelexity dengan beta symmetric: -7.500712223407957\n",
            "Coherence Score dengan beta symmetric: 0.48740094017800334 \n"
          ],
          "name": "stdout"
        }
      ]
    },
    {
      "cell_type": "markdown",
      "metadata": {
        "id": "CMYbnKhLQPKQ"
      },
      "source": [
        "Setelah tuning untuk ketiga hyperparameter telah selesai dilakukan, selanjutnya dilakukan iterasi dengan kandidat yang sudah diperkecil sesuai dengan hasil yang diperoleh pada bagian-bagian sebelumnya"
      ]
    },
    {
      "cell_type": "code",
      "metadata": {
        "id": "1NOjpG-uO_Dt"
      },
      "source": [
        "#banyak topik 4-8\n",
        "#nilai alpha 0.31,symmetric\n",
        "#nilai beta 0.31,0.91\n",
        "\n",
        "topics_range_new=[4,5,6,7,8]\n",
        "alpha_new=[0.31,\"symmetric\"]\n",
        "beta_new=[0.31,0.91]\n",
        "\n",
        "#untuk menyimpan nilai\n",
        "model_results = {'Topics': [],\n",
        "                 'Alpha': [],\n",
        "                 'Beta': [],\n",
        "                 'Coherence': []\n",
        "                }\n",
        "\n",
        "# fungsi yang dapat melakukan training lda kemudian memberikan return berupa nilai koherensnya\n",
        "def compute_coherence_values(corpus, dictionary, k, a, b):\n",
        "    lda_model = gensim.models.LdaMulticore(corpus=corpus,\n",
        "                                           id2word=dictionary,\n",
        "                                           num_topics=k, \n",
        "                                           random_state=100,\n",
        "                                           chunksize=100,\n",
        "                                           passes=10,\n",
        "                                           alpha=a,\n",
        "                                           eta=b)\n",
        "    \n",
        "    coherence_model_lda = CoherenceModel(model=lda_model, texts=processed_docs, dictionary=dictionary, coherence='c_v')\n",
        "    \n",
        "    return coherence_model_lda.get_coherence()"
      ],
      "execution_count": null,
      "outputs": []
    },
    {
      "cell_type": "code",
      "metadata": {
        "id": "fmOBrduP5br3",
        "outputId": "2f7ccaaa-7d34-46d9-bfda-caee6879f1aa",
        "colab": {
          "base_uri": "https://localhost:8080/",
          "height": 1000
        }
      },
      "source": [
        "#pengiterasian kombinasi kandidat hyperparameter yang sudah ditentukan menggunakkan for looping\n",
        "#Iterasi ini memakan waktu lama (peneliti running sekitar 3 jam)\n",
        "if 1 == 1:\n",
        "    pbar = tqdm.tqdm()\n",
        "    # iterate through number of topics\n",
        "    for k in topics_range_new:\n",
        "        # iterate through alpha values\n",
        "        for a in alpha_new:\n",
        "            # iterare through beta values\n",
        "             for b in beta_new:\n",
        "                 # get the coherence score for the given parameters\n",
        "                cv = compute_coherence_values(corpus_tfidf, dictionary=dictionary, \n",
        "                                                  k=k, a=a, b=b)\n",
        "                # Save the model results\n",
        "                model_results['Topics'].append(k)\n",
        "                model_results['Alpha'].append(a)\n",
        "                model_results['Beta'].append(b)\n",
        "                model_results['Coherence'].append(cv)\n",
        "                    \n",
        "                pbar.update(1)\n",
        "    pd.DataFrame(model_results).to_csv('lda_tuning_results.csv', index=False)\n",
        "    pbar.close()"
      ],
      "execution_count": null,
      "outputs": [
        {
          "output_type": "stream",
          "text": [
            "\n",
            "\n",
            "\n",
            "0it [00:00, ?it/s]\u001b[A\u001b[A\u001b[A\n",
            "\n",
            "\n",
            "1it [08:01, 481.44s/it]\u001b[A\u001b[A\u001b[A\n",
            "\n",
            "\n",
            "2it [16:21, 486.94s/it]\u001b[A\u001b[A\u001b[A\n",
            "\n",
            "\n",
            "3it [24:32, 488.37s/it]\u001b[A\u001b[A\u001b[A\n",
            "\n",
            "\n",
            "4it [33:02, 494.67s/it]\u001b[A\u001b[A\u001b[A\n",
            "\n",
            "\n",
            "5it [41:18, 495.12s/it]\u001b[A\u001b[A\u001b[A\n",
            "\n",
            "\n",
            "6it [49:54, 501.39s/it]\u001b[A\u001b[A\u001b[A\n",
            "\n",
            "\n",
            "7it [58:27, 504.93s/it]\u001b[A\u001b[A\u001b[A\n",
            "\n",
            "\n",
            "8it [1:07:08, 509.67s/it]\u001b[A\u001b[A\u001b[A\n",
            "\n",
            "\n",
            "9it [1:15:45, 512.05s/it]\u001b[A\u001b[A\u001b[A\n",
            "\n",
            "\n",
            "10it [1:24:59, 524.63s/it]\u001b[A\u001b[A\u001b[A\n",
            "\n",
            "\n",
            "11it [1:34:02, 530.04s/it]\u001b[A\u001b[A\u001b[A\n",
            "\n",
            "\n",
            "12it [1:43:09, 535.08s/it]\u001b[A\u001b[A\u001b[A\n",
            "\n",
            "\n",
            "13it [1:52:14, 538.19s/it]\u001b[A\u001b[A\u001b[A\n",
            "\n",
            "\n",
            "14it [2:01:59, 552.07s/it]\u001b[A\u001b[A\u001b[A\n",
            "\n",
            "\n",
            "15it [2:11:13, 552.69s/it]\u001b[A\u001b[A\u001b[A\n",
            "\n",
            "\n",
            "16it [2:20:33, 555.00s/it]\u001b[A\u001b[A\u001b[A\n",
            "\n",
            "\n",
            "17it [2:29:11, 543.88s/it]\u001b[A\u001b[A\u001b[A\n",
            "\n",
            "\n",
            "18it [2:38:11, 542.69s/it]\u001b[A\u001b[A\u001b[A\n",
            "\n",
            "\n",
            "19it [2:46:54, 536.83s/it]\u001b[A\u001b[A\u001b[A\n",
            "\n",
            "\n",
            "20it [2:55:49, 527.46s/it]\n"
          ],
          "name": "stderr"
        }
      ]
    },
    {
      "cell_type": "code",
      "metadata": {
        "id": "shakZHdPGUxx",
        "outputId": "3f04b5e0-2a0a-43a7-9261-df69c994b154",
        "colab": {
          "base_uri": "https://localhost:8080/",
          "height": 1000
        }
      },
      "source": [
        "model_results #mengeluarkan hasil berupa kombinasi dan nilai koherens yang diperoleh"
      ],
      "execution_count": null,
      "outputs": [
        {
          "output_type": "execute_result",
          "data": {
            "text/plain": [
              "{'Alpha': [0.31,\n",
              "  0.31,\n",
              "  'symmetric',\n",
              "  'symmetric',\n",
              "  0.31,\n",
              "  0.31,\n",
              "  'symmetric',\n",
              "  'symmetric',\n",
              "  0.31,\n",
              "  0.31,\n",
              "  'symmetric',\n",
              "  'symmetric',\n",
              "  0.31,\n",
              "  0.31,\n",
              "  'symmetric',\n",
              "  'symmetric',\n",
              "  0.31,\n",
              "  0.31,\n",
              "  'symmetric',\n",
              "  'symmetric'],\n",
              " 'Beta': [0.31,\n",
              "  0.91,\n",
              "  0.31,\n",
              "  0.91,\n",
              "  0.31,\n",
              "  0.91,\n",
              "  0.31,\n",
              "  0.91,\n",
              "  0.31,\n",
              "  0.91,\n",
              "  0.31,\n",
              "  0.91,\n",
              "  0.31,\n",
              "  0.91,\n",
              "  0.31,\n",
              "  0.91,\n",
              "  0.31,\n",
              "  0.91,\n",
              "  0.31,\n",
              "  0.91],\n",
              " 'Coherence': [0.5710771182339991,\n",
              "  0.5648370928584929,\n",
              "  0.5634203760903125,\n",
              "  0.5604986639609915,\n",
              "  0.5928831274648146,\n",
              "  0.5845853696009883,\n",
              "  0.5773381440186631,\n",
              "  0.5355393557455885,\n",
              "  0.5874281790894099,\n",
              "  0.5864279509384566,\n",
              "  0.5723629957612412,\n",
              "  0.5583094039184263,\n",
              "  0.6119747959583924,\n",
              "  0.6009969890751607,\n",
              "  0.5633661289302572,\n",
              "  0.5892150004026504,\n",
              "  0.6143501056518786,\n",
              "  0.627713719808238,\n",
              "  0.5971921637071687,\n",
              "  0.5801979321984009],\n",
              " 'Topics': [4, 4, 4, 4, 5, 5, 5, 5, 6, 6, 6, 6, 7, 7, 7, 7, 8, 8, 8, 8]}"
            ]
          },
          "metadata": {
            "tags": []
          },
          "execution_count": 24
        }
      ]
    },
    {
      "cell_type": "code",
      "metadata": {
        "id": "6fcjoLGNvfzU",
        "outputId": "f9d8b940-fc1a-4fa3-9eed-8529a26a5d74",
        "colab": {
          "base_uri": "https://localhost:8080/",
          "height": 34
        }
      },
      "source": [
        "max(model_results['Coherence']) #nilai koherens maksimal yang diperoleh"
      ],
      "execution_count": null,
      "outputs": [
        {
          "output_type": "execute_result",
          "data": {
            "text/plain": [
              "0.627713719808238"
            ]
          },
          "metadata": {
            "tags": []
          },
          "execution_count": 29
        }
      ]
    },
    {
      "cell_type": "markdown",
      "metadata": {
        "id": "JQlFI-M5MHX3"
      },
      "source": [
        "#Final Model+Visualization"
      ]
    },
    {
      "cell_type": "markdown",
      "metadata": {
        "id": "4nhXh0UxRJVA"
      },
      "source": [
        "Sudah diperoleh kombinasi yang menghasilkan nilai koherens maksimal, sekarang akan diambil kombinasi tersebut kemudian ditrain model lda dan dilakukan visualisasi"
      ]
    },
    {
      "cell_type": "code",
      "metadata": {
        "id": "NvvsSUtRw9hS"
      },
      "source": [
        "#training model teroptimisasi\n",
        "lda_model_tuned=gensim.models.LdaMulticore(corpus=corpus_tfidf,id2word=dictionary,num_topics=8, random_state=100, chunksize=100, passes=10,alpha=0.31,eta=0.91,workers=10)"
      ],
      "execution_count": null,
      "outputs": []
    },
    {
      "cell_type": "code",
      "metadata": {
        "id": "woWTLc5qzHyM",
        "outputId": "8211467d-7b77-4a5a-e3b4-cec02135d027",
        "colab": {
          "base_uri": "https://localhost:8080/",
          "height": 190
        }
      },
      "source": [
        "#print topik yang dihasilkan\n",
        "print(\"model tuned\")\n",
        "for idx,topic in lda_model_tuned.print_topics(-1):\n",
        "  print('Topic{} - Word: {}'.format(idx,topic))"
      ],
      "execution_count": null,
      "outputs": [
        {
          "output_type": "stream",
          "text": [
            "model tuned\n",
            "Topic0 - Word: 0.007*\"samples\" + 0.007*\"assay\" + 0.007*\"calves\" + 0.007*\"strains\" + 0.007*\"cats\" + 0.006*\"pedv\" + 0.006*\"virus\" + 0.005*\"feline\" + 0.005*\"detection\" + 0.005*\"diarrhea\"\n",
            "Topic1 - Word: 0.012*\"protein\" + 0.008*\"sars\" + 0.008*\"proteins\" + 0.006*\"binding\" + 0.005*\"sequence\" + 0.005*\"fusion\" + 0.005*\"virus\" + 0.004*\"domain\" + 0.004*\"membrane\" + 0.004*\"structure\"\n",
            "Topic2 - Word: 0.006*\"water\" + 0.005*\"temperature\" + 0.004*\"concentration\" + 0.004*\"dans\" + 0.004*\"airborne\" + 0.003*\"sont\" + 0.003*\"method\" + 0.003*\"abstract\" + 0.003*\"contamination\" + 0.003*\"ventilation\"\n",
            "Topic3 - Word: 0.016*\"patients\" + 0.010*\"respiratory\" + 0.008*\"children\" + 0.006*\"pneumonia\" + 0.006*\"clinical\" + 0.006*\"infections\" + 0.005*\"influenza\" + 0.005*\"acute\" + 0.005*\"cases\" + 0.004*\"symptoms\"\n",
            "Topic4 - Word: 0.013*\"unknown\" + 0.009*\"antiviral\" + 0.008*\"activity\" + 0.007*\"cells\" + 0.007*\"replication\" + 0.006*\"cell\" + 0.006*\"viral\" + 0.005*\"host\" + 0.005*\"expression\" + 0.005*\"virus\"\n",
            "Topic5 - Word: 0.008*\"covid\" + 0.008*\"health\" + 0.005*\"sars\" + 0.005*\"outbreak\" + 0.005*\"epidemic\" + 0.005*\"public\" + 0.005*\"china\" + 0.004*\"cases\" + 0.004*\"pandemic\" + 0.004*\"model\"\n",
            "Topic6 - Word: 0.010*\"cells\" + 0.010*\"mice\" + 0.008*\"immune\" + 0.006*\"cell\" + 0.006*\"infection\" + 0.005*\"responses\" + 0.005*\"vaccine\" + 0.005*\"response\" + 0.004*\"induced\" + 0.004*\"virus\"\n",
            "Topic7 - Word: 0.006*\"diseases\" + 0.005*\"viruses\" + 0.005*\"review\" + 0.004*\"research\" + 0.004*\"chapter\" + 0.004*\"vaccines\" + 0.004*\"development\" + 0.004*\"pathogens\" + 0.004*\"host\" + 0.003*\"human\"\n"
          ],
          "name": "stdout"
        }
      ]
    },
    {
      "cell_type": "code",
      "metadata": {
        "id": "uNXyhxRDyYxa",
        "outputId": "df0e61ca-ceac-4d25-8077-dae49a2d39bf",
        "colab": {
          "base_uri": "https://localhost:8080/",
          "height": 51
        }
      },
      "source": [
        "#print nilai koherens dan perpleksitas\n",
        "print('Perpelexity: ', lda_model_tuned.log_perplexity(bow_corpus))\n",
        "\n",
        "from gensim.models import CoherenceModel\n",
        "coherence_model_lda=CoherenceModel(model=lda_model_tuned,texts=processed_docs,dictionary=dictionary,coherence='c_v')\n",
        "coherence_lda=coherence_model_lda.get_coherence()\n",
        "print('Coherence Score: ',coherence_lda)"
      ],
      "execution_count": null,
      "outputs": [
        {
          "output_type": "stream",
          "text": [
            "Perpelexity:  -7.377439388666868\n",
            "Coherence Score:  0.5964958612848226\n"
          ],
          "name": "stdout"
        }
      ]
    },
    {
      "cell_type": "code",
      "metadata": {
        "id": "CtTYJSYo533m",
        "outputId": "4a6e73d3-aefa-4f01-f170-847ac34a3bed",
        "colab": {
          "base_uri": "https://localhost:8080/",
          "height": 881
        }
      },
      "source": [
        "# Visualisasi topik\n",
        "pyLDAvis.enable_notebook()\n",
        "LDAvis_prepared = pyLDAvis.gensim.prepare(lda_model_tuned, bow_corpus, dictionary)\n",
        "LDAvis_prepared"
      ],
      "execution_count": null,
      "outputs": [
        {
          "output_type": "execute_result",
          "data": {
            "text/html": [
              "\n",
              "<link rel=\"stylesheet\" type=\"text/css\" href=\"https://cdn.rawgit.com/bmabey/pyLDAvis/files/ldavis.v1.0.0.css\">\n",
              "\n",
              "\n",
              "<div id=\"ldavis_el1201403260377289766214482503\"></div>\n",
              "<script type=\"text/javascript\">\n",
              "\n",
              "var ldavis_el1201403260377289766214482503_data = {\"mdsDat\": {\"x\": [-0.16079672286317756, -0.1340711689483221, 0.16240779017109336, 0.0806803378007078, -0.043584048193573796, -0.010863554768258352, 0.143555905395578, -0.037328538594047375], \"y\": [-0.08071916034628948, 0.11634078753785289, -0.012379168838800263, 0.06505562848801011, -0.11858985243906507, 0.10535186071221865, -0.04116264135082827, -0.03389745376309855], \"topics\": [1, 2, 3, 4, 5, 6, 7, 8], \"cluster\": [1, 1, 1, 1, 1, 1, 1, 1], \"Freq\": [18.928232192993164, 17.29708480834961, 13.233092308044434, 12.765814781188965, 12.16923713684082, 11.648510932922363, 10.649678230285645, 3.3083553314208984]}, \"tinfo\": {\"Term\": [\"patients\", \"unknown\", \"cells\", \"mice\", \"protein\", \"covid\", \"children\", \"proteins\", \"health\", \"antiviral\", \"immune\", \"calves\", \"pneumonia\", \"cell\", \"samples\", \"replication\", \"cats\", \"activity\", \"respiratory\", \"binding\", \"pedv\", \"assay\", \"expression\", \"strains\", \"feline\", \"cases\", \"responses\", \"fusion\", \"sequence\", \"diarrhea\", \"social\", \"travel\", \"policy\", \"government\", \"distancing\", \"quarantine\", \"preparedness\", \"crisis\", \"nurses\", \"tourism\", \"international\", \"policies\", \"disaster\", \"cities\", \"lockdown\", \"political\", \"public\", \"education\", \"country\", \"hcws\", \"security\", \"services\", \"workers\", \"authorities\", \"reproduction\", \"students\", \"professionals\", \"national\", \"planning\", \"staff\", \"measures\", \"healthcare\", \"countries\", \"health\", \"pandemic\", \"epidemic\", \"outbreak\", \"people\", \"china\", \"ncov\", \"covid\", \"spread\", \"global\", \"transmission\", \"wuhan\", \"world\", \"epidemics\", \"model\", \"care\", \"emergency\", \"cases\", \"number\", \"deaths\", \"data\", \"population\", \"control\", \"sars\", \"risk\", \"disease\", \"mers\", \"coronavirus\", \"time\", \"infectious\", \"children\", \"asthma\", \"exacerbations\", \"hmpv\", \"pneumoniae\", \"chest\", \"para\", \"pediatric\", \"hbov\", \"admission\", \"rhinovirus\", \"copd\", \"infants\", \"bronchiolitis\", \"admitted\", \"nasopharyngeal\", \"pacientes\", \"hospitalized\", \"como\", \"cough\", \"sputum\", \"pneumonia\", \"wheezing\", \"cohort\", \"metapneumovirus\", \"throat\", \"streptococcus\", \"episodes\", \"transplant\", \"enrolled\", \"patients\", \"adults\", \"complications\", \"symptoms\", \"respiratory\", \"tract\", \"illness\", \"syncytial\", \"diagnosis\", \"clinical\", \"common\", \"hospital\", \"infections\", \"acute\", \"influenza\", \"patient\", \"cases\", \"years\", \"severe\", \"mortality\", \"treatment\", \"associated\", \"days\", \"covid\", \"group\", \"infection\", \"positive\", \"risk\", \"viruses\", \"viral\", \"sars\", \"residues\", \"frameshifting\", \"fusion\", \"domain\", \"codon\", \"terminal\", \"mutants\", \"glycoproteins\", \"clpro\", \"replicase\", \"orfs\", \"terminus\", \"leader\", \"glycosylation\", \"subgenomic\", \"golgi\", \"proteinase\", \"domains\", \"polyprotein\", \"crystal\", \"reading\", \"pseudoknot\", \"conformational\", \"frameshift\", \"mabs\", \"helix\", \"hydrophobic\", \"binding\", \"polypeptide\", \"frame\", \"cdna\", \"amino\", \"cleavage\", \"peptide\", \"virions\", \"structural\", \"strand\", \"mutations\", \"protein\", \"structure\", \"spike\", \"envelope\", \"membrane\", \"site\", \"proteins\", \"glycoprotein\", \"sequence\", \"epitopes\", \"conserved\", \"peptides\", \"sars\", \"region\", \"protease\", \"receptor\", \"genome\", \"surface\", \"recombinant\", \"virus\", \"coronavirus\", \"gene\", \"acid\", \"sequences\", \"viral\", \"cells\", \"cell\", \"replication\", \"mice\", \"brain\", \"mucosal\", \"demyelination\", \"rats\", \"balb\", \"demyelinating\", \"astrocytes\", \"lymphocytes\", \"humoral\", \"memory\", \"lymphoid\", \"sclerosis\", \"nervous\", \"adjuvant\", \"cxcl\", \"myelin\", \"monocytes\", \"immunized\", \"intranasal\", \"microglia\", \"glial\", \"autoimmune\", \"spleen\", \"mononuclear\", \"jhmv\", \"neurons\", \"lymph\", \"cytokine\", \"macrophages\", \"epithelial\", \"immunization\", \"responses\", \"immune\", \"angiotensin\", \"inflammatory\", \"cytokines\", \"immunity\", \"cells\", \"mouse\", \"liver\", \"antigen\", \"induced\", \"inflammation\", \"tissue\", \"vaccine\", \"lung\", \"response\", \"cell\", \"tissues\", \"antibody\", \"infection\", \"protection\", \"expression\", \"levels\", \"antibodies\", \"infected\", \"specific\", \"virus\", \"disease\", \"sars\", \"anti\", \"applications\", \"technologies\", \"chapter\", \"advances\", \"biology\", \"genomics\", \"overview\", \"developments\", \"zoonoses\", \"discovery\", \"microarrays\", \"biotechnology\", \"biomedical\", \"manufacturing\", \"approaches\", \"technology\", \"discusses\", \"examples\", \"fields\", \"immunology\", \"publisher\", \"platforms\", \"microbes\", \"diagnostics\", \"methodologies\", \"advantages\", \"throughput\", \"chemistry\", \"tools\", \"technological\", \"microbial\", \"plant\", \"review\", \"organisms\", \"food\", \"research\", \"vaccines\", \"drugs\", \"drug\", \"diseases\", \"emerging\", \"discussed\", \"biological\", \"techniques\", \"animal\", \"development\", \"pathogens\", \"systems\", \"recent\", \"agents\", \"understanding\", \"viruses\", \"host\", \"article\", \"molecular\", \"potential\", \"human\", \"infectious\", \"based\", \"species\", \"abstract\", \"viral\", \"vaccine\", \"disease\", \"calves\", \"cats\", \"pedv\", \"dogs\", \"feline\", \"bats\", \"canine\", \"piglets\", \"fcov\", \"lamp\", \"cattle\", \"calf\", \"farms\", \"diarrhea\", \"herds\", \"fecal\", \"isolates\", \"fipv\", \"enteric\", \"pdcov\", \"rotavirus\", \"pigs\", \"faecal\", \"primers\", \"cows\", \"bvdv\", \"colostrum\", \"cryptosporidium\", \"birds\", \"dairy\", \"bovine\", \"elisa\", \"phylogenetic\", \"swine\", \"diarrhoea\", \"porcine\", \"strains\", \"assay\", \"gastroenteritis\", \"samples\", \"strain\", \"detection\", \"tgev\", \"detected\", \"assays\", \"species\", \"positive\", \"virus\", \"viruses\", \"coronavirus\", \"abstract\", \"group\", \"autophagy\", \"rnai\", \"sirna\", \"ifitm\", \"denv\", \"unknown\", \"zikv\", \"phosphorylation\", \"kinase\", \"sirnas\", \"pathway\", \"signaling\", \"compound\", \"caspase\", \"ifns\", \"silencing\", \"cholesterol\", \"proteasome\", \"mapk\", \"knockdown\", \"stat\", \"ubiquitin\", \"mitochondrial\", \"mirnas\", \"inhibit\", \"endocytosis\", \"derivatives\", \"apoptosis\", \"nucleoside\", \"inhibits\", \"inhibition\", \"degradation\", \"inhibitory\", \"antiviral\", \"compounds\", \"pathways\", \"inhibited\", \"activity\", \"replication\", \"regulated\", \"inhibitors\", \"cellular\", \"inhibitor\", \"regulation\", \"activation\", \"innate\", \"expression\", \"host\", \"cells\", \"cell\", \"interferon\", \"viral\", \"anti\", \"proteins\", \"virus\", \"infection\", \"protein\", \"induced\", \"viruses\", \"mechanism\", \"mechanisms\", \"dans\", \"water\", \"sont\", \"airborne\", \"pour\", \"disinfection\", \"indoor\", \"aerosol\", \"chez\", \"respirators\", \"filter\", \"r\\u00e9sum\\u00e9\", \"humidity\", \"aerosols\", \"contamination\", \"\\u00eatre\", \"thermal\", \"contaminated\", \"liquid\", \"avec\", \"filtration\", \"inactivation\", \"carbon\", \"pollution\", \"cleaning\", \"droplets\", \"temperature\", \"pregnancy\", \"pollutants\", \"mask\", \"room\", \"surfaces\", \"concentration\", \"volume\", \"ventilation\", \"concentrations\", \"flow\", \"method\", \"particle\", \"plasma\", \"efficiency\", \"abstract\", \"solution\", \"particles\", \"conditions\", \"environmental\"], \"Freq\": [14237.0, 6956.0, 11586.0, 5641.0, 10238.0, 10415.0, 6082.0, 6981.0, 8075.0, 5674.0, 6368.0, 3708.0, 5375.0, 9033.0, 5773.0, 5958.0, 3510.0, 6113.0, 11749.0, 4361.0, 3194.0, 4962.0, 5781.0, 4603.0, 2884.0, 7799.0, 4342.0, 3183.0, 4481.0, 2837.0, 2555.39794921875, 1814.4193115234375, 1400.53857421875, 1161.6353759765625, 975.2381591796875, 1410.5340576171875, 1075.7879638671875, 1109.694580078125, 987.8087158203125, 921.4630126953125, 2018.514892578125, 954.6072998046875, 833.8721923828125, 906.3132934570312, 679.4243774414062, 688.9671630859375, 3966.74755859375, 839.3221435546875, 1163.9896240234375, 867.9086303710938, 722.6620483398438, 963.9385986328125, 1280.404296875, 651.150390625, 1081.206298828125, 659.3800659179688, 658.2161865234375, 1522.9141845703125, 786.2094116210938, 1124.3939208984375, 2769.436767578125, 1881.5667724609375, 3102.409423828125, 6749.05419921875, 3547.988525390625, 4031.462646484375, 4075.324462890625, 2092.2705078125, 3852.521484375, 2571.597900390625, 7142.091796875, 3081.512451171875, 2626.853271484375, 3183.595947265625, 1931.6116943359375, 2224.490234375, 1448.9884033203125, 3454.73486328125, 3062.447998046875, 1783.046875, 3760.07177734375, 2746.968017578125, 1532.4658203125, 2910.646728515625, 2208.399169921875, 2714.9169921875, 4167.4423828125, 2541.51025390625, 2996.301513671875, 2353.904541015625, 2295.811279296875, 2112.1416015625, 2037.64208984375, 5965.99169921875, 2554.390869140625, 1614.282958984375, 1645.68798828125, 1639.002685546875, 1573.33203125, 1761.32763671875, 1629.87060546875, 1239.5550537109375, 1770.981201171875, 2117.2939453125, 1300.430419921875, 1728.1451416015625, 1189.134765625, 1315.1585693359375, 1417.0938720703125, 1071.955322265625, 1472.1961669921875, 1172.6422119140625, 1422.9188232421875, 1036.3773193359375, 4917.62939453125, 831.0603637695312, 1179.8487548828125, 1079.237548828125, 879.2657470703125, 1076.14013671875, 951.7310791015625, 952.5113525390625, 775.0889892578125, 12341.86328125, 1815.679443359375, 1326.2103271484375, 3256.2158203125, 8028.36474609375, 2822.43798828125, 2401.354736328125, 1670.3701171875, 3115.66064453125, 4509.8193359375, 3038.853271484375, 2685.73291015625, 4446.2880859375, 3685.56884765625, 4251.1298828125, 2521.22216796875, 3540.577880859375, 2523.438720703125, 3055.098388671875, 2445.052734375, 2976.84765625, 2841.276611328125, 2413.99658203125, 3181.113037109375, 2547.302978515625, 3160.42578125, 2365.399658203125, 2286.193359375, 2569.65478515625, 2596.8173828125, 2645.287109375, 1767.99560546875, 963.0021362304688, 2922.39013671875, 2645.007568359375, 935.959228515625, 1914.46533203125, 1364.9267578125, 1117.1578369140625, 788.0826416015625, 773.2409057617188, 727.7523803710938, 736.5890502929688, 745.6474609375, 734.9113159179688, 877.9019165039062, 1146.7110595703125, 759.8853759765625, 1333.4501953125, 688.26904296875, 666.685791015625, 1031.0233154296875, 550.5432739257812, 595.92822265625, 535.4214477539062, 1113.649658203125, 483.5625305175781, 626.6285400390625, 3683.235595703125, 590.1989135742188, 915.7080078125, 1046.703125, 2505.81640625, 1404.59130859375, 1866.27001953125, 1125.510986328125, 2410.8681640625, 1218.1497802734375, 1488.4647216796875, 6959.3974609375, 2607.4853515625, 2149.456787109375, 1212.809326171875, 2637.487548828125, 2025.8201904296875, 4488.93896484375, 1592.3245849609375, 2972.25537109375, 1302.0152587890625, 1431.9576416015625, 1411.016357421875, 4866.1513671875, 1867.463623046875, 1448.7421875, 2009.4873046875, 1972.8831787109375, 1529.159423828125, 1607.4317626953125, 2775.541015625, 2302.077392578125, 1971.4571533203125, 1741.571533203125, 1620.630126953125, 2083.768798828125, 2038.97607421875, 1901.7598876953125, 1756.4267578125, 5532.94921875, 1766.47900390625, 1428.2750244140625, 1029.107177734375, 1842.6474609375, 820.849609375, 754.1856689453125, 740.0398559570312, 1444.6671142578125, 882.19775390625, 880.9840087890625, 747.9852294921875, 761.39794921875, 1325.380615234375, 868.6284790039062, 588.0535278320312, 569.02978515625, 598.072998046875, 1003.2455444335938, 651.0674438476562, 506.2213439941406, 501.9830322265625, 960.5914306640625, 750.10986328125, 559.9448852539062, 649.4523315429688, 633.0399169921875, 724.9397583007812, 1309.7645263671875, 1592.76416015625, 1444.027587890625, 1193.4681396484375, 3137.919921875, 4387.2626953125, 1275.6336669921875, 2161.38037109375, 1308.4881591796875, 1944.107177734375, 5902.298828125, 1891.632080078125, 1377.3145751953125, 1978.1744384765625, 2517.850341796875, 1512.553955078125, 1616.277587890625, 2904.047607421875, 2359.790771484375, 2709.279052734375, 3653.160400390625, 1394.5953369140625, 2293.310546875, 3165.7705078125, 1480.0428466796875, 2095.032470703125, 1780.337646484375, 1849.824951171875, 2044.078857421875, 1940.337646484375, 2418.1611328125, 1674.7821044921875, 1623.8695068359375, 1491.9764404296875, 1471.5177001953125, 1212.3634033203125, 2282.17822265625, 1347.5511474609375, 1210.3272705078125, 484.4857177734375, 943.983642578125, 588.8068237304688, 406.2257995605469, 1153.595458984375, 399.22247314453125, 288.8280334472656, 392.22320556640625, 471.3858947753906, 1486.161865234375, 1240.2059326171875, 878.4053344726562, 756.9650268554688, 424.2821044921875, 326.1112976074219, 571.5023803710938, 402.9160461425781, 449.63775634765625, 826.1802368164062, 297.4980773925781, 556.7216186523438, 604.6531372070312, 416.1098937988281, 935.1209106445312, 288.70111083984375, 952.2781372070312, 892.3806762695312, 2489.847900390625, 852.6743774414062, 947.5320434570312, 2352.94970703125, 2231.72900390625, 1555.6414794921875, 1781.26904296875, 3011.168701171875, 1711.7603759765625, 1309.4654541015625, 1432.5189208984375, 1231.2137451171875, 1653.772705078125, 2212.689453125, 2175.1572265625, 1508.0657958984375, 1802.6817626953125, 1716.912353515625, 1449.91796875, 2534.048828125, 1942.6234130859375, 1302.7396240234375, 1524.0250244140625, 1589.5330810546875, 1894.689697265625, 1722.2156982421875, 1612.719482421875, 1440.687744140625, 1562.5821533203125, 1577.6346435546875, 1431.1268310546875, 1493.3770751953125, 3610.435546875, 3404.101318359375, 3096.034423828125, 2181.733642578125, 2747.7880859375, 1850.392333984375, 1839.6639404296875, 1337.7264404296875, 1172.6697998046875, 1186.9710693359375, 1243.245849609375, 1015.1830444335938, 972.0032958984375, 2587.5830078125, 880.4956665039062, 1196.019287109375, 2090.679931640625, 1002.8213500976562, 1301.9105224609375, 809.0933227539062, 2064.388916015625, 2146.989501953125, 784.6084594726562, 835.35302734375, 697.099853515625, 694.1148681640625, 766.0401000976562, 644.293701171875, 828.2659912109375, 679.808349609375, 2083.86083984375, 1974.6053466796875, 1430.630615234375, 1542.872314453125, 1059.7635498046875, 2256.105712890625, 3468.395263671875, 3616.2138671875, 1412.468505859375, 3748.0068359375, 2202.980224609375, 2654.017578125, 1622.516845703125, 2137.2607421875, 1726.96923828125, 1936.58154296875, 2126.702880859375, 3019.132080078125, 1984.176513671875, 1698.5374755859375, 1577.96435546875, 1468.883544921875, 1137.47607421875, 1218.014892578125, 1171.0970458984375, 753.6635131835938, 836.2278442382812, 6231.41943359375, 828.6506958007812, 796.7244262695312, 1164.4615478515625, 620.9298095703125, 1717.5162353515625, 2018.232421875, 1052.6053466796875, 580.782958984375, 619.8626098632812, 563.262451171875, 655.5923461914062, 470.7393493652344, 469.7020263671875, 465.76141357421875, 656.6639404296875, 824.82470703125, 534.62646484375, 414.5826721191406, 1371.671630859375, 456.2642517089844, 986.5327758789062, 1399.9105224609375, 550.4662475585938, 598.3881225585938, 1836.39306640625, 901.813720703125, 1239.25341796875, 4140.30078125, 2141.66455078125, 1459.2880859375, 1325.5079345703125, 3733.946533203125, 3335.078857421875, 959.1351318359375, 1638.179443359375, 2155.889892578125, 1175.2872314453125, 1235.8460693359375, 1573.91796875, 1575.162109375, 2460.74658203125, 2533.129638671875, 3507.574951171875, 2800.456298828125, 1389.962158203125, 2746.5380859375, 1844.6456298828125, 1980.1429443359375, 2264.453857421875, 2101.779052734375, 2010.3953857421875, 1531.558349609375, 1713.119140625, 1326.1575927734375, 1354.7918701171875, 603.927978515625, 923.4356079101562, 516.366943359375, 592.9310302734375, 434.0483093261719, 355.9138488769531, 324.115478515625, 362.12884521484375, 297.46893310546875, 274.1902770996094, 274.2606201171875, 283.60858154296875, 276.51171875, 241.54620361328125, 441.1148376464844, 247.3595733642578, 274.279296875, 316.44451904296875, 316.2156982421875, 203.56106567382812, 275.060302734375, 403.6022033691406, 272.0091247558594, 276.8577575683594, 206.01052856445312, 266.42950439453125, 757.5286865234375, 374.0151062011719, 156.57611083984375, 296.84307861328125, 369.9792175292969, 363.56036376953125, 609.8151245117188, 355.4074401855469, 436.04931640625, 426.62774658203125, 375.44000244140625, 491.0013122558594, 327.3582763671875, 384.01593017578125, 353.7857666015625, 483.13775634765625, 312.4729309082031, 375.6416320800781, 362.6452331542969, 316.5564270019531], \"Total\": [14237.0, 6956.0, 11586.0, 5641.0, 10238.0, 10415.0, 6082.0, 6981.0, 8075.0, 5674.0, 6368.0, 3708.0, 5375.0, 9033.0, 5773.0, 5958.0, 3510.0, 6113.0, 11749.0, 4361.0, 3194.0, 4962.0, 5781.0, 4603.0, 2884.0, 7799.0, 4342.0, 3183.0, 4481.0, 2837.0, 2654.982421875, 1926.436767578125, 1491.4678955078125, 1255.1473388671875, 1060.2001953125, 1536.166259765625, 1173.1649169921875, 1212.002685546875, 1080.0667724609375, 1007.8339233398438, 2213.890625, 1051.33203125, 921.806884765625, 1009.4527587890625, 765.129638671875, 778.8573608398438, 4507.9306640625, 953.9659423828125, 1324.5068359375, 988.3435668945312, 826.1326904296875, 1107.8409423828125, 1473.08935546875, 749.38916015625, 1247.149169921875, 762.8392944335938, 761.7029418945312, 1765.15478515625, 912.4397583007812, 1305.580322265625, 3235.6337890625, 2193.51171875, 3653.15087890625, 8075.71435546875, 4206.29248046875, 4864.5107421875, 4957.05517578125, 2523.14013671875, 5128.224609375, 3303.92041015625, 10415.4013671875, 4090.478759765625, 3452.535400390625, 4607.5859375, 2560.556884765625, 3076.161376953125, 1792.0758056640625, 5793.0361328125, 5215.75537109375, 2458.01953125, 7799.80419921875, 5055.3359375, 1995.3729248046875, 6225.7587890625, 3906.102294921875, 5845.8232421875, 14223.0908203125, 5388.69091796875, 9784.8037109375, 5704.7841796875, 8607.1201171875, 5834.6162109375, 6536.55322265625, 6082.8193359375, 2666.875, 1699.096435546875, 1732.3228759765625, 1729.961669921875, 1662.6585693359375, 1868.9449462890625, 1731.9661865234375, 1321.9183349609375, 1891.0482177734375, 2264.25, 1390.9498291015625, 1851.4154052734375, 1275.6114501953125, 1413.2293701171875, 1529.473876953125, 1157.6478271484375, 1594.203857421875, 1271.4202880859375, 1544.0068359375, 1127.744140625, 5375.79052734375, 912.5225830078125, 1297.1619873046875, 1189.4156494140625, 974.1327514648438, 1195.1639404296875, 1060.368408203125, 1065.8306884765625, 869.9857177734375, 14237.0927734375, 2057.572509765625, 1513.642578125, 4022.02001953125, 11749.1865234375, 3689.98291015625, 3054.941650390625, 2019.6790771484375, 4798.1875, 8000.810546875, 4840.06787109375, 4084.662109375, 8341.15625, 6713.2822265625, 8924.27734375, 3990.708251953125, 7799.80419921875, 4300.03369140625, 6276.5478515625, 4195.8173828125, 6501.90283203125, 6389.97900390625, 4840.1162109375, 10415.4013671875, 5700.53369140625, 11557.19921875, 5548.31689453125, 5388.69091796875, 10451.9912109375, 11476.0361328125, 14223.0908203125, 1866.731201171875, 1047.1668701171875, 3183.893310546875, 2883.33203125, 1031.1536865234375, 2113.320556640625, 1511.4468994140625, 1246.6083984375, 883.5735473632812, 869.701904296875, 822.23583984375, 833.6082763671875, 844.3224487304688, 834.7291259765625, 999.5822143554688, 1309.294921875, 868.6717529296875, 1525.1015625, 787.7139892578125, 766.0753784179688, 1185.6502685546875, 635.4004516601562, 690.0780029296875, 621.6939086914062, 1301.77001953125, 568.397216796875, 738.962158203125, 4361.8955078125, 699.27685546875, 1085.078125, 1240.4764404296875, 3032.885498046875, 1696.5145263671875, 2288.65771484375, 1350.472412109375, 3059.26513671875, 1478.9493408203125, 1841.95947265625, 10238.89453125, 3465.348388671875, 2803.4853515625, 1486.7620849609375, 3669.6884765625, 2704.13818359375, 6981.70654296875, 2049.970458984375, 4481.57470703125, 1641.6390380859375, 1928.1275634765625, 1918.368408203125, 14223.0908203125, 3155.033203125, 2066.7783203125, 3788.03369140625, 3968.30419921875, 2711.263671875, 3121.57470703125, 14297.314453125, 8607.1201171875, 5589.7939453125, 3940.3994140625, 3343.155029296875, 11476.0361328125, 11586.4521484375, 9033.146484375, 5958.1064453125, 5641.67578125, 1883.6995849609375, 1541.18505859375, 1112.49609375, 2028.8211669921875, 914.8766479492188, 840.6558227539062, 826.4194946289062, 1616.5975341796875, 992.4246826171875, 991.4795532226562, 843.7064819335938, 859.841064453125, 1497.965576171875, 988.521240234375, 676.0266723632812, 657.097412109375, 691.592529296875, 1160.2347412109375, 755.2645263671875, 589.2855834960938, 585.9006958007812, 1126.4442138671875, 881.5460205078125, 659.095947265625, 764.6242065429688, 745.8633422851562, 864.1531982421875, 1567.3958740234375, 1914.23876953125, 1835.0914306640625, 1499.2447509765625, 4342.904296875, 6368.13671875, 1617.34228515625, 3109.550537109375, 1729.6790771484375, 2937.102294921875, 11586.4521484375, 2886.641845703125, 1961.08203125, 3225.93310546875, 4515.357421875, 2243.0693359375, 2487.135986328125, 5854.1611328125, 4445.68115234375, 5592.6240234375, 9033.146484375, 2023.2783203125, 4467.12109375, 11557.19921875, 2455.94140625, 5781.86376953125, 4037.351806640625, 4706.48388671875, 6810.29833984375, 6286.728515625, 14297.314453125, 9784.8037109375, 14223.0908203125, 4758.7060546875, 1642.988525390625, 1356.685546875, 2569.343017578125, 1545.4473876953125, 1473.555908203125, 591.3573608398438, 1197.8228759765625, 761.2966918945312, 528.23193359375, 1502.8914794921875, 521.7349243164062, 382.02374267578125, 518.8900756835938, 627.528076171875, 1984.1431884765625, 1681.599853515625, 1207.211669921875, 1042.5223388671875, 590.9364624023438, 454.68157958984375, 813.1708984375, 574.511962890625, 641.3017578125, 1181.8641357421875, 425.95550537109375, 799.02392578125, 872.2721557617188, 601.4196166992188, 1361.5140380859375, 423.24835205078125, 1410.537841796875, 1368.736083984375, 4104.494140625, 1306.345703125, 1502.80908203125, 4226.7978515625, 4151.8330078125, 2723.01806640625, 3200.232421875, 6233.8759765625, 3138.90087890625, 2262.819580078125, 2549.85400390625, 2154.9443359375, 3286.12158203125, 4854.36181640625, 4883.267578125, 2930.1923828125, 3825.432373046875, 3588.04931640625, 3093.10791015625, 10451.9912109375, 6452.4169921875, 2832.97119140625, 4118.79833984375, 4889.126953125, 8269.1767578125, 6536.55322265625, 5685.78564453125, 4368.8173828125, 10060.9208984375, 11476.0361328125, 5854.1611328125, 9784.8037109375, 3708.811767578125, 3510.45654296875, 3194.13671875, 2286.54736328125, 2884.382080078125, 1956.4456787109375, 1961.4449462890625, 1431.8936767578125, 1265.2037353515625, 1286.1275634765625, 1349.35791015625, 1110.973876953125, 1065.3521728515625, 2837.6044921875, 966.7498779296875, 1315.1990966796875, 2306.0927734375, 1109.3187255859375, 1440.329345703125, 898.7393798828125, 2298.69677734375, 2391.58837890625, 882.0588989257812, 941.2871704101562, 788.471435546875, 787.5682373046875, 869.3953247070312, 736.890625, 947.8480834960938, 779.3362426757812, 2426.9228515625, 2357.16015625, 1689.7271728515625, 1834.7550048828125, 1234.0291748046875, 2790.789306640625, 4603.5048828125, 4962.68212890625, 1750.7823486328125, 5773.8427734375, 3836.4326171875, 5518.498046875, 2626.365478515625, 5009.4443359375, 3276.172607421875, 4368.8173828125, 5548.31689453125, 14297.314453125, 10451.9912109375, 8607.1201171875, 10060.9208984375, 5700.53369140625, 1220.1773681640625, 1309.640380859375, 1260.972900390625, 837.1940307617188, 929.8370361328125, 6956.001953125, 928.3587036132812, 893.521240234375, 1314.6697998046875, 707.4896850585938, 1970.94775390625, 2317.11474609375, 1210.6153564453125, 670.3821411132812, 716.7328491210938, 652.154296875, 767.8905639648438, 558.7239990234375, 558.835205078125, 554.7926025390625, 782.8909301757812, 996.0393676757812, 646.6203002929688, 502.6346740722656, 1673.3165283203125, 560.6482543945312, 1212.6524658203125, 1725.0841064453125, 682.9716186523438, 745.1842041015625, 2348.71533203125, 1140.5958251953125, 1592.72900390625, 5674.21533203125, 2909.859130859375, 1959.9437255859375, 1836.00244140625, 6113.96044921875, 5958.1064453125, 1267.0648193359375, 2546.2705078125, 3692.87841796875, 1680.496337890625, 1862.246337890625, 2646.0126953125, 2649.444091796875, 5781.86376953125, 6452.4169921875, 11586.4521484375, 9033.146484375, 2486.558837890625, 11476.0361328125, 4758.7060546875, 6981.70654296875, 14297.314453125, 11557.19921875, 10238.89453125, 4515.357421875, 10451.9912109375, 2691.222900390625, 3364.485107421875, 703.6334228515625, 1085.1622314453125, 615.8248291015625, 713.8623657226562, 531.0398559570312, 458.1552734375, 421.46942138671875, 474.39508056640625, 400.7878112792969, 371.8916015625, 375.44757080078125, 389.7902526855469, 382.46221923828125, 334.50372314453125, 613.98046875, 349.0831298828125, 395.8310546875, 456.72467041015625, 458.7818298339844, 300.867431640625, 409.60540771484375, 610.12890625, 413.09539794921875, 424.9320373535156, 317.00048828125, 420.36248779296875, 1248.1600341796875, 624.4261474609375, 262.80810546875, 502.6534118652344, 634.4625244140625, 664.5560302734375, 1320.772216796875, 781.1839599609375, 1365.822265625, 1403.078125, 1058.560302734375, 3278.084228515625, 822.0673828125, 1783.05029296875, 1362.241943359375, 10060.9208984375, 782.4739990234375, 2353.08935546875, 2531.93115234375, 1592.6630859375], \"Category\": [\"Default\", \"Default\", \"Default\", \"Default\", \"Default\", \"Default\", \"Default\", \"Default\", \"Default\", \"Default\", \"Default\", \"Default\", \"Default\", \"Default\", \"Default\", \"Default\", \"Default\", \"Default\", \"Default\", \"Default\", \"Default\", \"Default\", \"Default\", \"Default\", \"Default\", \"Default\", \"Default\", \"Default\", \"Default\", \"Default\", \"Topic1\", \"Topic1\", \"Topic1\", \"Topic1\", \"Topic1\", \"Topic1\", \"Topic1\", \"Topic1\", \"Topic1\", \"Topic1\", \"Topic1\", \"Topic1\", \"Topic1\", \"Topic1\", \"Topic1\", \"Topic1\", \"Topic1\", \"Topic1\", \"Topic1\", \"Topic1\", \"Topic1\", \"Topic1\", \"Topic1\", \"Topic1\", \"Topic1\", \"Topic1\", \"Topic1\", \"Topic1\", \"Topic1\", \"Topic1\", \"Topic1\", \"Topic1\", \"Topic1\", \"Topic1\", \"Topic1\", \"Topic1\", \"Topic1\", \"Topic1\", \"Topic1\", \"Topic1\", \"Topic1\", \"Topic1\", \"Topic1\", \"Topic1\", \"Topic1\", \"Topic1\", \"Topic1\", \"Topic1\", \"Topic1\", \"Topic1\", \"Topic1\", \"Topic1\", \"Topic1\", \"Topic1\", \"Topic1\", \"Topic1\", \"Topic1\", \"Topic1\", \"Topic1\", \"Topic1\", \"Topic1\", \"Topic1\", \"Topic1\", \"Topic2\", \"Topic2\", \"Topic2\", \"Topic2\", \"Topic2\", \"Topic2\", \"Topic2\", \"Topic2\", \"Topic2\", \"Topic2\", \"Topic2\", \"Topic2\", \"Topic2\", \"Topic2\", \"Topic2\", \"Topic2\", \"Topic2\", \"Topic2\", \"Topic2\", \"Topic2\", \"Topic2\", \"Topic2\", \"Topic2\", \"Topic2\", \"Topic2\", \"Topic2\", \"Topic2\", \"Topic2\", \"Topic2\", \"Topic2\", \"Topic2\", \"Topic2\", \"Topic2\", \"Topic2\", \"Topic2\", \"Topic2\", \"Topic2\", \"Topic2\", \"Topic2\", \"Topic2\", \"Topic2\", \"Topic2\", \"Topic2\", \"Topic2\", \"Topic2\", \"Topic2\", \"Topic2\", \"Topic2\", \"Topic2\", \"Topic2\", \"Topic2\", \"Topic2\", \"Topic2\", \"Topic2\", \"Topic2\", \"Topic2\", \"Topic2\", \"Topic2\", \"Topic2\", \"Topic2\", \"Topic2\", \"Topic3\", \"Topic3\", \"Topic3\", \"Topic3\", \"Topic3\", \"Topic3\", \"Topic3\", \"Topic3\", \"Topic3\", \"Topic3\", \"Topic3\", \"Topic3\", \"Topic3\", \"Topic3\", \"Topic3\", \"Topic3\", \"Topic3\", \"Topic3\", \"Topic3\", \"Topic3\", \"Topic3\", \"Topic3\", \"Topic3\", \"Topic3\", \"Topic3\", \"Topic3\", \"Topic3\", \"Topic3\", \"Topic3\", \"Topic3\", \"Topic3\", \"Topic3\", \"Topic3\", \"Topic3\", \"Topic3\", \"Topic3\", \"Topic3\", \"Topic3\", \"Topic3\", \"Topic3\", \"Topic3\", \"Topic3\", \"Topic3\", \"Topic3\", \"Topic3\", \"Topic3\", \"Topic3\", \"Topic3\", \"Topic3\", \"Topic3\", \"Topic3\", \"Topic3\", \"Topic3\", \"Topic3\", \"Topic3\", \"Topic3\", \"Topic3\", \"Topic3\", \"Topic3\", \"Topic3\", \"Topic3\", \"Topic3\", \"Topic3\", \"Topic3\", \"Topic3\", \"Topic3\", \"Topic4\", \"Topic4\", \"Topic4\", \"Topic4\", \"Topic4\", \"Topic4\", \"Topic4\", \"Topic4\", \"Topic4\", \"Topic4\", \"Topic4\", \"Topic4\", \"Topic4\", \"Topic4\", \"Topic4\", \"Topic4\", \"Topic4\", \"Topic4\", \"Topic4\", \"Topic4\", \"Topic4\", \"Topic4\", \"Topic4\", \"Topic4\", \"Topic4\", \"Topic4\", \"Topic4\", \"Topic4\", \"Topic4\", \"Topic4\", \"Topic4\", \"Topic4\", \"Topic4\", \"Topic4\", \"Topic4\", \"Topic4\", \"Topic4\", \"Topic4\", \"Topic4\", \"Topic4\", \"Topic4\", \"Topic4\", \"Topic4\", \"Topic4\", \"Topic4\", \"Topic4\", \"Topic4\", \"Topic4\", \"Topic4\", \"Topic4\", \"Topic4\", \"Topic4\", \"Topic4\", \"Topic4\", \"Topic4\", \"Topic4\", \"Topic4\", \"Topic4\", \"Topic4\", \"Topic4\", \"Topic4\", \"Topic4\", \"Topic5\", \"Topic5\", \"Topic5\", \"Topic5\", \"Topic5\", \"Topic5\", \"Topic5\", \"Topic5\", \"Topic5\", \"Topic5\", \"Topic5\", \"Topic5\", \"Topic5\", \"Topic5\", \"Topic5\", \"Topic5\", \"Topic5\", \"Topic5\", \"Topic5\", \"Topic5\", \"Topic5\", \"Topic5\", \"Topic5\", \"Topic5\", \"Topic5\", \"Topic5\", \"Topic5\", \"Topic5\", \"Topic5\", \"Topic5\", \"Topic5\", \"Topic5\", \"Topic5\", \"Topic5\", \"Topic5\", \"Topic5\", \"Topic5\", \"Topic5\", \"Topic5\", \"Topic5\", \"Topic5\", \"Topic5\", \"Topic5\", \"Topic5\", \"Topic5\", \"Topic5\", \"Topic5\", \"Topic5\", \"Topic5\", \"Topic5\", \"Topic5\", \"Topic5\", \"Topic5\", \"Topic5\", \"Topic5\", \"Topic5\", \"Topic5\", \"Topic5\", \"Topic5\", \"Topic5\", \"Topic5\", \"Topic5\", \"Topic5\", \"Topic5\", \"Topic6\", \"Topic6\", \"Topic6\", \"Topic6\", \"Topic6\", \"Topic6\", \"Topic6\", \"Topic6\", \"Topic6\", \"Topic6\", \"Topic6\", \"Topic6\", \"Topic6\", \"Topic6\", \"Topic6\", \"Topic6\", \"Topic6\", \"Topic6\", \"Topic6\", \"Topic6\", \"Topic6\", \"Topic6\", \"Topic6\", \"Topic6\", \"Topic6\", \"Topic6\", \"Topic6\", \"Topic6\", \"Topic6\", \"Topic6\", \"Topic6\", \"Topic6\", \"Topic6\", \"Topic6\", \"Topic6\", \"Topic6\", \"Topic6\", \"Topic6\", \"Topic6\", \"Topic6\", \"Topic6\", \"Topic6\", \"Topic6\", \"Topic6\", \"Topic6\", \"Topic6\", \"Topic6\", \"Topic6\", \"Topic6\", \"Topic6\", \"Topic6\", \"Topic6\", \"Topic7\", \"Topic7\", \"Topic7\", \"Topic7\", \"Topic7\", \"Topic7\", \"Topic7\", \"Topic7\", \"Topic7\", \"Topic7\", \"Topic7\", \"Topic7\", \"Topic7\", \"Topic7\", \"Topic7\", \"Topic7\", \"Topic7\", \"Topic7\", \"Topic7\", \"Topic7\", \"Topic7\", \"Topic7\", \"Topic7\", \"Topic7\", \"Topic7\", \"Topic7\", \"Topic7\", \"Topic7\", \"Topic7\", \"Topic7\", \"Topic7\", \"Topic7\", \"Topic7\", \"Topic7\", \"Topic7\", \"Topic7\", \"Topic7\", \"Topic7\", \"Topic7\", \"Topic7\", \"Topic7\", \"Topic7\", \"Topic7\", \"Topic7\", \"Topic7\", \"Topic7\", \"Topic7\", \"Topic7\", \"Topic7\", \"Topic7\", \"Topic7\", \"Topic7\", \"Topic7\", \"Topic7\", \"Topic7\", \"Topic7\", \"Topic7\", \"Topic7\", \"Topic7\", \"Topic7\", \"Topic7\", \"Topic8\", \"Topic8\", \"Topic8\", \"Topic8\", \"Topic8\", \"Topic8\", \"Topic8\", \"Topic8\", \"Topic8\", \"Topic8\", \"Topic8\", \"Topic8\", \"Topic8\", \"Topic8\", \"Topic8\", \"Topic8\", \"Topic8\", \"Topic8\", \"Topic8\", \"Topic8\", \"Topic8\", \"Topic8\", \"Topic8\", \"Topic8\", \"Topic8\", \"Topic8\", \"Topic8\", \"Topic8\", \"Topic8\", \"Topic8\", \"Topic8\", \"Topic8\", \"Topic8\", \"Topic8\", \"Topic8\", \"Topic8\", \"Topic8\", \"Topic8\", \"Topic8\", \"Topic8\", \"Topic8\", \"Topic8\", \"Topic8\", \"Topic8\", \"Topic8\", \"Topic8\"], \"logprob\": [30.0, 29.0, 28.0, 27.0, 26.0, 25.0, 24.0, 23.0, 22.0, 21.0, 20.0, 19.0, 18.0, 17.0, 16.0, 15.0, 14.0, 13.0, 12.0, 11.0, 10.0, 9.0, 8.0, 7.0, 6.0, 5.0, 4.0, 3.0, 2.0, 1.0, -5.807600021362305, -6.150000095367432, -6.408999919891357, -6.5960001945495605, -6.770899772644043, -6.401800155639648, -6.672800064086914, -6.64169979095459, -6.7581000328063965, -6.827600002288818, -6.043499946594238, -6.792300224304199, -6.927499771118164, -6.844200134277344, -7.132299900054932, -7.1184000968933105, -5.3678998947143555, -6.921000003814697, -6.593999862670898, -6.887499809265137, -7.0706000328063965, -6.78249979019165, -6.498600006103516, -7.174799919128418, -6.667699813842773, -7.162300109863281, -7.164000034332275, -6.325200080871582, -6.986299991607666, -6.628600120544434, -5.727200031280518, -6.113699913024902, -5.61359977722168, -4.836400032043457, -5.479400157928467, -5.3516998291015625, -5.34089994430542, -6.007599830627441, -5.39709997177124, -5.801300048828125, -4.779799938201904, -5.6203999519348145, -5.78000020980835, -5.587800025939941, -6.087500095367432, -5.946300029754639, -6.374899864196777, -5.506100177764893, -5.6265997886657715, -6.167500019073486, -5.42140007019043, -5.735300064086914, -6.318900108337402, -5.6774001121521, -5.953499794006348, -5.747099876403809, -5.31850004196167, -5.8130998611450195, -5.648399829864502, -5.889699935913086, -5.914700031280518, -5.9980998039245605, -6.033999919891357, -4.86959981918335, -5.717899799346924, -6.176799774169922, -6.15749979019165, -6.161600112915039, -6.202499866485596, -6.089600086212158, -6.167200088500977, -6.440899848937988, -6.084199905395508, -5.905600070953369, -6.39300012588501, -6.108699798583984, -6.482500076293945, -6.381700038909912, -6.30709981918335, -6.58620023727417, -6.268899917602539, -6.496399879455566, -6.302999973297119, -6.619999885559082, -5.062900066375732, -6.840799808502197, -6.490300178527832, -6.579400062561035, -6.78439998626709, -6.582300186157227, -6.7052001953125, -6.704400062561035, -6.9105000495910645, -4.1427001953125, -6.059199810028076, -6.3734002113342285, -5.475100040435791, -4.572700023651123, -5.618100166320801, -5.779699802398682, -6.1427001953125, -5.5192999839782715, -5.149400234222412, -5.5441999435424805, -5.667699813842773, -5.163599967956543, -5.35129976272583, -5.208499908447266, -5.730999946594238, -5.39139986038208, -5.730100154876709, -5.538899898529053, -5.761600017547607, -5.564799785614014, -5.611400127410889, -5.774400234222412, -5.498499870300293, -5.720699787139893, -5.505000114440918, -5.7947998046875, -5.828800201416016, -5.711900234222412, -5.701399803161621, -5.6828999519348145, -5.817999839782715, -6.425600051879883, -5.315499782562256, -5.415200233459473, -6.454100131988525, -5.738399982452393, -6.0767998695373535, -6.277100086212158, -6.625999927520752, -6.644999980926514, -6.705699920654297, -6.693600177764893, -6.681399822235107, -6.695899963378906, -6.518099784851074, -6.250999927520752, -6.662499904632568, -6.100100040435791, -6.761499881744385, -6.793300151824951, -6.3572998046875, -6.9847002029418945, -6.9054999351501465, -7.012599945068359, -6.280200004577637, -7.114500045776367, -6.855299949645996, -5.084099769592285, -6.915200233459473, -6.475900173187256, -6.342199802398682, -5.469299793243408, -6.048099994659424, -5.763899803161621, -6.269599914550781, -5.507900238037109, -6.190499782562256, -5.990099906921387, -4.447800159454346, -5.429500102996826, -5.622700214385986, -6.194900035858154, -5.418099880218506, -5.6819000244140625, -4.886300086975098, -5.922699928283691, -5.298600196838379, -6.124000072479248, -6.028800010681152, -6.043600082397461, -4.805600166320801, -5.763299942016602, -6.017199993133545, -5.690000057220459, -5.708399772644043, -5.963200092315674, -5.9131999015808105, -5.367000102996826, -5.554100036621094, -5.709099769592285, -5.833099842071533, -5.905099868774414, -5.65369987487793, -5.6753997802734375, -5.745100021362305, -5.8246002197265625, -4.641200065612793, -5.782899856567383, -5.995500087738037, -6.323200225830078, -5.740699768066406, -6.549300193786621, -6.633999824523926, -6.6529998779296875, -5.984099864959717, -6.47730016708374, -6.478600025177002, -6.642300128936768, -6.624499797821045, -6.070199966430664, -6.492800235748291, -6.882900238037109, -6.915800094604492, -6.866000175476074, -6.348700046539307, -6.781099796295166, -7.032700061798096, -7.041100025177002, -6.392099857330322, -6.639500141143799, -6.93179988861084, -6.783599853515625, -6.809199810028076, -6.673600196838379, -6.082099914550781, -5.886499881744385, -5.984499931335449, -6.175099849700928, -5.208399772644043, -4.873199939727783, -6.108500003814697, -5.581200122833252, -6.083099842071533, -5.687099933624268, -4.576600074768066, -5.7144999504089355, -6.031799793243408, -5.6697998046875, -5.428500175476074, -5.9380998611450195, -5.871799945831299, -5.285799980163574, -5.4934000968933105, -5.355199813842773, -5.056300163269043, -6.0192999839782715, -5.521900177001953, -5.19950008392334, -5.95989990234375, -5.612400054931641, -5.775100231170654, -5.736800193786621, -5.63700008392334, -5.6890997886657715, -5.468900203704834, -5.83620023727417, -5.867099761962891, -5.9517998695373535, -5.917799949645996, -6.111499786376953, -5.478899955749512, -6.005799770355225, -6.1132001876831055, -7.02869987487793, -6.361700057983398, -6.833700180053711, -7.204899787902832, -6.161200046539307, -7.222300052642822, -7.546000003814697, -7.239999771118164, -7.05620002746582, -5.907899856567383, -6.088799953460693, -6.433700084686279, -6.582499980926514, -7.161399841308594, -7.424600124359131, -6.86359977722168, -7.213099956512451, -7.103400230407715, -6.494999885559082, -7.51639986038208, -6.889800071716309, -6.807199954986572, -7.1809000968933105, -6.371200084686279, -7.54640007019043, -6.353000164031982, -6.417900085449219, -5.391900062561035, -6.463399887084961, -6.357999801635742, -5.448400020599365, -5.501299858093262, -5.862199783325195, -5.7266998291015625, -5.201700210571289, -5.766499996185303, -6.0345001220703125, -5.9446001052856445, -6.096099853515625, -5.801000118255615, -5.509900093078613, -5.5269999504089355, -5.893199920654297, -5.714799880981445, -5.763500213623047, -5.932600021362305, -5.374300003051758, -5.639999866485596, -6.039599895477295, -5.882699966430664, -5.84060001373291, -5.664999961853027, -5.760499954223633, -5.826200008392334, -5.939000129699707, -5.857699871063232, -5.848100185394287, -5.9456000328063965, -5.9029998779296875, -4.976500034332275, -5.035399913787842, -5.130199909210205, -5.480199813842773, -5.249499797821045, -5.644899845123291, -5.6508002281188965, -5.969399929046631, -6.101099967956543, -6.088900089263916, -6.042600154876709, -6.245299816131592, -6.288700103759766, -5.309599876403809, -6.387599945068359, -6.081299781799316, -5.522799968719482, -6.257500171661377, -5.996500015258789, -6.4721999168396, -5.5355000495910645, -5.496300220489502, -6.502900123596191, -6.440199851989746, -6.621200084686279, -6.625500202178955, -6.526899814605713, -6.699900150299072, -6.448800086975098, -6.646299839019775, -5.526100158691406, -5.579999923706055, -5.902200222015381, -5.826700210571289, -6.202300071716309, -5.446700096130371, -5.016600131988525, -4.974899768829346, -5.914999961853027, -4.9390997886657715, -5.4704999923706055, -5.284299850463867, -5.776400089263916, -5.500800132751465, -5.714000225067139, -5.599400043487549, -5.505799770355225, -5.155399799346924, -5.575099945068359, -5.730599880218506, -5.804200172424316, -5.875800132751465, -6.041900157928467, -5.973499774932861, -6.012700080871582, -6.453499794006348, -6.3495001792907715, -4.341100215911865, -6.35860013961792, -6.397900104522705, -6.018400192260742, -6.647200107574463, -5.629799842834473, -5.468500137329102, -6.1194000244140625, -6.714099884033203, -6.648900032043457, -6.744699954986572, -6.592899799346924, -6.924099922180176, -6.926300048828125, -6.934800148010254, -6.591300010681152, -6.36329984664917, -6.796899795532227, -7.051199913024902, -5.854700088500977, -6.955399990081787, -6.184199810028076, -5.8343000411987305, -6.7677001953125, -6.684199810028076, -5.562900066375732, -6.27400016784668, -5.956200122833252, -4.749899864196777, -5.40910005569458, -5.792699813842773, -5.888899803161621, -4.8531999588012695, -4.96619987487793, -6.212399959564209, -5.67710018157959, -5.402500152587891, -6.009200096130371, -5.958899974822998, -5.717100143432617, -5.716300010681152, -5.270199775695801, -5.241199970245361, -4.915800094604492, -5.140900135040283, -5.841400146484375, -5.160299777984619, -5.5584001541137695, -5.487500190734863, -5.353400230407715, -5.4278998374938965, -5.472400188446045, -5.7444000244140625, -5.632400035858154, -5.888400077819824, -5.867000102996826, -5.505899906158447, -5.081299781799316, -5.662499904632568, -5.5243000984191895, -5.83620023727417, -6.0346999168396, -6.128300189971924, -6.017399787902832, -6.214099884033203, -6.295499801635742, -6.295300006866455, -6.2617998123168945, -6.287099838256836, -6.422299861907959, -5.820099830627441, -6.398499965667725, -6.295199871063232, -6.152200222015381, -6.152900218963623, -6.593400001525879, -6.292399883270264, -5.908899784088135, -6.303500175476074, -6.285900115966797, -6.581399917602539, -6.3242998123168945, -5.279300212860107, -5.985099792480469, -6.855800151824951, -6.21619987487793, -5.9959001541137695, -6.013400077819824, -5.496200084686279, -6.036099910736084, -5.831600189208984, -5.853499889373779, -5.981299877166748, -5.712900161743164, -6.118299961090088, -5.958700180053711, -6.0406999588012695, -5.729100227355957, -6.16480016708374, -5.9807000160217285, -6.015900135040283, -6.151899814605713], \"loglift\": [30.0, 29.0, 28.0, 27.0, 26.0, 25.0, 24.0, 23.0, 22.0, 21.0, 20.0, 19.0, 18.0, 17.0, 16.0, 15.0, 14.0, 13.0, 12.0, 11.0, 10.0, 9.0, 8.0, 7.0, 6.0, 5.0, 4.0, 3.0, 2.0, 1.0, 1.6262999773025513, 1.604599952697754, 1.6016000509262085, 1.5871000289916992, 1.5809999704360962, 1.579200029373169, 1.5779000520706177, 1.576300024986267, 1.5751999616622925, 1.5749000310897827, 1.572100043296814, 1.5679999589920044, 1.5642999410629272, 1.5566999912261963, 1.545699954032898, 1.5419000387191772, 1.5365999937057495, 1.5364999771118164, 1.5353000164031982, 1.534600019454956, 1.5306999683380127, 1.5254000425338745, 1.5242999792099, 1.5240000486373901, 1.5217000246047974, 1.5188000202178955, 1.5184999704360962, 1.5168999433517456, 1.5155999660491943, 1.5151000022888184, 1.5089000463485718, 1.5111000537872314, 1.501099944114685, 1.4851000308990479, 1.4943000078201294, 1.476699948310852, 1.4687000513076782, 1.4773000478744507, 1.378499984741211, 1.4139000177383423, 1.2871999740600586, 1.3812999725341797, 1.3911999464035034, 1.294800043106079, 1.382599949836731, 1.340399980545044, 1.4520000219345093, 1.1476000547409058, 1.1319999694824219, 1.343500018119812, 0.9348999857902527, 1.0546000003814697, 1.4005999565124512, 0.90420001745224, 1.0942000150680542, 0.8974999785423279, 0.43700000643730164, 0.9129999876022339, 0.4810999929904938, 0.7792999744415283, 0.34299999475479126, 0.6484000086784363, 0.49889999628067017, 1.735200047492981, 1.7115000486373901, 1.7034000158309937, 1.7032999992370605, 1.700600028038025, 1.6993999481201172, 1.6952999830245972, 1.6938999891281128, 1.6902999877929688, 1.6890000104904175, 1.6875, 1.6872999668121338, 1.6857000589370728, 1.684399962425232, 1.6827000379562378, 1.6783000230789185, 1.6777000427246094, 1.6749999523162842, 1.673799991607666, 1.6729999780654907, 1.6700999736785889, 1.6655999422073364, 1.6611000299453735, 1.6598000526428223, 1.6574000120162964, 1.6521999835968018, 1.6497000455856323, 1.6464999914169312, 1.642199993133545, 1.6390999555587769, 1.611799955368042, 1.6296000480651855, 1.6224000453948975, 1.5434000492095947, 1.3738000392913818, 1.4866000413894653, 1.5139000415802002, 1.5647000074386597, 1.3228000402450562, 1.1813000440597534, 1.289199948310852, 1.3352999687194824, 1.125499963760376, 1.1549999713897705, 1.0130000114440918, 1.2954000234603882, 0.9648000001907349, 1.22160005569458, 1.034600019454956, 1.2145999670028687, 0.9733999967575073, 0.9441999793052673, 1.059000015258789, 0.5685999989509583, 0.9491000175476074, 0.4580000042915344, 0.9021000266075134, 0.8971999883651733, 0.3515999913215637, 0.2687000036239624, 0.07249999791383743, 1.9680999517440796, 1.9386999607086182, 1.9366999864578247, 1.9362000226974487, 1.9256000518798828, 1.9235999584197998, 1.9205000400543213, 1.9127999544143677, 1.9081000089645386, 1.9048999547958374, 1.9004000425338745, 1.8986999988555908, 1.8982000350952148, 1.8950999975204468, 1.8926000595092773, 1.8898999691009521, 1.888700008392334, 1.888200044631958, 1.8875000476837158, 1.8834999799728394, 1.882699966430664, 1.87909996509552, 1.8758000135421753, 1.8731000423431396, 1.8664000034332275, 1.86080002784729, 1.8575999736785889, 1.8532999753952026, 1.8529000282287598, 1.8526999950408936, 1.8525999784469604, 1.8315000534057617, 1.8336000442504883, 1.8184000253677368, 1.8401999473571777, 1.7842999696731567, 1.8285000324249268, 1.809399962425232, 1.636299967765808, 1.7380000352859497, 1.7568000555038452, 1.8187999725341797, 1.692199945449829, 1.7336000204086304, 1.5808000564575195, 1.7697999477386475, 1.611799955368042, 1.7906999588012695, 1.7249000072479248, 1.7152999639511108, 0.9498999714851379, 1.4980000257492065, 1.667199969291687, 1.3884999752044678, 1.3236000537872314, 1.4498000144958496, 1.3587000370025635, 0.3831999897956848, 0.7037000060081482, 0.9803000092506409, 1.2059999704360962, 1.29830002784729, 0.3163999915122986, 0.2851000130176544, 0.4643000066280365, 0.8009999990463257, 2.0388998985290527, 1.9941999912261963, 1.982300043106079, 1.9804999828338623, 1.9621000289916992, 1.9500000476837158, 1.9499000310897827, 1.9479999542236328, 1.9459999799728394, 1.9407000541687012, 1.9401999711990356, 1.937999963760376, 1.9368000030517578, 1.9359999895095825, 1.9291000366210938, 1.9190000295639038, 1.9144999980926514, 1.913100004196167, 1.9129999876022339, 1.9098999500274658, 1.906499981880188, 1.9038000106811523, 1.8990999460220337, 1.8969000577926636, 1.895400047302246, 1.8950999975204468, 1.8944000005722046, 1.882699966430664, 1.8788000345230103, 1.8746000528335571, 1.8186999559402466, 1.830299973487854, 1.7333999872207642, 1.6857999563217163, 1.8210999965667725, 1.694700002670288, 1.7792999744415283, 1.645799994468689, 1.3839000463485718, 1.635699987411499, 1.7050000429153442, 1.5693999528884888, 1.4743000268936157, 1.6643999814987183, 1.6274000406265259, 1.3573999404907227, 1.4249999523162842, 1.3336000442504883, 1.1531000137329102, 1.6863000392913818, 1.391700029373169, 0.7634999752044678, 1.5520000457763672, 1.0432000160217285, 1.2395999431610107, 1.124500036239624, 0.8549000024795532, 0.8827999830245972, 0.28130000829696655, 0.29330000281333923, -0.11169999837875366, 0.8985000252723694, 1.996000051498413, 1.9938000440597534, 1.9876999855041504, 1.9692000150680542, 1.909500002861023, 1.9069000482559204, 1.8681000471115112, 1.8493000268936157, 1.8436000347137451, 1.8417999744415283, 1.8386000394821167, 1.8265999555587769, 1.8264000415802002, 1.820099949836731, 1.8172999620437622, 1.801800012588501, 1.7883000373840332, 1.7862000465393066, 1.774899959564209, 1.773900032043457, 1.753600001335144, 1.7515000104904175, 1.7511999607086182, 1.7482000589370728, 1.7473000288009644, 1.7448999881744385, 1.739799976348877, 1.7379000186920166, 1.7305999994277954, 1.7237000465393066, 1.7134000062942505, 1.6785000562667847, 1.6064000129699707, 1.6796000003814697, 1.6449999809265137, 1.5204999446868896, 1.4854999780654907, 1.5463999509811401, 1.520400047302246, 1.378600001335144, 1.499899983406067, 1.5592999458312988, 1.5297000408172607, 1.5464999675750732, 1.419600009918213, 1.3206000328063965, 1.2975000143051147, 1.4420000314712524, 1.3538999557495117, 1.3691999912261963, 1.3486000299453735, 0.689300000667572, 0.9057999849319458, 1.3293999433517456, 1.1121000051498413, 0.982699990272522, 0.6327999830245972, 0.7724999785423279, 0.8461999893188477, 0.9969000220298767, 0.24390000104904175, 0.12189999967813492, 0.6976000070571899, 0.226500004529953, 2.1231000423431396, 2.1191999912261963, 2.118799924850464, 2.103100061416626, 2.1015000343322754, 2.0943000316619873, 2.085900068283081, 2.0820000171661377, 2.0739998817443848, 2.0697999000549316, 2.0680999755859375, 2.059799909591675, 2.058300018310547, 2.057800054550171, 2.05649995803833, 2.055000066757202, 2.0518999099731445, 2.049099922180176, 2.0490000247955322, 2.0448999404907227, 2.0425000190734863, 2.042099952697754, 2.032900094985962, 2.030600070953369, 2.0267999172210693, 2.023699998855591, 2.023400068283081, 2.015700101852417, 2.0151000022888184, 2.013400077819824, 1.9975999593734741, 1.9729000329971313, 1.9835000038146973, 1.976699948310852, 1.9977999925613403, 1.9372999668121338, 1.8668999671936035, 1.8335000276565552, 1.9352999925613403, 1.717900037765503, 1.5952999591827393, 1.4179999828338623, 1.6684000492095947, 1.298200011253357, 1.5096999406814575, 1.336400032043457, 1.191100001335144, 0.5949000120162964, 0.48840001225471497, 0.5271999835968018, 0.29750001430511475, 0.7939000129699707, 2.1695001125335693, 2.167099952697754, 2.1656999588012695, 2.134500026702881, 2.133500099182129, 2.1296000480651855, 2.125999927520752, 2.125, 2.118299961090088, 2.109100103378296, 2.1019999980926514, 2.1015000343322754, 2.0998001098632812, 2.0961999893188477, 2.094399929046631, 2.093100070953369, 2.0815000534057617, 2.0683000087738037, 2.0659000873565674, 2.06469988822937, 2.063800096511841, 2.0510001182556152, 2.0494000911712646, 2.046999931335449, 2.0408999919891357, 2.033600091934204, 2.0332999229431152, 2.0308001041412354, 2.0239999294281006, 2.02020001411438, 1.9936000108718872, 2.004699945449829, 1.988700032234192, 1.9244999885559082, 1.9330999851226807, 1.944700002670288, 1.9138000011444092, 1.746500015258789, 1.6593999862670898, 1.9611999988555908, 1.7985999584197998, 1.7014000415802002, 1.882099986076355, 1.8295999765396118, 1.7201999425888062, 1.719599962234497, 1.3854000568389893, 1.3046000003814697, 1.044700026512146, 1.06850004196167, 1.6579999923706055, 0.8097000122070312, 1.2920000553131104, 0.9794999957084656, 0.3968999981880188, 0.535099983215332, 0.6118000149726868, 1.158400058746338, 0.4311999976634979, 1.5319000482559204, 1.3300000429153442, 3.2558999061584473, 3.247299909591675, 3.232599973678589, 3.223099946975708, 3.2070000171661377, 3.1561999320983887, 3.1461000442504883, 3.138700008392334, 3.110599994659424, 3.1038999557495117, 3.0947000980377197, 3.0906999111175537, 3.0843000411987305, 3.0831000804901123, 3.0780999660491943, 3.064300060272217, 3.0418999195098877, 3.041800022125244, 3.036600112915039, 3.0179998874664307, 3.010499954223633, 2.995500087738037, 2.9909000396728516, 2.980299949645996, 2.9776999950408936, 2.952699899673462, 2.90939998626709, 2.896199941635132, 2.8907999992370605, 2.881999969482422, 2.8694000244140625, 2.805500030517578, 2.6359000205993652, 2.6212000846862793, 2.2669999599456787, 2.2181999683380127, 2.3722000122070312, 1.510200023651123, 2.48799991607666, 1.8732999563217163, 2.060499906539917, 0.3725999891757965, 2.490799903869629, 1.5738999843597412, 1.465399980545044, 1.7930999994277954]}, \"token.table\": {\"Topic\": [1, 2, 3, 4, 5, 6, 7, 8, 1, 2, 3, 4, 5, 6, 7, 8, 1, 2, 3, 4, 5, 6, 7, 8, 1, 2, 3, 4, 5, 6, 7, 8, 1, 2, 3, 4, 5, 6, 7, 8, 1, 2, 3, 4, 5, 6, 7, 8, 1, 2, 3, 4, 5, 6, 7, 8, 1, 2, 3, 4, 5, 6, 7, 8, 1, 2, 3, 4, 5, 6, 7, 8, 1, 2, 3, 4, 5, 6, 7, 8, 1, 2, 3, 4, 5, 6, 7, 8, 1, 2, 3, 4, 5, 6, 7, 8, 1, 2, 3, 4, 5, 6, 7, 8, 1, 2, 3, 4, 5, 6, 7, 8, 1, 2, 3, 4, 5, 6, 7, 8, 1, 2, 3, 4, 5, 6, 7, 8, 1, 2, 3, 4, 5, 6, 7, 8, 1, 2, 3, 4, 5, 6, 7, 8, 1, 2, 3, 4, 5, 6, 7, 8, 1, 2, 3, 4, 5, 6, 7, 8, 1, 2, 3, 4, 5, 6, 7, 8, 1, 2, 3, 4, 5, 6, 7, 8, 1, 2, 3, 4, 5, 6, 7, 8, 1, 2, 3, 4, 5, 6, 7, 8, 1, 2, 3, 4, 5, 6, 7, 8, 1, 2, 3, 4, 5, 6, 7, 8, 1, 2, 3, 4, 5, 6, 7, 8, 1, 2, 3, 4, 5, 6, 7, 8, 1, 2, 3, 4, 5, 6, 7, 8, 1, 2, 3, 4, 5, 6, 7, 8, 1, 2, 3, 4, 5, 6, 7, 8, 1, 2, 3, 4, 5, 6, 7, 8, 1, 2, 3, 4, 5, 6, 7, 8, 1, 2, 3, 4, 5, 6, 7, 8, 1, 2, 3, 4, 5, 6, 7, 8, 1, 2, 3, 4, 5, 6, 7, 8, 1, 2, 3, 4, 5, 6, 7, 8, 1, 2, 3, 4, 5, 6, 7, 8, 1, 2, 3, 4, 5, 6, 7, 8, 1, 2, 3, 4, 5, 6, 7, 8, 1, 2, 3, 4, 5, 6, 7, 8, 1, 2, 3, 4, 5, 6, 7, 8, 1, 2, 3, 4, 5, 6, 7, 8, 1, 2, 3, 4, 5, 6, 7, 8, 1, 2, 3, 4, 5, 6, 7, 8, 1, 2, 3, 4, 5, 6, 7, 8, 1, 2, 3, 4, 5, 6, 7, 8, 1, 2, 3, 4, 5, 6, 7, 8, 1, 2, 3, 4, 5, 6, 7, 8, 1, 2, 3, 4, 5, 6, 7, 8, 1, 2, 3, 4, 5, 6, 7, 8, 1, 2, 3, 4, 5, 6, 7, 8, 1, 2, 3, 4, 5, 6, 7, 8, 1, 2, 3, 4, 5, 6, 7, 8, 1, 2, 3, 4, 5, 6, 7, 8, 1, 2, 3, 4, 5, 6, 7, 8, 1, 2, 3, 4, 5, 6, 7, 8, 1, 2, 3, 4, 5, 6, 7, 8, 1, 2, 3, 4, 5, 6, 7, 8, 1, 2, 3, 4, 5, 6, 7, 8, 1, 2, 3, 4, 5, 6, 7, 8, 1, 2, 3, 4, 5, 6, 7, 8, 1, 2, 3, 4, 5, 6, 7, 8, 1, 2, 3, 4, 5, 6, 7, 8, 1, 2, 3, 4, 5, 6, 7, 8, 1, 2, 3, 4, 5, 6, 7, 8, 1, 2, 3, 4, 5, 6, 7, 8, 1, 2, 3, 4, 5, 6, 7, 8, 1, 2, 3, 4, 5, 6, 7, 8, 1, 2, 3, 4, 5, 6, 7, 8, 1, 2, 3, 4, 5, 6, 7, 8, 1, 2, 3, 4, 5, 6, 7, 8, 1, 2, 3, 4, 5, 6, 7, 8, 1, 2, 3, 4, 5, 6, 7, 8, 1, 2, 3, 4, 5, 6, 7, 8, 1, 2, 3, 4, 5, 6, 7, 8, 1, 2, 3, 4, 5, 6, 7, 8, 1, 2, 3, 4, 5, 6, 7, 8, 1, 2, 3, 4, 5, 6, 7, 8, 1, 2, 3, 4, 5, 6, 7, 8, 1, 2, 3, 4, 5, 6, 7, 8, 1, 2, 3, 4, 5, 6, 7, 8, 1, 2, 3, 4, 5, 6, 7, 8, 1, 2, 3, 4, 5, 6, 7, 8, 1, 2, 3, 4, 5, 6, 7, 8, 1, 2, 3, 4, 5, 6, 7, 8, 1, 2, 3, 4, 5, 6, 7, 8, 1, 2, 3, 4, 5, 6, 7, 8, 1, 2, 3, 4, 5, 6, 7, 8, 1, 2, 3, 4, 5, 6, 7, 8, 1, 2, 3, 4, 5, 6, 7, 8, 1, 2, 3, 4, 5, 6, 7, 8, 1, 2, 3, 4, 5, 6, 7, 8, 1, 2, 3, 4, 5, 6, 7, 8, 1, 2, 3, 4, 5, 6, 7, 8, 1, 2, 3, 4, 5, 6, 7, 8, 1, 2, 3, 4, 5, 6, 7, 8, 1, 2, 3, 4, 5, 6, 7, 8, 1, 2, 3, 4, 5, 6, 7, 8, 1, 2, 3, 4, 5, 6, 7, 8, 1, 2, 3, 4, 5, 6, 7, 8, 1, 2, 3, 4, 5, 6, 7, 8, 1, 2, 3, 4, 5, 6, 7, 8, 1, 2, 3, 4, 5, 6, 7, 8, 1, 2, 3, 4, 5, 6, 7, 8, 1, 2, 3, 4, 5, 6, 7, 8, 1, 2, 3, 4, 5, 6, 7, 8, 1, 2, 3, 4, 5, 6, 7, 8, 1, 2, 3, 4, 5, 6, 7, 8, 1, 2, 3, 4, 5, 6, 7, 8, 1, 2, 3, 4, 5, 6, 7, 8, 1, 2, 3, 4, 5, 6, 7, 8, 1, 2, 3, 4, 5, 6, 7, 8, 1, 2, 3, 4, 5, 6, 7, 8, 1, 2, 3, 4, 5, 6, 7, 8, 1, 2, 3, 4, 5, 6, 7, 8, 1, 2, 3, 4, 5, 6, 7, 8, 1, 2, 3, 4, 5, 6, 7, 8, 1, 2, 3, 4, 5, 6, 7, 8, 1, 2, 3, 4, 5, 6, 7, 8, 1, 2, 3, 4, 5, 6, 7, 8, 1, 2, 3, 4, 5, 6, 7, 8, 1, 2, 3, 4, 5, 6, 7, 8, 1, 2, 3, 4, 5, 6, 7, 8, 1, 2, 3, 4, 5, 6, 7, 8, 1, 2, 3, 4, 5, 6, 7, 8, 1, 2, 3, 4, 5, 6, 7, 8, 1, 2, 3, 4, 5, 6, 7, 8, 1, 2, 3, 4, 5, 6, 7, 8, 1, 2, 3, 4, 5, 6, 7, 8, 1, 2, 3, 4, 5, 6, 7, 8, 1, 2, 3, 4, 5, 6, 7, 8, 1, 2, 3, 4, 5, 6, 7, 8, 1, 2, 3, 4, 5, 6, 7, 8, 1, 2, 3, 4, 5, 6, 7, 8, 1, 2, 3, 4, 5, 6, 7, 8, 1, 2, 3, 4, 5, 6, 7, 8, 1, 2, 3, 4, 5, 6, 7, 8, 1, 2, 3, 4, 5, 6, 7, 8, 1, 2, 3, 4, 5, 6, 7, 8, 1, 2, 3, 4, 5, 6, 7, 8, 1, 2, 3, 4, 5, 6, 7, 8, 1, 2, 3, 4, 5, 6, 7, 8, 1, 2, 3, 4, 5, 6, 7, 8, 1, 2, 3, 4, 5, 6, 7, 8, 1, 2, 3, 4, 5, 6, 7, 8, 1, 2, 3, 4, 5, 6, 7, 8, 1, 2, 3, 4, 5, 6, 7, 8, 1, 2, 3, 4, 5, 6, 7, 8, 1, 2, 3, 4, 5, 6, 7, 8, 1, 2, 3, 4, 5, 6, 7, 8, 1, 2, 3, 4, 5, 6, 7, 8, 1, 2, 3, 4, 5, 6, 7, 8, 1, 2, 3, 4, 5, 6, 7, 8, 1, 2, 3, 4, 5, 6, 7, 8, 1, 2, 3, 4, 5, 6, 7, 8, 1, 2, 3, 4, 5, 6, 7, 8, 1, 2, 3, 4, 5, 6, 7, 8, 1, 2, 3, 4, 5, 6, 7, 8, 1, 2, 3, 4, 5, 6, 7, 8, 1, 2, 3, 4, 5, 6, 7, 8, 1, 2, 3, 4, 5, 6, 7, 8, 1, 2, 3, 4, 5, 6, 7, 8, 1, 2, 3, 4, 5, 6, 7, 8, 1, 2, 3, 4, 5, 6, 7, 8, 1, 2, 3, 4, 5, 6, 7, 8, 1, 2, 3, 4, 5, 6, 7, 8, 1, 2, 3, 4, 5, 6, 7, 8, 1, 2, 3, 4, 5, 6, 7, 8, 1, 2, 3, 4, 5, 6, 7, 8, 1, 2, 3, 4, 5, 6, 7, 8, 1, 2, 3, 4, 5, 6, 7, 8, 1, 2, 3, 4, 5, 6, 7, 8, 1, 2, 3, 4, 5, 6, 7, 8, 1, 2, 3, 4, 5, 6, 7, 8, 1, 2, 3, 4, 5, 6, 7, 8, 1, 2, 3, 4, 5, 6, 7, 8, 1, 2, 3, 4, 5, 6, 7, 8, 1, 2, 3, 4, 5, 6, 7, 8, 1, 2, 3, 4, 5, 6, 7, 8, 1, 2, 3, 4, 5, 6, 7, 8, 1, 2, 3, 4, 5, 6, 7, 8, 1, 2, 3, 4, 5, 6, 7, 8, 1, 2, 3, 4, 5, 6, 7, 8, 1, 2, 3, 4, 5, 6, 7, 8, 1, 2, 3, 4, 5, 6, 7, 8, 1, 2, 3, 4, 5, 6, 7, 8, 1, 2, 3, 4, 5, 6, 7, 8, 1, 2, 3, 4, 5, 6, 7, 8, 1, 2, 3, 4, 5, 6, 7, 8, 1, 2, 3, 4, 5, 6, 7, 8, 1, 2, 3, 4, 5, 6, 7, 8, 1, 2, 3, 4, 5, 6, 7, 8, 1, 2, 3, 4, 5, 6, 7, 8, 1, 2, 3, 4, 5, 6, 7, 8, 1, 2, 3, 4, 5, 6, 7, 8, 1, 2, 3, 4, 5, 6, 7, 8, 1, 2, 3, 4, 5, 6, 7, 8, 1, 2, 3, 4, 5, 6, 7, 8, 1, 2, 3, 4, 5, 6, 7, 8, 1, 2, 3, 4, 5, 6, 7, 8, 1, 2, 3, 4, 5, 6, 7, 8, 1, 2, 3, 4, 5, 6, 7, 8, 1, 2, 3, 4, 5, 6, 7, 8, 1, 2, 3, 4, 5, 6, 7, 8, 1, 2, 3, 4, 5, 6, 7, 8, 1, 2, 3, 4, 5, 6, 7, 8, 1, 2, 3, 4, 5, 6, 7, 8, 1, 2, 3, 4, 5, 6, 7, 8, 1, 2, 3, 4, 5, 6, 7, 8, 1, 2, 3, 4, 5, 6, 7, 8, 1, 2, 3, 4, 5, 6, 7, 8, 1, 2, 3, 4, 5, 6, 7, 8, 1, 2, 3, 4, 5, 6, 7, 8, 1, 2, 3, 4, 5, 6, 7, 8, 1, 2, 3, 4, 5, 6, 7, 8, 1, 2, 3, 4, 5, 6, 7, 8, 1, 2, 3, 4, 5, 6, 7, 8, 1, 2, 3, 4, 5, 6, 7, 8, 1, 2, 3, 4, 5, 6, 7, 8, 1, 2, 3, 4, 5, 6, 7, 8, 1, 2, 3, 4, 5, 6, 7, 8, 1, 2, 3, 4, 5, 6, 7, 8, 1, 2, 3, 4, 5, 6, 7, 8, 1, 2, 3, 4, 5, 6, 7, 8, 1, 2, 3, 4, 5, 6, 7, 8, 1, 2, 3, 4, 5, 6, 7, 8, 1, 2, 3, 4, 5, 6, 7, 8, 1, 2, 3, 4, 5, 6, 7, 8, 1, 2, 3, 4, 5, 6, 7, 8, 1, 2, 3, 4, 5, 6, 7, 8, 1, 2, 3, 4, 5, 6, 7, 8, 1, 2, 3, 4, 5, 6, 7, 8, 1, 2, 3, 4, 5, 6, 7, 8, 1, 2, 3, 4, 5, 6, 7, 8, 1, 2, 3, 4, 5, 6, 7, 8, 1, 2, 3, 4, 5, 6, 7, 8, 1, 2, 3, 4, 5, 6, 7, 8, 1, 2, 3, 4, 5, 6, 7, 8, 1, 2, 3, 4, 5, 6, 7, 8, 1, 2, 3, 4, 5, 6, 7, 8, 1, 2, 3, 4, 5, 6, 7, 8, 1, 2, 3, 4, 5, 6, 7, 8, 1, 2, 3, 4, 5, 6, 7, 8, 1, 2, 3, 4, 5, 6, 7, 8, 1, 2, 3, 4, 5, 6, 7, 8, 1, 2, 3, 4, 5, 6, 7, 8, 1, 2, 3, 4, 5, 6, 7, 8, 1, 2, 3, 4, 5, 6, 7, 8, 1, 2, 3, 4, 5, 6, 7, 8, 1, 2, 3, 4, 5, 6, 7, 8, 1, 2, 3, 4, 5, 6, 7, 8, 1, 2, 3, 4, 5, 6, 7, 8, 1, 2, 3, 4, 5, 6, 7, 8, 1, 2, 3, 4, 5, 6, 7, 8, 1, 2, 3, 4, 5, 6, 7, 8, 1, 2, 3, 4, 5, 6, 7, 8, 1, 2, 3, 4, 5, 6, 7, 8, 1, 2, 3, 4, 5, 6, 7, 8, 1, 2, 3, 4, 5, 6, 7, 8, 1, 2, 3, 4, 5, 6, 7, 8, 1, 2, 3, 4, 5, 6, 7, 8, 1, 2, 3, 4, 5, 6, 7, 8, 1, 2, 3, 4, 5, 6, 7, 8, 1, 2, 3, 4, 5, 6, 7, 8, 1, 2, 3, 4, 5, 6, 7, 8, 1, 2, 3, 4, 5, 6, 7, 8, 1, 2, 3, 4, 5, 6, 7, 8, 1, 2, 3, 4, 5, 6, 7, 8, 1, 2, 3, 4, 5, 6, 7, 8, 1, 2, 3, 4, 5, 6, 7, 8, 1, 2, 3, 4, 5, 6, 7, 8, 1, 2, 3, 4, 5, 6, 7, 8, 1, 2, 3, 4, 5, 6, 7, 8, 1, 2, 3, 4, 5, 6, 7, 8, 1, 2, 3, 4, 5, 6, 7, 8, 1, 2, 3, 4, 5, 6, 7, 8, 1, 2, 3, 4, 5, 6, 7, 8, 1, 2, 3, 4, 5, 6, 7, 8, 1, 2, 3, 4, 5, 6, 7, 8, 1, 2, 3, 4, 5, 6, 7, 8, 1, 2, 3, 4, 5, 6, 7, 8, 1, 2, 3, 4, 5, 6, 7, 8, 1, 2, 3, 4, 5, 6, 7, 8, 1, 2, 3, 4, 5, 6, 7, 8, 1, 2, 3, 4, 5, 6, 7, 8, 1, 2, 3, 4, 5, 6, 7, 8, 1, 2, 3, 4, 5, 6, 7, 8, 1, 2, 3, 4, 5, 6, 7, 8, 1, 2, 3, 4, 5, 6, 7, 8, 1, 2, 3, 4, 5, 6, 7, 8, 1, 2, 3, 4, 5, 6, 7, 8, 1, 2, 3, 4, 5, 6, 7, 8, 1, 2, 3, 4, 5, 6, 7, 8, 1, 2, 3, 4, 5, 6, 7, 8, 1, 2, 3, 4, 5, 6, 7, 8, 1, 2, 3, 4, 5, 6, 7, 8, 1, 2, 3, 4, 5, 6, 7, 8, 1, 2, 3, 4, 5, 6, 7, 8, 1, 2, 3, 4, 5, 6, 7, 8, 1, 2, 3, 4, 5, 6, 7, 8, 1, 2, 3, 4, 5, 6, 7, 8, 1, 2, 3, 4, 5, 6, 7, 8, 1, 2, 3, 4, 5, 6, 7, 8, 1, 2, 3, 4, 5, 6, 7, 8, 1, 2, 3, 4, 5, 6, 7, 8, 1, 2, 3, 4, 5, 6, 7, 8, 1, 2, 3, 4, 5, 6, 7, 8, 1, 2, 3, 4, 5, 6, 7, 8, 1, 2, 3, 4, 5, 6, 7, 8, 1, 2, 3, 4, 5, 6, 7, 8, 1, 2, 3, 4, 5, 6, 7, 8, 1, 2, 3, 4, 5, 6, 7, 8, 1, 2, 3, 4, 5, 6, 7, 8, 1, 2, 3, 4, 5, 6, 7, 8, 1, 2, 3, 4, 5, 6, 7, 8, 1, 2, 3, 4, 5, 6, 7, 8, 1, 2, 3, 4, 5, 6, 7, 8, 1, 2, 3, 4, 5, 6, 7, 8, 1, 2, 3, 4, 5, 6, 7, 8, 1, 2, 3, 4, 5, 6, 7, 8, 1, 2, 3, 4, 5, 6, 7, 8, 1, 2, 3, 4, 5, 6, 7, 8, 1, 2, 3, 4, 5, 6, 7, 8, 1, 2, 3, 4, 5, 6, 7, 8, 1, 2, 3, 4, 5, 6, 7, 8, 1, 2, 3, 4, 5, 6, 7, 8, 1, 2, 3, 4, 5, 6, 7, 8, 1, 2, 3, 4, 5, 6, 7, 8, 1, 2, 3, 4, 5, 6, 7, 8, 1, 2, 3, 4, 5, 6, 7, 8, 1, 2, 3, 4, 5, 6, 7, 8, 1, 2, 3, 4, 5, 6, 7, 8, 1, 2, 3, 4, 5, 6, 7, 8, 1, 2, 3, 4, 5, 6, 7, 8, 1, 2, 3, 4, 5, 6, 7, 8, 1, 2, 3, 4, 5, 6, 7, 8, 1, 2, 3, 4, 5, 6, 7, 8, 1, 2, 3, 4, 5, 6, 7, 8, 1, 2, 3, 4, 5, 6, 7, 8, 1, 2, 3, 4, 5, 6, 7, 8, 1, 2, 3, 4, 5, 6, 7, 8, 1, 2, 3, 4, 5, 6, 7, 8, 1, 2, 3, 4, 5, 6, 7, 8, 1, 2, 3, 4, 5, 6, 7, 8, 1, 2, 3, 4, 5, 6, 7, 8, 1, 2, 3, 4, 5, 6, 7, 8, 1, 2, 3, 4, 5, 6, 7, 8, 1, 2, 3, 4, 5, 6, 7, 8, 1, 2, 3, 4, 5, 6, 7, 8, 1, 2, 3, 4, 5, 6, 7, 8, 1, 2, 3, 4, 5, 6, 7, 8, 1, 2, 3, 4, 5, 6, 7, 8, 1, 2, 3, 4, 5, 6, 7, 8, 1, 2, 3, 4, 5, 6, 7, 8, 1, 2, 3, 4, 5, 6, 7, 8, 1, 2, 3, 4, 5, 6, 7, 8, 1, 2, 3, 4, 5, 6, 7, 8, 1, 2, 3, 4, 5, 6, 7, 8, 1, 2, 3, 4, 5, 6, 7, 8, 1, 2, 3, 4, 5, 6, 7, 8, 1, 2, 3, 4, 5, 6, 7, 8, 1, 2, 3, 4, 5, 6, 7, 8, 1, 2, 3, 4, 5, 6, 7, 8, 1, 2, 3, 4, 5, 6, 7, 8, 1, 2, 3, 4, 5, 6, 7, 8, 1, 2, 3, 4, 5, 6, 7, 8, 1, 2, 3, 4, 5, 6, 7, 8, 1, 2, 3, 4, 5, 6, 7, 8, 1, 2, 3, 4, 5, 6, 7, 8, 1, 2, 3, 4, 5, 6, 7, 8, 1, 2, 3, 4, 5, 6, 7, 8, 1, 2, 3, 4, 5, 6, 7, 8, 1, 2, 3, 4, 5, 6, 7, 8, 1, 2, 3, 4, 5, 6, 7, 8, 1, 2, 3, 4, 5, 6, 7, 8, 1, 2, 3, 4, 5, 6, 7, 8, 1, 2, 3, 4, 5, 6, 7, 8, 1, 2, 3, 4, 5, 6, 7, 8, 1, 2, 3, 4, 5, 6, 7, 8, 1, 2, 3, 4, 5, 6, 7, 8, 1, 2, 3, 4, 5, 6, 7, 8, 1, 2, 3, 4, 5, 6, 7, 8, 1, 2, 3, 4, 5, 6, 7, 8, 1, 2, 3, 4, 5, 6, 7, 8, 1, 2, 3, 4, 5, 6, 7, 8, 1, 2, 3, 4, 5, 6, 7, 8, 1, 2, 3, 4, 5, 6, 7, 8, 1, 2, 3, 4, 5, 6, 7, 8, 1, 2, 3, 4, 5, 6, 7, 8, 1, 2, 3, 4, 5, 6, 7, 8, 1, 2, 3, 4, 5, 6, 7, 8, 1, 2, 3, 4, 5, 6, 7, 8, 1, 2, 3, 4, 5, 6, 7, 8, 1, 2, 3, 4, 5, 6, 7, 8, 1, 2, 3, 4, 5, 6, 7, 8, 1, 2, 3, 4, 5, 6, 7, 8, 1, 2, 3, 4, 5, 6, 7, 8, 1, 2, 3, 4, 5, 6, 7, 8, 1, 2, 3, 4, 5, 6, 7, 8, 1, 2, 3, 4, 5, 6, 7, 8, 1, 2, 3, 4, 5, 6, 7, 8, 1, 2, 3, 4, 5, 6, 7, 8, 1, 2, 3, 4, 5, 6, 7, 8, 1, 2, 3, 4, 5, 6, 7, 8, 1, 2, 3, 4, 5, 6, 7, 8, 1, 2, 3, 4, 5, 6, 7, 8, 1, 2, 3, 4, 5, 6, 7, 8, 1, 2, 3, 4, 5, 6, 7, 8, 1, 2, 3, 4, 5, 6, 7, 8, 1, 2, 3, 4, 5, 6, 7, 8, 1, 2, 3, 4, 5, 6, 7, 8, 1, 2, 3, 4, 5, 6, 7, 8, 1, 2, 3, 4, 5, 6, 7, 8, 1, 2, 3, 4, 5, 6, 7, 8, 1, 2, 3, 4, 5, 6, 7, 8, 1, 2, 3, 4, 5, 6, 7, 8, 1, 2, 3, 4, 5, 6, 7, 8, 1, 2, 3, 4, 5, 6, 7, 8, 1, 2, 3, 4, 5, 6, 7, 8, 1, 2, 3, 4, 5, 6, 7, 8, 1, 2, 3, 4, 5, 6, 7, 8, 1, 2, 3, 4, 5, 6, 7, 8, 1, 2, 3, 4, 5, 6, 7, 8, 1, 2, 3, 4, 5, 6, 7, 8, 1, 2, 3, 4, 5, 6, 7, 8, 1, 2, 3, 4, 5, 6, 7, 8, 1, 2, 3, 4, 5, 6, 7, 8, 1, 2, 3, 4, 5, 6, 7, 8, 1, 2, 3, 4, 5, 6, 7, 8, 1, 2, 3, 4, 5, 6, 7, 8, 1, 2, 3, 4, 5, 6, 7, 8, 1, 2, 3, 4, 5, 6, 7, 8, 1, 2, 3, 4, 5, 6, 7, 8, 1, 2, 3, 4, 5, 6, 7, 8, 1, 2, 3, 4, 5, 6, 7, 8], \"Freq\": [0.13090252876281738, 0.12961040437221527, 0.14253167808055878, 0.11241515725851059, 0.1553535759449005, 0.15684449672698975, 0.1242431029677391, 0.048007532954216, 0.0035529392771422863, 0.07588063180446625, 0.44208717346191406, 0.01674957014620304, 0.08933104574680328, 0.1763780564069748, 0.15353773534297943, 0.042635273188352585, 0.005668906960636377, 0.00642476137727499, 0.020785992965102196, 0.3582749366760254, 0.004913052543997765, 0.004913052543997765, 0.5948573350906372, 0.0037792713847011328, 0.011449207551777363, 0.010794966481626034, 0.22996550798416138, 0.096500463783741, 0.015538210049271584, 0.004089002497494221, 0.6107334494590759, 0.020935693755745888, 0.11737924814224243, 0.5490607619285583, 0.08684276789426804, 0.1608751118183136, 0.006852088030427694, 0.05139065906405449, 0.024876058101654053, 0.0029791686683893204, 0.013150956481695175, 0.02731352485716343, 0.014162568375468254, 0.8790908455848694, 0.019220629706978798, 0.013150956481695175, 0.024278689175844193, 0.00910450890660286, 0.026440361514687538, 0.9365176558494568, 0.006345686968415976, 0.007403301540762186, 0.00581687968224287, 0.006874494254589081, 0.007403301540762186, 0.004230457823723555, 0.014859583228826523, 0.9304929971694946, 0.00849119108170271, 0.009906388819217682, 0.00849119108170271, 0.012736786156892776, 0.009906388819217682, 0.005660793744027615, 0.0602651908993721, 0.8825934529304504, 0.006318124942481518, 0.019926393404603004, 0.006804134231060743, 0.01166423037648201, 0.007776153739541769, 0.004374086391180754, 0.012941236607730389, 0.027176596224308014, 0.009705927222967148, 0.012294174171984196, 0.872239351272583, 0.008411803282797337, 0.051764946430921555, 0.005176494363695383, 0.047558024525642395, 0.02753359265625477, 0.033791229128837585, 0.047558024525642395, 0.6971005201339722, 0.08760689198970795, 0.0212759580463171, 0.03879733756184578, 0.029511267319321632, 0.03794305771589279, 0.025295371189713478, 0.050590742379426956, 0.025295371189713478, 0.03794305771589279, 0.03161921352148056, 0.7630770802497864, 0.038863543421030045, 0.047832053154706955, 0.03587403893470764, 0.04484254866838455, 0.03587403893470764, 0.038863543421030045, 0.038863543421030045, 0.7234598398208618, 0.010033306665718555, 0.20178094506263733, 0.01672217808663845, 0.04849431663751602, 0.478532999753952, 0.09420160204172134, 0.12653115391731262, 0.02341104857623577, 0.04902905970811844, 0.026615774258971214, 0.016809962689876556, 0.019611623138189316, 0.018210792914032936, 0.021012453362345695, 0.019611623138189316, 0.8306923508644104, 0.003956628032028675, 0.005275504197925329, 0.8262758255004883, 0.006264660973101854, 0.0049457852728664875, 0.10419120639562607, 0.046160660684108734, 0.0032971901819109917, 0.00865617673844099, 0.016075756400823593, 0.15086477994918823, 0.788948655128479, 0.008037878200411797, 0.00865617673844099, 0.013602563180029392, 0.004946386441588402, 0.04382065311074257, 0.005781891755759716, 0.02343187853693962, 0.16980503499507904, 0.5033289194107056, 0.22640672326087952, 0.018258607015013695, 0.009129303507506847, 0.0058839526027441025, 0.04707162082195282, 0.1353309005498886, 0.3135305941104889, 0.051904864609241486, 0.05295557156205177, 0.38771042227745056, 0.0056738113053143024, 0.002762146992608905, 0.008073967881500721, 0.2562422454357147, 0.39307475090026855, 0.03208339959383011, 0.3023488521575928, 0.0036120382137596607, 0.0019122555386275053, 0.0029101516120135784, 0.01925177313387394, 0.1611776351928711, 0.5133059620857239, 0.01567004807293415, 0.2811654210090637, 0.004029440693557262, 0.002462435979396105, 0.00371985393576324, 0.06540743261575699, 0.08369671553373337, 0.6131559014320374, 0.024489037692546844, 0.19436237215995789, 0.01208952534943819, 0.003099878318607807, 0.0037009522784501314, 0.04652625694870949, 0.028550203889608383, 0.04740743711590767, 0.13905006647109985, 0.002996009076014161, 0.7296162843704224, 0.0021148298401385546, 0.006956182420253754, 0.008695228025317192, 0.008115546777844429, 0.14607983827590942, 0.006376500707119703, 0.008115546777844429, 0.8115546107292175, 0.004637455102056265, 0.01765076257288456, 0.009738351218402386, 0.013390233740210533, 0.013390233740210533, 0.8959283232688904, 0.01278158649802208, 0.0158248208463192, 0.02069399692118168, 0.13809487223625183, 0.01965583860874176, 0.01965583860874176, 0.029231760650873184, 0.7489379048347473, 0.009575922042131424, 0.028727766126394272, 0.00554395467042923, 0.3487504720687866, 0.07942191511392593, 0.01200153399258852, 0.015884382650256157, 0.45994114875793457, 0.04271133989095688, 0.034239672124385834, 0.007412712089717388, 0.002418047282844782, 0.05501057580113411, 0.08040007203817368, 0.019948890432715416, 0.011888732202351093, 0.728638231754303, 0.09692339599132538, 0.004634590819478035, 0.003968045115470886, 0.08485511690378189, 0.1263669729232788, 0.025944909080863, 0.12972454726696014, 0.5271394848823547, 0.0973697155714035, 0.0045785135589540005, 0.08450731635093689, 0.4446024000644684, 0.07292668521404266, 0.15273915231227875, 0.053051818162202835, 0.09796589612960815, 0.08920217305421829, 0.004851346369832754, 0.0044996486976742744, 0.9576751589775085, 0.0044996486976742744, 0.013498945161700249, 0.005249589681625366, 0.00487461918964982, 0.006749472580850124, 0.0029997655656188726, 0.013310431502759457, 0.018150588497519493, 0.01452047098428011, 0.8954290151596069, 0.013310431502759457, 0.01452047098428011, 0.0205706674605608, 0.00847027450799942, 0.868707537651062, 0.02535398304462433, 0.016013041138648987, 0.018681881949305534, 0.02268514223396778, 0.018681881949305534, 0.018681881949305534, 0.010675361379981041, 0.010652991011738777, 0.01775498501956463, 0.01242848951369524, 0.8531270027160645, 0.045275211334228516, 0.011540739797055721, 0.04172421619296074, 0.0071019940078258514, 0.009015082381665707, 0.012293295003473759, 0.009834636002779007, 0.011473741382360458, 0.009015082381665707, 0.009834636002779007, 0.9318317174911499, 0.005736870691180229, 0.03988467529416084, 0.06979818642139435, 0.03988467529416084, 0.04653212055563927, 0.03656095266342163, 0.043208397924900055, 0.04653212055563927, 0.6780394911766052, 0.012023478746414185, 0.016395652666687965, 0.021860871464014053, 0.897388756275177, 0.012023478746414185, 0.015302609652280807, 0.015302609652280807, 0.008744347840547562, 0.2840416729450226, 0.08881798386573792, 0.10411929339170456, 0.0416828952729702, 0.2836899161338806, 0.13788771629333496, 0.0337684191763401, 0.025853946805000305, 0.007666964549571276, 0.00817809533327818, 0.00817809533327818, 0.00817809533327818, 0.010222619399428368, 0.9455923438072205, 0.00868922658264637, 0.00408904766663909, 0.002751097548753023, 0.00389738823287189, 0.8443576693534851, 0.013067713007330894, 0.004126646090298891, 0.00389738823287189, 0.12540419399738312, 0.0020633230451494455, 0.039610110223293304, 0.012157558463513851, 0.12118341028690338, 0.03333524242043495, 0.5619929432868958, 0.030197806656360626, 0.16981364786624908, 0.03176652640104294, 0.010858087800443172, 0.01696576364338398, 0.04275372251868248, 0.022394806146621704, 0.8211429119110107, 0.01221534889191389, 0.06786305457353592, 0.005429043900221586, 0.0732332393527031, 0.03276223689317703, 0.0250534750521183, 0.03276223689317703, 0.755458652973175, 0.028907855972647667, 0.028907855972647667, 0.0250534750521183, 0.03664693608880043, 0.03926457464694977, 0.03664693608880043, 0.03664693608880043, 0.7564975023269653, 0.03664693608880043, 0.03664693608880043, 0.020941106602549553, 0.017935363575816154, 0.016880342736840248, 0.01899038441479206, 0.020045407116413116, 0.026375534012913704, 0.8735576868057251, 0.016880342736840248, 0.008440171368420124, 0.004944533109664917, 0.006592710502445698, 0.09724248200654984, 0.013185421004891396, 0.006180666387081146, 0.8587005734443665, 0.007828843779861927, 0.004944533109664917, 0.006901312619447708, 0.013271755538880825, 0.008493923582136631, 0.9375168085098267, 0.008493923582136631, 0.009555663913488388, 0.010617404244840145, 0.004777831956744194, 0.009407253004610538, 0.9321020245552063, 0.009407253004610538, 0.014110879972577095, 0.008623315952718258, 0.010191190987825394, 0.010975128971040249, 0.0054875644855201244, 0.015236775390803814, 0.01904596947133541, 0.017776237800717354, 0.02031569927930832, 0.013967043720185757, 0.8811934590339661, 0.022855162620544434, 0.008888118900358677, 0.01080133393406868, 0.01440177857875824, 0.01170144509524107, 0.01530188973993063, 0.01080133393406868, 0.9136128425598145, 0.01260155625641346, 0.01080133393406868, 0.0032355375587940216, 0.004314050078392029, 0.0032355375587940216, 0.004583678208291531, 0.00296590942889452, 0.9733575582504272, 0.003774793818593025, 0.004314050078392029, 0.006117938552051783, 0.00815725140273571, 0.009176908060908318, 0.014785018749535084, 0.006627766881138086, 0.9380839467048645, 0.012745705433189869, 0.004588454030454159, 0.043573468923568726, 0.05083571374416351, 0.03873197361826897, 0.041152723133563995, 0.08956769108772278, 0.03146972879767418, 0.04841496795415878, 0.6584435701370239, 0.5870674252510071, 0.3445330262184143, 0.0024924480821937323, 0.002875901758670807, 0.04582270234823227, 0.003834535600617528, 0.0026841750368475914, 0.010736700147390366, 0.4820633828639984, 0.4539857506752014, 0.0048719169571995735, 0.006282208953052759, 0.008077125996351242, 0.03923175483942032, 0.0035898336209356785, 0.0019231252372264862, 0.01640855148434639, 0.02237529680132866, 0.019391924142837524, 0.029833730310201645, 0.01640855148434639, 0.019391924142837524, 0.8666698932647705, 0.010441805236041546, 0.0034183587413281202, 0.005982127971947193, 0.003703222144395113, 0.007406444288790226, 0.0034183587413281202, 0.9696744680404663, 0.003988085314631462, 0.00227890582755208, 0.009634211659431458, 0.012598584406077862, 0.010375305078923702, 0.017045143991708755, 0.011857491917908192, 0.9211788773536682, 0.010375305078923702, 0.006669838912785053, 0.009673702530562878, 0.012898270040750504, 0.8440305590629578, 0.028214965015649796, 0.01209212839603424, 0.0669097751379013, 0.02095968835055828, 0.006449135020375252, 0.0014391441363841295, 0.02291560359299183, 0.21055786311626434, 0.4043995141983032, 0.02369052730500698, 0.025240374729037285, 0.3099695146083832, 0.0017712543485686183, 0.0010356924030929804, 0.001639846246689558, 0.17598138749599457, 0.5093880295753479, 0.001639846246689558, 0.0064730774611234665, 0.30276739597320557, 0.0010356924030929804, 0.0032494976185262203, 0.004874246660619974, 0.18630453944206238, 0.18061791360378265, 0.03493209928274155, 0.0037910807877779007, 0.5838264226913452, 0.002437123330309987, 0.06266193091869354, 0.008173295296728611, 0.01050852332264185, 0.008951704949140549, 0.8881648182868958, 0.007005681749433279, 0.008562500588595867, 0.005838068202137947, 0.023278256878256798, 0.033254653215408325, 0.056532908231019974, 0.033254653215408325, 0.6916967630386353, 0.03491738438606262, 0.06152110546827316, 0.06650930643081665, 0.009623141959309578, 0.9460752010345459, 0.007217356935143471, 0.008420249447226524, 0.008420249447226524, 0.007217356935143471, 0.008420249447226524, 0.004811570979654789, 0.029941029846668243, 0.0673673152923584, 0.029941029846668243, 0.03493120148777962, 0.027445944026112556, 0.03243611752986908, 0.03493120148777962, 0.7410405278205872, 0.004767525941133499, 0.9807952046394348, 0.002137166913598776, 0.0027947567868977785, 0.002137166913598776, 0.0034523464273661375, 0.002630359260365367, 0.0013151796301826835, 0.75133216381073, 0.09847462922334671, 0.0031199881341308355, 0.003314987290650606, 0.002924988977611065, 0.1351344883441925, 0.003704985836520791, 0.0019499926129356027, 0.01562722772359848, 0.02344083972275257, 0.020836303010582924, 0.02734764665365219, 0.016929496079683304, 0.018231764435768127, 0.8542883992195129, 0.022138571366667747, 0.8975160121917725, 0.025756530463695526, 0.011887629516422749, 0.013868900947272778, 0.010896993800997734, 0.01684080809354782, 0.013868900947272778, 0.009906357154250145, 0.08517336845397949, 0.050473108887672424, 0.03785483166575432, 0.04416396841406822, 0.04100940003991127, 0.04731854051351547, 0.04416396841406822, 0.6498412489891052, 0.007073326036334038, 0.00884165707975626, 0.8281685709953308, 0.009431101381778717, 0.007073326036334038, 0.0100205447524786, 0.12555153667926788, 0.004126106854528189, 0.05336959287524223, 0.5636928677558899, 0.0018748100847005844, 0.06199371814727783, 0.17873188853263855, 0.13236159086227417, 0.005624430254101753, 0.0023747594095766544, 0.013581212610006332, 0.01697651483118534, 0.8918329477310181, 0.01584474742412567, 0.013581212610006332, 0.01697651483118534, 0.022635353729128838, 0.007922373712062836, 0.011637450195848942, 0.014546813443303108, 0.9077211618423462, 0.016486387699842453, 0.013577025383710861, 0.014546813443303108, 0.014546813443303108, 0.006788512691855431, 0.023898325860500336, 0.9096782207489014, 0.010021878406405449, 0.01618918776512146, 0.009250964969396591, 0.014647360891103745, 0.010792792774736881, 0.006167309824377298, 0.013802696950733662, 0.018403595313429832, 0.013802696950733662, 0.023004494607448578, 0.012652471661567688, 0.8810721635818481, 0.016103146597743034, 0.02185427024960518, 0.041321735829114914, 0.6278837323188782, 0.07747825235128403, 0.03202434256672859, 0.1002052053809166, 0.09090781956911087, 0.02417321503162384, 0.0057850428856909275, 0.015730438753962517, 0.9225902557373047, 0.011011308059096336, 0.012584351934492588, 0.010224785655736923, 0.011011308059096336, 0.011011308059096336, 0.006292175967246294, 0.0211410541087389, 0.8760324120521545, 0.00858855340629816, 0.030390266329050064, 0.02246236987411976, 0.00990986917167902, 0.024444343522191048, 0.007267237640917301, 0.010738340206444263, 0.014042445458471775, 0.014868471771478653, 0.014868471771478653, 0.03634515404701233, 0.011564366519451141, 0.8698055744171143, 0.027258863672614098, 0.004123910795897245, 0.005498548038303852, 0.00824782159179449, 0.005498548038303852, 0.22269119322299957, 0.004811229649931192, 0.7361181378364563, 0.013402710668742657, 0.010599859990179539, 0.057542093098163605, 0.04467083513736725, 0.07495614886283875, 0.010599859990179539, 0.07571328431367874, 0.2634822130203247, 0.46185103058815, 0.009265342727303505, 0.0976424589753151, 0.026370590552687645, 0.22094279527664185, 0.010690780356526375, 0.07269730418920517, 0.25800415873527527, 0.30433088541030884, 0.24171273410320282, 0.16430146992206573, 0.07622639834880829, 0.12362105399370193, 0.1295453906059265, 0.052529074251651764, 0.06911720335483551, 0.14336882531642914, 0.017389338463544846, 0.02173667401075363, 0.8636704683303833, 0.02173667401075363, 0.017389338463544846, 0.02173667401075363, 0.02608400769531727, 0.011592891998589039, 0.006223654840141535, 0.008298206143081188, 0.7426894307136536, 0.01244730968028307, 0.009335481561720371, 0.10735803842544556, 0.10995122790336609, 0.003630465129390359, 0.059116579592227936, 0.04816906526684761, 0.02627403475344181, 0.03503204509615898, 0.032842542976140976, 0.07663260400295258, 0.03065304085612297, 0.6918829083442688, 0.0439753420650959, 0.029316892847418785, 0.01954459585249424, 0.024430744349956512, 0.08632196485996246, 0.05374763906002045, 0.02280202880501747, 0.7182638645172119, 0.4644341468811035, 0.11957255005836487, 0.013684984296560287, 0.12590186297893524, 0.07903078198432922, 0.10503225773572922, 0.0673985481262207, 0.024975096806883812, 0.00862719863653183, 0.9346131682395935, 0.00862719863653183, 0.01294079702347517, 0.00862719863653183, 0.00862719863653183, 0.011502930894494057, 0.005751465447247028, 0.2667558789253235, 0.17985109984874725, 0.26745298504829407, 0.05785907432436943, 0.0030207547824829817, 0.1973947137594223, 0.026024965569376945, 0.0017427431885153055, 0.012305645272135735, 0.9216280579566956, 0.007771986536681652, 0.010362648405134678, 0.007771986536681652, 0.009067317470908165, 0.009714982472360134, 0.022020628675818443, 0.8491299748420715, 0.05255736783146858, 0.0038323081098496914, 0.006295934785157442, 0.015329232439398766, 0.06432802975177765, 0.005200989544391632, 0.0032848354894667864, 0.8788176774978638, 0.029444921761751175, 0.009059975855052471, 0.010569971986114979, 0.009814973920583725, 0.04680987447500229, 0.010569971986114979, 0.006039984058588743, 0.6857153177261353, 0.3054130971431732, 0.0016321982257068157, 0.0018242215737700462, 0.0016321982257068157, 0.0013441633200272918, 0.0015361865516752005, 0.0009601166239008307, 0.015219321474432945, 0.020292427390813828, 0.015219321474432945, 0.020292427390813828, 0.013951044529676437, 0.8839889168739319, 0.01902415230870247, 0.01268276758491993, 0.9158395528793335, 0.016501612961292267, 0.011551129631698132, 0.013201290741562843, 0.013201290741562843, 0.010726048611104488, 0.011551129631698132, 0.008250806480646133, 0.0162846427410841, 0.021712856367230415, 0.0162846427410841, 0.018998749554157257, 0.02035580202937126, 0.8739424347877502, 0.018998749554157257, 0.012213481590151787, 0.015664255246520042, 0.01958031952381134, 0.8706715106964111, 0.01827496476471424, 0.01958031952381134, 0.01958031952381134, 0.02349638193845749, 0.013053545728325844, 0.016271546483039856, 0.025146936997771263, 0.017750779166817665, 0.8697881698608398, 0.016271546483039856, 0.017750779166817665, 0.023667704313993454, 0.010354621335864067, 0.007656010799109936, 0.014036020264029503, 0.00829401146620512, 0.8357812166213989, 0.007656010799109936, 0.00829401146620512, 0.11356416344642639, 0.0044660065323114395, 0.006937703117728233, 0.01445354800671339, 0.007515844888985157, 0.756209671497345, 0.007515844888985157, 0.00809398666024208, 0.19541196525096893, 0.004625135567039251, 0.01668086089193821, 0.02181343361735344, 0.01539771817624569, 0.0192471481859684, 0.01668086089193821, 0.87253737449646, 0.01796400547027588, 0.0192471481859684, 0.018475528806447983, 0.03126627951860428, 0.01705433428287506, 0.019896723330020905, 0.01705433428287506, 0.018475528806447983, 0.019896723330020905, 0.8584015369415283, 0.46757352352142334, 0.16656604409217834, 0.0835239589214325, 0.07147723436355591, 0.10938425362110138, 0.037746403366327286, 0.05284496396780014, 0.01092236302793026, 0.1611531525850296, 0.4987483620643616, 0.0028924925718456507, 0.19297057390213013, 0.002479279413819313, 0.11941862106323242, 0.003512312425300479, 0.01880120113492012, 0.7677762508392334, 0.1638791412115097, 0.009020870551466942, 0.016538262367248535, 0.01553594321012497, 0.010524348355829716, 0.011526667512953281, 0.0050115943886339664, 0.012274286709725857, 0.026302043348550797, 0.062248166650533676, 0.026302043348550797, 0.02279510349035263, 0.013151021674275398, 0.7908147573471069, 0.04646694287657738, 0.014274569228291512, 0.02022230625152588, 0.0154641168192029, 0.896918773651123, 0.013085021637380123, 0.0154641168192029, 0.01665366441011429, 0.008326832205057144, 0.009887674823403358, 0.013483193702995777, 0.011685434728860855, 0.9249470829963684, 0.009887674823403358, 0.010786554776132107, 0.012584313750267029, 0.006292156875133514, 0.012905486859381199, 0.01613185927271843, 0.01613185927271843, 0.01613185927271843, 0.012905486859381199, 0.018282772973179817, 0.8990823030471802, 0.008603658527135849, 0.009895662777125835, 0.013194217346608639, 0.06019861623644829, 0.01401885598897934, 0.06267253309488297, 0.010720301419496536, 0.8139182925224304, 0.01566813327372074, 0.012376622296869755, 0.3611178994178772, 0.07246312499046326, 0.10500166565179825, 0.0029943441040813923, 0.42659422755241394, 0.013175114057958126, 0.006188311148434877, 0.04367130249738693, 0.2373834252357483, 0.005436261650174856, 0.0038053833413869143, 0.2049470692873001, 0.4809279441833496, 0.005798679310828447, 0.018120871856808662, 0.1312221884727478, 0.042436063289642334, 0.05047007277607918, 0.19158028066158295, 0.45587867498397827, 0.03584405407309532, 0.08919812738895416, 0.00329600484110415, 0.10508386790752411, 0.02233032137155533, 0.01838967576622963, 0.019703224301338196, 0.7736799716949463, 0.01838967576622963, 0.03152516111731529, 0.011821934953331947, 0.04022352024912834, 0.6494119167327881, 0.003126180497929454, 0.0035430046264082193, 0.1444295346736908, 0.15380807220935822, 0.003126180497929454, 0.002292532240971923, 0.039767686277627945, 0.1142263263463974, 0.015230176970362663, 0.012691814452409744, 0.6988958716392517, 0.09899614751338959, 0.011845692992210388, 0.008461209014058113, 0.004933739081025124, 0.05814763903617859, 0.004933739081025124, 0.005638558883219957, 0.004933739081025124, 0.9120368957519531, 0.005990969017148018, 0.0035240992438048124, 0.012965657748281956, 0.07536288350820541, 0.00972424354404211, 0.012965657748281956, 0.010534596629440784, 0.858974814414978, 0.011344950646162033, 0.008103536441922188, 0.9047448039054871, 0.01627238839864731, 0.013017911463975906, 0.01627238839864731, 0.01193308550864458, 0.014102736487984657, 0.015187562443315983, 0.008678607642650604, 0.013307680375874043, 0.013307680375874043, 0.059219177812337875, 0.013307680375874043, 0.7678532004356384, 0.03593073785305023, 0.0924883782863617, 0.005323072429746389, 0.1458357572555542, 0.03314448893070221, 0.0866175964474678, 0.06319549679756165, 0.5784818530082703, 0.03226063773036003, 0.03933146223425865, 0.020770546048879623, 0.15573076903820038, 0.022365588694810867, 0.014082037843763828, 0.02402229979634285, 0.7272958159446716, 0.012425326742231846, 0.03561927005648613, 0.008283551782369614, 0.30618909001350403, 0.2411903291940689, 0.0041901711374521255, 0.17118380963802338, 0.1525835394859314, 0.10332348197698593, 0.02003106102347374, 0.0013285907916724682, 0.2693348526954651, 0.0834151953458786, 0.002887449227273464, 0.07796112447977066, 0.483006089925766, 0.035611871629953384, 0.04331173747777939, 0.004331173840910196, 0.04147065803408623, 0.034922659397125244, 0.026191994547843933, 0.03055732510983944, 0.02837465889751911, 0.032739993184804916, 0.03055732510983944, 0.7770291566848755, 0.9196376204490662, 0.014148271642625332, 0.01131861750036478, 0.01320505328476429, 0.010375399142503738, 0.01131861750036478, 0.01320505328476429, 0.0075457445345819, 0.005248086992651224, 0.008309471420943737, 0.005248086992651224, 0.010933514684438705, 0.0061227683909237385, 0.9542772173881531, 0.0061227683909237385, 0.00393606536090374, 0.006242777220904827, 0.005549135617911816, 0.9173414707183838, 0.007283240091055632, 0.006242777220904827, 0.005549135617911816, 0.0489017553627491, 0.002774567808955908, 0.04327580705285072, 0.013113880529999733, 0.8740401268005371, 0.010491104796528816, 0.013769574463367462, 0.009179716929793358, 0.03081762045621872, 0.005245552398264408, 0.13559725880622864, 0.0618513785302639, 0.03092568926513195, 0.038062386214733124, 0.028546791523694992, 0.03330459073185921, 0.038062386214733124, 0.6327871680259705, 0.010624228045344353, 0.06249546259641647, 0.0640578493475914, 0.019998546689748764, 0.5565220713615417, 0.004999636672437191, 0.26998040080070496, 0.011249182745814323, 0.037091195583343506, 0.07050999999046326, 0.03452052175998688, 0.015791302546858788, 0.5714247822761536, 0.005875833332538605, 0.2603728473186493, 0.004774114582687616, 0.8794863224029541, 0.03878545016050339, 0.01257906574755907, 0.014675576239824295, 0.016772087663412094, 0.013627320528030396, 0.014675576239824295, 0.009434298612177372, 0.14681680500507355, 0.01982026733458042, 0.3053789436817169, 0.032299693673849106, 0.08735599368810654, 0.07340840250253677, 0.074876569211483, 0.25986573100090027, 0.005090871825814247, 0.009757503867149353, 0.028848273679614067, 0.10096895694732666, 0.005090871825814247, 0.8378726243972778, 0.008484786376357079, 0.004242393188178539, 0.7253807187080383, 0.23758965730667114, 0.005695642437785864, 0.006509305443614721, 0.008950294926762581, 0.005695642437785864, 0.006509305443614721, 0.0036614842247217894, 0.28067150712013245, 0.017840640619397163, 0.01369906309992075, 0.02676095999777317, 0.5454138517379761, 0.07168114185333252, 0.04141576960682869, 0.003185828449204564, 0.02140379510819912, 0.026754742488265038, 0.04994218796491623, 0.032105691730976105, 0.019620144739747047, 0.023187443614006042, 0.8133441805839539, 0.012485546991229057, 0.02068999409675598, 0.8908191919326782, 0.01379332970827818, 0.017241662368178368, 0.012643885798752308, 0.01954055018723011, 0.016092218458652496, 0.01034499704837799, 0.009025713428854942, 0.019439999014139175, 0.013885713182389736, 0.014579998329281807, 0.015968570485711098, 0.9039599299430847, 0.01249714195728302, 0.010414284653961658, 0.008071230724453926, 0.010089038871228695, 0.8158669471740723, 0.039010949432849884, 0.008743833750486374, 0.011434243991971016, 0.0988725796341896, 0.006726025603711605, 0.24738439917564392, 0.02511516772210598, 0.008790308609604836, 0.0496024563908577, 0.43135300278663635, 0.01758061721920967, 0.02134789153933525, 0.19903770089149475, 0.8286547660827637, 0.022201616317033768, 0.004933692514896393, 0.0039058399852365255, 0.0047281221486628056, 0.1282760053873062, 0.00513926288112998, 0.0020557052921503782, 0.8085595369338989, 0.0457569919526577, 0.008928193710744381, 0.011718254536390305, 0.08202777802944183, 0.026784582063555717, 0.01116024237126112, 0.00558012118563056, 0.028292054310441017, 0.8978011608123779, 0.01225989032536745, 0.014146027155220509, 0.01320295874029398, 0.01320295874029398, 0.01320295874029398, 0.00848761573433876, 0.006539183668792248, 0.01035370770841837, 0.016892891377210617, 0.7868817448616028, 0.006539183668792248, 0.02288714237511158, 0.1444069743156433, 0.0049043879844248295, 0.007309767883270979, 0.009137209504842758, 0.7931097745895386, 0.1553325653076172, 0.011573798954486847, 0.010355504229664803, 0.008528062142431736, 0.004264031071215868, 0.007062577176839113, 0.949916660785675, 0.007062577176839113, 0.009416770190000534, 0.007062577176839113, 0.007062577176839113, 0.00823967345058918, 0.00411983672529459, 0.1371673196554184, 0.01630660519003868, 0.023021088913083076, 0.01822502911090851, 0.7261235117912292, 0.015347393229603767, 0.05563430115580559, 0.008632908575236797, 0.00224840990267694, 0.0031131829600781202, 0.18592621386051178, 0.36233991384506226, 0.01643068715929985, 0.0029402284417301416, 0.4256412982940674, 0.0013836368452757597, 0.01473824493587017, 0.01927308924496174, 0.013604533858597279, 0.015871955081820488, 0.012470822781324387, 0.8899632692337036, 0.015871955081820488, 0.017005667090415955, 0.015018507838249207, 0.015018507838249207, 0.011263880878686905, 0.013141194358468056, 0.011263880878686905, 0.9123743772506714, 0.013141194358468056, 0.009386567398905754, 0.009484638459980488, 0.011855797842144966, 0.012646184302866459, 0.012646184302866459, 0.008694251999258995, 0.9271234273910522, 0.012646184302866459, 0.005532705690711737, 0.010644775815308094, 0.017487846314907074, 0.009124093689024448, 0.01368614099919796, 0.009884434752166271, 0.9093680381774902, 0.010644775815308094, 0.01900852844119072, 0.004160336684435606, 0.006240504793822765, 0.009707451798021793, 0.013521093875169754, 0.004507031291723251, 0.9527170658111572, 0.006587199401110411, 0.0027735575567930937, 0.06599694490432739, 0.04061350226402283, 0.02369121089577675, 0.028767898678779602, 0.7175052165985107, 0.027075668796896935, 0.03215235844254494, 0.06430471688508987, 0.04261580482125282, 0.039952315390110016, 0.039952315390110016, 0.039952315390110016, 0.03728882968425751, 0.0346253402531147, 0.03728882968425751, 0.7297956347465515, 0.02929648756980896, 0.04394473135471344, 0.0927722156047821, 0.04638610780239105, 0.0366206094622612, 0.034179236739873886, 0.04394473135471344, 0.6713778376579285, 0.0108174504712224, 0.013521812856197357, 0.01893053762614727, 0.02073344588279724, 0.009915996342897415, 0.9041585326194763, 0.015324721112847328, 0.007211633492261171, 0.08407645672559738, 0.08691049367189407, 0.02172762341797352, 0.3004080057144165, 0.030229737982153893, 0.05951479449868202, 0.06140415370464325, 0.35425472259521484, 0.11911027133464813, 0.02195887640118599, 0.009315887466073036, 0.019297195598483086, 0.6308186650276184, 0.02794766239821911, 0.013308410532772541, 0.15837007761001587, 0.04147166758775711, 0.015667075291275978, 0.8441788554191589, 0.014745482243597507, 0.014745482243597507, 0.047001224011182785, 0.014745482243597507, 0.008294333703815937, 0.017693594098091125, 0.024127628654241562, 0.8605520725250244, 0.022519120946526527, 0.017693594098091125, 0.022519120946526527, 0.022519120946526527, 0.011259560473263264, 0.010504534468054771, 0.014324364252388477, 0.9196242094039917, 0.013369406573474407, 0.010504534468054771, 0.011459491215646267, 0.013369406573474407, 0.006684703286737204, 0.0037689704913645983, 0.005339374765753746, 0.9177443385124207, 0.011620992794632912, 0.004083051346242428, 0.005339374765753746, 0.04962477833032608, 0.00251264707185328, 0.007425251882523298, 0.0177063699811697, 0.1302274912595749, 0.010852291248738766, 0.007996425032615662, 0.8064966201782227, 0.01427933108061552, 0.005711732432246208, 0.0021467695478349924, 0.005009129177778959, 0.3526069223880768, 0.09660463780164719, 0.06619206070899963, 0.2620847821235657, 0.21378247439861298, 0.0014311798149719834, 0.004031948745250702, 0.0052919331938028336, 0.4971897006034851, 0.005039936397224665, 0.1443941742181778, 0.2910563051700592, 0.05115535110235214, 0.002015974372625351, 0.02367434836924076, 0.02705639787018299, 0.025365373119711876, 0.02705639787018299, 0.8184560537338257, 0.03720254823565483, 0.028747422620654106, 0.01183717418462038, 0.01877451315522194, 0.02560160867869854, 0.022188059985637665, 0.8568004965782166, 0.01877451315522194, 0.020481286570429802, 0.02560160867869854, 0.011947416700422764, 0.7608901262283325, 0.019695671275258064, 0.013902826234698296, 0.014771752990782261, 0.14684860408306122, 0.011875330470502377, 0.028964221477508545, 0.002896422054618597, 0.005853742826730013, 0.007804990746080875, 0.7765965461730957, 0.11561141908168793, 0.006341554690152407, 0.054634932428598404, 0.029268713667988777, 0.0039024953730404377, 0.009626118466258049, 0.012032647617161274, 0.8960312008857727, 0.029680531471967697, 0.010428294539451599, 0.012032647617161274, 0.024065295234322548, 0.006417412310838699, 0.014375921338796616, 0.017969900742173195, 0.8805251717567444, 0.020365888252854347, 0.017969900742173195, 0.017969900742173195, 0.0227618757635355, 0.009583947248756886, 0.008401468396186829, 0.011456548236310482, 0.8760440349578857, 0.010692778043448925, 0.008401468396186829, 0.009165238589048386, 0.069503054022789, 0.0053463890217244625, 0.9257877469062805, 0.01513766497373581, 0.009560630656778812, 0.011154068633913994, 0.01035735011100769, 0.01035735011100769, 0.011154068633913994, 0.006373753771185875, 0.07560695707798004, 0.44680026173591614, 0.0796416625380516, 0.08648312836885452, 0.009648219682276249, 0.25769516825675964, 0.03192683681845665, 0.012279552407562733, 0.008321240544319153, 0.9380307197570801, 0.009077716618776321, 0.010590669699013233, 0.008321240544319153, 0.00983419269323349, 0.010590669699013233, 0.005295334849506617, 0.8782371282577515, 0.023271260783076286, 0.01214152667671442, 0.014165114611387253, 0.011129733175039291, 0.013153321109712124, 0.014165114611387253, 0.03440099209547043, 0.8357155323028564, 0.026623031124472618, 0.0018574207788333297, 0.0034671854227781296, 0.11342649906873703, 0.007058199029415846, 0.002848045201972127, 0.009039447642862797, 0.8579849600791931, 0.08023663610219955, 0.005470679607242346, 0.00638245977461338, 0.010941359214484692, 0.00638245977461338, 0.00638245977461338, 0.025985728949308395, 0.021111996844410896, 0.026389995589852333, 0.8515172004699707, 0.02463066205382347, 0.019352663308382034, 0.021111996844410896, 0.02463066205382347, 0.012315331026911736, 0.012412725016474724, 0.016550298780202866, 0.012412725016474724, 0.014481511898338795, 0.011378331109881401, 0.9102664589881897, 0.013447117991745472, 0.008275149390101433, 0.00692711491137743, 0.9501692652702332, 0.007504374720156193, 0.008081634528934956, 0.0063498555682599545, 0.008081634528934956, 0.008658894337713718, 0.004618076607584953, 0.31165367364883423, 0.6575819253921509, 0.0029378195758908987, 0.003427456133067608, 0.0029378195758908987, 0.003917092457413673, 0.003427456133067608, 0.013954642228782177, 0.030736345797777176, 0.9233449101448059, 0.007527268026024103, 0.008781813085079193, 0.006899995729327202, 0.008781813085079193, 0.008781813085079193, 0.005018178839236498, 0.002789652207866311, 0.005424323957413435, 0.15591056644916534, 0.10244223475456238, 0.30112746357917786, 0.03828023001551628, 0.39256608486175537, 0.0013948261039331555, 0.08525636792182922, 0.13822415471076965, 0.13701485097408295, 0.1609591841697693, 0.22916428744792938, 0.13133108615875244, 0.11016815900802612, 0.007981447502970695, 0.054907385259866714, 0.05229274556040764, 0.03137564659118652, 0.03660492226481438, 0.03137564659118652, 0.03660492226481438, 0.03660492226481438, 0.7242545485496521, 0.01209159754216671, 0.017129763960838318, 0.016122130677103996, 0.8887324333190918, 0.028213728219270706, 0.015114497393369675, 0.015114497393369675, 0.008061065338551998, 0.016238991171121597, 0.02029873989522457, 0.8484873175621033, 0.02029873989522457, 0.018945489078760147, 0.017592240124940872, 0.037890978157520294, 0.02029873989522457, 0.013139128684997559, 0.01791699416935444, 0.014333594590425491, 0.016722526401281357, 0.013139128684997559, 0.014333594590425491, 0.9006275534629822, 0.008361263200640678, 0.016742639243602753, 0.02092829905450344, 0.016742639243602753, 0.03767094016075134, 0.015347420237958431, 0.01813785918056965, 0.8650363683700562, 0.009766539558768272, 0.1322447508573532, 0.7859397530555725, 0.006219431292265654, 0.029133126139640808, 0.011784185655415058, 0.024550387635827065, 0.006219431292265654, 0.0036007233429700136, 0.002669540699571371, 0.006438304204493761, 0.006281272042542696, 0.688898503780365, 0.08291279524564743, 0.008636749349534512, 0.2027280628681183, 0.001570318010635674, 0.04051612317562103, 0.010554620064795017, 0.008171319030225277, 0.6618768572807312, 0.06468960642814636, 0.030301975086331367, 0.1804499626159668, 0.0034047162625938654, 0.09804936498403549, 0.0326831229031086, 0.015341057442128658, 0.7957339882850647, 0.030015112832188606, 0.012673047371208668, 0.009338035248219967, 0.006003022659569979, 0.011204629205167294, 0.013790313154459, 0.027580626308918, 0.8644802570343018, 0.01034273486584425, 0.051713671535253525, 0.012066523544490337, 0.007757050916552544, 0.032990120351314545, 0.054983533918857574, 0.0307907797396183, 0.08137562870979309, 0.716985285282135, 0.0307907797396183, 0.03518946096301079, 0.017594730481505394, 0.021306972950696945, 0.026223966851830482, 0.10161787271499634, 0.037696950137615204, 0.026223966851830482, 0.026223966851830482, 0.10161787271499634, 0.6621551513671875, 0.03321712091565132, 0.04270772635936737, 0.028471816331148148, 0.03321712091565132, 0.028471816331148148, 0.030844468623399734, 0.030844468623399734, 0.7687390446662903, 0.003986395429819822, 0.02790476754307747, 0.05381633713841438, 0.5576524138450623, 0.004872261080890894, 0.006201059557497501, 0.33928653597831726, 0.006422525737434626, 0.007021654862910509, 0.9333399534225464, 0.007021654862910509, 0.019444582983851433, 0.0075617823749780655, 0.012422927655279636, 0.008642036467790604, 0.004861145745962858, 0.19235573709011078, 0.07444607466459274, 0.12892240285873413, 0.30013370513916016, 0.0032304017804563046, 0.17062394320964813, 0.12701351940631866, 0.0033772382885217667, 0.13195239007472992, 0.2734226584434509, 0.031582046300172806, 0.2739418148994446, 0.01548818126320839, 0.08817014843225479, 0.1818779706954956, 0.003547572297975421, 0.09495086222887039, 0.5330196022987366, 0.00335684884339571, 0.08368144184350967, 0.14818090200424194, 0.07049382477998734, 0.06270113587379456, 0.0035966236609965563, 0.31178510189056396, 0.05476892739534378, 0.07588096708059311, 0.08215338736772537, 0.2634415924549103, 0.17241503298282623, 0.02386578917503357, 0.015451568178832531, 0.005349812563508749, 0.17788125574588776, 0.005795630160719156, 0.6745221614837646, 0.010699625127017498, 0.006687265355139971, 0.11457514762878418, 0.004458176903426647, 0.0041806683875620365, 0.08972357958555222, 0.0041806683875620365, 0.6949557662010193, 0.013185185380280018, 0.004502258263528347, 0.18620054423809052, 0.0028943088836967945, 0.16841699182987213, 0.4763410985469818, 0.027565257623791695, 0.08661765605211258, 0.03921886160969734, 0.10835611075162888, 0.08516095578670502, 0.008516095578670502, 0.008964233100414276, 0.00956184882670641, 0.10458272695541382, 0.03406408801674843, 0.00956184882670641, 0.008964233100414276, 0.8199285268783569, 0.004780924413353205, 0.0065359389409422874, 0.008169923909008503, 0.16013050079345703, 0.08333322405815125, 0.005991277284920216, 0.008714585565030575, 0.7222212553024292, 0.004901954438537359, 0.005534940864890814, 0.008089528419077396, 0.07706340402364731, 0.06769657880067825, 0.005960705224424601, 0.047685641795396805, 0.7817039489746094, 0.005960705224424601, 0.007140747271478176, 0.016661744564771652, 0.21957798302173615, 0.033323489129543304, 0.008925934322178364, 0.008330872282385826, 0.6991981863975525, 0.005950622726231813, 0.0051055061630904675, 0.016494711861014366, 0.24663522839546204, 0.008247355930507183, 0.06990616023540497, 0.006676431279629469, 0.6432937979698181, 0.0035345812793821096, 0.007534238509833813, 0.010673504322767258, 0.14566193521022797, 0.03264836594462395, 0.008162091486155987, 0.010045651346445084, 0.7779101133346558, 0.007534238509833813, 0.01610340178012848, 0.02147120051085949, 0.08185895532369614, 0.033548753708601, 0.01610340178012848, 0.01744535192847252, 0.8024861216545105, 0.010735600255429745, 0.004529252182692289, 0.006416440475732088, 0.006039002910256386, 0.3713986575603485, 0.009058504365384579, 0.005284127313643694, 0.5944643020629883, 0.003019501455128193, 0.004825946409255266, 0.021314596757292747, 0.006434595212340355, 0.39371681213378906, 0.00522810872644186, 0.006434595212340355, 0.5590054988861084, 0.0032172976061701775, 0.9119691848754883, 0.018519433215260506, 0.006323709152638912, 0.007227095775306225, 0.036587174981832504, 0.0076787895523011684, 0.0076787895523011684, 0.004516934975981712, 0.015888473019003868, 0.034425023943185806, 0.017212511971592903, 0.8619496822357178, 0.018536550924181938, 0.023832708597183228, 0.018536550924181938, 0.010592315346002579, 0.005637240596115589, 0.015177186578512192, 0.04639882594347, 0.00823904387652874, 0.006070874631404877, 0.9067285060882568, 0.00780541030690074, 0.00390270515345037, 0.014386151917278767, 0.019617479294538498, 0.057544607669115067, 0.8487829566001892, 0.014386151917278767, 0.01569398306310177, 0.019617479294538498, 0.00915482360869646, 0.009127767756581306, 0.04639948531985283, 0.013691650703549385, 0.01901618205010891, 0.008367120288312435, 0.010649061761796474, 0.8853934407234192, 0.0060851783491671085, 0.019827229902148247, 0.027037130668759346, 0.025234654545783997, 0.032444555312395096, 0.019827229902148247, 0.023432180285453796, 0.8399535417556763, 0.012617327272891998, 0.009330334141850471, 0.012440445832908154, 0.010107861831784248, 0.012440445832908154, 0.009330334141850471, 0.9229255318641663, 0.01710561290383339, 0.006997750606387854, 0.024872014299035072, 0.017765725031495094, 0.8835486769676208, 0.016581343486905098, 0.01421257946640253, 0.016581343486905098, 0.01895010657608509, 0.008290671743452549, 0.1171560063958168, 0.1580243706703186, 0.046812862157821655, 0.440883070230484, 0.012384355068206787, 0.05250966548919678, 0.14464926719665527, 0.027740957215428352, 0.026156222447752953, 0.03923433646559715, 0.04141401872038841, 0.06103118881583214, 0.03923433646559715, 0.05667181685566902, 0.04795307666063309, 0.6887805461883545, 0.006628993432968855, 0.13410963118076324, 0.01325798686593771, 0.7021633982658386, 0.008668683469295502, 0.01580760069191456, 0.11269289255142212, 0.005609148181974888, 0.8874313235282898, 0.019604520872235298, 0.015683617442846298, 0.018297553062438965, 0.01437664870172739, 0.015683617442846298, 0.018297553062438965, 0.010455744341015816, 0.00292418641038239, 0.43210476636886597, 0.004948623012751341, 0.5308522582054138, 0.0038239359855651855, 0.006298247259110212, 0.015520681627094746, 0.003374061081558466, 0.013886426575481892, 0.03587326779961586, 0.016200831159949303, 0.8389716148376465, 0.012729224748909473, 0.055545706301927567, 0.016200831159949303, 0.00925761740654707, 0.0074229976162314415, 0.05381673574447632, 0.009278747253119946, 0.8938526511192322, 0.0074229976162314415, 0.009278747253119946, 0.014227412641048431, 0.004948665387928486, 0.014222956262528896, 0.022519679740071297, 0.01659344881772995, 0.8865642547607422, 0.014222956262528896, 0.021334433928132057, 0.01659344881772995, 0.009481970220804214, 0.009218217805027962, 0.012290957383811474, 0.8557578921318054, 0.06068660318851471, 0.019204620271921158, 0.027654655277729034, 0.010754588060081005, 0.0053772940300405025, 0.006268810480833054, 0.00835841428488493, 0.008880814537405968, 0.8321846127510071, 0.005746409762650728, 0.00835841428488493, 0.1264210045337677, 0.004179207142442465, 0.05258728936314583, 0.023903312161564827, 0.02071620523929596, 0.027090420946478844, 0.7505640387535095, 0.022309759631752968, 0.022309759631752968, 0.08127126097679138, 0.019683798775076866, 0.03399929031729698, 0.0214732363820076, 0.028630981221795082, 0.019683798775076866, 0.0214732363820076, 0.8410350680351257, 0.012526053935289383, 0.23674364387989044, 0.0358099639415741, 0.02586275152862072, 0.027852192521095276, 0.023873308673501015, 0.02586275152862072, 0.031831078231334686, 0.590864360332489, 0.8557828664779663, 0.07541026175022125, 0.004326818510890007, 0.0064902277663350105, 0.023488443344831467, 0.01699821464717388, 0.005872110836207867, 0.011435163207352161, 0.03864414244890213, 0.01040419191122055, 0.2656784653663635, 0.13488291203975677, 0.040130455046892166, 0.006688409019261599, 0.4927128255367279, 0.011147348210215569, 0.027047229930758476, 0.012483336962759495, 0.05855279415845871, 0.24936950206756592, 0.23926395177841187, 0.00564722390845418, 0.40273621678352356, 0.005052778869867325, 0.0035425350069999695, 0.009537594392895699, 0.7185896039009094, 0.013080129399895668, 0.004087540321052074, 0.0068125673569738865, 0.22890226542949677, 0.015260150656104088, 0.030257809907197952, 0.0161374993622303, 0.014120311476290226, 0.88857102394104, 0.015128904953598976, 0.013111717998981476, 0.015128904953598976, 0.00806874968111515, 0.4126361310482025, 0.16091756522655487, 0.16722805798053741, 0.1149912029504776, 0.003681120928376913, 0.13392268121242523, 0.004732869565486908, 0.0017529147444292903, 0.010088987648487091, 0.9071681499481201, 0.011770485900342464, 0.011770485900342464, 0.011770485900342464, 0.025222469121217728, 0.014292732812464237, 0.006725992076098919, 0.19859160482883453, 0.06680731475353241, 0.0488089956343174, 0.013117417693138123, 0.18394890427589417, 0.33037588000297546, 0.008541574701666832, 0.14978261291980743, 0.08451586961746216, 0.04695326089859009, 0.03286728262901306, 0.04225793480873108, 0.6972559094429016, 0.039910271763801575, 0.035214945673942566, 0.023476630449295044, 0.002127027604728937, 0.0026587843894958496, 0.0031905414070934057, 0.9807369709014893, 0.002127027604728937, 0.0026587843894958496, 0.004785811994224787, 0.0015952707035467029, 0.023000186309218407, 0.04983373358845711, 0.030666913837194443, 0.03641695901751518, 0.7647561430931091, 0.02683354914188385, 0.0536670982837677, 0.015333456918597221, 0.021830596029758453, 0.0592544749379158, 0.020271267741918564, 0.04366119205951691, 0.7016977667808533, 0.023389924317598343, 0.06237313151359558, 0.07016977667808533, 0.01134319044649601, 0.06593229621648788, 0.010634241625666618, 0.06167859956622124, 0.674919843673706, 0.013470038771629333, 0.09074552357196808, 0.07160389423370361, 0.018666671589016914, 0.025454550981521606, 0.020363640040159225, 0.8586668372154236, 0.018666671589016914, 0.020363640040159225, 0.025454550981521606, 0.011878790333867073, 0.023874199017882347, 0.029842747375369072, 0.025863714516162872, 0.027853231877088547, 0.027853231877088547, 0.023874199017882347, 0.8256493806838989, 0.013926615938544273, 0.01855803094804287, 0.023197539150714874, 0.0309300534427166, 0.026290545240044594, 0.02165103703737259, 0.04020906984806061, 0.8273789286613464, 0.012372021563351154, 0.5964057445526123, 0.012773958034813404, 0.0731913298368454, 0.1985142081975937, 0.0654233768582344, 0.004142905119806528, 0.023649083450436592, 0.026065779849886894, 0.0033990496303886175, 0.10269985347986221, 0.21292617917060852, 0.023307768628001213, 0.3700108230113983, 0.15392838418483734, 0.12964946031570435, 0.004127417225390673, 0.01735125668346882, 0.02313501015305519, 0.02024313434958458, 0.864670991897583, 0.015905318781733513, 0.02024313434958458, 0.028918761759996414, 0.01012156717479229, 0.018206756561994553, 0.024275677278637886, 0.022758446633815765, 0.849648654460907, 0.01668952777981758, 0.027310136705636978, 0.03034459613263607, 0.012137838639318943, 0.17708110809326172, 0.5827231407165527, 0.0047666518948972225, 0.11344631016254425, 0.02264159545302391, 0.08246307075023651, 0.01429995521903038, 0.002621658379212022, 0.004157079849392176, 0.005196349695324898, 0.25947105884552, 0.6554328799247742, 0.00623561954125762, 0.01143196877092123, 0.05438845977187157, 0.0038106562569737434, 0.007786216214299202, 0.011030472815036774, 0.008435067720711231, 0.9265597462654114, 0.011030472815036774, 0.017518986016511917, 0.010381621308624744, 0.007137364707887173, 0.007939412258565426, 0.009924265556037426, 0.9031081199645996, 0.018525294959545135, 0.009924265556037426, 0.011247500777244568, 0.03506573662161827, 0.005292941350489855, 0.007600601762533188, 0.010858002118766308, 0.8078353404998779, 0.021173104643821716, 0.04397490993142128, 0.07654891908168793, 0.026602106168866158, 0.004343200940638781, 0.016740288585424423, 0.022827666252851486, 0.025871355086565018, 0.8659294247627258, 0.016740288585424423, 0.01826213300228119, 0.02130582183599472, 0.01065291091799736, 0.008499654941260815, 0.9264623522758484, 0.007845834828913212, 0.010461113415658474, 0.007845834828913212, 0.022883685305714607, 0.010461113415658474, 0.005230556707829237, 0.8628138303756714, 0.0702487975358963, 0.007364793214946985, 0.00849783793091774, 0.01982828974723816, 0.015296109020709991, 0.00849783793091774, 0.007364793214946985, 0.7784691452980042, 0.17706237733364105, 0.019673597067594528, 0.005145402625203133, 0.005448073148727417, 0.006658756174147129, 0.004842731636017561, 0.0027240365743637085, 0.00867843721061945, 0.030040742829442024, 0.0100135812535882, 0.8845329880714417, 0.02670288272202015, 0.012016297318041325, 0.0226974505931139, 0.005340576637536287, 0.016088739037513733, 0.020110921934247017, 0.020110921934247017, 0.8486809134483337, 0.016088739037513733, 0.017429465427994728, 0.05094766989350319, 0.009385096840560436, 0.01757027581334114, 0.02489122375845909, 0.0732094869017601, 0.02489122375845909, 0.02342703565955162, 0.01903446577489376, 0.8053043484687805, 0.01171351782977581, 0.5433862209320068, 0.10048788040876389, 0.0547935888171196, 0.06646442413330078, 0.12046676874160767, 0.060332290828228, 0.040353402495384216, 0.013846755027770996, 0.9147582650184631, 0.017591504380106926, 0.011110424064099789, 0.01296216156333685, 0.010184555314481258, 0.011110424064099789, 0.01296216156333685, 0.009258686564862728, 0.014594352804124355, 0.018242940306663513, 0.8853907585144043, 0.017026744782924652, 0.01337815634906292, 0.02675631269812584, 0.017026744782924652, 0.008513372391462326, 0.011482411995530128, 0.18907704949378967, 0.021433835849165916, 0.02219933085143566, 0.6529664993286133, 0.05128810927271843, 0.023730318993330002, 0.028323283419013023, 0.8220606446266174, 0.06818564236164093, 0.005245049484074116, 0.004438119009137154, 0.008271039463579655, 0.08573638647794724, 0.003631188068538904, 0.002219059504568577, 0.10853023827075958, 0.018366655334830284, 0.011687872000038624, 0.014192415401339531, 0.7880964875221252, 0.013357567600905895, 0.0392378531396389, 0.007513631600886583, 0.012957308441400528, 0.9260156750679016, 0.010365846566855907, 0.01209348812699318, 0.009502026252448559, 0.010365846566855907, 0.01209348812699318, 0.00604674406349659, 0.843498170375824, 0.07631423324346542, 0.007369910832494497, 0.024487122893333435, 0.02401164546608925, 0.015928516164422035, 0.005230259150266647, 0.003090607700869441, 0.011771347373723984, 0.9422428607940674, 0.007490857504308224, 0.008025918155908585, 0.006955795921385288, 0.007490857504308224, 0.011771347373723984, 0.00428048986941576, 0.01703023351728916, 0.019463125616312027, 0.392911821603775, 0.026761796325445175, 0.0377098023891449, 0.027978241443634033, 0.08028539270162582, 0.39777761697769165, 0.005099678877741098, 0.007224544882774353, 0.5188923478126526, 0.06544587761163712, 0.02167363464832306, 0.15086549520492554, 0.07097052782773972, 0.15978993475437164, 0.016382472589612007, 0.2789115905761719, 0.004914741963148117, 0.03563188016414642, 0.4453984797000885, 0.132493257522583, 0.06942073255777359, 0.01679203473031521, 0.00761055201292038, 0.009640032425522804, 0.04870752990245819, 0.039574868977069855, 0.009640032425522804, 0.00761055201292038, 0.8716618418693542, 0.006088441237807274, 0.015306562185287476, 0.009694156236946583, 0.012755468487739563, 0.08316565304994583, 0.12296271324157715, 0.007143062073737383, 0.7444091439247131, 0.00459196837618947, 0.2756403088569641, 0.6317174434661865, 0.006013969890773296, 0.014032596722245216, 0.031072178855538368, 0.011526775546371937, 0.004259895533323288, 0.02580995485186577, 0.0914512574672699, 0.8668904900550842, 0.0011940640397369862, 0.03427666053175926, 0.0014047811273485422, 0.0015452592633664608, 0.0016857373993843794, 0.0014750201953575015, 0.01335203554481268, 0.016690043732523918, 0.014464705251157284, 0.015577374957501888, 0.012239365838468075, 0.9001497030258179, 0.02002805285155773, 0.007788687478750944, 0.01443446148186922, 0.9411269426345825, 0.006928541697561741, 0.009238055907189846, 0.007505920249968767, 0.008083298802375793, 0.008083298802375793, 0.005196406506001949, 0.003756883554160595, 0.004696104675531387, 0.004383030813187361, 0.004696104675531387, 0.003443809924647212, 0.969275951385498, 0.00751376710832119, 0.0025045890361070633, 0.8291255831718445, 0.09274157881736755, 0.0063413046300411224, 0.015456929802894592, 0.030913859605789185, 0.010304619558155537, 0.008719293400645256, 0.0063413046300411224, 0.005243247840553522, 0.007864871993660927, 0.8153250813484192, 0.11841002106666565, 0.018788306042551994, 0.006554060149937868, 0.02359461598098278, 0.003932435996830463, 0.006255315616726875, 0.008340421132743359, 0.7355208992958069, 0.12614886462688446, 0.09278718382120132, 0.007297868374735117, 0.01824467070400715, 0.005212762858718634, 0.012310842983424664, 0.016787514090538025, 0.02686002105474472, 0.017906680703163147, 0.012310842983424664, 0.014549178071320057, 0.891976535320282, 0.007834172807633877, 0.010652607306838036, 0.011836230754852295, 0.07160919159650803, 0.008285361342132092, 0.037875935435295105, 0.8468822836875916, 0.008285361342132092, 0.004734491929411888, 0.008380510844290257, 0.010475638322532177, 0.009078886359930038, 0.013967517763376236, 0.0076821343973279, 0.9344269037246704, 0.011174013838171959, 0.0055870069190859795, 0.005017586052417755, 0.0066901142708957195, 0.005853849928826094, 0.06815554201602936, 0.005435718223452568, 0.897729754447937, 0.007526378612965345, 0.0037631893064826727, 0.8614267110824585, 0.0230152178555727, 0.013151553459465504, 0.015343478880822659, 0.0460304357111454, 0.016439441591501236, 0.015343478880822659, 0.00876770168542862, 0.010228414088487625, 0.011689616367220879, 0.1271245777606964, 0.013881419785320759, 0.6516961455345154, 0.013150818645954132, 0.15561802685260773, 0.015342622064054012, 0.007851713337004185, 0.14918255805969238, 0.17217685282230377, 0.29051339626312256, 0.02075095660984516, 0.0437452606856823, 0.100389763712883, 0.21536128222942352, 0.11313951015472412, 0.029590332880616188, 0.029590332880616188, 0.03481215611100197, 0.7014649510383606, 0.03133093938231468, 0.04525580257177353, 0.01566546969115734, 0.05803797394037247, 0.9148421883583069, 0.0033483447041362524, 0.01209124457091093, 0.002790287369862199, 0.004650478716939688, 0.0029763064812868834, 0.0016741723520681262, 0.006936569698154926, 0.9474198222160339, 0.006936569698154926, 0.009248759597539902, 0.006936569698154926, 0.008092665113508701, 0.008092665113508701, 0.005780474748462439, 0.9083714485168457, 0.018072310835123062, 0.011414091102778912, 0.013316440396010876, 0.015218788757920265, 0.012365265749394894, 0.013316440396010876, 0.008560569025576115, 0.9393430352210999, 0.011398167349398136, 0.00804576463997364, 0.009386725723743439, 0.009386725723743439, 0.00871624518185854, 0.009386725723743439, 0.0053638434037566185, 0.8846292495727539, 0.019258981570601463, 0.01540718600153923, 0.01797504909336567, 0.020542914047837257, 0.016691118478775024, 0.01797504909336567, 0.008987524546682835, 0.0570758655667305, 0.07990621030330658, 0.04566069319844246, 0.06088092178106308, 0.0570758655667305, 0.04566069319844246, 0.0570758655667305, 0.5973940491676331, 0.1247258260846138, 0.054126303642988205, 0.028239810839295387, 0.03294644504785538, 0.04471303150057793, 0.030593127012252808, 0.03294644504785538, 0.6518689393997192, 0.017160585150122643, 0.02145073190331459, 0.84372878074646, 0.02860097587108612, 0.017160585150122643, 0.024310829117894173, 0.037181269377470016, 0.011440389789640903, 0.015233955346047878, 0.019042445346713066, 0.8734134435653687, 0.017772948369383812, 0.015233955346047878, 0.02538992650806904, 0.024120429530739784, 0.008886474184691906, 0.5652693510055542, 0.1653822511434555, 0.011264425702393055, 0.0578581877052784, 0.09702766686677933, 0.09395555406808853, 0.0058882227167487144, 0.003072116058319807, 0.004299858585000038, 0.005374823696911335, 0.05804809555411339, 0.012899576686322689, 0.00465818028897047, 0.8083734512329102, 0.10355493426322937, 0.00286657246761024, 0.045779649168252945, 0.42625540494918823, 0.0744369849562645, 0.031180627644062042, 0.0046861059963703156, 0.38335949182510376, 0.026674756780266762, 0.007750098127871752, 0.16833271086215973, 0.06381507217884064, 0.09204097092151642, 0.1104491651058197, 0.32521143555641174, 0.08263234049081802, 0.13744784891605377, 0.020453549921512604, 0.024480272084474564, 0.03766195476055145, 0.0225971732288599, 0.026363369077444077, 0.0225971732288599, 0.024480272084474564, 0.024480272084474564, 0.8172644376754761, 0.02562352642416954, 0.2242058515548706, 0.02081911452114582, 0.04323970153927803, 0.02242058515548706, 0.03843529149889946, 0.02562352642416954, 0.5989499092102051, 0.9171770811080933, 0.013638321310281754, 0.011081135831773281, 0.011933530680835247, 0.01449071615934372, 0.012785926461219788, 0.011933530680835247, 0.007671555504202843, 0.01274850033223629, 0.01912275142967701, 0.02868412621319294, 0.01593562588095665, 0.013810875825583935, 0.8870831727981567, 0.014873250387609005, 0.00849900022149086, 0.8638538122177124, 0.03019549883902073, 0.015754172578454018, 0.01837986893951893, 0.0236312597990036, 0.01837986893951893, 0.01837986893951893, 0.0118156298995018, 0.005806137807667255, 0.007741517387330532, 0.7010911703109741, 0.008225361816585064, 0.007741517387330532, 0.006773827597498894, 0.25885698199272156, 0.003870758693665266, 0.019687717780470848, 0.026846887543797493, 0.025057094171643257, 0.02863667905330658, 0.019687717780470848, 0.021477509289979935, 0.8429922461509705, 0.012528547085821629, 0.1877080649137497, 0.008957868441939354, 0.017101384699344635, 0.6026202440261841, 0.047639574855566025, 0.051304154098033905, 0.018322912976145744, 0.0667768344283104, 0.0011720014736056328, 0.009473678655922413, 0.6796632409095764, 0.07110142707824707, 0.016505688428878784, 0.024319032207131386, 0.19631025195121765, 0.0013673350913450122, 0.01381419412791729, 0.018418924883008003, 0.8748989701271057, 0.0172677431255579, 0.016116559505462646, 0.014965376816689968, 0.0333843007683754, 0.011511827819049358, 0.0017187774647027254, 0.0024349347222596407, 0.6429660320281982, 0.02348995953798294, 0.03981834650039673, 0.004296943545341492, 0.28359827399253845, 0.001575545989908278, 0.01888572797179222, 0.0236071590334177, 0.8671696782112122, 0.02203334867954254, 0.01731191761791706, 0.01888572797179222, 0.02203334867954254, 0.01101667433977127, 0.8800046443939209, 0.01109156385064125, 0.00354930036701262, 0.004214794375002384, 0.0867360308766365, 0.006433106958866119, 0.004658456891775131, 0.00354930036701262, 0.022135568782687187, 0.025824829936027527, 0.10083980858325958, 0.06640670448541641, 0.7034191489219666, 0.03074384480714798, 0.02705458365380764, 0.024595076218247414, 0.9185203909873962, 0.015623308718204498, 0.007811654359102249, 0.009113596752285957, 0.009764567948877811, 0.022783992812037468, 0.010415539145469666, 0.005858740769326687, 0.005914764944463968, 0.008379249833524227, 0.006900558713823557, 0.9084092974662781, 0.006900558713823557, 0.010350838303565979, 0.007886352948844433, 0.04534652829170227, 0.016024962067604065, 0.016868380829691887, 0.8695650100708008, 0.011807866394519806, 0.012651285156607628, 0.05144856125116348, 0.013494704850018024, 0.007590771187096834, 0.17357514798641205, 0.05750983953475952, 0.030061962082982063, 0.05097462981939316, 0.4713192582130432, 0.07293292880058289, 0.14011487364768982, 0.003398308763280511, 0.0034318596590310335, 0.005015794653445482, 0.5303543210029602, 0.286956250667572, 0.0036958488635718822, 0.004487816244363785, 0.1636733114719391, 0.00211191363632679, 0.0038442136719822884, 0.005445969291031361, 0.5148042440414429, 0.295043408870697, 0.03363686800003052, 0.1319846659898758, 0.012173343449831009, 0.0028831602539867163, 0.1828823834657669, 0.026941079646348953, 0.5917528867721558, 0.009191662073135376, 0.004754308145493269, 0.1667177379131317, 0.012678154744207859, 0.004754308145493269, 0.011049158871173859, 0.013416835106909275, 0.05840269476175308, 0.12548686563968658, 0.011049158871173859, 0.011838383972644806, 0.7568673491477966, 0.011838383972644806, 0.023090392351150513, 0.009128759615123272, 0.07356707006692886, 0.16216973960399628, 0.05584653094410896, 0.007517802529036999, 0.6637145280838013, 0.00536985881626606, 0.013797830790281296, 0.017247289419174194, 0.8888102769851685, 0.01609746925532818, 0.013797830790281296, 0.019546927884221077, 0.022996384650468826, 0.00804873462766409, 0.002181901363655925, 0.0030210940167307854, 0.2947245240211487, 0.12940353155136108, 0.00436380272731185, 0.0052029951475560665, 0.5597416162490845, 0.0013427084777504206, 0.8667768239974976, 0.012829259037971497, 0.0184420607984066, 0.015234745107591152, 0.0368841215968132, 0.016838403418660164, 0.02485669031739235, 0.008018286898732185, 0.3402102589607239, 0.036197613924741745, 0.005204885732382536, 0.01419514324516058, 0.5566861629486084, 0.01608782820403576, 0.020109785720705986, 0.011356114409863949, 0.006428349297493696, 0.008035436272621155, 0.947110116481781, 0.008035436272621155, 0.006428349297493696, 0.0074997409246861935, 0.011785306967794895, 0.00482126185670495, 0.05377911031246185, 0.04302328824996948, 0.03226746618747711, 0.0376453772187233, 0.02957851067185402, 0.03226746618747711, 0.034956421703100204, 0.7367738485336304, 0.08102688938379288, 0.6832813620567322, 0.05123759061098099, 0.061110612004995346, 0.007660104893147945, 0.09481507539749146, 0.014809535816311836, 0.005957859102636576, 0.19114461541175842, 0.025032971054315567, 0.0044701737351715565, 0.48438799381256104, 0.052748046815395355, 0.006615856662392616, 0.2324490249156952, 0.0030397179070860147, 0.06608480960130692, 0.005295995157212019, 0.004374952521175146, 0.7225579619407654, 0.026940496638417244, 0.0048354738391935825, 0.1678600162267685, 0.002302606590092182, 0.12620313465595245, 0.11670134961605072, 0.00438543688505888, 0.019734466448426247, 0.6066520810127258, 0.0038981661200523376, 0.11962497234344482, 0.0029236245900392532, 0.005299767944961786, 0.9349674582481384, 0.011482831090688705, 0.007949652150273323, 0.005741415545344353, 0.007508005015552044, 0.021640719845891, 0.004858120810240507, 0.47172868251800537, 0.42422178387641907, 0.002598033519461751, 0.008350822143256664, 0.04286755248904228, 0.026722630485892296, 0.00371147645637393, 0.019856398925185204, 0.009162820875644684, 0.011453526094555855, 0.009162820875644684, 0.010689957067370415, 0.014507799409329891, 0.00992638897150755, 0.9300262928009033, 0.005344978533685207, 0.17022281885147095, 0.1308193951845169, 0.020489783957600594, 0.023642057552933693, 0.022065920755267143, 0.02837046980857849, 0.022065920755267143, 0.5831707715988159, 0.005655378568917513, 0.007830523885786533, 0.010440698824822903, 0.008265553042292595, 0.005655378568917513, 0.8979000449180603, 0.05959898605942726, 0.004350291099399328, 0.033351268619298935, 0.06670253723859787, 0.030785787850618362, 0.03848223388195038, 0.033351268619298935, 0.033351268619298935, 0.035916753113269806, 0.7285969853401184, 0.002597923157736659, 0.2845591902732849, 0.0029443129897117615, 0.0041566770523786545, 0.026325620710849762, 0.6491343975067139, 0.0027711179573088884, 0.027537986636161804, 0.2929742932319641, 0.18596521019935608, 0.3421197235584259, 0.11418052762746811, 0.004148184321820736, 0.027842050418257713, 0.030865302309393883, 0.0018983215559273958, 0.013956067152321339, 0.022097107023000717, 0.01744508370757103, 0.8850472569465637, 0.01744508370757103, 0.01511907298117876, 0.019771095365285873, 0.008141039870679379, 0.8751620650291443, 0.01815688982605934, 0.014525511302053928, 0.016946429386734962, 0.031471941620111465, 0.015735970810055733, 0.01815688982605934, 0.01089413370937109, 0.0037933094426989555, 0.00490898871794343, 0.6631597876548767, 0.004239581059664488, 0.059354137629270554, 0.25638309121131897, 0.006024667993187904, 0.0020082227420061827, 0.004486779682338238, 0.005384135525673628, 0.4848713278770447, 0.004785898141562939, 0.1058880016207695, 0.3864612877368927, 0.005982372909784317, 0.0023929490707814693, 0.8701609969139099, 0.030690325424075127, 0.010831879451870918, 0.012637193314731121, 0.03610626608133316, 0.015345162712037563, 0.012637193314731121, 0.011734536848962307, 0.17206910252571106, 0.48673251271247864, 0.10260417312383652, 0.1225195825099945, 0.006691576447337866, 0.07185478508472443, 0.03473246842622757, 0.0027084951288998127, 0.005178854335099459, 0.006473568268120289, 0.006905139423906803, 0.09537723660469055, 0.005610425490885973, 0.006041996646672487, 0.8709107041358948, 0.0030209983233362436, 0.01840055361390114, 0.02300069108605385, 0.021467313170433044, 0.02300069108605385, 0.021467313170433044, 0.01993393339216709, 0.8632926344871521, 0.010733656585216522, 0.008723422884941101, 0.011895576491951942, 0.010309499688446522, 0.01268861535936594, 0.010309499688446522, 0.010309499688446522, 0.928648054599762, 0.00634430767968297, 0.01696137711405754, 0.0212017223238945, 0.01837482675909996, 0.0212017223238945, 0.01696137711405754, 0.01837482675909996, 0.8777512907981873, 0.009894137270748615, 0.03254271671175957, 0.039568983018398285, 0.7492220401763916, 0.09208109229803085, 0.016271358355879784, 0.0355011448264122, 0.021448608487844467, 0.013312929309904575, 0.9623416066169739, 0.006779706105589867, 0.004519803915172815, 0.005649754777550697, 0.0071563562378287315, 0.005273104645311832, 0.005273104645311832, 0.0030132026877254248, 0.2044796347618103, 0.025559954345226288, 0.207035630941391, 0.02939394861459732, 0.09073784202337265, 0.024281956255435944, 0.02044796384871006, 0.39873528480529785, 0.019486060366034508, 0.035724446177482605, 0.019486060366034508, 0.022733736783266068, 0.019486060366034508, 0.021109899505972862, 0.022733736783266068, 0.8379006385803223, 0.003433423349633813, 0.029527440667152405, 0.14260151982307434, 0.01831159181892872, 0.32983753085136414, 0.44336941838264465, 0.026551807299256325, 0.006409056950360537, 0.06982964277267456, 0.07841916382312775, 0.17067700624465942, 0.30858656764030457, 0.11357258260250092, 0.17147232592105865, 0.08350925147533417, 0.003658500500023365, 0.004637084901332855, 0.00570718152448535, 0.766545832157135, 0.06099550426006317, 0.00428038602694869, 0.14838671684265137, 0.006420579273253679, 0.002853590762242675, 0.013612449169158936, 0.018149930983781815, 0.01928430236876011, 0.8507780432701111, 0.012478077784180641, 0.0431060865521431, 0.03403112292289734, 0.009074965491890907, 0.7534570097923279, 0.022002315148711205, 0.016379501670598984, 0.07260763645172119, 0.041315458714962006, 0.05329449474811554, 0.027625128626823425, 0.013445858843624592, 0.010640711523592472, 0.9186480641365051, 0.010640711523592472, 0.013300889171659946, 0.009753985330462456, 0.015961067751049995, 0.01241416297852993, 0.007980533875524998, 0.8609198331832886, 0.07429645955562592, 0.009191314689815044, 0.010723200626671314, 0.009191314689815044, 0.01148914359509945, 0.010723200626671314, 0.013021029531955719, 0.015327805653214455, 0.020437074825167656, 0.015327805653214455, 0.0702524408698082, 0.014050488360226154, 0.01660512201488018, 0.8391973376274109, 0.008941220119595528, 0.013554258272051811, 0.007559105753898621, 0.1462295949459076, 0.22885844111442566, 0.004691858775913715, 0.5742313861846924, 0.02189534157514572, 0.003388564568012953, 0.0032583868596702814, 0.007602902594953775, 0.07342232018709183, 0.104268379509449, 0.024546515196561813, 0.7533390522003174, 0.030628837645053864, 0.002823935355991125, 0.008113868534564972, 0.010818490758538246, 0.8235576152801514, 0.014875425025820732, 0.012170801870524883, 0.014199269004166126, 0.10886106640100479, 0.0067615569569170475, 0.010040463879704475, 0.9002948999404907, 0.011713874526321888, 0.015897400677204132, 0.012550579383969307, 0.02175433747470379, 0.01422399003058672, 0.0133872851729393, 0.01928567700088024, 0.008498772978782654, 0.7880977392196655, 0.011440656147897243, 0.08433397859334946, 0.007845020852982998, 0.07485457509756088, 0.005556890275329351, 0.06608282029628754, 0.004905711859464645, 0.7523053288459778, 0.0063485680148005486, 0.11456279456615448, 0.005482854321599007, 0.042419977486133575, 0.007791424170136452, 0.8638778924942017, 0.03932676464319229, 0.015730705112218857, 0.018352489918470383, 0.015730705112218857, 0.018352489918470383, 0.018352489918470383, 0.01048713643103838, 0.012005015276372433, 0.015006269328296185, 0.8783669471740723, 0.01600668765604496, 0.011004597879946232, 0.014005851000547409, 0.04601922631263733, 0.0070029255002737045, 0.004794812295585871, 0.0066389706917107105, 0.5639436841011047, 0.18441584706306458, 0.03983382508158684, 0.00811429787427187, 0.08335596323013306, 0.10917418450117111, 0.019561931490898132, 0.025580987334251404, 0.13091446459293365, 0.17455261945724487, 0.04815244674682617, 0.024076223373413086, 0.02859051711857319, 0.5477340817451477, 0.02670656330883503, 0.012535733170807362, 0.017441021278500557, 0.0272515956312418, 0.008720510639250278, 0.8409842252731323, 0.06049853935837746, 0.005450319033116102, 0.09820935875177383, 0.8095434308052063, 0.0034808379132300615, 0.042764581739902496, 0.005221256986260414, 0.032570697367191315, 0.0057185194455087185, 0.002486312761902809, 0.005941538140177727, 0.8268640637397766, 0.011883076280355453, 0.0440664067864418, 0.010397691279649734, 0.04901769012212753, 0.046046920120716095, 0.004951281473040581, 0.32489335536956787, 0.00989696104079485, 0.04334186390042305, 0.03617509827017784, 0.5146420001983643, 0.016381176188588142, 0.022524118423461914, 0.03207980468869209, 0.034803684800863266, 0.18469154834747314, 0.038516074419021606, 0.014385522343218327, 0.571244478225708, 0.08631313592195511, 0.010673129931092262, 0.05893423780798912, 0.13703538477420807, 0.037802863866090775, 0.028352148830890656, 0.033077504485845566, 0.6828142404556274, 0.03071482665836811, 0.033077504485845566, 0.018901431933045387, 0.046436700969934464, 0.012530538253486156, 0.008845086209475994, 0.011056357063353062, 0.8933536410331726, 0.010319266468286514, 0.010319266468286514, 0.007370905019342899, 0.12190771847963333, 0.03330162167549133, 0.02021884173154831, 0.014272122643887997, 0.7373930215835571, 0.03389629349112511, 0.016056139022111893, 0.022597528994083405, 0.017625944688916206, 0.13299576938152313, 0.16183821856975555, 0.025637738406658173, 0.010415331460535526, 0.03284835070371628, 0.012818869203329086, 0.6072939038276672, 0.006151456851512194, 0.008044213056564331, 0.905683696269989, 0.013249291107058525, 0.0056782676838338375, 0.008990590460598469, 0.04589933156967163, 0.0056782676838338375, 0.01439525093883276, 0.01799406297504902, 0.884108304977417, 0.01799406297504902, 0.013195645995438099, 0.01799406297504902, 0.026391291990876198, 0.008397229947149754, 0.0045690517872571945, 0.005711314734071493, 0.29394233226776123, 0.008757349103689194, 0.004188297316431999, 0.6179642677307129, 0.06206295266747475, 0.0030460346024483442, 0.03284229338169098, 0.03789495676755905, 0.08589523285627365, 0.03789495676755905, 0.035368625074625015, 0.035368625074625015, 0.04042128473520279, 0.6922144889831543, 0.0133452033624053, 0.9023410677909851, 0.01231864932924509, 0.01437175739556551, 0.01129209529608488, 0.02361074462532997, 0.01437175739556551, 0.008212433196604252, 0.016050036996603012, 0.024075055494904518, 0.036685798317193985, 0.017196467146277428, 0.6935908794403076, 0.13757173717021942, 0.06420014798641205, 0.011464311741292477, 0.36197754740715027, 0.20943965017795563, 0.012511534616351128, 0.04644692689180374, 0.0668424442410469, 0.21526694297790527, 0.04404745623469353, 0.04353328421711922, 0.0052268956787884235, 0.02533034048974514, 0.04181516543030739, 0.6497433185577393, 0.048650335520505905, 0.15399238467216492, 0.06352688372135162, 0.011659997515380383, 0.0064252158626914024, 0.010873442515730858, 0.024712368845939636, 0.6894750595092773, 0.03212608024477959, 0.16606712341308594, 0.06474640965461731, 0.005436721257865429, 0.15717795491218567, 0.03598934784531593, 0.04186515882611275, 0.018361911177635193, 0.6867355108261108, 0.03598934784531593, 0.016158482059836388, 0.007344764657318592, 0.9138410687446594, 0.014883404597640038, 0.011906723491847515, 0.013891177251935005, 0.011906723491847515, 0.011906723491847515, 0.013891177251935005, 0.006945588625967503, 0.0037940554320812225, 0.7647731900215149, 0.013821202330291271, 0.13170792162418365, 0.005691083148121834, 0.06991901993751526, 0.00596208730712533, 0.004065059591084719, 0.6910343170166016, 0.019315971061587334, 0.009332436136901379, 0.010200569406151772, 0.08117049187421799, 0.1185002326965332, 0.005642868112772703, 0.0646759495139122, 0.011258823797106743, 0.8941382765769958, 0.012197059579193592, 0.0347147062420845, 0.014073530212044716, 0.012197059579193592, 0.014073530212044716, 0.006567647214978933, 0.9416348338127136, 0.016610978171229362, 0.006229117047041655, 0.00778639642521739, 0.00778639642521739, 0.007267303299158812, 0.00778639642521739, 0.004671837668865919, 0.07766956835985184, 0.45786595344543457, 0.015995318070054054, 0.1316537708044052, 0.11904207617044449, 0.010458476841449738, 0.15749235451221466, 0.029837418347597122, 0.011043740436434746, 0.015059645287692547, 0.09939365833997726, 0.01405566930770874, 0.012047716416418552, 0.012047716416418552, 0.828280508518219, 0.00702783465385437, 0.1674690991640091, 0.038472630083560944, 0.06821617484092712, 0.0678928792476654, 0.4687841534614563, 0.037179432809352875, 0.14677794277668, 0.005172790959477425, 0.020414024591445923, 0.03407129645347595, 0.00905692670494318, 0.008338122628629208, 0.004456582944840193, 0.026164455339312553, 0.89577317237854, 0.0018688896670937538, 0.06986483186483383, 0.020669057965278625, 0.030576542019844055, 0.4960574209690094, 0.24444150924682617, 0.1332385540008545, 0.0034163733944296837, 0.0017081866972148418, 0.025530891492962837, 0.008430011570453644, 0.019268598407506943, 0.32034042477607727, 0.5375939011573792, 0.08044639229774475, 0.006262294482439756, 0.002167717320844531, 0.013911033980548382, 0.6150141358375549, 0.008785916492342949, 0.01025023590773344, 0.013178874738514423, 0.009518075734376907, 0.01025023590773344, 0.3192216157913208, 0.0023527287412434816, 0.22629764676094055, 0.1815958023071289, 0.1270473450422287, 0.13750392198562622, 0.08190981298685074, 0.23936836421489716, 0.004008352756500244, 0.008885779418051243, 0.011847705580294132, 0.8337823152542114, 0.017771558836102486, 0.01110722403973341, 0.01629059575498104, 0.09181971848011017, 0.009626260958611965, 0.03679012507200241, 0.1520565301179886, 0.19416233897209167, 0.16912266612052917, 0.06805473566055298, 0.21115854382514954, 0.15835142135620117, 0.01028165128082037, 0.001626484328880906, 0.2458861619234085, 0.12007281184196472, 0.02937239408493042, 0.24244184792041779, 0.1898202896118164, 0.1638922095298767, 0.006888639647513628, 0.19329634308815002, 0.1894560158252716, 0.017921514809131622, 0.035843029618263245, 0.06528551876544952, 0.024322055280208588, 0.019201623275876045, 0.4544384181499481, 0.027645636349916458, 0.01566586084663868, 0.013822818174958229, 0.01750890351831913, 0.024881072342395782, 0.034096285700798035, 0.01566586084663868, 0.8505640625953674, 0.012054496444761753, 0.9106624126434326, 0.013150359503924847, 0.015342085622251034, 0.012054496444761753, 0.013150359503924847, 0.01424622256308794, 0.007671042811125517, 0.8689221739768982, 0.03801534324884415, 0.008824991062283516, 0.010182681493461132, 0.008824991062283516, 0.012219217605888844, 0.009503835812211037, 0.04344610869884491, 0.722978949546814, 0.03250804916024208, 0.00975241418927908, 0.010402575135231018, 0.15993958711624146, 0.041935380548238754, 0.018529586493968964, 0.0035758852027356625, 0.7545233368873596, 0.2147970199584961, 0.005858100485056639, 0.005858100485056639, 0.004686480388045311, 0.005858100485056639, 0.005858100485056639, 0.003124320413917303, 0.15302205085754395, 0.5867395997047424, 0.004883682820945978, 0.007674358319491148, 0.1809288114309311, 0.04999960958957672, 0.013255709782242775, 0.0034883448388427496, 0.018311887979507446, 0.016157547011971474, 0.01400320790708065, 0.018311887979507446, 0.017234718427062035, 0.015080377459526062, 0.892973780632019, 0.007540188729763031, 0.07572431117296219, 0.030289724469184875, 0.024610402062535286, 0.026503508910536766, 0.7686017751693726, 0.034075941890478134, 0.026503508910536766, 0.017037970945239067, 0.0372404120862484, 0.07161618024110794, 0.034375764429569244, 0.04010505974292755, 0.034375764429569244, 0.0372404120862484, 0.04010505974292755, 0.7075678706169128], \"Term\": [\"abstract\", \"abstract\", \"abstract\", \"abstract\", \"abstract\", \"abstract\", \"abstract\", \"abstract\", \"acid\", \"acid\", \"acid\", \"acid\", \"acid\", \"acid\", \"acid\", \"acid\", \"activation\", \"activation\", \"activation\", \"activation\", \"activation\", \"activation\", \"activation\", \"activation\", \"activity\", \"activity\", \"activity\", \"activity\", \"activity\", \"activity\", \"activity\", \"activity\", \"acute\", \"acute\", \"acute\", \"acute\", \"acute\", \"acute\", \"acute\", \"acute\", \"adjuvant\", \"adjuvant\", \"adjuvant\", \"adjuvant\", \"adjuvant\", \"adjuvant\", \"adjuvant\", \"adjuvant\", \"admission\", \"admission\", \"admission\", \"admission\", \"admission\", \"admission\", \"admission\", \"admission\", \"admitted\", \"admitted\", \"admitted\", \"admitted\", \"admitted\", \"admitted\", \"admitted\", \"admitted\", \"adults\", \"adults\", \"adults\", \"adults\", \"adults\", \"adults\", \"adults\", \"adults\", \"advances\", \"advances\", \"advances\", \"advances\", \"advances\", \"advances\", \"advances\", \"advances\", \"advantages\", \"advantages\", \"advantages\", \"advantages\", \"advantages\", \"advantages\", \"advantages\", \"advantages\", \"aerosol\", \"aerosol\", \"aerosol\", \"aerosol\", \"aerosol\", \"aerosol\", \"aerosol\", \"aerosol\", \"aerosols\", \"aerosols\", \"aerosols\", \"aerosols\", \"aerosols\", \"aerosols\", \"aerosols\", \"aerosols\", \"agents\", \"agents\", \"agents\", \"agents\", \"agents\", \"agents\", \"agents\", \"agents\", \"airborne\", \"airborne\", \"airborne\", \"airborne\", \"airborne\", \"airborne\", \"airborne\", \"airborne\", \"amino\", \"amino\", \"amino\", \"amino\", \"amino\", \"amino\", \"amino\", \"amino\", \"angiotensin\", \"angiotensin\", \"angiotensin\", \"angiotensin\", \"angiotensin\", \"angiotensin\", \"angiotensin\", \"angiotensin\", \"animal\", \"animal\", \"animal\", \"animal\", \"animal\", \"animal\", \"animal\", \"animal\", \"anti\", \"anti\", \"anti\", \"anti\", \"anti\", \"anti\", \"anti\", \"anti\", \"antibodies\", \"antibodies\", \"antibodies\", \"antibodies\", \"antibodies\", \"antibodies\", \"antibodies\", \"antibodies\", \"antibody\", \"antibody\", \"antibody\", \"antibody\", \"antibody\", \"antibody\", \"antibody\", \"antibody\", \"antigen\", \"antigen\", \"antigen\", \"antigen\", \"antigen\", \"antigen\", \"antigen\", \"antigen\", \"antiviral\", \"antiviral\", \"antiviral\", \"antiviral\", \"antiviral\", \"antiviral\", \"antiviral\", \"antiviral\", \"apoptosis\", \"apoptosis\", \"apoptosis\", \"apoptosis\", \"apoptosis\", \"apoptosis\", \"apoptosis\", \"apoptosis\", \"applications\", \"applications\", \"applications\", \"applications\", \"applications\", \"applications\", \"applications\", \"applications\", \"approaches\", \"approaches\", \"approaches\", \"approaches\", \"approaches\", \"approaches\", \"approaches\", \"approaches\", \"article\", \"article\", \"article\", \"article\", \"article\", \"article\", \"article\", \"article\", \"assay\", \"assay\", \"assay\", \"assay\", \"assay\", \"assay\", \"assay\", \"assay\", \"assays\", \"assays\", \"assays\", \"assays\", \"assays\", \"assays\", \"assays\", \"assays\", \"associated\", \"associated\", \"associated\", \"associated\", \"associated\", \"associated\", \"associated\", \"associated\", \"asthma\", \"asthma\", \"asthma\", \"asthma\", \"asthma\", \"asthma\", \"asthma\", \"asthma\", \"astrocytes\", \"astrocytes\", \"astrocytes\", \"astrocytes\", \"astrocytes\", \"astrocytes\", \"astrocytes\", \"astrocytes\", \"authorities\", \"authorities\", \"authorities\", \"authorities\", \"authorities\", \"authorities\", \"authorities\", \"authorities\", \"autoimmune\", \"autoimmune\", \"autoimmune\", \"autoimmune\", \"autoimmune\", \"autoimmune\", \"autoimmune\", \"autoimmune\", \"autophagy\", \"autophagy\", \"autophagy\", \"autophagy\", \"autophagy\", \"autophagy\", \"autophagy\", \"autophagy\", \"avec\", \"avec\", \"avec\", \"avec\", \"avec\", \"avec\", \"avec\", \"avec\", \"balb\", \"balb\", \"balb\", \"balb\", \"balb\", \"balb\", \"balb\", \"balb\", \"based\", \"based\", \"based\", \"based\", \"based\", \"based\", \"based\", \"based\", \"bats\", \"bats\", \"bats\", \"bats\", \"bats\", \"bats\", \"bats\", \"bats\", \"binding\", \"binding\", \"binding\", \"binding\", \"binding\", \"binding\", \"binding\", \"binding\", \"biological\", \"biological\", \"biological\", \"biological\", \"biological\", \"biological\", \"biological\", \"biological\", \"biology\", \"biology\", \"biology\", \"biology\", \"biology\", \"biology\", \"biology\", \"biology\", \"biomedical\", \"biomedical\", \"biomedical\", \"biomedical\", \"biomedical\", \"biomedical\", \"biomedical\", \"biomedical\", \"biotechnology\", \"biotechnology\", \"biotechnology\", \"biotechnology\", \"biotechnology\", \"biotechnology\", \"biotechnology\", \"biotechnology\", \"birds\", \"birds\", \"birds\", \"birds\", \"birds\", \"birds\", \"birds\", \"birds\", \"bovine\", \"bovine\", \"bovine\", \"bovine\", \"bovine\", \"bovine\", \"bovine\", \"bovine\", \"brain\", \"brain\", \"brain\", \"brain\", \"brain\", \"brain\", \"brain\", \"brain\", \"bronchiolitis\", \"bronchiolitis\", \"bronchiolitis\", \"bronchiolitis\", \"bronchiolitis\", \"bronchiolitis\", \"bronchiolitis\", \"bronchiolitis\", \"bvdv\", \"bvdv\", \"bvdv\", \"bvdv\", \"bvdv\", \"bvdv\", \"bvdv\", \"bvdv\", \"calf\", \"calf\", \"calf\", \"calf\", \"calf\", \"calf\", \"calf\", \"calf\", \"calves\", \"calves\", \"calves\", \"calves\", \"calves\", \"calves\", \"calves\", \"calves\", \"canine\", \"canine\", \"canine\", \"canine\", \"canine\", \"canine\", \"canine\", \"canine\", \"carbon\", \"carbon\", \"carbon\", \"carbon\", \"carbon\", \"carbon\", \"carbon\", \"carbon\", \"care\", \"care\", \"care\", \"care\", \"care\", \"care\", \"care\", \"care\", \"cases\", \"cases\", \"cases\", \"cases\", \"cases\", \"cases\", \"cases\", \"cases\", \"caspase\", \"caspase\", \"caspase\", \"caspase\", \"caspase\", \"caspase\", \"caspase\", \"caspase\", \"cats\", \"cats\", \"cats\", \"cats\", \"cats\", \"cats\", \"cats\", \"cats\", \"cattle\", \"cattle\", \"cattle\", \"cattle\", \"cattle\", \"cattle\", \"cattle\", \"cattle\", \"cdna\", \"cdna\", \"cdna\", \"cdna\", \"cdna\", \"cdna\", \"cdna\", \"cdna\", \"cell\", \"cell\", \"cell\", \"cell\", \"cell\", \"cell\", \"cell\", \"cell\", \"cells\", \"cells\", \"cells\", \"cells\", \"cells\", \"cells\", \"cells\", \"cells\", \"cellular\", \"cellular\", \"cellular\", \"cellular\", \"cellular\", \"cellular\", \"cellular\", \"cellular\", \"chapter\", \"chapter\", \"chapter\", \"chapter\", \"chapter\", \"chapter\", \"chapter\", \"chapter\", \"chemistry\", \"chemistry\", \"chemistry\", \"chemistry\", \"chemistry\", \"chemistry\", \"chemistry\", \"chemistry\", \"chest\", \"chest\", \"chest\", \"chest\", \"chest\", \"chest\", \"chest\", \"chest\", \"chez\", \"chez\", \"chez\", \"chez\", \"chez\", \"chez\", \"chez\", \"chez\", \"children\", \"children\", \"children\", \"children\", \"children\", \"children\", \"children\", \"children\", \"china\", \"china\", \"china\", \"china\", \"china\", \"china\", \"china\", \"china\", \"cholesterol\", \"cholesterol\", \"cholesterol\", \"cholesterol\", \"cholesterol\", \"cholesterol\", \"cholesterol\", \"cholesterol\", \"cities\", \"cities\", \"cities\", \"cities\", \"cities\", \"cities\", \"cities\", \"cities\", \"cleaning\", \"cleaning\", \"cleaning\", \"cleaning\", \"cleaning\", \"cleaning\", \"cleaning\", \"cleaning\", \"cleavage\", \"cleavage\", \"cleavage\", \"cleavage\", \"cleavage\", \"cleavage\", \"cleavage\", \"cleavage\", \"clinical\", \"clinical\", \"clinical\", \"clinical\", \"clinical\", \"clinical\", \"clinical\", \"clinical\", \"clpro\", \"clpro\", \"clpro\", \"clpro\", \"clpro\", \"clpro\", \"clpro\", \"clpro\", \"codon\", \"codon\", \"codon\", \"codon\", \"codon\", \"codon\", \"codon\", \"codon\", \"cohort\", \"cohort\", \"cohort\", \"cohort\", \"cohort\", \"cohort\", \"cohort\", \"cohort\", \"colostrum\", \"colostrum\", \"colostrum\", \"colostrum\", \"colostrum\", \"colostrum\", \"colostrum\", \"colostrum\", \"common\", \"common\", \"common\", \"common\", \"common\", \"common\", \"common\", \"common\", \"como\", \"como\", \"como\", \"como\", \"como\", \"como\", \"como\", \"como\", \"complications\", \"complications\", \"complications\", \"complications\", \"complications\", \"complications\", \"complications\", \"complications\", \"compound\", \"compound\", \"compound\", \"compound\", \"compound\", \"compound\", \"compound\", \"compound\", \"compounds\", \"compounds\", \"compounds\", \"compounds\", \"compounds\", \"compounds\", \"compounds\", \"compounds\", \"concentration\", \"concentration\", \"concentration\", \"concentration\", \"concentration\", \"concentration\", \"concentration\", \"concentration\", \"concentrations\", \"concentrations\", \"concentrations\", \"concentrations\", \"concentrations\", \"concentrations\", \"concentrations\", \"concentrations\", \"conditions\", \"conditions\", \"conditions\", \"conditions\", \"conditions\", \"conditions\", \"conditions\", \"conditions\", \"conformational\", \"conformational\", \"conformational\", \"conformational\", \"conformational\", \"conformational\", \"conformational\", \"conformational\", \"conserved\", \"conserved\", \"conserved\", \"conserved\", \"conserved\", \"conserved\", \"conserved\", \"conserved\", \"contaminated\", \"contaminated\", \"contaminated\", \"contaminated\", \"contaminated\", \"contaminated\", \"contaminated\", \"contaminated\", \"contamination\", \"contamination\", \"contamination\", \"contamination\", \"contamination\", \"contamination\", \"contamination\", \"contamination\", \"control\", \"control\", \"control\", \"control\", \"control\", \"control\", \"control\", \"control\", \"copd\", \"copd\", \"copd\", \"copd\", \"copd\", \"copd\", \"copd\", \"copd\", \"coronavirus\", \"coronavirus\", \"coronavirus\", \"coronavirus\", \"coronavirus\", \"coronavirus\", \"coronavirus\", \"coronavirus\", \"cough\", \"cough\", \"cough\", \"cough\", \"cough\", \"cough\", \"cough\", \"cough\", \"countries\", \"countries\", \"countries\", \"countries\", \"countries\", \"countries\", \"countries\", \"countries\", \"country\", \"country\", \"country\", \"country\", \"country\", \"country\", \"country\", \"country\", \"covid\", \"covid\", \"covid\", \"covid\", \"covid\", \"covid\", \"covid\", \"covid\", \"cows\", \"cows\", \"cows\", \"cows\", \"cows\", \"cows\", \"cows\", \"cows\", \"crisis\", \"crisis\", \"crisis\", \"crisis\", \"crisis\", \"crisis\", \"crisis\", \"crisis\", \"cryptosporidium\", \"cryptosporidium\", \"cryptosporidium\", \"cryptosporidium\", \"cryptosporidium\", \"cryptosporidium\", \"cryptosporidium\", \"cryptosporidium\", \"crystal\", \"crystal\", \"crystal\", \"crystal\", \"crystal\", \"crystal\", \"crystal\", \"crystal\", \"cxcl\", \"cxcl\", \"cxcl\", \"cxcl\", \"cxcl\", \"cxcl\", \"cxcl\", \"cxcl\", \"cytokine\", \"cytokine\", \"cytokine\", \"cytokine\", \"cytokine\", \"cytokine\", \"cytokine\", \"cytokine\", \"cytokines\", \"cytokines\", \"cytokines\", \"cytokines\", \"cytokines\", \"cytokines\", \"cytokines\", \"cytokines\", \"dairy\", \"dairy\", \"dairy\", \"dairy\", \"dairy\", \"dairy\", \"dairy\", \"dairy\", \"dans\", \"dans\", \"dans\", \"dans\", \"dans\", \"dans\", \"dans\", \"dans\", \"data\", \"data\", \"data\", \"data\", \"data\", \"data\", \"data\", \"data\", \"days\", \"days\", \"days\", \"days\", \"days\", \"days\", \"days\", \"days\", \"deaths\", \"deaths\", \"deaths\", \"deaths\", \"deaths\", \"deaths\", \"deaths\", \"deaths\", \"degradation\", \"degradation\", \"degradation\", \"degradation\", \"degradation\", \"degradation\", \"degradation\", \"degradation\", \"demyelinating\", \"demyelinating\", \"demyelinating\", \"demyelinating\", \"demyelinating\", \"demyelinating\", \"demyelinating\", \"demyelinating\", \"demyelination\", \"demyelination\", \"demyelination\", \"demyelination\", \"demyelination\", \"demyelination\", \"demyelination\", \"demyelination\", \"denv\", \"denv\", \"denv\", \"denv\", \"denv\", \"denv\", \"denv\", \"denv\", \"derivatives\", \"derivatives\", \"derivatives\", \"derivatives\", \"derivatives\", \"derivatives\", \"derivatives\", \"derivatives\", \"detected\", \"detected\", \"detected\", \"detected\", \"detected\", \"detected\", \"detected\", \"detected\", \"detection\", \"detection\", \"detection\", \"detection\", \"detection\", \"detection\", \"detection\", \"detection\", \"development\", \"development\", \"development\", \"development\", \"development\", \"development\", \"development\", \"development\", \"developments\", \"developments\", \"developments\", \"developments\", \"developments\", \"developments\", \"developments\", \"developments\", \"diagnosis\", \"diagnosis\", \"diagnosis\", \"diagnosis\", \"diagnosis\", \"diagnosis\", \"diagnosis\", \"diagnosis\", \"diagnostics\", \"diagnostics\", \"diagnostics\", \"diagnostics\", \"diagnostics\", \"diagnostics\", \"diagnostics\", \"diagnostics\", \"diarrhea\", \"diarrhea\", \"diarrhea\", \"diarrhea\", \"diarrhea\", \"diarrhea\", \"diarrhea\", \"diarrhea\", \"diarrhoea\", \"diarrhoea\", \"diarrhoea\", \"diarrhoea\", \"diarrhoea\", \"diarrhoea\", \"diarrhoea\", \"diarrhoea\", \"disaster\", \"disaster\", \"disaster\", \"disaster\", \"disaster\", \"disaster\", \"disaster\", \"disaster\", \"discovery\", \"discovery\", \"discovery\", \"discovery\", \"discovery\", \"discovery\", \"discovery\", \"discovery\", \"discussed\", \"discussed\", \"discussed\", \"discussed\", \"discussed\", \"discussed\", \"discussed\", \"discussed\", \"discusses\", \"discusses\", \"discusses\", \"discusses\", \"discusses\", \"discusses\", \"discusses\", \"discusses\", \"disease\", \"disease\", \"disease\", \"disease\", \"disease\", \"disease\", \"disease\", \"disease\", \"diseases\", \"diseases\", \"diseases\", \"diseases\", \"diseases\", \"diseases\", \"diseases\", \"diseases\", \"disinfection\", \"disinfection\", \"disinfection\", \"disinfection\", \"disinfection\", \"disinfection\", \"disinfection\", \"disinfection\", \"distancing\", \"distancing\", \"distancing\", \"distancing\", \"distancing\", \"distancing\", \"distancing\", \"distancing\", \"dogs\", \"dogs\", \"dogs\", \"dogs\", \"dogs\", \"dogs\", \"dogs\", \"dogs\", \"domain\", \"domain\", \"domain\", \"domain\", \"domain\", \"domain\", \"domain\", \"domain\", \"domains\", \"domains\", \"domains\", \"domains\", \"domains\", \"domains\", \"domains\", \"domains\", \"droplets\", \"droplets\", \"droplets\", \"droplets\", \"droplets\", \"droplets\", \"droplets\", \"droplets\", \"drug\", \"drug\", \"drug\", \"drug\", \"drug\", \"drug\", \"drug\", \"drug\", \"drugs\", \"drugs\", \"drugs\", \"drugs\", \"drugs\", \"drugs\", \"drugs\", \"drugs\", \"education\", \"education\", \"education\", \"education\", \"education\", \"education\", \"education\", \"education\", \"efficiency\", \"efficiency\", \"efficiency\", \"efficiency\", \"efficiency\", \"efficiency\", \"efficiency\", \"efficiency\", \"elisa\", \"elisa\", \"elisa\", \"elisa\", \"elisa\", \"elisa\", \"elisa\", \"elisa\", \"emergency\", \"emergency\", \"emergency\", \"emergency\", \"emergency\", \"emergency\", \"emergency\", \"emergency\", \"emerging\", \"emerging\", \"emerging\", \"emerging\", \"emerging\", \"emerging\", \"emerging\", \"emerging\", \"endocytosis\", \"endocytosis\", \"endocytosis\", \"endocytosis\", \"endocytosis\", \"endocytosis\", \"endocytosis\", \"endocytosis\", \"enrolled\", \"enrolled\", \"enrolled\", \"enrolled\", \"enrolled\", \"enrolled\", \"enrolled\", \"enrolled\", \"enteric\", \"enteric\", \"enteric\", \"enteric\", \"enteric\", \"enteric\", \"enteric\", \"enteric\", \"envelope\", \"envelope\", \"envelope\", \"envelope\", \"envelope\", \"envelope\", \"envelope\", \"envelope\", \"environmental\", \"environmental\", \"environmental\", \"environmental\", \"environmental\", \"environmental\", \"environmental\", \"environmental\", \"epidemic\", \"epidemic\", \"epidemic\", \"epidemic\", \"epidemic\", \"epidemic\", \"epidemic\", \"epidemic\", \"epidemics\", \"epidemics\", \"epidemics\", \"epidemics\", \"epidemics\", \"epidemics\", \"epidemics\", \"epidemics\", \"episodes\", \"episodes\", \"episodes\", \"episodes\", \"episodes\", \"episodes\", \"episodes\", \"episodes\", \"epithelial\", \"epithelial\", \"epithelial\", \"epithelial\", \"epithelial\", \"epithelial\", \"epithelial\", \"epithelial\", \"epitopes\", \"epitopes\", \"epitopes\", \"epitopes\", \"epitopes\", \"epitopes\", \"epitopes\", \"epitopes\", \"exacerbations\", \"exacerbations\", \"exacerbations\", \"exacerbations\", \"exacerbations\", \"exacerbations\", \"exacerbations\", \"exacerbations\", \"examples\", \"examples\", \"examples\", \"examples\", \"examples\", \"examples\", \"examples\", \"examples\", \"expression\", \"expression\", \"expression\", \"expression\", \"expression\", \"expression\", \"expression\", \"expression\", \"faecal\", \"faecal\", \"faecal\", \"faecal\", \"faecal\", \"faecal\", \"faecal\", \"faecal\", \"farms\", \"farms\", \"farms\", \"farms\", \"farms\", \"farms\", \"farms\", \"farms\", \"fcov\", \"fcov\", \"fcov\", \"fcov\", \"fcov\", \"fcov\", \"fcov\", \"fcov\", \"fecal\", \"fecal\", \"fecal\", \"fecal\", \"fecal\", \"fecal\", \"fecal\", \"fecal\", \"feline\", \"feline\", \"feline\", \"feline\", \"feline\", \"feline\", \"feline\", \"feline\", \"fields\", \"fields\", \"fields\", \"fields\", \"fields\", \"fields\", \"fields\", \"fields\", \"filter\", \"filter\", \"filter\", \"filter\", \"filter\", \"filter\", \"filter\", \"filter\", \"filtration\", \"filtration\", \"filtration\", \"filtration\", \"filtration\", \"filtration\", \"filtration\", \"filtration\", \"fipv\", \"fipv\", \"fipv\", \"fipv\", \"fipv\", \"fipv\", \"fipv\", \"fipv\", \"flow\", \"flow\", \"flow\", \"flow\", \"flow\", \"flow\", \"flow\", \"flow\", \"food\", \"food\", \"food\", \"food\", \"food\", \"food\", \"food\", \"food\", \"frame\", \"frame\", \"frame\", \"frame\", \"frame\", \"frame\", \"frame\", \"frame\", \"frameshift\", \"frameshift\", \"frameshift\", \"frameshift\", \"frameshift\", \"frameshift\", \"frameshift\", \"frameshift\", \"frameshifting\", \"frameshifting\", \"frameshifting\", \"frameshifting\", \"frameshifting\", \"frameshifting\", \"frameshifting\", \"frameshifting\", \"fusion\", \"fusion\", \"fusion\", \"fusion\", \"fusion\", \"fusion\", \"fusion\", \"fusion\", \"gastroenteritis\", \"gastroenteritis\", \"gastroenteritis\", \"gastroenteritis\", \"gastroenteritis\", \"gastroenteritis\", \"gastroenteritis\", \"gastroenteritis\", \"gene\", \"gene\", \"gene\", \"gene\", \"gene\", \"gene\", \"gene\", \"gene\", \"genome\", \"genome\", \"genome\", \"genome\", \"genome\", \"genome\", \"genome\", \"genome\", \"genomics\", \"genomics\", \"genomics\", \"genomics\", \"genomics\", \"genomics\", \"genomics\", \"genomics\", \"glial\", \"glial\", \"glial\", \"glial\", \"glial\", \"glial\", \"glial\", \"glial\", \"global\", \"global\", \"global\", \"global\", \"global\", \"global\", \"global\", \"global\", \"glycoprotein\", \"glycoprotein\", \"glycoprotein\", \"glycoprotein\", \"glycoprotein\", \"glycoprotein\", \"glycoprotein\", \"glycoprotein\", \"glycoproteins\", \"glycoproteins\", \"glycoproteins\", \"glycoproteins\", \"glycoproteins\", \"glycoproteins\", \"glycoproteins\", \"glycoproteins\", \"glycosylation\", \"glycosylation\", \"glycosylation\", \"glycosylation\", \"glycosylation\", \"glycosylation\", \"glycosylation\", \"glycosylation\", \"golgi\", \"golgi\", \"golgi\", \"golgi\", \"golgi\", \"golgi\", \"golgi\", \"golgi\", \"government\", \"government\", \"government\", \"government\", \"government\", \"government\", \"government\", \"government\", \"group\", \"group\", \"group\", \"group\", \"group\", \"group\", \"group\", \"group\", \"hbov\", \"hbov\", \"hbov\", \"hbov\", \"hbov\", \"hbov\", \"hbov\", \"hbov\", \"hcws\", \"hcws\", \"hcws\", \"hcws\", \"hcws\", \"hcws\", \"hcws\", \"hcws\", \"health\", \"health\", \"health\", \"health\", \"health\", \"health\", \"health\", \"health\", \"healthcare\", \"healthcare\", \"healthcare\", \"healthcare\", \"healthcare\", \"healthcare\", \"healthcare\", \"healthcare\", \"helix\", \"helix\", \"helix\", \"helix\", \"helix\", \"helix\", \"helix\", \"helix\", \"herds\", \"herds\", \"herds\", \"herds\", \"herds\", \"herds\", \"herds\", \"herds\", \"hmpv\", \"hmpv\", \"hmpv\", \"hmpv\", \"hmpv\", \"hmpv\", \"hmpv\", \"hmpv\", \"hospital\", \"hospital\", \"hospital\", \"hospital\", \"hospital\", \"hospital\", \"hospital\", \"hospital\", \"hospitalized\", \"hospitalized\", \"hospitalized\", \"hospitalized\", \"hospitalized\", \"hospitalized\", \"hospitalized\", \"hospitalized\", \"host\", \"host\", \"host\", \"host\", \"host\", \"host\", \"host\", \"host\", \"human\", \"human\", \"human\", \"human\", \"human\", \"human\", \"human\", \"human\", \"humidity\", \"humidity\", \"humidity\", \"humidity\", \"humidity\", \"humidity\", \"humidity\", \"humidity\", \"humoral\", \"humoral\", \"humoral\", \"humoral\", \"humoral\", \"humoral\", \"humoral\", \"humoral\", \"hydrophobic\", \"hydrophobic\", \"hydrophobic\", \"hydrophobic\", \"hydrophobic\", \"hydrophobic\", \"hydrophobic\", \"hydrophobic\", \"ifitm\", \"ifitm\", \"ifitm\", \"ifitm\", \"ifitm\", \"ifitm\", \"ifitm\", \"ifitm\", \"ifns\", \"ifns\", \"ifns\", \"ifns\", \"ifns\", \"ifns\", \"ifns\", \"ifns\", \"illness\", \"illness\", \"illness\", \"illness\", \"illness\", \"illness\", \"illness\", \"illness\", \"immune\", \"immune\", \"immune\", \"immune\", \"immune\", \"immune\", \"immune\", \"immune\", \"immunity\", \"immunity\", \"immunity\", \"immunity\", \"immunity\", \"immunity\", \"immunity\", \"immunity\", \"immunization\", \"immunization\", \"immunization\", \"immunization\", \"immunization\", \"immunization\", \"immunization\", \"immunization\", \"immunized\", \"immunized\", \"immunized\", \"immunized\", \"immunized\", \"immunized\", \"immunized\", \"immunized\", \"immunology\", \"immunology\", \"immunology\", \"immunology\", \"immunology\", \"immunology\", \"immunology\", \"immunology\", \"inactivation\", \"inactivation\", \"inactivation\", \"inactivation\", \"inactivation\", \"inactivation\", \"inactivation\", \"inactivation\", \"indoor\", \"indoor\", \"indoor\", \"indoor\", \"indoor\", \"indoor\", \"indoor\", \"indoor\", \"induced\", \"induced\", \"induced\", \"induced\", \"induced\", \"induced\", \"induced\", \"induced\", \"infants\", \"infants\", \"infants\", \"infants\", \"infants\", \"infants\", \"infants\", \"infants\", \"infected\", \"infected\", \"infected\", \"infected\", \"infected\", \"infected\", \"infected\", \"infected\", \"infection\", \"infection\", \"infection\", \"infection\", \"infection\", \"infection\", \"infection\", \"infection\", \"infections\", \"infections\", \"infections\", \"infections\", \"infections\", \"infections\", \"infections\", \"infections\", \"infectious\", \"infectious\", \"infectious\", \"infectious\", \"infectious\", \"infectious\", \"infectious\", \"infectious\", \"inflammation\", \"inflammation\", \"inflammation\", \"inflammation\", \"inflammation\", \"inflammation\", \"inflammation\", \"inflammation\", \"inflammatory\", \"inflammatory\", \"inflammatory\", \"inflammatory\", \"inflammatory\", \"inflammatory\", \"inflammatory\", \"inflammatory\", \"influenza\", \"influenza\", \"influenza\", \"influenza\", \"influenza\", \"influenza\", \"influenza\", \"influenza\", \"inhibit\", \"inhibit\", \"inhibit\", \"inhibit\", \"inhibit\", \"inhibit\", \"inhibit\", \"inhibit\", \"inhibited\", \"inhibited\", \"inhibited\", \"inhibited\", \"inhibited\", \"inhibited\", \"inhibited\", \"inhibited\", \"inhibition\", \"inhibition\", \"inhibition\", \"inhibition\", \"inhibition\", \"inhibition\", \"inhibition\", \"inhibition\", \"inhibitor\", \"inhibitor\", \"inhibitor\", \"inhibitor\", \"inhibitor\", \"inhibitor\", \"inhibitor\", \"inhibitor\", \"inhibitors\", \"inhibitors\", \"inhibitors\", \"inhibitors\", \"inhibitors\", \"inhibitors\", \"inhibitors\", \"inhibitors\", \"inhibitory\", \"inhibitory\", \"inhibitory\", \"inhibitory\", \"inhibitory\", \"inhibitory\", \"inhibitory\", \"inhibitory\", \"inhibits\", \"inhibits\", \"inhibits\", \"inhibits\", \"inhibits\", \"inhibits\", \"inhibits\", \"inhibits\", \"innate\", \"innate\", \"innate\", \"innate\", \"innate\", \"innate\", \"innate\", \"innate\", \"interferon\", \"interferon\", \"interferon\", \"interferon\", \"interferon\", \"interferon\", \"interferon\", \"interferon\", \"international\", \"international\", \"international\", \"international\", \"international\", \"international\", \"international\", \"international\", \"intranasal\", \"intranasal\", \"intranasal\", \"intranasal\", \"intranasal\", \"intranasal\", \"intranasal\", \"intranasal\", \"isolates\", \"isolates\", \"isolates\", \"isolates\", \"isolates\", \"isolates\", \"isolates\", \"isolates\", \"jhmv\", \"jhmv\", \"jhmv\", \"jhmv\", \"jhmv\", \"jhmv\", \"jhmv\", \"jhmv\", \"kinase\", \"kinase\", \"kinase\", \"kinase\", \"kinase\", \"kinase\", \"kinase\", \"kinase\", \"knockdown\", \"knockdown\", \"knockdown\", \"knockdown\", \"knockdown\", \"knockdown\", \"knockdown\", \"knockdown\", \"lamp\", \"lamp\", \"lamp\", \"lamp\", \"lamp\", \"lamp\", \"lamp\", \"lamp\", \"leader\", \"leader\", \"leader\", \"leader\", \"leader\", \"leader\", \"leader\", \"leader\", \"levels\", \"levels\", \"levels\", \"levels\", \"levels\", \"levels\", \"levels\", \"levels\", \"liquid\", \"liquid\", \"liquid\", \"liquid\", \"liquid\", \"liquid\", \"liquid\", \"liquid\", \"liver\", \"liver\", \"liver\", \"liver\", \"liver\", \"liver\", \"liver\", \"liver\", \"lockdown\", \"lockdown\", \"lockdown\", \"lockdown\", \"lockdown\", \"lockdown\", \"lockdown\", \"lockdown\", \"lung\", \"lung\", \"lung\", \"lung\", \"lung\", \"lung\", \"lung\", \"lung\", \"lymph\", \"lymph\", \"lymph\", \"lymph\", \"lymph\", \"lymph\", \"lymph\", \"lymph\", \"lymphocytes\", \"lymphocytes\", \"lymphocytes\", \"lymphocytes\", \"lymphocytes\", \"lymphocytes\", \"lymphocytes\", \"lymphocytes\", \"lymphoid\", \"lymphoid\", \"lymphoid\", \"lymphoid\", \"lymphoid\", \"lymphoid\", \"lymphoid\", \"lymphoid\", \"mabs\", \"mabs\", \"mabs\", \"mabs\", \"mabs\", \"mabs\", \"mabs\", \"mabs\", \"macrophages\", \"macrophages\", \"macrophages\", \"macrophages\", \"macrophages\", \"macrophages\", \"macrophages\", \"macrophages\", \"manufacturing\", \"manufacturing\", \"manufacturing\", \"manufacturing\", \"manufacturing\", \"manufacturing\", \"manufacturing\", \"manufacturing\", \"mapk\", \"mapk\", \"mapk\", \"mapk\", \"mapk\", \"mapk\", \"mapk\", \"mapk\", \"mask\", \"mask\", \"mask\", \"mask\", \"mask\", \"mask\", \"mask\", \"mask\", \"measures\", \"measures\", \"measures\", \"measures\", \"measures\", \"measures\", \"measures\", \"measures\", \"mechanism\", \"mechanism\", \"mechanism\", \"mechanism\", \"mechanism\", \"mechanism\", \"mechanism\", \"mechanism\", \"mechanisms\", \"mechanisms\", \"mechanisms\", \"mechanisms\", \"mechanisms\", \"mechanisms\", \"mechanisms\", \"mechanisms\", \"membrane\", \"membrane\", \"membrane\", \"membrane\", \"membrane\", \"membrane\", \"membrane\", \"membrane\", \"memory\", \"memory\", \"memory\", \"memory\", \"memory\", \"memory\", \"memory\", \"memory\", \"mers\", \"mers\", \"mers\", \"mers\", \"mers\", \"mers\", \"mers\", \"mers\", \"metapneumovirus\", \"metapneumovirus\", \"metapneumovirus\", \"metapneumovirus\", \"metapneumovirus\", \"metapneumovirus\", \"metapneumovirus\", \"metapneumovirus\", \"method\", \"method\", \"method\", \"method\", \"method\", \"method\", \"method\", \"method\", \"methodologies\", \"methodologies\", \"methodologies\", \"methodologies\", \"methodologies\", \"methodologies\", \"methodologies\", \"methodologies\", \"mice\", \"mice\", \"mice\", \"mice\", \"mice\", \"mice\", \"mice\", \"mice\", \"microarrays\", \"microarrays\", \"microarrays\", \"microarrays\", \"microarrays\", \"microarrays\", \"microarrays\", \"microarrays\", \"microbes\", \"microbes\", \"microbes\", \"microbes\", \"microbes\", \"microbes\", \"microbes\", \"microbes\", \"microbial\", \"microbial\", \"microbial\", \"microbial\", \"microbial\", \"microbial\", \"microbial\", \"microbial\", \"microglia\", \"microglia\", \"microglia\", \"microglia\", \"microglia\", \"microglia\", \"microglia\", \"microglia\", \"mirnas\", \"mirnas\", \"mirnas\", \"mirnas\", \"mirnas\", \"mirnas\", \"mirnas\", \"mirnas\", \"mitochondrial\", \"mitochondrial\", \"mitochondrial\", \"mitochondrial\", \"mitochondrial\", \"mitochondrial\", \"mitochondrial\", \"mitochondrial\", \"model\", \"model\", \"model\", \"model\", \"model\", \"model\", \"model\", \"model\", \"molecular\", \"molecular\", \"molecular\", \"molecular\", \"molecular\", \"molecular\", \"molecular\", \"molecular\", \"monocytes\", \"monocytes\", \"monocytes\", \"monocytes\", \"monocytes\", \"monocytes\", \"monocytes\", \"monocytes\", \"mononuclear\", \"mononuclear\", \"mononuclear\", \"mononuclear\", \"mononuclear\", \"mononuclear\", \"mononuclear\", \"mononuclear\", \"mortality\", \"mortality\", \"mortality\", \"mortality\", \"mortality\", \"mortality\", \"mortality\", \"mortality\", \"mouse\", \"mouse\", \"mouse\", \"mouse\", \"mouse\", \"mouse\", \"mouse\", \"mouse\", \"mucosal\", \"mucosal\", \"mucosal\", \"mucosal\", \"mucosal\", \"mucosal\", \"mucosal\", \"mucosal\", \"mutants\", \"mutants\", \"mutants\", \"mutants\", \"mutants\", \"mutants\", \"mutants\", \"mutants\", \"mutations\", \"mutations\", \"mutations\", \"mutations\", \"mutations\", \"mutations\", \"mutations\", \"mutations\", \"myelin\", \"myelin\", \"myelin\", \"myelin\", \"myelin\", \"myelin\", \"myelin\", \"myelin\", \"nasopharyngeal\", \"nasopharyngeal\", \"nasopharyngeal\", \"nasopharyngeal\", \"nasopharyngeal\", \"nasopharyngeal\", \"nasopharyngeal\", \"nasopharyngeal\", \"national\", \"national\", \"national\", \"national\", \"national\", \"national\", \"national\", \"national\", \"ncov\", \"ncov\", \"ncov\", \"ncov\", \"ncov\", \"ncov\", \"ncov\", \"ncov\", \"nervous\", \"nervous\", \"nervous\", \"nervous\", \"nervous\", \"nervous\", \"nervous\", \"nervous\", \"neurons\", \"neurons\", \"neurons\", \"neurons\", \"neurons\", \"neurons\", \"neurons\", \"neurons\", \"nucleoside\", \"nucleoside\", \"nucleoside\", \"nucleoside\", \"nucleoside\", \"nucleoside\", \"nucleoside\", \"nucleoside\", \"number\", \"number\", \"number\", \"number\", \"number\", \"number\", \"number\", \"number\", \"nurses\", \"nurses\", \"nurses\", \"nurses\", \"nurses\", \"nurses\", \"nurses\", \"nurses\", \"orfs\", \"orfs\", \"orfs\", \"orfs\", \"orfs\", \"orfs\", \"orfs\", \"orfs\", \"organisms\", \"organisms\", \"organisms\", \"organisms\", \"organisms\", \"organisms\", \"organisms\", \"organisms\", \"outbreak\", \"outbreak\", \"outbreak\", \"outbreak\", \"outbreak\", \"outbreak\", \"outbreak\", \"outbreak\", \"overview\", \"overview\", \"overview\", \"overview\", \"overview\", \"overview\", \"overview\", \"overview\", \"pacientes\", \"pacientes\", \"pacientes\", \"pacientes\", \"pacientes\", \"pacientes\", \"pacientes\", \"pacientes\", \"pandemic\", \"pandemic\", \"pandemic\", \"pandemic\", \"pandemic\", \"pandemic\", \"pandemic\", \"pandemic\", \"para\", \"para\", \"para\", \"para\", \"para\", \"para\", \"para\", \"para\", \"particle\", \"particle\", \"particle\", \"particle\", \"particle\", \"particle\", \"particle\", \"particle\", \"particles\", \"particles\", \"particles\", \"particles\", \"particles\", \"particles\", \"particles\", \"particles\", \"pathogens\", \"pathogens\", \"pathogens\", \"pathogens\", \"pathogens\", \"pathogens\", \"pathogens\", \"pathogens\", \"pathway\", \"pathway\", \"pathway\", \"pathway\", \"pathway\", \"pathway\", \"pathway\", \"pathway\", \"pathways\", \"pathways\", \"pathways\", \"pathways\", \"pathways\", \"pathways\", \"pathways\", \"pathways\", \"patient\", \"patient\", \"patient\", \"patient\", \"patient\", \"patient\", \"patient\", \"patient\", \"patients\", \"patients\", \"patients\", \"patients\", \"patients\", \"patients\", \"patients\", \"patients\", \"pdcov\", \"pdcov\", \"pdcov\", \"pdcov\", \"pdcov\", \"pdcov\", \"pdcov\", \"pdcov\", \"pediatric\", \"pediatric\", \"pediatric\", \"pediatric\", \"pediatric\", \"pediatric\", \"pediatric\", \"pediatric\", \"pedv\", \"pedv\", \"pedv\", \"pedv\", \"pedv\", \"pedv\", \"pedv\", \"pedv\", \"people\", \"people\", \"people\", \"people\", \"people\", \"people\", \"people\", \"people\", \"peptide\", \"peptide\", \"peptide\", \"peptide\", \"peptide\", \"peptide\", \"peptide\", \"peptide\", \"peptides\", \"peptides\", \"peptides\", \"peptides\", \"peptides\", \"peptides\", \"peptides\", \"peptides\", \"phosphorylation\", \"phosphorylation\", \"phosphorylation\", \"phosphorylation\", \"phosphorylation\", \"phosphorylation\", \"phosphorylation\", \"phosphorylation\", \"phylogenetic\", \"phylogenetic\", \"phylogenetic\", \"phylogenetic\", \"phylogenetic\", \"phylogenetic\", \"phylogenetic\", \"phylogenetic\", \"piglets\", \"piglets\", \"piglets\", \"piglets\", \"piglets\", \"piglets\", \"piglets\", \"piglets\", \"pigs\", \"pigs\", \"pigs\", \"pigs\", \"pigs\", \"pigs\", \"pigs\", \"pigs\", \"planning\", \"planning\", \"planning\", \"planning\", \"planning\", \"planning\", \"planning\", \"planning\", \"plant\", \"plant\", \"plant\", \"plant\", \"plant\", \"plant\", \"plant\", \"plant\", \"plasma\", \"plasma\", \"plasma\", \"plasma\", \"plasma\", \"plasma\", \"plasma\", \"plasma\", \"platforms\", \"platforms\", \"platforms\", \"platforms\", \"platforms\", \"platforms\", \"platforms\", \"platforms\", \"pneumonia\", \"pneumonia\", \"pneumonia\", \"pneumonia\", \"pneumonia\", \"pneumonia\", \"pneumonia\", \"pneumonia\", \"pneumoniae\", \"pneumoniae\", \"pneumoniae\", \"pneumoniae\", \"pneumoniae\", \"pneumoniae\", \"pneumoniae\", \"pneumoniae\", \"policies\", \"policies\", \"policies\", \"policies\", \"policies\", \"policies\", \"policies\", \"policies\", \"policy\", \"policy\", \"policy\", \"policy\", \"policy\", \"policy\", \"policy\", \"policy\", \"political\", \"political\", \"political\", \"political\", \"political\", \"political\", \"political\", \"political\", \"pollutants\", \"pollutants\", \"pollutants\", \"pollutants\", \"pollutants\", \"pollutants\", \"pollutants\", \"pollutants\", \"pollution\", \"pollution\", \"pollution\", \"pollution\", \"pollution\", \"pollution\", \"pollution\", \"pollution\", \"polypeptide\", \"polypeptide\", \"polypeptide\", \"polypeptide\", \"polypeptide\", \"polypeptide\", \"polypeptide\", \"polypeptide\", \"polyprotein\", \"polyprotein\", \"polyprotein\", \"polyprotein\", \"polyprotein\", \"polyprotein\", \"polyprotein\", \"polyprotein\", \"population\", \"population\", \"population\", \"population\", \"population\", \"population\", \"population\", \"population\", \"porcine\", \"porcine\", \"porcine\", \"porcine\", \"porcine\", \"porcine\", \"porcine\", \"porcine\", \"positive\", \"positive\", \"positive\", \"positive\", \"positive\", \"positive\", \"positive\", \"positive\", \"potential\", \"potential\", \"potential\", \"potential\", \"potential\", \"potential\", \"potential\", \"potential\", \"pour\", \"pour\", \"pour\", \"pour\", \"pour\", \"pour\", \"pour\", \"pour\", \"pregnancy\", \"pregnancy\", \"pregnancy\", \"pregnancy\", \"pregnancy\", \"pregnancy\", \"pregnancy\", \"pregnancy\", \"preparedness\", \"preparedness\", \"preparedness\", \"preparedness\", \"preparedness\", \"preparedness\", \"preparedness\", \"preparedness\", \"primers\", \"primers\", \"primers\", \"primers\", \"primers\", \"primers\", \"primers\", \"primers\", \"professionals\", \"professionals\", \"professionals\", \"professionals\", \"professionals\", \"professionals\", \"professionals\", \"professionals\", \"protease\", \"protease\", \"protease\", \"protease\", \"protease\", \"protease\", \"protease\", \"protease\", \"proteasome\", \"proteasome\", \"proteasome\", \"proteasome\", \"proteasome\", \"proteasome\", \"proteasome\", \"proteasome\", \"protection\", \"protection\", \"protection\", \"protection\", \"protection\", \"protection\", \"protection\", \"protection\", \"protein\", \"protein\", \"protein\", \"protein\", \"protein\", \"protein\", \"protein\", \"protein\", \"proteinase\", \"proteinase\", \"proteinase\", \"proteinase\", \"proteinase\", \"proteinase\", \"proteinase\", \"proteinase\", \"proteins\", \"proteins\", \"proteins\", \"proteins\", \"proteins\", \"proteins\", \"proteins\", \"proteins\", \"pseudoknot\", \"pseudoknot\", \"pseudoknot\", \"pseudoknot\", \"pseudoknot\", \"pseudoknot\", \"pseudoknot\", \"pseudoknot\", \"public\", \"public\", \"public\", \"public\", \"public\", \"public\", \"public\", \"public\", \"publisher\", \"publisher\", \"publisher\", \"publisher\", \"publisher\", \"publisher\", \"publisher\", \"publisher\", \"quarantine\", \"quarantine\", \"quarantine\", \"quarantine\", \"quarantine\", \"quarantine\", \"quarantine\", \"quarantine\", \"rats\", \"rats\", \"rats\", \"rats\", \"rats\", \"rats\", \"rats\", \"rats\", \"reading\", \"reading\", \"reading\", \"reading\", \"reading\", \"reading\", \"reading\", \"reading\", \"recent\", \"recent\", \"recent\", \"recent\", \"recent\", \"recent\", \"recent\", \"recent\", \"receptor\", \"receptor\", \"receptor\", \"receptor\", \"receptor\", \"receptor\", \"receptor\", \"receptor\", \"recombinant\", \"recombinant\", \"recombinant\", \"recombinant\", \"recombinant\", \"recombinant\", \"recombinant\", \"recombinant\", \"region\", \"region\", \"region\", \"region\", \"region\", \"region\", \"region\", \"region\", \"regulated\", \"regulated\", \"regulated\", \"regulated\", \"regulated\", \"regulated\", \"regulated\", \"regulated\", \"regulation\", \"regulation\", \"regulation\", \"regulation\", \"regulation\", \"regulation\", \"regulation\", \"regulation\", \"replicase\", \"replicase\", \"replicase\", \"replicase\", \"replicase\", \"replicase\", \"replicase\", \"replicase\", \"replication\", \"replication\", \"replication\", \"replication\", \"replication\", \"replication\", \"replication\", \"replication\", \"reproduction\", \"reproduction\", \"reproduction\", \"reproduction\", \"reproduction\", \"reproduction\", \"reproduction\", \"reproduction\", \"research\", \"research\", \"research\", \"research\", \"research\", \"research\", \"research\", \"research\", \"residues\", \"residues\", \"residues\", \"residues\", \"residues\", \"residues\", \"residues\", \"residues\", \"respirators\", \"respirators\", \"respirators\", \"respirators\", \"respirators\", \"respirators\", \"respirators\", \"respirators\", \"respiratory\", \"respiratory\", \"respiratory\", \"respiratory\", \"respiratory\", \"respiratory\", \"respiratory\", \"respiratory\", \"response\", \"response\", \"response\", \"response\", \"response\", \"response\", \"response\", \"response\", \"responses\", \"responses\", \"responses\", \"responses\", \"responses\", \"responses\", \"responses\", \"responses\", \"review\", \"review\", \"review\", \"review\", \"review\", \"review\", \"review\", \"review\", \"rhinovirus\", \"rhinovirus\", \"rhinovirus\", \"rhinovirus\", \"rhinovirus\", \"rhinovirus\", \"rhinovirus\", \"rhinovirus\", \"risk\", \"risk\", \"risk\", \"risk\", \"risk\", \"risk\", \"risk\", \"risk\", \"rnai\", \"rnai\", \"rnai\", \"rnai\", \"rnai\", \"rnai\", \"rnai\", \"rnai\", \"room\", \"room\", \"room\", \"room\", \"room\", \"room\", \"room\", \"room\", \"rotavirus\", \"rotavirus\", \"rotavirus\", \"rotavirus\", \"rotavirus\", \"rotavirus\", \"rotavirus\", \"rotavirus\", \"r\\u00e9sum\\u00e9\", \"r\\u00e9sum\\u00e9\", \"r\\u00e9sum\\u00e9\", \"r\\u00e9sum\\u00e9\", \"r\\u00e9sum\\u00e9\", \"r\\u00e9sum\\u00e9\", \"r\\u00e9sum\\u00e9\", \"r\\u00e9sum\\u00e9\", \"samples\", \"samples\", \"samples\", \"samples\", \"samples\", \"samples\", \"samples\", \"samples\", \"sars\", \"sars\", \"sars\", \"sars\", \"sars\", \"sars\", \"sars\", \"sars\", \"sclerosis\", \"sclerosis\", \"sclerosis\", \"sclerosis\", \"sclerosis\", \"sclerosis\", \"sclerosis\", \"sclerosis\", \"security\", \"security\", \"security\", \"security\", \"security\", \"security\", \"security\", \"security\", \"sequence\", \"sequence\", \"sequence\", \"sequence\", \"sequence\", \"sequence\", \"sequence\", \"sequence\", \"sequences\", \"sequences\", \"sequences\", \"sequences\", \"sequences\", \"sequences\", \"sequences\", \"sequences\", \"services\", \"services\", \"services\", \"services\", \"services\", \"services\", \"services\", \"services\", \"severe\", \"severe\", \"severe\", \"severe\", \"severe\", \"severe\", \"severe\", \"severe\", \"signaling\", \"signaling\", \"signaling\", \"signaling\", \"signaling\", \"signaling\", \"signaling\", \"signaling\", \"silencing\", \"silencing\", \"silencing\", \"silencing\", \"silencing\", \"silencing\", \"silencing\", \"silencing\", \"sirna\", \"sirna\", \"sirna\", \"sirna\", \"sirna\", \"sirna\", \"sirna\", \"sirna\", \"sirnas\", \"sirnas\", \"sirnas\", \"sirnas\", \"sirnas\", \"sirnas\", \"sirnas\", \"sirnas\", \"site\", \"site\", \"site\", \"site\", \"site\", \"site\", \"site\", \"site\", \"social\", \"social\", \"social\", \"social\", \"social\", \"social\", \"social\", \"social\", \"solution\", \"solution\", \"solution\", \"solution\", \"solution\", \"solution\", \"solution\", \"solution\", \"sont\", \"sont\", \"sont\", \"sont\", \"sont\", \"sont\", \"sont\", \"sont\", \"species\", \"species\", \"species\", \"species\", \"species\", \"species\", \"species\", \"species\", \"specific\", \"specific\", \"specific\", \"specific\", \"specific\", \"specific\", \"specific\", \"specific\", \"spike\", \"spike\", \"spike\", \"spike\", \"spike\", \"spike\", \"spike\", \"spike\", \"spleen\", \"spleen\", \"spleen\", \"spleen\", \"spleen\", \"spleen\", \"spleen\", \"spleen\", \"spread\", \"spread\", \"spread\", \"spread\", \"spread\", \"spread\", \"spread\", \"spread\", \"sputum\", \"sputum\", \"sputum\", \"sputum\", \"sputum\", \"sputum\", \"sputum\", \"sputum\", \"staff\", \"staff\", \"staff\", \"staff\", \"staff\", \"staff\", \"staff\", \"staff\", \"stat\", \"stat\", \"stat\", \"stat\", \"stat\", \"stat\", \"stat\", \"stat\", \"strain\", \"strain\", \"strain\", \"strain\", \"strain\", \"strain\", \"strain\", \"strain\", \"strains\", \"strains\", \"strains\", \"strains\", \"strains\", \"strains\", \"strains\", \"strains\", \"strand\", \"strand\", \"strand\", \"strand\", \"strand\", \"strand\", \"strand\", \"strand\", \"streptococcus\", \"streptococcus\", \"streptococcus\", \"streptococcus\", \"streptococcus\", \"streptococcus\", \"streptococcus\", \"streptococcus\", \"structural\", \"structural\", \"structural\", \"structural\", \"structural\", \"structural\", \"structural\", \"structural\", \"structure\", \"structure\", \"structure\", \"structure\", \"structure\", \"structure\", \"structure\", \"structure\", \"students\", \"students\", \"students\", \"students\", \"students\", \"students\", \"students\", \"students\", \"subgenomic\", \"subgenomic\", \"subgenomic\", \"subgenomic\", \"subgenomic\", \"subgenomic\", \"subgenomic\", \"subgenomic\", \"surface\", \"surface\", \"surface\", \"surface\", \"surface\", \"surface\", \"surface\", \"surface\", \"surfaces\", \"surfaces\", \"surfaces\", \"surfaces\", \"surfaces\", \"surfaces\", \"surfaces\", \"surfaces\", \"swine\", \"swine\", \"swine\", \"swine\", \"swine\", \"swine\", \"swine\", \"swine\", \"symptoms\", \"symptoms\", \"symptoms\", \"symptoms\", \"symptoms\", \"symptoms\", \"symptoms\", \"symptoms\", \"syncytial\", \"syncytial\", \"syncytial\", \"syncytial\", \"syncytial\", \"syncytial\", \"syncytial\", \"syncytial\", \"systems\", \"systems\", \"systems\", \"systems\", \"systems\", \"systems\", \"systems\", \"systems\", \"techniques\", \"techniques\", \"techniques\", \"techniques\", \"techniques\", \"techniques\", \"techniques\", \"techniques\", \"technological\", \"technological\", \"technological\", \"technological\", \"technological\", \"technological\", \"technological\", \"technological\", \"technologies\", \"technologies\", \"technologies\", \"technologies\", \"technologies\", \"technologies\", \"technologies\", \"technologies\", \"technology\", \"technology\", \"technology\", \"technology\", \"technology\", \"technology\", \"technology\", \"technology\", \"temperature\", \"temperature\", \"temperature\", \"temperature\", \"temperature\", \"temperature\", \"temperature\", \"temperature\", \"terminal\", \"terminal\", \"terminal\", \"terminal\", \"terminal\", \"terminal\", \"terminal\", \"terminal\", \"terminus\", \"terminus\", \"terminus\", \"terminus\", \"terminus\", \"terminus\", \"terminus\", \"terminus\", \"tgev\", \"tgev\", \"tgev\", \"tgev\", \"tgev\", \"tgev\", \"tgev\", \"tgev\", \"thermal\", \"thermal\", \"thermal\", \"thermal\", \"thermal\", \"thermal\", \"thermal\", \"thermal\", \"throat\", \"throat\", \"throat\", \"throat\", \"throat\", \"throat\", \"throat\", \"throat\", \"throughput\", \"throughput\", \"throughput\", \"throughput\", \"throughput\", \"throughput\", \"throughput\", \"throughput\", \"time\", \"time\", \"time\", \"time\", \"time\", \"time\", \"time\", \"time\", \"tissue\", \"tissue\", \"tissue\", \"tissue\", \"tissue\", \"tissue\", \"tissue\", \"tissue\", \"tissues\", \"tissues\", \"tissues\", \"tissues\", \"tissues\", \"tissues\", \"tissues\", \"tissues\", \"tools\", \"tools\", \"tools\", \"tools\", \"tools\", \"tools\", \"tools\", \"tools\", \"tourism\", \"tourism\", \"tourism\", \"tourism\", \"tourism\", \"tourism\", \"tourism\", \"tourism\", \"tract\", \"tract\", \"tract\", \"tract\", \"tract\", \"tract\", \"tract\", \"tract\", \"transmission\", \"transmission\", \"transmission\", \"transmission\", \"transmission\", \"transmission\", \"transmission\", \"transmission\", \"transplant\", \"transplant\", \"transplant\", \"transplant\", \"transplant\", \"transplant\", \"transplant\", \"transplant\", \"travel\", \"travel\", \"travel\", \"travel\", \"travel\", \"travel\", \"travel\", \"travel\", \"treatment\", \"treatment\", \"treatment\", \"treatment\", \"treatment\", \"treatment\", \"treatment\", \"treatment\", \"ubiquitin\", \"ubiquitin\", \"ubiquitin\", \"ubiquitin\", \"ubiquitin\", \"ubiquitin\", \"ubiquitin\", \"ubiquitin\", \"understanding\", \"understanding\", \"understanding\", \"understanding\", \"understanding\", \"understanding\", \"understanding\", \"understanding\", \"unknown\", \"unknown\", \"unknown\", \"unknown\", \"unknown\", \"unknown\", \"unknown\", \"unknown\", \"vaccine\", \"vaccine\", \"vaccine\", \"vaccine\", \"vaccine\", \"vaccine\", \"vaccine\", \"vaccine\", \"vaccines\", \"vaccines\", \"vaccines\", \"vaccines\", \"vaccines\", \"vaccines\", \"vaccines\", \"vaccines\", \"ventilation\", \"ventilation\", \"ventilation\", \"ventilation\", \"ventilation\", \"ventilation\", \"ventilation\", \"ventilation\", \"viral\", \"viral\", \"viral\", \"viral\", \"viral\", \"viral\", \"viral\", \"viral\", \"virions\", \"virions\", \"virions\", \"virions\", \"virions\", \"virions\", \"virions\", \"virions\", \"virus\", \"virus\", \"virus\", \"virus\", \"virus\", \"virus\", \"virus\", \"virus\", \"viruses\", \"viruses\", \"viruses\", \"viruses\", \"viruses\", \"viruses\", \"viruses\", \"viruses\", \"volume\", \"volume\", \"volume\", \"volume\", \"volume\", \"volume\", \"volume\", \"volume\", \"water\", \"water\", \"water\", \"water\", \"water\", \"water\", \"water\", \"water\", \"wheezing\", \"wheezing\", \"wheezing\", \"wheezing\", \"wheezing\", \"wheezing\", \"wheezing\", \"wheezing\", \"workers\", \"workers\", \"workers\", \"workers\", \"workers\", \"workers\", \"workers\", \"workers\", \"world\", \"world\", \"world\", \"world\", \"world\", \"world\", \"world\", \"world\", \"wuhan\", \"wuhan\", \"wuhan\", \"wuhan\", \"wuhan\", \"wuhan\", \"wuhan\", \"wuhan\", \"years\", \"years\", \"years\", \"years\", \"years\", \"years\", \"years\", \"years\", \"zikv\", \"zikv\", \"zikv\", \"zikv\", \"zikv\", \"zikv\", \"zikv\", \"zikv\", \"zoonoses\", \"zoonoses\", \"zoonoses\", \"zoonoses\", \"zoonoses\", \"zoonoses\", \"zoonoses\", \"zoonoses\", \"\\u00eatre\", \"\\u00eatre\", \"\\u00eatre\", \"\\u00eatre\", \"\\u00eatre\", \"\\u00eatre\", \"\\u00eatre\", \"\\u00eatre\"]}, \"R\": 30, \"lambda.step\": 0.01, \"plot.opts\": {\"xlab\": \"PC1\", \"ylab\": \"PC2\"}, \"topic.order\": [6, 4, 2, 7, 8, 1, 5, 3]};\n",
              "\n",
              "function LDAvis_load_lib(url, callback){\n",
              "  var s = document.createElement('script');\n",
              "  s.src = url;\n",
              "  s.async = true;\n",
              "  s.onreadystatechange = s.onload = callback;\n",
              "  s.onerror = function(){console.warn(\"failed to load library \" + url);};\n",
              "  document.getElementsByTagName(\"head\")[0].appendChild(s);\n",
              "}\n",
              "\n",
              "if(typeof(LDAvis) !== \"undefined\"){\n",
              "   // already loaded: just create the visualization\n",
              "   !function(LDAvis){\n",
              "       new LDAvis(\"#\" + \"ldavis_el1201403260377289766214482503\", ldavis_el1201403260377289766214482503_data);\n",
              "   }(LDAvis);\n",
              "}else if(typeof define === \"function\" && define.amd){\n",
              "   // require.js is available: use it to load d3/LDAvis\n",
              "   require.config({paths: {d3: \"https://cdnjs.cloudflare.com/ajax/libs/d3/3.5.5/d3.min\"}});\n",
              "   require([\"d3\"], function(d3){\n",
              "      window.d3 = d3;\n",
              "      LDAvis_load_lib(\"https://cdn.rawgit.com/bmabey/pyLDAvis/files/ldavis.v1.0.0.js\", function(){\n",
              "        new LDAvis(\"#\" + \"ldavis_el1201403260377289766214482503\", ldavis_el1201403260377289766214482503_data);\n",
              "      });\n",
              "    });\n",
              "}else{\n",
              "    // require.js not available: dynamically load d3 & LDAvis\n",
              "    LDAvis_load_lib(\"https://cdnjs.cloudflare.com/ajax/libs/d3/3.5.5/d3.min.js\", function(){\n",
              "         LDAvis_load_lib(\"https://cdn.rawgit.com/bmabey/pyLDAvis/files/ldavis.v1.0.0.js\", function(){\n",
              "                 new LDAvis(\"#\" + \"ldavis_el1201403260377289766214482503\", ldavis_el1201403260377289766214482503_data);\n",
              "            })\n",
              "         });\n",
              "}\n",
              "</script>"
            ],
            "text/plain": [
              "PreparedData(topic_coordinates=              x         y  topics  cluster       Freq\n",
              "topic                                                \n",
              "5     -0.160797 -0.080719       1        1  18.928232\n",
              "3     -0.134071  0.116341       2        1  17.297085\n",
              "1      0.162408 -0.012379       3        1  13.233092\n",
              "6      0.080680  0.065056       4        1  12.765815\n",
              "7     -0.043584 -0.118590       5        1  12.169237\n",
              "0     -0.010864  0.105352       6        1  11.648511\n",
              "4      0.143556 -0.041163       7        1  10.649678\n",
              "2     -0.037329 -0.033897       8        1   3.308355, topic_info=               Term          Freq         Total Category  logprob  loglift\n",
              "135        patients  14237.000000  14237.000000  Default  30.0000  30.0000\n",
              "699         unknown   6956.000000   6956.000000  Default  29.0000  29.0000\n",
              "383           cells  11586.000000  11586.000000  Default  28.0000  28.0000\n",
              "2228           mice   5641.000000   5641.000000  Default  27.0000  27.0000\n",
              "141         protein  10238.000000  10238.000000  Default  26.0000  26.0000\n",
              "...             ...           ...           ...      ...      ...      ...\n",
              "1442       abstract    483.137756  10060.920898   Topic8  -5.7291   0.3726\n",
              "1788       solution    312.472931    782.473999   Topic8  -6.1648   2.4908\n",
              "278       particles    375.641632   2353.089355   Topic8  -5.9807   1.5739\n",
              "1546     conditions    362.645233   2531.931152   Topic8  -6.0159   1.4654\n",
              "1603  environmental    316.556427   1592.663086   Topic8  -6.1519   1.7931\n",
              "\n",
              "[505 rows x 6 columns], token_table=      Topic      Freq      Term\n",
              "term                           \n",
              "1442      1  0.130903  abstract\n",
              "1442      2  0.129610  abstract\n",
              "1442      3  0.142532  abstract\n",
              "1442      4  0.112415  abstract\n",
              "1442      5  0.155354  abstract\n",
              "...     ...       ...       ...\n",
              "4776      4  0.040105      être\n",
              "4776      5  0.034376      être\n",
              "4776      6  0.037240      être\n",
              "4776      7  0.040105      être\n",
              "4776      8  0.707568      être\n",
              "\n",
              "[3488 rows x 3 columns], R=30, lambda_step=0.01, plot_opts={'xlab': 'PC1', 'ylab': 'PC2'}, topic_order=[6, 4, 2, 7, 8, 1, 5, 3])"
            ]
          },
          "metadata": {
            "tags": []
          },
          "execution_count": 22
        }
      ]
    },
    {
      "cell_type": "code",
      "metadata": {
        "id": "K8L2WADb9psD"
      },
      "source": [
        ""
      ],
      "execution_count": null,
      "outputs": []
    }
  ]
}